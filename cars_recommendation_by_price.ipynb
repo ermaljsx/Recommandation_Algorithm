{
  "cells": [
    {
      "cell_type": "code",
      "execution_count": null,
      "metadata": {
        "colab": {
          "base_uri": "https://localhost:8080/"
        },
        "id": "xoq2ft3dD5WT",
        "outputId": "8e79a5aa-980b-488e-90ef-7a207d90eeaf"
      },
      "outputs": [
        {
          "output_type": "stream",
          "name": "stdout",
          "text": [
            "Looking in indexes: https://pypi.org/simple, https://us-python.pkg.dev/colab-wheels/public/simple/\n",
            "Requirement already satisfied: networkx in /usr/local/lib/python3.8/dist-packages (2.8.8)\n"
          ]
        }
      ],
      "source": [
        "pip install networkx"
      ]
    },
    {
      "cell_type": "code",
      "execution_count": null,
      "metadata": {
        "id": "SINJ3ot5EHYd"
      },
      "outputs": [],
      "source": [
        "import os\n",
        "from collections import defaultdict\n",
        "import math\n",
        "import networkx as nx\n",
        "import random\n",
        "from tqdm import tqdm\n",
        "from zipfile import ZipFile\n",
        "from urllib.request import urlretrieve\n",
        "import numpy as np\n",
        "import pandas as pd\n",
        "import tensorflow as tf\n",
        "from tensorflow import keras\n",
        "from tensorflow.keras import layers\n",
        "import matplotlib.pyplot as plt"
      ]
    },
    {
      "cell_type": "code",
      "execution_count": null,
      "metadata": {
        "id": "2dkuvXDWGS14"
      },
      "outputs": [],
      "source": [
        "cars = pd.read_csv(\"Car dataset.csv\")"
      ]
    },
    {
      "cell_type": "code",
      "execution_count": null,
      "metadata": {
        "colab": {
          "base_uri": "https://localhost:8080/",
          "height": 389
        },
        "id": "-Ub5Bv6wGd78",
        "outputId": "c989bd1c-d528-435d-ad0d-826bccea08b1"
      },
      "outputs": [
        {
          "output_type": "execute_result",
          "data": {
            "text/plain": [
              "                           name  year  selling_price  km_driven    fuel  \\\n",
              "0        Maruti Swift Dzire VDI  2014         450000     145500  Diesel   \n",
              "1  Skoda Rapid 1.5 TDI Ambition  2014         370000     120000  Diesel   \n",
              "2      Honda City 2017-2020 EXi  2006         158000     140000  Petrol   \n",
              "3     Hyundai i20 Sportz Diesel  2010         225000     127000  Diesel   \n",
              "4        Maruti Swift VXI BSIII  2007         130000     120000  Petrol   \n",
              "\n",
              "  seller_type transmission         owner     mileage   engine   max_power  \\\n",
              "0  Individual       Manual   First Owner   23.4 kmpl  1248 CC      74 bhp   \n",
              "1  Individual       Manual  Second Owner  21.14 kmpl  1498 CC  103.52 bhp   \n",
              "2  Individual       Manual   Third Owner   17.7 kmpl  1497 CC      78 bhp   \n",
              "3  Individual       Manual   First Owner   23.0 kmpl  1396 CC      90 bhp   \n",
              "4  Individual       Manual   First Owner   16.1 kmpl  1298 CC    88.2 bhp   \n",
              "\n",
              "                     torque  seats  \n",
              "0            190Nm@ 2000rpm    5.0  \n",
              "1       250Nm@ 1500-2500rpm    5.0  \n",
              "2     12.7@ 2,700(kgm@ rpm)    5.0  \n",
              "3  22.4 kgm at 1750-2750rpm    5.0  \n",
              "4     11.5@ 4,500(kgm@ rpm)    5.0  "
            ],
            "text/html": [
              "\n",
              "  <div id=\"df-8e149c6b-bff9-4eee-9b47-4edc572073e7\">\n",
              "    <div class=\"colab-df-container\">\n",
              "      <div>\n",
              "<style scoped>\n",
              "    .dataframe tbody tr th:only-of-type {\n",
              "        vertical-align: middle;\n",
              "    }\n",
              "\n",
              "    .dataframe tbody tr th {\n",
              "        vertical-align: top;\n",
              "    }\n",
              "\n",
              "    .dataframe thead th {\n",
              "        text-align: right;\n",
              "    }\n",
              "</style>\n",
              "<table border=\"1\" class=\"dataframe\">\n",
              "  <thead>\n",
              "    <tr style=\"text-align: right;\">\n",
              "      <th></th>\n",
              "      <th>name</th>\n",
              "      <th>year</th>\n",
              "      <th>selling_price</th>\n",
              "      <th>km_driven</th>\n",
              "      <th>fuel</th>\n",
              "      <th>seller_type</th>\n",
              "      <th>transmission</th>\n",
              "      <th>owner</th>\n",
              "      <th>mileage</th>\n",
              "      <th>engine</th>\n",
              "      <th>max_power</th>\n",
              "      <th>torque</th>\n",
              "      <th>seats</th>\n",
              "    </tr>\n",
              "  </thead>\n",
              "  <tbody>\n",
              "    <tr>\n",
              "      <th>0</th>\n",
              "      <td>Maruti Swift Dzire VDI</td>\n",
              "      <td>2014</td>\n",
              "      <td>450000</td>\n",
              "      <td>145500</td>\n",
              "      <td>Diesel</td>\n",
              "      <td>Individual</td>\n",
              "      <td>Manual</td>\n",
              "      <td>First Owner</td>\n",
              "      <td>23.4 kmpl</td>\n",
              "      <td>1248 CC</td>\n",
              "      <td>74 bhp</td>\n",
              "      <td>190Nm@ 2000rpm</td>\n",
              "      <td>5.0</td>\n",
              "    </tr>\n",
              "    <tr>\n",
              "      <th>1</th>\n",
              "      <td>Skoda Rapid 1.5 TDI Ambition</td>\n",
              "      <td>2014</td>\n",
              "      <td>370000</td>\n",
              "      <td>120000</td>\n",
              "      <td>Diesel</td>\n",
              "      <td>Individual</td>\n",
              "      <td>Manual</td>\n",
              "      <td>Second Owner</td>\n",
              "      <td>21.14 kmpl</td>\n",
              "      <td>1498 CC</td>\n",
              "      <td>103.52 bhp</td>\n",
              "      <td>250Nm@ 1500-2500rpm</td>\n",
              "      <td>5.0</td>\n",
              "    </tr>\n",
              "    <tr>\n",
              "      <th>2</th>\n",
              "      <td>Honda City 2017-2020 EXi</td>\n",
              "      <td>2006</td>\n",
              "      <td>158000</td>\n",
              "      <td>140000</td>\n",
              "      <td>Petrol</td>\n",
              "      <td>Individual</td>\n",
              "      <td>Manual</td>\n",
              "      <td>Third Owner</td>\n",
              "      <td>17.7 kmpl</td>\n",
              "      <td>1497 CC</td>\n",
              "      <td>78 bhp</td>\n",
              "      <td>12.7@ 2,700(kgm@ rpm)</td>\n",
              "      <td>5.0</td>\n",
              "    </tr>\n",
              "    <tr>\n",
              "      <th>3</th>\n",
              "      <td>Hyundai i20 Sportz Diesel</td>\n",
              "      <td>2010</td>\n",
              "      <td>225000</td>\n",
              "      <td>127000</td>\n",
              "      <td>Diesel</td>\n",
              "      <td>Individual</td>\n",
              "      <td>Manual</td>\n",
              "      <td>First Owner</td>\n",
              "      <td>23.0 kmpl</td>\n",
              "      <td>1396 CC</td>\n",
              "      <td>90 bhp</td>\n",
              "      <td>22.4 kgm at 1750-2750rpm</td>\n",
              "      <td>5.0</td>\n",
              "    </tr>\n",
              "    <tr>\n",
              "      <th>4</th>\n",
              "      <td>Maruti Swift VXI BSIII</td>\n",
              "      <td>2007</td>\n",
              "      <td>130000</td>\n",
              "      <td>120000</td>\n",
              "      <td>Petrol</td>\n",
              "      <td>Individual</td>\n",
              "      <td>Manual</td>\n",
              "      <td>First Owner</td>\n",
              "      <td>16.1 kmpl</td>\n",
              "      <td>1298 CC</td>\n",
              "      <td>88.2 bhp</td>\n",
              "      <td>11.5@ 4,500(kgm@ rpm)</td>\n",
              "      <td>5.0</td>\n",
              "    </tr>\n",
              "  </tbody>\n",
              "</table>\n",
              "</div>\n",
              "      <button class=\"colab-df-convert\" onclick=\"convertToInteractive('df-8e149c6b-bff9-4eee-9b47-4edc572073e7')\"\n",
              "              title=\"Convert this dataframe to an interactive table.\"\n",
              "              style=\"display:none;\">\n",
              "        \n",
              "  <svg xmlns=\"http://www.w3.org/2000/svg\" height=\"24px\"viewBox=\"0 0 24 24\"\n",
              "       width=\"24px\">\n",
              "    <path d=\"M0 0h24v24H0V0z\" fill=\"none\"/>\n",
              "    <path d=\"M18.56 5.44l.94 2.06.94-2.06 2.06-.94-2.06-.94-.94-2.06-.94 2.06-2.06.94zm-11 1L8.5 8.5l.94-2.06 2.06-.94-2.06-.94L8.5 2.5l-.94 2.06-2.06.94zm10 10l.94 2.06.94-2.06 2.06-.94-2.06-.94-.94-2.06-.94 2.06-2.06.94z\"/><path d=\"M17.41 7.96l-1.37-1.37c-.4-.4-.92-.59-1.43-.59-.52 0-1.04.2-1.43.59L10.3 9.45l-7.72 7.72c-.78.78-.78 2.05 0 2.83L4 21.41c.39.39.9.59 1.41.59.51 0 1.02-.2 1.41-.59l7.78-7.78 2.81-2.81c.8-.78.8-2.07 0-2.86zM5.41 20L4 18.59l7.72-7.72 1.47 1.35L5.41 20z\"/>\n",
              "  </svg>\n",
              "      </button>\n",
              "      \n",
              "  <style>\n",
              "    .colab-df-container {\n",
              "      display:flex;\n",
              "      flex-wrap:wrap;\n",
              "      gap: 12px;\n",
              "    }\n",
              "\n",
              "    .colab-df-convert {\n",
              "      background-color: #E8F0FE;\n",
              "      border: none;\n",
              "      border-radius: 50%;\n",
              "      cursor: pointer;\n",
              "      display: none;\n",
              "      fill: #1967D2;\n",
              "      height: 32px;\n",
              "      padding: 0 0 0 0;\n",
              "      width: 32px;\n",
              "    }\n",
              "\n",
              "    .colab-df-convert:hover {\n",
              "      background-color: #E2EBFA;\n",
              "      box-shadow: 0px 1px 2px rgba(60, 64, 67, 0.3), 0px 1px 3px 1px rgba(60, 64, 67, 0.15);\n",
              "      fill: #174EA6;\n",
              "    }\n",
              "\n",
              "    [theme=dark] .colab-df-convert {\n",
              "      background-color: #3B4455;\n",
              "      fill: #D2E3FC;\n",
              "    }\n",
              "\n",
              "    [theme=dark] .colab-df-convert:hover {\n",
              "      background-color: #434B5C;\n",
              "      box-shadow: 0px 1px 3px 1px rgba(0, 0, 0, 0.15);\n",
              "      filter: drop-shadow(0px 1px 2px rgba(0, 0, 0, 0.3));\n",
              "      fill: #FFFFFF;\n",
              "    }\n",
              "  </style>\n",
              "\n",
              "      <script>\n",
              "        const buttonEl =\n",
              "          document.querySelector('#df-8e149c6b-bff9-4eee-9b47-4edc572073e7 button.colab-df-convert');\n",
              "        buttonEl.style.display =\n",
              "          google.colab.kernel.accessAllowed ? 'block' : 'none';\n",
              "\n",
              "        async function convertToInteractive(key) {\n",
              "          const element = document.querySelector('#df-8e149c6b-bff9-4eee-9b47-4edc572073e7');\n",
              "          const dataTable =\n",
              "            await google.colab.kernel.invokeFunction('convertToInteractive',\n",
              "                                                     [key], {});\n",
              "          if (!dataTable) return;\n",
              "\n",
              "          const docLinkHtml = 'Like what you see? Visit the ' +\n",
              "            '<a target=\"_blank\" href=https://colab.research.google.com/notebooks/data_table.ipynb>data table notebook</a>'\n",
              "            + ' to learn more about interactive tables.';\n",
              "          element.innerHTML = '';\n",
              "          dataTable['output_type'] = 'display_data';\n",
              "          await google.colab.output.renderOutput(dataTable, element);\n",
              "          const docLink = document.createElement('div');\n",
              "          docLink.innerHTML = docLinkHtml;\n",
              "          element.appendChild(docLink);\n",
              "        }\n",
              "      </script>\n",
              "    </div>\n",
              "  </div>\n",
              "  "
            ]
          },
          "metadata": {},
          "execution_count": 45
        }
      ],
      "source": [
        "cars.head()"
      ]
    },
    {
      "cell_type": "code",
      "execution_count": null,
      "metadata": {
        "id": "KIdhx0A2PF3v"
      },
      "outputs": [],
      "source": [
        "def get_car_name_by_fuel(fuel):\n",
        "    return list(cars[cars.fuel == fuel].name)[0]\n",
        "\n",
        "\n",
        "def get_car_fuel_by_name(name):\n",
        "    return list(cars[cars.name == name].fuel)[0]\n",
        "\n",
        "\n",
        "def get_car_year_by_name(name):\n",
        "    return list(cars[cars.name == name].year)[0]\n",
        "\n",
        "def get_car_name_by_year(year):\n",
        "    return list(cars[cars.year == year].name)[0]\n",
        "\n",
        "\n",
        "def get_car_name_by_selling_price(selling_price):\n",
        "    return list(cars[cars.selling_price == selling_price].name)\n",
        "\n",
        "\n",
        "def get_car_selling_price_by_name(name):\n",
        "    return list(cars[cars.name == name].selling_price)"
      ]
    },
    {
      "cell_type": "markdown",
      "source": [
        "# Construct the cars graph\n",
        "\n",
        "###### We create an edge between two car nodes in the graph if both cars have the same selling price."
      ],
      "metadata": {
        "id": "uH5Xep2ipcpd"
      }
    },
    {
      "cell_type": "code",
      "execution_count": null,
      "metadata": {
        "colab": {
          "base_uri": "https://localhost:8080/"
        },
        "id": "A7Tfy_E-Qv4q",
        "outputId": "422b1600-77a5-49d4-9e88-99671cdfd86d"
      },
      "outputs": [
        {
          "output_type": "stream",
          "name": "stderr",
          "text": [
            "Compute cars frequencies: 100%|██████████| 677/677 [00:00<00:00, 1684.59it/s]\n"
          ]
        }
      ],
      "source": [
        "\n",
        "pair_frequency = defaultdict(int)\n",
        "item_frequency = defaultdict(int)\n",
        "\n",
        "\n",
        "# Group cars by price.\n",
        "cars_grouped_by_price = list(cars.groupby(\"selling_price\"))\n",
        "\n",
        "for group in tqdm(\n",
        "    cars_grouped_by_price,\n",
        "    position=0,\n",
        "    leave=True,\n",
        "    desc=\"Compute cars frequencies\",\n",
        "):\n",
        "    # Get a list of cars with the same price.\n",
        "    current_cars = list(group[1][\"name\"])\n",
        "\n",
        "    for i in range(len(current_cars)):\n",
        "        item_frequency[current_cars[i]] = 1              \n",
        "        for j in range(i + 1, len(current_cars)):\n",
        "            x = min(current_cars[i], current_cars[j])   \n",
        "            y = max(current_cars[i], current_cars[j])\n",
        "            pair_frequency[(x, y)] = 1     "
      ]
    },
    {
      "cell_type": "code",
      "source": [
        "# Create the cars undirected graph.\n",
        "cars_graph = nx.Graph()\n",
        "\n",
        "for pair in tqdm(\n",
        "    pair_frequency, position=0, leave=True, desc=\"Creating the cars graph\"\n",
        "):\n",
        "    x, y = pair\n",
        "    cars_graph.add_edge(x, y,weight = 1)"
      ],
      "metadata": {
        "id": "vxprS--cHy8d",
        "colab": {
          "base_uri": "https://localhost:8080/"
        },
        "outputId": "a2f238e6-8bfc-4faa-ce93-2d5bfb5c4b55"
      },
      "execution_count": null,
      "outputs": [
        {
          "output_type": "stream",
          "name": "stderr",
          "text": [
            "Creating the cars graph: 100%|██████████| 124209/124209 [00:00<00:00, 486194.29it/s]\n"
          ]
        }
      ]
    },
    {
      "cell_type": "markdown",
      "source": [
        "###### Let's display the total number of nodes and edges in the graph"
      ],
      "metadata": {
        "id": "_YtFv-ntcK6K"
      }
    },
    {
      "cell_type": "code",
      "source": [
        "print(\"Total number of graph nodes:\", cars_graph.number_of_nodes())\n",
        "print(\"Total number of graph edges:\", cars_graph.number_of_edges())"
      ],
      "metadata": {
        "colab": {
          "base_uri": "https://localhost:8080/"
        },
        "id": "xqHbHwg1elFf",
        "outputId": "19c3a81c-234c-44a3-eeff-8fc3e80968e4"
      },
      "execution_count": null,
      "outputs": [
        {
          "output_type": "stream",
          "name": "stdout",
          "text": [
            "Total number of graph nodes: 2007\n",
            "Total number of graph edges: 124209\n"
          ]
        }
      ]
    },
    {
      "cell_type": "markdown",
      "source": [
        "Let's display the average node degree (number of neighbours) in the graph."
      ],
      "metadata": {
        "id": "0Dt5N4ZIgSOR"
      }
    },
    {
      "cell_type": "code",
      "source": [
        "degrees = []\n",
        "for node in cars_graph.nodes:\n",
        "    degrees.append(cars_graph.degree[node])\n",
        "\n",
        "print(\"Average node degree:\", round(sum(degrees) / len(degrees), 2))"
      ],
      "metadata": {
        "colab": {
          "base_uri": "https://localhost:8080/"
        },
        "id": "ShObMwU3e1a4",
        "outputId": "ba7d88f7-293f-4c31-f11f-cb641cc9e6f3"
      },
      "execution_count": null,
      "outputs": [
        {
          "output_type": "stream",
          "name": "stdout",
          "text": [
            "Average node degree: 123.78\n"
          ]
        }
      ]
    },
    {
      "cell_type": "markdown",
      "source": [
        "### Step 3: Create vocabulary and a mapping from tokens to integer indices"
      ],
      "metadata": {
        "id": "huSlr8dbhkKo"
      }
    },
    {
      "cell_type": "code",
      "source": [
        "vocabulary = [\"NA\"] + list(cars_graph.nodes)\n",
        "vocabulary_lookup = {token: idx for idx, token in enumerate(vocabulary)}"
      ],
      "metadata": {
        "id": "8-iXcRe0g5uA"
      },
      "execution_count": null,
      "outputs": []
    },
    {
      "cell_type": "code",
      "source": [
        "print(vocabulary_lookup)"
      ],
      "metadata": {
        "colab": {
          "base_uri": "https://localhost:8080/"
        },
        "id": "hDfT7medjg7-",
        "outputId": "4edd528c-0d80-4c0e-d5e0-cf15964e9329"
      },
      "execution_count": null,
      "outputs": [
        {
          "output_type": "stream",
          "name": "stdout",
          "text": [
            "{'NA': 0, 'Hyundai Santro GLS I - Euro I': 1, 'Maruti Zen LXI': 2, 'Maruti 800 AC': 3, 'Maruti 800 Std BSII': 4, 'Hyundai Santro LE': 5, 'Hyundai Santro LS zipPlus': 6, 'Maruti 800 Std': 7, 'Maruti Omni E 8 Str STD': 8, 'Maruti 800 DX': 9, 'Maruti 800 Std BSIII': 10, 'Tata Indica DLX': 11, 'Maruti 800 Std MPFi': 12, 'Maruti 800 DX BSII': 13, 'Tata Nano Cx': 14, 'Chevrolet Spark 1.0': 15, 'Daewoo Matiz SD': 16, 'Maruti Zen Std': 17, 'Tata Indica V2 DLE BSII': 18, 'Tata Nano Lx BSIV': 19, 'Tata Indica V2 DLX TC': 20, 'Tata Nano LX SE': 21, 'Maruti Alto LX': 22, 'Hyundai Santro Xing XP': 23, 'Tata Indica DLS': 24, 'Maruti Esteem Vxi - BSII': 25, 'Maruti Wagon R LXI': 26, 'Maruti Zen LX': 27, 'Maruti Baleno LXI': 28, 'Honda City 1.3 EXI': 29, 'Maruti 800 AC Uniq': 30, 'Tata Indica V2 DiCOR DLG BS-III': 31, 'Tata Indica V2 DLS TC': 32, 'Hyundai Santro GLS I - Euro II': 33, 'Tata Nano Cx BSIV': 34, 'Maruti 800 AC BSII': 35, 'Hyundai Accent GLS': 36, 'Maruti Omni LPG STD BSIV': 37, 'Hyundai Santro DX': 38, 'Maruti Esteem Lxi - BSIII': 39, 'Maruti Zen VXI': 40, 'Tata Indica V2 2001-2011 DLS BSIII': 41, 'Ford Fiesta 1.4 ZXi TDCi Limited Edition': 42, 'Maruti 800 EX BSII': 43, 'Maruti Zen Classic': 44, 'Hyundai Santro GS zipDrive - Euro II': 45, 'Maruti 800 AC BSIII': 46, 'Hyundai Santro GS zipPlus': 47, 'Maruti Zen LXi - BS III': 48, 'Tata Nano Cx BSIII': 49, 'Chevrolet Spark 1.0 LT Option Pack w/ Airbag': 50, 'Maruti 800 Uniq': 51, 'Hyundai Getz GLS': 52, 'Maruti Zen Base': 53, 'Chevrolet Aveo U-VA 1.2': 54, 'Maruti Wagon R VXI': 55, 'Tata Indica V2 GLX BSIII': 56, 'Chevrolet Spark 1.0 LS': 57, 'Maruti Alto LXI': 58, 'Maruti 800 EX 5 Speed': 59, 'Hyundai Getz 1.1 GLE': 60, 'Tata Indica V2 DLS': 61, 'Tata Indica V2 DLE BSIII': 62, 'Maruti Wagon R LX': 63, 'Hyundai Santro LP zipPlus': 64, 'Opel Astra 1.6': 65, 'Fiat Palio 1.2 ELX': 66, 'Hyundai Santro Xing XG': 67, 'Maruti 800 EX': 68, 'Maruti Zen Estilo 1.1 LX BSIII': 69, 'Hyundai Santro Xing XL': 70, 'Maruti Esteem DI': 71, 'Maruti Zen LX BSII': 72, 'Tata Indica Vista Terra TDI BSIII': 73, 'Tata Nano Lx': 74, 'Maruti Esteem LX - BSIII': 75, 'Hyundai Accent Gvs': 76, 'Chevrolet Spark 1.0 LT': 77, 'Tata Indica V2 DL BSIII': 78, 'Maruti Wagon R AX': 79, 'Maruti 800 DX 5 Speed': 80, 'Tata Indica V2 LSi': 81, 'Hyundai Santro Xing Base': 82, 'Ambassador CLASSIC 1500 DSL AC': 83, 'Maruti Esteem LX': 84, 'Tata Indica GLS BS IV': 85, 'Honda City 1.5 EXI': 86, 'Tata Estate Std': 87, 'Hyundai Accent GLE': 88, 'Chevrolet Aveo U-VA 1.2 LS': 89, 'Hyundai Santro Xing XG AT eRLX Euro III': 90, 'Tata Nano CX': 91, 'Hyundai Santro Xing XS eRLX Euro III': 92, 'Maruti Omni 8 Seater BSII': 93, 'Maruti Omni 5 Str STD': 94, 'Maruti Wagon R AX Minor': 95, 'Maruti Wagon R LX BSIII': 96, 'Tata Nano XE': 97, 'Tata Indigo LS': 98, 'Maruti Omni CNG': 99, 'Fiat Palio 1.2': 100, 'Hyundai Santro Xing XG AT eRLX Euro II': 101, 'Maruti Zen D': 102, 'Maruti Alto AX': 103, 'Hyundai Accent GLS 1.6 ABS': 104, 'Hyundai Getz GLE': 105, 'Maruti Zen Estilo LXI BSIII': 106, 'Maruti Alto LXi': 107, 'Tata Indigo LX': 108, 'Maruti Wagon R LX Minor': 109, 'Hyundai Santro Xing XS eRLX Euro II': 110, 'Maruti Alto LX BSIII': 111, 'Maruti Alto STD': 112, 'Maruti Swift 1.3 LXI': 113, 'Tata Manza Aqua Quadrajet': 114, 'Maruti Zen Estilo 1.1 LXI BSIII': 115, 'Chevrolet Spark 1.0 E': 116, 'Tata Indigo GLS': 117, 'Ford Fusion Plus 1.4 TDCi Diesel': 118, 'Tata Indigo CS eGLX BS IV': 119, 'Maruti Wagon R LXI Minor': 120, 'Maruti Esteem Vxi - BSIII': 121, 'Maruti Alto Std': 122, 'Hyundai Santro Xing XS': 123, 'Hyundai Getz GLX': 124, 'Tata Sumo SE Plus BSII': 125, 'Maruti Esteem Lxi': 126, 'Chevrolet Spark 1.0 PS': 127, 'Tata Nano Twist XT': 128, 'Tata New Safari 4X4 EXI BSIII': 129, 'Tata Indica V2 DL': 130, 'Maruti Wagon R LXI DUO BSIII': 131, 'Tata Sumo SE': 132, 'Ambassador Classic 2000 DSZ AC PS': 133, 'Tata Indigo CS LE (TDI) BS-III': 134, 'Hyundai Santro Xing XO': 135, 'Maruti Zen Estilo LXI BS IV': 136, 'Tata Indigo LS BSII': 137, 'Hyundai Accent CRDi': 138, 'Hyundai Santro GS zipDrive - Euro I': 139, 'Maruti Alto LXi BSIII': 140, 'Tata Indigo Grand Dicor': 141, 'Maruti Zen LX - BS III': 142, 'Fiat Punto 1.2 Active': 143, 'Tata Indigo GLX': 144, 'Skoda Octavia RS 1.8 Turbo Petrol MT': 145, 'Toyota Qualis FS F7': 146, 'Tata Spacio Gold-10/6 Str BSII': 147, 'Chevrolet Spark 1.0 PS LPG': 148, 'Maruti Wagon R AX BSIII': 149, 'Skoda Octavia Ambiente 1.9 TDI MT': 150, 'Tata Indica Vista Aura 1.3 Quadrajet (ABS)': 151, 'Ford Ikon 1.6 Nxt': 152, 'Tata Manza Aura (ABS) Quadrajet': 153, 'Hyundai Santro Xing ABS': 154, 'Tata Indica Vista Aqua 1.4 TDI': 155, 'Tata Indigo CS LX (TDI) BS III': 156, 'Chevrolet Aveo U-VA 1.2 LT': 157, 'Hyundai Santro Xing GL': 158, 'Honda City 2017-2020 EXi': 159, 'Tata Indica Vista Terra Quadrajet 1.3L': 160, 'Hyundai Santro Xing XL eRLX Euro II': 161, 'Hyundai Accent DLS': 162, 'Hyundai Getz 1.3 GVS': 163, 'Tata Indica V2 DLX BSII': 164, 'Hyundai Accent GLX': 165, 'Tata Indica Vista TDI LS': 166, 'Ford Ikon 1.3 CLXi': 167, 'Hyundai Santro Xing (Non-AC)': 168, 'Tata Indica V2 eXeta GLS': 169, 'Nissan Micra XE': 170, 'Maruti Omni MPI STD BSIII 8-STR W/ IMMOBILISER': 171, 'Tata Nano Twist XE': 172, 'Hyundai Santro Xing XK eRLX Euro II': 173, 'Tata Indigo VS': 174, 'Maruti Alto K10 2010-2014 VXI': 175, 'Hyundai Accent GLS 1.6': 176, 'Chevrolet Beat LS': 177, 'Tata Manza Aura Quadrajet': 178, 'Honda City ZXi AT': 179, 'Maruti SX4 Zxi with Leather BSIII': 180, 'Hyundai Santro Xing GL Plus': 181, 'Maruti Omni 8 Seater BSIV': 182, 'Hyundai Santro Xing GLS': 183, 'Tata Indigo CS LS (TDI) BS III': 184, 'Hyundai Verna 1.6 Xi ABS': 185, 'Mahindra Jeep CL 500 MDI': 186, 'Maruti Zen Estilo 1.1 VXI BSIII': 187, 'Maruti Zen VXi - BS III': 188, 'Tata Indica Vista Quadrajet LS': 189, 'Hyundai Verna CRDi': 190, 'Tata Indica Vista Aqua 1.3 Quadrajet (ABS)': 191, 'Hyundai Santro Xing GL PLUS CNG': 192, 'Maruti Wagon R PRIMEA': 193, 'Chevrolet Beat Diesel': 194, 'Chevrolet Beat LT': 195, 'Tata Indigo CS GLS BSIII': 196, 'Chevrolet Sail Hatchback Petrol LS ABS': 197, 'Maruti Omni LPG CARGO BSIII W IMMOBILISER': 198, 'Ford Fiesta 1.4 Durasport EXI': 199, 'Ford Ikon 1.3 Flair': 200, 'Hyundai i10 Era 1.1': 201, 'Maruti Swift ZXI BSIII': 202, 'Mahindra Scorpio 2.6 SLX Turbo 7 Seater': 203, 'Hyundai Santro AT': 204, 'Hyundai Accent GLE CNG': 205, 'Maruti A-Star Vxi': 206, 'Mahindra Bolero DI': 207, 'Hyundai Santro Xing XK eRLX EuroIII': 208, 'Mahindra Xylo D2': 209, 'Honda Civic 1.8 S MT': 210, 'Ambassador Grand 1500 DSZ BSIII': 211, 'Tata Indica Vista Terra 1.4 TDI': 212, 'Tata Indica Vista Aqua 1.3 Quadrajet': 213, 'Mahindra Renault Logan 1.5 DLE Diesel': 214, 'Maruti SX4 Vxi BSIII': 215, 'Maruti Esteem AX': 216, 'Mahindra Scorpio 2.6 DX': 217, 'Honda CR-V 2.0L 2WD AT': 218, 'Ford Fiesta 1.4 Duratorq EXI': 219, 'Fiat Linea Emotion': 220, 'Hyundai EON Era': 221, 'Maruti Swift 1.3 VXi': 222, 'Maruti Swift VXI BSIII': 223, 'Tata Indica Vista Aqua 1.3 Quadrajet BSIV': 224, 'Tata Indica Vista Quadrajet VX': 225, 'Tata Indica V2 2001-2011 eLX': 226, 'Chevrolet Aveo 1.4 LS': 227, 'Tata Nano LX': 228, 'Ford Fiesta 1.6 SXI ABS Duratec': 229, 'Hyundai Santro Xing XG AT': 230, 'Ford Fiesta 1.4 SXi TDCi': 231, 'Hyundai i10 Era': 232, 'Maruti Swift ZXI ABS': 233, 'Tata Sumo GX 7 Str BSII': 234, 'Maruti Omni 5 Seater BSIV': 235, 'Hyundai Santro AT CNG': 236, 'Ford Ikon 1.8 D': 237, 'Ford Ikon 1.6 Really Sport': 238, 'Ford Figo Diesel ZXI': 239, 'Tata Indica Vista Aura 1.2 Safire BSIV': 240, 'Tata Safari DICOR 2.2 LX 4x2': 241, 'Tata Indica Vista Aura Safire Anniversary Edition': 242, 'Tata Indica V2 Turbomax DLS BS IV': 243, 'Mahindra Renault Logan 1.4 GLX Petrol': 244, 'Maruti Estilo LXI': 245, 'Ford Figo Diesel LXI': 246, 'Tata Venture LX 7 Str': 247, 'Toyota Corolla AE': 248, 'Hyundai Verna CRDi SX': 249, 'Tata Indigo eCS LE TDI BSIII': 250, 'Maruti Wagon R VXI BS IV': 251, 'Tata Indigo TDI': 252, 'Tata Indigo Grand Petrol': 253, 'Maruti Alto K10 LXI': 254, 'Hyundai i10 Magna': 255, 'Tata Indigo CS LX DiCOR': 256, 'Maruti Omni BSIII 8-STR W/ IMMOBILISER': 257, 'Ford Fiesta 1.4 Duratec EXI': 258, 'Chevrolet Beat Diesel LT Option': 259, 'Ford Ikon 1.4 TDCi DuraTorq': 260, 'Hyundai Elantra GLS': 261, 'Skoda Fabia 1.4 TDI Ambiente': 262, 'Mahindra Verito 1.5 D2 BSIV': 263, 'Tata Indica Vista TDI LX': 264, 'Tata Manza Aqua Quadrajet BS IV': 265, 'Chevrolet Beat Diesel LS': 266, 'Tata Indigo eCS LX TDI BSIII': 267, 'Tata Manza Aura (ABS) Safire': 268, 'Hyundai i10 Magna 1.2 iTech SE': 269, 'Hyundai EON D Lite Plus': 270, 'Ford Fiesta 1.4 Duratec EXI Limited Edition': 271, 'Maruti Eeco 7 Seater Standard BSIV': 272, 'Maruti Ritz VDi': 273, 'Hyundai Accent VIVA CRDi': 274, 'Mahindra Bolero DI BSIII': 275, 'Chevrolet Beat Diesel LT': 276, 'Maruti 800 AC LPG': 277, 'Tata Manza Aura (ABS) Quadrajet BS IV': 278, 'Datsun GO D': 279, 'Hyundai Getz 1.5 CRDi GVS': 280, 'Mahindra Bolero ZLX BSIII': 281, 'Honda City 2017-2020 GXi': 282, 'Ford Fusion 1.4 TDCi Diesel': 283, 'Maruti Eeco 5 Seater AC BSIV': 284, 'Tata Manza Aura Plus Safire': 285, 'Tata New Safari DICOR 2.2 EX 4x2': 286, 'Tata New Safari Dicor VX 4X2 BS IV': 287, 'Tata Sumo MKII Turbo 2.0 LX': 288, 'Mahindra Xylo E4': 289, 'Hyundai i10 Sportz': 290, 'Hyundai Santro Xing GLS LPG': 291, 'Fiat Grande Punto 1.4 Emotion': 292, 'Ford Ikon 1.6 EXi NXt': 293, 'Maruti Zen Estilo Sports': 294, 'Honda City 2017-2020 VTEC': 295, 'Hyundai Santro Xing XO eRLX Euro II': 296, 'Maruti Wagon R LXI LPG BSIV': 297, 'Honda Civic 1.8 (E) MT': 298, 'Tata Indigo CS eLX BS IV': 299, 'Maruti Wagon R VXI Minor': 300, 'Maruti Wagon R LXI BSIII': 301, 'Maruti Swift VDI BSIV': 302, 'Tata Indica Vista Aura 1.2 Safire (ABS) 90hp BS IV': 303, 'Toyota Corolla H2': 304, 'Fiat Punto 1.3 Emotion': 305, 'Tata Sumo CX 9 Seater': 306, 'Maruti Omni Limited Edition': 307, 'Tata Indigo CS LS DiCOR': 308, 'Mitsubishi Lancer 2.0 GLd': 309, 'Hyundai EON Sportz': 310, 'Mahindra Marshal DI': 311, 'Tata Manza Aqua Safire': 312, 'Ford Figo Diesel EXI Option': 313, 'Ford Fiesta 1.4 TDCi EXI': 314, 'Hyundai Verna CRDi SX ABS': 315, 'Maruti Alto Green LXi (CNG)': 316, 'Mitsubishi Lancer 2.0 LXd': 317, 'Hyundai Elantra CRDi': 318, 'Tata Indica V2 Emax CNG GLX': 319, 'Hyundai Getz 1.1 GVS': 320, 'Maruti Omni E MPI STD BS IV': 321, 'Ford Figo Diesel Titanium': 322, 'Tata Indigo eCS LS TDI BSIII': 323, 'Maruti Swift Dzire VXi': 324, 'Mahindra Bolero 2011-2019 Plus-AC Plus PS BSIII': 325, 'Hyundai Verna Xi (Petrol)': 326, 'Mahindra Jeep MM 540': 327, 'Maruti Wagon R Duo Lxi': 328, 'Mitsubishi Lancer 2.0 L Diesel LX': 329, 'Ford Figo Petrol EXI': 330, 'Chevrolet Tavera B3 LT L1 10 Seats BSIII': 331, 'Tata Indica V2 eLS': 332, 'Tata Indica V2 eLX': 333, 'Hyundai i10 Magna 1.1L': 334, 'Maruti Zen Estilo VXI BSIII': 335, 'Hyundai Accent Executive CNG': 336, 'Maruti Zen Estilo VXI BSIV': 337, 'Ford Figo Diesel EXI': 338, 'Maruti Alto 800 LX': 339, 'Maruti Ritz LDi': 340, 'Chevrolet Optra Magnum 2.0 LS': 341, 'Maruti Alto 800 CNG LXI': 342, 'Hyundai EON Era Plus': 343, 'Hyundai Accent Executive LPG': 344, 'Hyundai Sonata 2.4L AT': 345, 'Maruti Swift Ldi BSIII': 346, 'Maruti Zen Estilo VXI BSIV W ABS': 347, 'Maruti Swift Glam': 348, 'Ford Fiesta EXi 1.4 TDCi Ltd': 349, 'Hyundai i10 Sportz Option': 350, 'Hyundai EON D Lite': 351, 'Maruti Ritz VXi (ABS) BS IV': 352, 'Maruti Alto 800 VXI': 353, 'Toyota Premio Base': 354, 'Maruti Alto 800 LXI': 355, 'Fiat Grande Punto Active (Diesel)': 356, 'Mahindra Bolero 2011-2019 Camper': 357, 'Hyundai Accent Executive': 358, 'Maruti Alto 800 Base': 359, 'Hyundai Santro Xing GL CNG': 360, 'Tata Indica V2 DLS BSIII': 361, 'Tata Indica V2 1.2 GLE BSIII': 362, 'Maruti Alto K10 VXI': 363, 'Tata Sumo CX 10 Str BSIV': 364, 'Tata Indica V2 DLG TC': 365, 'Mahindra Renault Logan 1.5 DLX Diesel': 366, 'Honda Civic 1.8 S AT': 367, 'Hyundai Elantra GT': 368, 'Hyundai Santro Xing GL LPG': 369, 'Maruti Swift Vdi BSIII': 370, 'Tata Venture EX 7 Str': 371, 'Ford Fiesta 1.4 SXi TDCi ABS': 372, 'Maruti A-Star Lxi': 373, 'Tata Manza Aura Plus Quadrajet': 374, 'Maruti Swift Dzire VDi': 375, 'Tata Indica Vista Aura 1.3 Quadrajet (ABS) BS IV': 376, 'Mahindra Verito 1.4 G4 BSIV': 377, 'Mahindra Logan Diesel 1.5 DLE': 378, 'Hyundai EON Magna Plus': 379, 'Ford Fiesta 1.4 Duratorq ZXI': 380, 'Hyundai i10 Sportz 1.1L': 381, 'Maruti Omni MPI STD BSIV': 382, 'Hyundai Verna CRDi ABS': 383, 'Maruti Ritz LXI': 384, 'Tata Indica Vista Terra Quadrajet 1.3L BS IV': 385, 'Mahindra Verito 1.5 D2 BSIII': 386, 'Ford Figo Petrol LXI': 387, 'Hyundai Santro Xing GLS CNG': 388, 'Tata Indigo CS LX (TDI) BS-III': 389, 'Maruti Swift VXi BSIV': 390, 'Tata Indigo CR4': 391, 'Maruti Swift Dzire LDi': 392, 'Chevrolet Optra 1.6 LT Royale': 393, 'Fiat Linea Emotion (Diesel)': 394, 'Chevrolet Enjoy TCDi LS 8 Seater': 395, 'Maruti Alto 800 LXI Anniversary Edition': 396, 'Maruti Alto 800 LXI Airbag': 397, 'Ford Fiesta Classic 1.4 SXI Duratorq': 398, 'Maruti Swift Dzire LXi': 399, 'Maruti SX4 Vxi BSIV': 400, 'Skoda Fabia Scout 1.2 TDI': 401, 'Maruti Swift Dzire 1.2 Lxi BSIV': 402, 'Hyundai Santro Xing GL Plus LPG': 403, 'Hyundai EON Magna Optional': 404, 'Hyundai Verna Transform VGT CRDi': 405, 'Hyundai i10 Sportz AT': 406, 'Maruti Wagon R LXI BS IV': 407, 'Honda City 1.5 GXI': 408, 'Maruti Alto K10 Knightracer': 409, 'Skoda Fabia 1.2 TDI Active Plus': 410, 'Ford Figo Diesel Celebration Edition': 411, 'Hyundai i10 Sportz 1.2': 412, 'Maruti Wagon R VXI BSIII': 413, 'Ford Classic 1.4 Duratorq CLXI': 414, 'Mahindra Xylo D2 BS IV': 415, 'Fiat Linea 1.3 Active': 416, 'Ford Fiesta 1.4 ZXi Duratec': 417, 'Toyota Qualis Fleet A3': 418, 'Mahindra Xylo D4 BSIII': 419, 'Renault KWID RXL': 420, 'Maruti Omni MPI CARGO BSIV': 421, 'Nissan Micra XL': 422, 'Mahindra Renault Logan 1.5 Diesel DLSX': 423, 'Mahindra Verito 1.5 D4 BSIII': 424, 'Tata Sumo EX 10/7 Str BSIII': 425, 'Maruti SX4 ZXI AT': 426, 'Datsun GO Plus T': 427, 'Maruti Ritz VXi': 428, 'Hyundai i20 Magna': 429, 'Toyota Qualis GS G1': 430, 'Chevrolet Sail Hatchback LT ABS': 431, 'Maruti Wagon R LXI CNG': 432, 'Maruti Zen Estilo LXI Green (CNG)': 433, 'Tata Indica Vista Aqua TDI BSIII': 434, 'Tata New Safari Dicor GX 4X2 BS IV': 435, 'Maruti Zen Estilo LX BSIV': 436, 'Tata Indica Vista Quadrajet 90 VX': 437, 'Maruti SX4 Zxi BSIII': 438, 'Skoda Fabia 1.2 MPI Ambition': 439, 'Mahindra Logan Petrol 1.4 GLE': 440, 'Honda Accord VTi-L MT': 441, 'Tata New Safari 3L Dicor LX 4x2': 442, 'Maruti Swift 1.3 ZXI': 443, 'Hyundai i20 Asta': 444, 'Chevrolet Sail 1.2 LS': 445, 'Ford Fiesta 1.4 ZXi TDCi LE': 446, 'Ford Fiesta 1.4 ZXi TDCi ABS': 447, 'Tata New Safari DICOR 2.2 LX 4x2': 448, 'Ford Fiesta Classic 1.4 Duratorq CLXI': 449, 'Mahindra Scorpio 2006-2009 LX 2.6 Turbo 9 Str': 450, 'Maruti Swift Dzire ZDi': 451, 'Tata Indigo eCS LX BSIV': 452, 'Mahindra Bolero GLX': 453, 'Tata New Safari Dicor LX 4X2 BS IV': 454, 'Toyota Etios Liva G': 455, 'Maruti Ritz VDi ABS': 456, 'Ambassador Grand 2000 DSZ PW CL': 457, 'Datsun RediGO T Option': 458, 'Tata Manza Aura (ABS) Safire BS IV': 459, 'Hyundai EON 1.0 Kappa Magna Plus': 460, 'Maruti Eeco Smiles 7 Seater Standard': 461, 'Nissan Micra Diesel XV Premium': 462, 'Mahindra Bolero DI DX 7 Seater': 463, 'Maruti Swift Dzire 1.2 Vxi BSIV': 464, 'Chevrolet Optra Magnum 2.0 LT': 465, 'Tata Indigo eCS GLS': 466, 'Mahindra Bolero LX': 467, 'Renault KWID RXT': 468, 'Tata Indica Vista Safire GLX': 469, 'Ford Fiesta 1.6 Duratec EXI': 470, 'Maruti Swift VDI Deca': 471, 'Nissan Micra Diesel XV': 472, 'Datsun GO A': 473, 'Skoda Fabia 1.2L Diesel Ambiente': 474, 'Skoda Octavia Rider 1.9 AT TDI': 475, 'Volkswagen Polo Select 1.2 MPI Highline': 476, 'Maruti Wagon R VXI BS IV with ABS': 477, 'Hyundai i20 1.4 CRDi Asta': 478, 'Hyundai i10 Asta': 479, 'Toyota Qualis GS C1': 480, 'Maruti Swift VXI BSIII W/ ABS': 481, 'Mahindra Bolero SLX': 482, 'Mahindra Scorpio 2.6 SPORTZ CRDe': 483, 'Maruti Ritz VXI': 484, 'Hyundai EON D Lite Plus Option': 485, 'Hyundai i20 Asta Optional With Sunroof 1.2': 486, 'Tata Indigo CS eLS BS IV': 487, 'Skoda Fabia 1.2 TDI Ambition Plus': 488, 'Renault KWID 1.0 RXT BSIV': 489, 'Hyundai i10 Asta Sunroof AT': 490, 'Tata Nano XTA': 491, 'Maruti Eeco CNG 5 Seater AC BSIV': 492, 'Hyundai i20 1.2 Asta': 493, 'Hyundai Verna Transform SX VGT CRDi': 494, 'Fiat Grande Punto 1.3 Emotion (Diesel)': 495, 'Volkswagen Polo Diesel Trendline 1.2L': 496, 'Honda Civic 1.8 V MT': 497, 'Renault KWID 1.0': 498, 'Nissan Sunny Diesel XL': 499, 'Maruti Swift Lxi BSIII': 500, 'Hyundai i20 1.2 Magna': 501, 'Datsun RediGO 1.0 S': 502, 'Renault Pulse RxL': 503, 'Tata Indigo CS LS (TDI) BS-III': 504, 'Maruti Swift Ldi BSIV': 505, 'Hyundai i20 Sportz Diesel': 506, 'Maruti Wagon R VXi BSII': 507, 'Tata Manza Aura Safire': 508, 'Volkswagen Jetta 1.6 Trendline': 509, 'Chevrolet Optra Magnum 2.0 LT BS3': 510, 'Datsun GO T BSIV': 511, 'Mahindra Quanto C6': 512, 'Nissan Micra Active XL Petrol': 513, 'Chevrolet Tavera LS B3 10 Seats BSII': 514, 'Chevrolet Sail Hatchback Diesel': 515, 'Tata Sumo EX TC': 516, 'Chevrolet Optra Magnum 1.6 LT Petrol': 517, 'Tata Safari DICOR 2.2 EX 4x2': 518, 'Tata Indica Vista Quadrajet VX Tech': 519, 'Volkswagen Vento Diesel Trendline': 520, 'Tata Indigo CS eVX': 521, 'Mahindra Xylo E4 BS IV': 522, 'Datsun RediGO Sport': 523, 'Chevrolet Sail Hatchback Petrol': 524, 'Honda City 1.5 E MT': 525, 'Mahindra Scorpio LX 2.6 Turbo': 526, 'Volkswagen Polo Diesel Comfortline 1.2L': 527, 'Tata Indigo V BSIII': 528, 'Ford Figo Petrol Titanium': 529, 'Mahindra Logan Diesel 1.5 DLS': 530, 'Honda Brio E MT': 531, 'Skoda Laura Ambiente 1.9 PD': 532, 'Tata Indica Vista Aura Plus 1.3 Quadrajet BS IV': 533, 'Toyota Qualis FS B3': 534, 'Ford Fiesta Classic 1.6 Duratec CLXI': 535, 'Datsun GO Plus D': 536, 'Toyota Etios GD': 537, 'Datsun RediGO S': 538, 'Maruti A-Star Zxi': 539, 'Maruti Swift VDI': 540, 'Tata Winger Deluxe - Flat Roof (Non-AC)': 541, 'Nissan Micra XV': 542, 'Renault KWID 1.0 RXT Optional': 543, 'Tata New Safari DICOR 2.2 GX 4x2 BS IV': 544, 'Tata New Safari DICOR 2.2 VX 4x2 BS IV': 545, 'Volkswagen Vento Diesel Highline': 546, 'Maruti SX4 Celebration Diesel': 547, 'Toyota Innova 2.5 G2': 548, 'Renault Pulse RxZ Optional': 549, 'Ford Figo 1.2P Ambiente MT': 550, 'Hyundai Verna Transform SX VGT CRDi AT BS III': 551, 'Honda Brio 1.2 S MT': 552, 'Chevrolet Sail 1.3 LS': 553, 'Nissan Micra Diesel XL': 554, 'Toyota Innova 2.5 G1 Diesel 8-seater': 555, 'Tata New Safari DICOR 2.2 VX 4x2': 556, 'Maruti Alto 800 LXI Optional': 557, 'Mahindra Bolero DI DX 8 Seater': 558, 'Tata Indica Vista Quadrajet ZX': 559, 'Honda Civic 1.8 V AT': 560, 'Maruti SX4 ZDI': 561, 'Tata Sumo MKII GX BS IV': 562, 'Renault KWID RXT Optional': 563, 'Maruti Celerio VDi': 564, 'Mahindra Bolero DI AC BSIII': 565, 'Nissan Sunny XV': 566, 'Honda Amaze S i-Dtech': 567, 'Mahindra Xylo D2 BSIV': 568, 'Honda Civic Hybrid': 569, 'Tata Manza ELAN Quadrajet BS III': 570, 'Mahindra Scorpio 2.6 CRDe': 571, 'Chevrolet Cruze LTZ': 572, 'Mahindra Scorpio 2.6 Turbo 9 Str': 573, 'Honda City 1.5 S MT': 574, 'Mahindra Verito 1.5 D4 BSIV': 575, 'Maruti Celerio X ZXI': 576, 'Honda City 1.5 GXI CVT': 577, 'Maruti Swift VXI with ABS': 578, 'Ford Fiesta 1.6 ZXi ABS': 579, 'Ford Figo Petrol ZXI': 580, 'Fiat Grande Punto 1.3 Dynamic (Diesel)': 581, 'Maruti Swift Dzire Vdi BSIV': 582, 'Renault Fluence Diesel E4': 583, 'Maruti Wagon R AX BSIV': 584, 'Skoda Laura Ambiente': 585, 'Toyota Camry V4 (MT)': 586, 'Tata Indigo CS eGLS BS IV': 587, 'Tata Manza Club Class Quadrajet90 LS': 588, 'Maruti Alto 800 LX Optional': 589, 'Hyundai i20 1.4 CRDi Sportz': 590, 'Tata Sumo GX': 591, 'Maruti SX4 Green Vxi (CNG)': 592, 'Skoda Octavia L and K 1.9 TDI MT': 593, 'Hyundai EON 1.0 Era Plus': 594, 'Tata Sumo MKII CX BS IV': 595, 'Hyundai Verna Transform CRDi VGT SX ABS': 596, 'Mahindra Verito 1.5 D6 BSIII': 597, 'Hyundai EON Magna Plus Option': 598, 'Volkswagen Polo Diesel Highline 1.2L': 599, 'Honda Brio V MT': 600, 'Tata Indigo CS GLX BS III': 601, 'Mahindra Bolero 2011-2019 DI NON AC BS III White': 602, 'Mahindra Verito Vibe 1.5 dCi D4': 603, 'Mahindra Bolero SLX 4WD BSIII': 604, 'Ford Classic 1.6 Duratec CLXI': 605, 'Skoda Octavia L and K 1.9 TDI (MT)': 606, 'Volkswagen Vento Petrol Highline AT': 607, 'Tata Sumo CX': 608, 'Tata Sumo EX BS IV': 609, 'Hyundai i20 1.4 CRDi Era': 610, 'Maruti Eeco Smiles 5 Seater AC': 611, 'Volkswagen Vento Diesel Comfortline': 612, 'Chevrolet Sail LT ABS': 613, 'Tata Manza Club Class Quadrajet90 VX': 614, 'Mahindra Bolero SLE': 615, 'Datsun GO Plus T BSIV': 616, 'Renault KWID 1.0 RXL': 617, 'Chevrolet Captiva LT': 618, 'Volkswagen Polo 1.5 TDI Comfortline': 619, 'Tata Indigo eCS VX BSIV': 620, 'Honda Brio S MT': 621, 'Tata Manza ELAN Quadrajet BS IV': 622, 'Toyota Etios Liva Diesel TRD Sportivo': 623, 'Mahindra Xylo E4 8S': 624, 'Fiat Punto Pure 1.2L FIRE': 625, 'Maruti Alto 800 VXI BSIV': 626, 'Renault Pulse RxZ': 627, 'Hyundai i20 Asta (o) 1.4 CRDi (Diesel)': 628, 'Mahindra Xylo E6': 629, 'Hyundai i20 Magna 1.4 CRDi': 630, 'Chevrolet Tavera Neo LS B3 - 7(C) seats BSIII': 631, 'Toyota Etios Liva 1.4 GD': 632, 'Datsun RediGO A': 633, 'Hyundai Grand i10 CRDi Asta Option': 634, 'Maruti Wagon R CNG LXI': 635, 'Datsun RediGO T': 636, 'Maruti Ritz LXi': 637, 'Volkswagen Polo Petrol Highline 1.2L': 638, 'Toyota Etios V': 639, 'Maruti Swift VDi BSIII W/ ABS': 640, 'Hyundai i20 1.4 CRDi Magna': 641, 'Toyota Innova 2.5 E Diesel PS 7-Seater': 642, 'Skoda Laura Ambiente 2.0 TDI CR MT': 643, 'Tata Manza Club Class Quadrajet90 LX': 644, 'Datsun GO A Petrol': 645, 'Maruti Alto 800 LXI BSIV': 646, 'Hyundai i20 1.2 Sportz': 647, 'Honda Accord V6 AT': 648, 'Maruti Ritz ZXi': 649, 'Datsun GO T Option BSIV': 650, 'Maruti Swift LXI': 651, 'Toyota Etios Liva GD': 652, 'Hyundai i10 Magna LPG': 653, 'Toyota Corolla DX': 654, 'Datsun RediGO AMT 1.0 S': 655, 'Hyundai i10 LPG': 656, 'Hyundai i10 Era 1.1 iTech SE': 657, 'Maruti Wagon R LXI DUO BS IV': 658, 'Tata Sumo Gold EX': 659, 'Chevrolet Enjoy TCDi LT 7 Seater': 660, 'Datsun RediGO 1.0 T Option': 661, 'Toyota Etios Diesel TRD Sportivo': 662, 'Mahindra KUV 100 mFALCON D75 K8': 663, 'Tata Zest Quadrajet 1.3 75PS XE': 664, 'Fiat Grande Punto 1.3 Emotion Pack 90HP (Diesel)': 665, 'Maruti Swift VDI BSIV W ABS': 666, 'Mahindra Bolero SLE BSIII': 667, 'Ford Fiesta Diesel Style': 668, 'Tata Zest Quadrajet 1.3 XMS': 669, 'Fiat Linea Classic 1.3 Multijet': 670, 'Maruti Swift ZXI': 671, 'Chevrolet Tavera B1-10 seats BSII': 672, 'Skoda Octavia Classic 1.9 TDI MT': 673, 'Maruti Swift VXI': 674, 'Nissan Sunny XL': 675, 'Chevrolet Enjoy 1.3 TCDi LS 7': 676, 'Maruti Wagon R LXI Optional': 677, 'Hyundai EON 1.0 Magna Plus Option O': 678, 'Hyundai Tucson CRDi': 679, 'Maruti Celerio LDi': 680, 'Maruti SX4 ZXI MT BSIV Leather': 681, 'Ford Fiesta Classic 1.6 SXI Duratec': 682, 'Toyota Etios 1.5 V': 683, 'Honda City V MT': 684, 'Fiat Grande Punto Sport 90BHP': 685, 'Renault KWID RXE': 686, 'Chevrolet Tavera Neo LT-L - 9 seats BSII': 687, 'Tata Manza Aura Quadrajet BS IV': 688, 'Toyota Innova 2.5 E Diesel MS 8-seater': 689, 'Mahindra Bolero SLX 2WD BSIII': 690, 'Renault KWID Climber 1.0 MT': 691, 'Chevrolet Optra Magnum 2.0 LS BSIII': 692, 'Mahindra Scorpio VLX 2WD BSIII': 693, 'Nissan Sunny Diesel XV': 694, 'Skoda Rapid 1.6 TDI Ambition': 695, 'Volkswagen Polo Petrol Comfortline 1.2L': 696, 'Maruti Celerio VXI': 697, 'Tata Indigo eCS GLX': 698, 'Renault Pulse RxL Optional': 699, 'Chevrolet Sail Hatchback Diesel Base': 700, 'Tata New Safari DICOR 2.2 EX 4x4 BS IV': 701, 'Skoda Rapid Ultima 1.6 TDI Elegance': 702, 'Maruti SX4 ZXI MT BSIV': 703, 'Tata Bolt Revotron XE': 704, 'Chevrolet Enjoy TCDi LTZ 7 Seater': 705, 'Tata Indica Vista Aura 1.2 Safire (ABS) BS IV': 706, 'Toyota Corolla Altis G': 707, 'Toyota Corolla Altis Diesel D4DG': 708, 'Nissan Micra Active XV S': 709, 'Mahindra Quanto C8': 710, 'Datsun GO D Petrol': 711, 'Mahindra Willys CJ 3B 4X4': 712, 'Ford Fiesta Titanium 1.5 TDCi': 713, 'Skoda Rapid 1.5 TDI Elegance': 714, 'Mahindra KUV 100 mFALCON G80 K2': 715, 'Maruti Celerio LXI': 716, 'Datsun GO Plus D1': 717, 'Hyundai Verna 1.6 VGT CRDi': 718, 'Datsun GO Plus Anniversary Edition': 719, 'Chevrolet Sail Hatchback LS ABS': 720, 'Mahindra Xylo E8 BS4': 721, 'Toyota Etios VX': 722, 'Tata New Safari DICOR 2.2 EX 4x4': 723, 'Hyundai i20 Sportz 1.2': 724, 'Tata New Safari 4X2': 725, 'Toyota Innova 2.5 E Diesel MS 7-seater': 726, 'Nissan Micra XV CVT': 727, 'Chevrolet Sail 1.2 LS ABS': 728, 'Fiat Grande Punto EVO 1.3 Dynamic': 729, 'Mahindra Bolero XL 10 Seater Non AC': 730, 'Maruti Wagon R Stingray VXI': 731, 'Maruti Swift Dzire Tour LDI': 732, 'Maruti Alto K10 LX': 733, 'Toyota Etios G Safety': 734, 'Honda City 1.5 V MT': 735, 'Toyota Innova 2.5 G (Diesel) 7 Seater BS IV': 736, 'Ashok Leyland Stile LE': 737, 'Skoda Fabia 1.2L Diesel Elegance': 738, 'Tata Zest Revotron 1.2T XM': 739, 'Mahindra Scorpio SLX 2.6 Turbo 8 Str': 740, 'Tata Indica V2 DLX BSIII': 741, 'Honda Accord 2.4 MT': 742, 'Maruti Eeco CNG HTR 5-STR': 743, 'Maruti Wagon R VXI 1.2': 744, 'Ford Fiesta Classic 1.4 Duratorq LXI': 745, 'Toyota Etios G': 746, 'Tata Tiago 1.2 Revotron XE': 747, 'Volkswagen Passat 1.8 TSI MT': 748, 'Maruti Ritz ZDi': 749, 'Mahindra Scorpio SLE BSIV': 750, 'Hyundai Grand i10 Magna': 751, 'Volkswagen CrossPolo 1.5 TDI': 752, 'Hyundai Grand i10 CRDi Magna': 753, 'Hyundai i20 Sportz 1.4 CRDi': 754, 'Honda Amaze EX i-Vtech': 755, 'Renault KWID 1.0 RXT 02 Anniversary Edition': 756, 'Mahindra Xylo E8': 757, 'Chevrolet Sail Hatchback 1.2': 758, 'Renault KWID Climber 1.0 MT BSIV': 759, 'Chevrolet Spark 1.0 LT LPG': 760, 'Chevrolet Sail Hatchback 1.2 LS': 761, 'Tata New Safari Dicor VX 4X2': 762, 'Maruti Gypsy King Soft Top': 763, 'Chevrolet Cruze LT': 764, 'Chevrolet Tavera Neo 3 LS 9 Str BSIII': 765, 'Mahindra Bolero 2011-2019 EX NON AC': 766, 'Mahindra Xylo D4': 767, 'Mahindra Xylo D4 BSIV': 768, 'Maruti Swift Dzire VXI': 769, 'Toyota Innova 2.5 G (Diesel) 8 Seater BS IV': 770, 'Hyundai Grand i10 CRDi Sportz': 771, 'Honda City 1.5 V MT Exclusive': 772, 'Tata Sumo Gold GX': 773, 'Hyundai i20 Asta 1.4 CRDi (Diesel)': 774, 'Maruti Alto K10 VXI Airbag': 775, 'Maruti SX4 VDI': 776, 'Volkswagen Polo Petrol Trendline 1.2L': 777, 'Maruti Ritz Genus VDi': 778, 'Toyota Etios Liva GD SP': 779, 'Mahindra Bolero SLX 2WD': 780, 'Tata Manza Club Class Quadrajet90 EX': 781, 'Hyundai Verna Transform SX VTVT': 782, 'Mahindra Bolero 2011-2019 DI 4WD NON AC': 783, 'Mahindra Bolero PLUS AC BSIII': 784, 'Mahindra Bolero 2011-2019 Plus - AC BSIII': 785, 'Mahindra Bolero DI Non AC BSIII': 786, 'Mahindra Scorpio VLS 2.2 mHawk': 787, 'Mahindra Xylo E8 ABS Airbag': 788, 'Fiat Grande Punto EVO 1.3 Active': 789, 'Maruti Wagon R VXI Optional': 790, 'Tata Zest Quadrajet 1.3 75PS XM': 791, 'Hyundai Xcent 1.1 CRDi Base': 792, 'Renault Duster 110PS Diesel RxZ': 793, 'Mahindra Xylo E4 ABS BS IV': 794, 'Skoda Fabia 1.2 MPI Ambition Plus': 795, 'Honda City 1.5 V AT': 796, 'Honda Brio 1.2 VX MT': 797, 'Toyota Innova 2.5 V Diesel 7-seater': 798, 'Honda CR-V 2.4 4WD AT': 799, 'Ford Figo Titanium Diesel BSIV': 800, 'Tata Zest Revotron 1.2 XT': 801, 'Hyundai i20 Magna 1.4 CRDi (Diesel)': 802, 'Fiat Linea Classic Plus 1.3 Multijet': 803, 'Tata Tiago 1.05 Revotorq XE': 804, 'Mahindra Bolero 2011-2019 SLE': 805, 'Maruti Celerio ZXI': 806, 'Honda Amaze S Diesel': 807, 'Tata Zest Quadrajet 1.3 XM': 808, 'Mahindra Bolero 2011-2019 DI NON AC BS III SILVER': 809, 'Mahindra Bolero 2011-2019 SLX': 810, 'Ford Figo Titanium Diesel': 811, 'Datsun RediGO SV 1.0': 812, 'Mahindra KUV 100 mFALCON G80 K6 AW': 813, 'Maruti Celerio VXI AT': 814, 'Honda City i-VTEC V': 815, 'Renault Duster 85PS Diesel RxL Plus': 816, 'Tata Tiago 1.2 Revotron XT': 817, 'Maruti Alto 800 CNG LXI Optional': 818, 'Chevrolet Sail 1.2 LT ABS': 819, 'Hyundai i20 Sportz AT 1.4': 820, 'Volkswagen Vento IPL II Diesel Trendline': 821, 'Hyundai Grand i10 Sportz': 822, 'Maruti Swift Dzire LDI': 823, 'Maruti Alto 800 VXI Optional': 824, 'Hyundai Sonata 2.0L CRDi MT': 825, 'Tata Bolt Revotron XM': 826, 'Honda Brio Exclusive Edition': 827, 'Maruti Swift Dzire ZXi': 828, 'Honda Jazz Basic': 829, 'Hyundai Verna XXi ABS (Petrol)': 830, 'Mahindra KUV 100 G80 K2': 831, 'Hyundai i20 Era Diesel': 832, 'Tata Tiago 1.2 Revotron XZ': 833, 'Tata Manza Aura Plus Quadrajet BS IV': 834, 'Tata Sumo Gold GX BSIII': 835, 'Maruti Celerio ZDi': 836, 'Toyota Corolla Altis 1.8 J': 837, 'Renault Duster 110PS Diesel RxL': 838, 'Hyundai i20 Magna Optional 1.4 CRDi': 839, 'Nissan Micra XL Optional': 840, 'Toyota Etios VXD': 841, 'Maruti Swift LXI Optional-O': 842, 'Nissan Sunny XL AT Special Edition': 843, 'Tata Tiago Wizz 1.05 Revotorq': 844, 'Hyundai Xcent 1.2 Kappa Base': 845, 'Mahindra Bolero 2011-2019 DI BSIII': 846, 'Nissan Sunny XE': 847, 'Mahindra Scorpio M2DI': 848, 'Mahindra Verito 1.5 D6 BSIV': 849, 'Honda City i-VTEC S': 850, 'Ford Classic 1.4 Duratorq Titanium': 851, 'Datsun GO Plus A': 852, 'Honda Jazz Select Edition Active': 853, 'Hyundai EON Era Plus Sports Edition': 854, 'Honda City 1.5 V Inspire': 855, 'Maruti SX4 ZXI AT Leather': 856, 'Mahindra Quanto C4': 857, 'Hyundai Grand i10 CRDi Asta': 858, 'Maruti Celerio ZXI AT': 859, 'Maruti SX4 ZDI Leather': 860, 'Datsun GO Plus T Option BSIV': 861, 'Ford Classic 1.6 Duratec Titanium': 862, 'Datsun GO A EPS': 863, 'Volkswagen Jetta 2.0 TDI Comfortline': 864, 'Hyundai i20 Asta (o)': 865, 'Mahindra Verito 1.6 G6 Executive BSIII': 866, 'Ford Classic 1.6 Duratec LXI': 867, 'Mahindra Bolero PLUS AC': 868, 'Honda Amaze VX i-DTEC': 869, 'Maruti Gypsy King Soft Top MPI BSIV': 870, 'Ford Figo 1.5D Base MT': 871, 'Toyota Corolla Altis 1.8 Sport': 872, 'Hyundai Xcent 1.1 CRDi S': 873, 'Hyundai Grand i10 Asta': 874, 'Maruti Gypsy King ST BSIII': 875, 'Honda City 1.5 S Inspire': 876, 'Maruti Wagon R AMT VXI': 877, 'Tata Tiago 1.2 Revotron XM': 878, 'Maruti Alto K10 VXI AGS Optional': 879, 'Ford Figo 1.2P Trend MT': 880, 'Maruti Alto K10 VXI AGS': 881, 'Chevrolet Enjoy 1.4 LTZ 7': 882, 'Tata Tiago 1.05 Revotorq XT Option': 883, 'Maruti Ertiga VDI': 884, 'Fiat Grande Punto EVO 1.2 Dynamic': 885, 'Chevrolet Tavera Neo LS B3 - 10 seats BSIII': 886, 'Ford Figo 1.5D Ambiente MT': 887, 'Toyota Innova 2.5 EV Diesel PS 7 Seater BSIII': 888, 'Honda Civic 1.8 V MT Inspire': 889, 'Toyota Innova 2.5 V Diesel 8-seater': 890, 'Hyundai EON 1.0 Kappa Magna Plus Optional': 891, 'Hyundai Verna 1.6 SX': 892, 'Mahindra KUV 100 mFALCON G80 K4 Plus 5str': 893, 'Hyundai Xcent 1.2 Kappa S': 894, 'Hyundai Verna SX': 895, 'Skoda Octavia Ambiente 1.9 TDI': 896, 'Maruti Swift Dzire VDI': 897, 'Tata Tiago 1.05 Revotorq XM': 898, 'Hyundai i20 Asta 1.2': 899, 'Volkswagen Vento Petrol Highline': 900, 'Mahindra KUV 100 mFALCON G80 K4': 901, 'Hyundai Xcent 1.2 VTVT E': 902, 'Hyundai Grand i10 SportZ Edition': 903, 'Fiat Avventura Power Up 1.3 Active': 904, 'Mahindra KUV 100 mFALCON D75 K2 Plus': 905, 'Hyundai Verna 1.6 SX CRDi (O)': 906, 'Hyundai i20 1.4 Asta (AT)': 907, 'Maruti Swift LDI BSIV': 908, 'Fiat Punto EVO 1.3 Emotion': 909, 'Hyundai Verna 1.6 CRDI': 910, 'Ford Figo 1.5D Titanium MT': 911, 'Mahindra Scorpio VLS AT 2.2 mHAWK': 912, 'Mahindra Scorpio SLX 4WD LE': 913, 'Skoda Rapid 1.5 TDI Ambition': 914, 'Ford Figo 1.2P Titanium Opt MT': 915, 'Maruti Alto 800 VXI Plus': 916, 'Maruti Ignis 1.2 Delta BSIV': 917, 'Maruti Swift Dzire Ldi BSIV': 918, 'Maruti Alto 800 LXI CNG': 919, 'Maruti Swift LDI': 920, 'Maruti Swift 1.2 DLX (Only Delhi)': 921, 'Honda City 1.5 V Elegance': 922, 'Mahindra KUV 100 mFALCON D75 K6 Plus': 923, 'Hyundai Xcent 1.1 CRDi S Option': 924, 'Skoda Rapid 1.6 MPI Ambition': 925, 'Hyundai Xcent 1.2 Kappa S Option': 926, 'Hyundai i10 Sportz 1.1L LPG': 927, 'Mahindra Scorpio SLX 4WD': 928, 'Mahindra Scorpio 2.6 Turbo 7 Str': 929, 'Renault KWID 1.0 RXT AMT Opt': 930, 'Volkswagen Polo 1.2 MPI Comfortline': 931, 'Fiat Linea 1.3 Multijet Active': 932, 'Hyundai Grand i10 Asta Option': 933, 'Maruti Swift Dzire ZDI': 934, 'Hyundai Grand i10 CRDi SportZ Edition': 935, 'Tata Tiago 1.05 Revotorq XZ': 936, 'Hyundai Verna Transform VTVT': 937, 'Hyundai Xcent 1.2 Kappa AT SX Option': 938, 'Tata New Safari DICOR 2.2 VX 4x4': 939, 'Hyundai i20 Magna Optional 1.2': 940, 'Mahindra Scorpio 2009-2014 SLE 7S BSIII': 941, 'Tata Tiago 1.2 Revotron XM Option': 942, 'Maruti Swift Dzire LDIX Limited Edition': 943, 'Hyundai i20 Asta 1.4 CRDi': 944, 'Skoda Rapid 1.6 TDI Ambition Plus Alloy': 945, 'Datsun GO Anniversary Edition': 946, 'Maruti Ertiga ZDI': 947, 'Mahindra Scorpio EX': 948, 'Maruti Celerio VXI MT BSIV': 949, 'Skoda Rapid 1.6 MPI Elegance': 950, 'Ford Figo 1.2P Titanium MT': 951, 'Honda Amaze S i-Vtech': 952, 'Nissan Micra Active XV': 953, 'Volkswagen Vento 1.6 Highline': 954, 'Mahindra Xylo E4 BS III': 955, 'Maruti Swift ZDi': 956, 'Toyota Etios GD SP': 957, 'Mahindra KUV 100 D75 K6 Plus 5Str': 958, 'Maruti Wagon R VXI Plus': 959, 'Volkswagen Polo 1.5 TDI Highline': 960, 'Toyota Innova 2.5 G4 Diesel 7-seater': 961, 'Maruti Celerio X VXI Option BSIV': 962, 'Skoda Rapid 1.6 MPI Active BSIV': 963, 'Skoda Rapid 1.6 MPI AT Elegance': 964, 'Hyundai Santro Era': 965, 'Maruti Alto K10 VXI Optional': 966, 'Renault Scala Diesel RxL': 967, 'Ford Freestyle Titanium Petrol BSIV': 968, 'Mahindra KUV 100 mFALCON G80 K8 5str': 969, 'Nissan Terrano XL 85 PS': 970, 'Maruti Swift LXI Option': 971, 'Hyundai Grand i10 AT Asta': 972, 'Skoda Superb 1.8 TSI': 973, 'Tata Sumo Gold EX BSIII': 974, 'Mahindra Xylo H4': 975, 'Honda Accord 2.4 AT': 976, 'Mahindra Bolero 2011-2019 ZLX': 977, 'Hyundai Xcent 1.2 Kappa AT S Option': 978, 'Skoda Rapid 1.5 TDI AT Ambition Plus': 979, 'Mahindra Xylo D2 BS III': 980, 'Maruti Wagon R VXI Plus Optional': 981, 'Hyundai Xcent 1.1 CRDi SX': 982, 'Mahindra Jeep MM 550 XDB': 983, 'Maruti Celerio X ZXI Option BSIV': 984, 'Mercedes-Benz New C-Class C 200 Kompressor Elegance AT': 985, 'Volkswagen Vento Diesel Breeze': 986, 'Toyota Innova 2.5 GX (Diesel) 7 Seater': 987, 'Maruti Swift Dzire Zdi BSIV': 988, 'Mahindra Supro LX 8 Str': 989, 'Renault Duster 85PS Diesel RxL Optional': 990, 'Nissan Micra Diesel XL Optional': 991, 'Tata Zest Revotron 1.2T XMS': 992, 'Maruti Swift Star VDI': 993, 'Honda CR-V 2.4L 4WD MT': 994, 'Datsun GO T Petrol': 995, 'Tata Bolt Quadrajet XE': 996, 'Mahindra Bolero 2011-2019 Plus Non AC': 997, 'Mahindra KUV 100 mFALCON D75 K6': 998, 'Ford Endeavour 2.5L 4X2 MT': 999, 'Hyundai i20 Sportz Option 1.2': 1000, 'Volkswagen Polo GT TDI': 1001, 'Hyundai i20 Magna 1.2': 1002, 'Volkswagen Ameo 1.2 MPI Comfortline': 1003, 'Renault KWID AMT': 1004, 'Hyundai Verna 1.4 CRDi': 1005, 'Ford Figo Aspire 1.5 TDCi Trend': 1006, 'Ford Figo 1.5D Trend MT': 1007, 'Mahindra KUV 100 D75 K8': 1008, 'Hyundai Verna 1.6 VTVT': 1009, 'Mahindra Scorpio SLE BSIII': 1010, 'Honda Brio 1.2 E MT': 1011, 'Tata Zest Quadrajet 1.3 XT': 1012, 'Toyota Corolla Altis 1.8 VL AT': 1013, 'Maruti Ertiga LDI': 1014, 'Mahindra KUV 100 mFALCON D75 K4': 1015, 'Tata Tiago 1.05 Revotorq XT': 1016, 'Toyota Etios VD': 1017, 'Tata Tigor 1.2 Revotron XT': 1018, 'Mahindra Scorpio LX': 1019, 'Maruti Swift VDI Optional': 1020, 'Maruti Swift VXI Optional': 1021, 'Maruti Eeco CNG 5 Seater AC': 1022, 'Chevrolet Tavera Neo 3 LS 10 Str': 1023, 'Skoda Rapid 1.6 MPI Ambition Plus': 1024, 'Honda City V AT': 1025, 'Hyundai Grand i10 1.2 CRDi Magna': 1026, 'Toyota Etios Liva VXD': 1027, 'Chevrolet Tavera Neo 3 LT 9 Seats BSIV': 1028, 'Honda Amaze VX O iDTEC': 1029, 'Volkswagen Vento 1.5 TDI Highline AT': 1030, 'Skoda Rapid 1.6 TDI Elegance': 1031, 'Hyundai Verna S': 1032, 'Honda Amaze S AT i-Vtech': 1033, 'Hyundai i20 2015-2017 Sportz Option 1.4 CRDi': 1034, 'Renault Lodgy 85PS RxE 7 Seater': 1035, 'Maruti Celerio ZXI Optional': 1036, 'Hyundai i20 1.2 Magna Executive': 1037, 'Ford Figo 1.5P Titanium AT': 1038, 'Maruti Swift Dzire VXi AT': 1039, 'Tata Tigor 1.05 Revotorq XZ': 1040, 'Volkswagen Jetta 2.0L TDI Comfortline': 1041, 'Mahindra KUV 100 D75 K4 Plus': 1042, 'Hyundai Grand i10 1.2 Kappa Asta': 1043, 'Mahindra Thar DI 4X4': 1044, 'Honda Jazz 1.5 E i DTEC': 1045, 'Volkswagen Jetta 2.0L TDI Highline': 1046, 'Renault Duster 85PS Diesel RxZ': 1047, 'Renault Duster 85PS Diesel RxL Optional with Nav': 1048, 'Fiat Avventura Power Up 1.3 Emotion': 1049, 'Tata Zest Quadrajet 1.3 Anniversary Edition': 1050, 'Ford Fiesta 1.5 TDCi Ambiente': 1051, 'Maruti Ertiga VXI': 1052, 'Chevrolet Tavera Neo 3 9 Str BSIII': 1053, 'Toyota Etios Cross 1.4L GD': 1054, 'Toyota Innova 2.5 GX (Diesel) 8 Seater BS IV': 1055, 'Hyundai Grand i10 1.2 Kappa Era': 1056, 'Mahindra TUV 300 T8': 1057, 'Chevrolet Cruze LTZ AT': 1058, 'Mahindra Scorpio VLX 2WD BSIV': 1059, 'Mahindra KUV 100 mFALCON G80 K8 Dual Tone': 1060, 'Maruti Alto K10 LXI CNG': 1061, 'Hyundai Santro Sportz BSIV': 1062, 'Maruti Ertiga LXI': 1063, 'Maruti Swift VXI Windsong Limited edition': 1064, 'Renault Scala Diesel RxZ': 1065, 'Hyundai Santro Magna': 1066, 'Maruti Swift Dzire LXI': 1067, 'Maruti Wagon R VXI Opt 1.2': 1068, 'Hyundai Verna SX Opt': 1069, 'Toyota Etios Cross 1.2L G': 1070, 'Maruti Celerio ZXI Optional AMT BSIV': 1071, 'Hyundai Xcent 1.2 VTVT E Plus': 1072, 'Hyundai i20 2015-2017 Sportz 1.2': 1073, 'Tata Tiago XT': 1074, 'Mahindra Bolero 2011-2019 Plus AC': 1075, 'Tata Xenon XT EX 4X2': 1076, 'Mahindra Bolero B4': 1077, 'Hyundai Verna 1.6 CRDi EX MT': 1078, 'Maruti Wagon R VXI AMT 1.2': 1079, 'Tata Sumo EX': 1080, 'Hyundai Grand i10 1.2 Kappa Magna BSIV': 1081, 'Mahindra KUV 100 G80 K4 Plus 5Str': 1082, 'Maruti Ertiga ZXI': 1083, 'Toyota Camry W4 (AT)': 1084, 'Mahindra KUV 100 mFALCON G80 K8': 1085, 'Nissan Sunny XV Special Edition': 1086, 'Hyundai Grand i10 1.2 CRDi Sportz': 1087, 'Toyota Etios Liva Diesel': 1088, 'Mahindra Bolero VLX CRDe': 1089, 'Hyundai Santro Magna BSIV': 1090, 'Honda Mobilio S i DTEC': 1091, 'Maruti Swift ZDI Plus': 1092, 'Mahindra Bolero 2011-2019 DI - AC BS III': 1093, 'Mahindra Scorpio VLX 2WD AIRBAG BSIV': 1094, 'Mahindra Scorpio LX BSIV': 1095, 'Mahindra Quanto C2': 1096, 'Ford Figo Aspire 1.2 Ti-VCT Titanium Plus': 1097, 'Hyundai Xcent 1.2 Kappa SX Option': 1098, 'Toyota Innova 2.5 G4 Diesel 8-seater': 1099, 'Mahindra Scorpio 1.99 S10 4WD': 1100, 'Renault KWID Climber 1.0 AMT': 1101, 'Mahindra KUV 100 G80 K4 Plus': 1102, 'Datsun GO T Option': 1103, 'Tata Tiago 1.05 Revotorq XZ WO Alloy': 1104, 'Fiat Avventura MULTIJET Emotion': 1105, 'Tata Aria Prestige 4x2': 1106, 'Tata Tigor 1.2 Revotron XE': 1107, 'Tata Tiago 1.2 Revotron XZ WO Alloy': 1108, 'Honda City S': 1109, 'Mahindra Bolero LX Non AC BSIII': 1110, 'Honda Amaze E i-Dtech': 1111, 'Maruti Swift VDI Windsong Limited edition': 1112, 'Renault Duster 85PS Diesel RxL Option': 1113, 'Hyundai Xcent 1.2 CRDi E Plus': 1114, 'Hyundai Grand i10 1.2 Kappa Sportz BSIV': 1115, 'Mahindra KUV 100 mFALCON D75 K2': 1116, 'Tata Tiago 2019-2020 XZ Plus Dual Tone': 1117, 'Hyundai Verna 1.6 SX VTVT AT': 1118, 'Honda Amaze VX i-VTEC': 1119, 'Mahindra Bolero 2011-2019 ZLX BSIII': 1120, 'Maruti Swift Dzire Tour S CNG': 1121, 'Maruti Swift LDI Optional': 1122, 'Hyundai Grand i10 1.2 CRDi Asta': 1123, 'Skoda Rapid 1.6 TDI Ambition Plus': 1124, 'Hyundai i20 Asta Optional with Sunroof 1.2': 1125, 'Renault Duster 110PS Diesel RXZ Optional with Nav': 1126, 'Maruti Swift Dzire LDI Optional': 1127, 'Ford Figo Aspire 1.5 TDCi Ambiente': 1128, 'Maruti Ciaz VDi Plus': 1129, 'Mahindra Scorpio Gateway 2WD': 1130, 'Maruti Celerio X VXI': 1131, 'Ford Figo 1.5D Titanium Opt MT': 1132, 'Tata Tigor 1.2 Revotron XZ': 1133, 'Maruti Wagon R LXI CNG Optional': 1134, 'Hyundai Verna 1.4 VTVT': 1135, 'Honda Amaze E Diesel BSIV': 1136, 'Honda City Corporate Edition': 1137, 'Hyundai Santro Sportz AMT BSIV': 1138, 'Tata Safari Storme LX': 1139, 'Hyundai Elite i20 Petrol Asta': 1140, 'Maruti Celerio VXi AMT': 1141, 'Maruti Swift VXI Deca': 1142, 'Mahindra Scorpio 2009-2014 VLX 2WD 7S BSIV': 1143, 'Maruti Celerio ZXI AMT BSIV': 1144, 'Maruti Wagon R AMT VXI Option': 1145, 'Nissan Terrano XE 85 PS': 1146, 'Ford Ecosport Sports Diesel': 1147, 'Mahindra XUV500 W6 2WD': 1148, 'Mahindra Bolero Power Plus Plus AC BSIV PS': 1149, 'Toyota Innova 2.5 GX 7 STR': 1150, 'Nissan Terrano XV Premium 110 PS': 1151, 'Maruti Wagon R Stingray VXI Optional': 1152, 'Mahindra Scorpio 2006-2009 VLX 2WD 7 Str BSIII': 1153, 'Honda Jazz 1.2 VX i VTEC': 1154, 'Skoda Rapid 1.5 TDI Active': 1155, 'Maruti Wagon R AMT VXI Plus': 1156, 'Honda Amaze E i-VTEC': 1157, 'Maruti Swift VXI BSIV': 1158, 'Hyundai Grand i10 1.2 Kappa Magna AT': 1159, 'Maruti S-Presso VXI AT': 1160, 'Honda CR-V 2.4L 4WD': 1161, 'Toyota Corolla Altis Diesel D4DJ': 1162, 'Volkswagen Ameo 1.0 MPI Trendline': 1163, 'Mahindra KUV 100 D75 K6 Plus': 1164, 'Honda Jazz 1.2 S i VTEC': 1165, 'Hyundai Xcent 1.1 CRDi SX Option': 1166, 'Hyundai Xcent 1.2 VTVT S': 1167, 'Hyundai Grand i10 Sportz Celebration Edition': 1168, 'Tata Aria Pure LX 4x2': 1169, 'Renault Duster 85PS Diesel RxL': 1170, 'Hyundai i20 2015-2017 Sportz Option 1.2': 1171, 'Ford Endeavour 4x2 XLT Limited Edition': 1172, 'BMW 3 Series 320d Sedan': 1173, 'Mahindra Scorpio SLE BS IV': 1174, 'Ford EcoSport 1.5 TDCi Titanium Plus BSIV': 1175, 'Maruti Celerio X ZXI BSIV': 1176, 'Maruti Baleno Delta 1.2': 1177, 'Hyundai Grand i10 1.2 Kappa Sportz Option': 1178, 'Maruti Celerio ZXI MT BSIV': 1179, 'Ford EcoSport 1.5 Diesel Trend BSIV': 1180, 'Maruti Ignis 1.2 Zeta BSIV': 1181, 'Mahindra Bolero Power Plus Plus Non AC BSIV PS': 1182, 'Hyundai i20 2015-2017 Sportz 1.4 CRDi': 1183, 'Honda Amaze i-VTEC Privilege Edition': 1184, 'Maruti Ignis 1.2 AMT Alpha BSIV': 1185, 'Maruti Swift LXi BSIV': 1186, 'Hyundai i20 Era 1.2': 1187, 'Honda Mobilio V i DTEC': 1188, 'Nissan Terrano XL Plus 85 PS': 1189, 'Chevrolet Enjoy 1.3 TCDi LS 8': 1190, 'Hyundai i20 Asta Option 1.2': 1191, 'Nissan Terrano XL D Option': 1192, 'Renault Duster Adventure Edition': 1193, 'Hyundai Santro Magna AMT BSIV': 1194, 'Nissan Sunny XV D': 1195, 'Tata Tigor 2017-2020 XZ': 1196, 'Volkswagen Ameo 1.5 TDI Comfortline': 1197, 'Maruti Ignis 1.3 Alpha': 1198, 'Hyundai Verna 1.6 SX VTVT (O)': 1199, 'Honda CR-V 2.4L 4WD AT': 1200, 'Hyundai i20 Active 1.4': 1201, 'Hyundai Sonata CRDi M/T': 1202, 'Honda Jazz 1.5 V i DTEC': 1203, 'Mahindra Bolero 2011-2019 SLX 2WD BSIII': 1204, 'Maruti Swift DDiS LDI': 1205, 'Honda Mobilio V i VTEC': 1206, 'Honda Amaze E i-DTEC': 1207, 'Mahindra Scorpio VLX 2WD ABS AT BSIII': 1208, 'Hyundai i20 Active 1.2 S': 1209, 'Tata Tigor 1.05 Revotorq XM': 1210, 'Ford Figo Aspire 1.2 Ti-VCT Trend': 1211, 'Ford Endeavour 3.0L 4X2 AT': 1212, 'Hyundai Grand i10 1.2 Kappa Sportz Dual Tone': 1213, 'Maruti Swift AMT VXI': 1214, 'Hyundai i20 Active 1.2 SX': 1215, 'Skoda Superb Elegance 1.8 TSI AT': 1216, 'Ford EcoSport 1.5 TDCi Titanium BSIV': 1217, 'Mahindra Bolero 2011-2019 SLE BSIII': 1218, 'Nissan Micra Fashion Edition XL CVT': 1219, 'Honda City i DTEC E': 1220, 'Honda Amaze S i-DTEC': 1221, 'Chevrolet Enjoy 1.3 TCDi LTZ 8': 1222, 'Honda Jazz 1.2 V i VTEC': 1223, 'Chevrolet Tavera Neo 3 LT 9 Seats BSIII': 1224, 'Toyota Innova 2.5 EV PS 8 STR BSIV': 1225, 'Hyundai i20 Sportz Option 1.4 CRDi': 1226, 'Ford EcoSport 1.5 Ti VCT MT Titanium BSIV': 1227, 'Tata New Safari DICOR 2.2 GX 4x2': 1228, 'Maruti Baleno Sigma 1.2': 1229, 'Datsun GO A Option Petrol': 1230, 'Honda City i DTEC SV': 1231, 'Mahindra XUV500 W8 AWD': 1232, 'Tata Safari Storme EX': 1233, 'Mahindra KUV 100 G80 K8 Dual Tone': 1234, 'Mercedes-Benz New C-Class 200 K AT': 1235, 'Hyundai i20 Active Base Petrol': 1236, 'Hyundai Santro Asta BSIV': 1237, 'Hyundai Sonata 2.4 GDi MT': 1238, 'Hyundai Verna SX CRDi AT': 1239, 'Ford Fiesta 1.5 TDCi Titanium': 1240, 'Fiat Linea 1.3 Multijet Emotion': 1241, 'Renault Duster 85PS Diesel RxE': 1242, 'Hyundai Xcent 1.2 CRDi E': 1243, 'Ford Ecosport 1.5 DV5 MT Titanium Optional': 1244, 'Ford Figo Aspire Titanium': 1245, 'Tata Aria Pleasure 4x2': 1246, 'Tata Tiago 2019-2020 XZ': 1247, 'Tata Tiago 1.2 Revotron XTA': 1248, 'Mahindra XUV500 W8 4WD': 1249, 'Maruti Swift LDI SP Limited Edition': 1250, 'Tata Tiago 1.2 Revotron XZ Plus Dual Tone': 1251, 'Honda City i VTEC S': 1252, 'Ford Fiesta 1.5 TDCi Trend': 1253, 'Mahindra TUV 300 T4': 1254, 'Maruti Swift VXI 2018': 1255, 'Mahindra Scorpio VLX AT AIRBAG BSIV': 1256, 'Mahindra Scorpio 2009-2014 EX 9S BSIII': 1257, 'Maruti Swift VVT VXI': 1258, 'Honda Amaze Anniversary Edition': 1259, 'Chevrolet Tavera Neo 3 10 Seats BSIII': 1260, 'Hyundai Verna 1.6 CRDi EX AT': 1261, 'Hyundai Elantra SX': 1262, 'Ford Ecosport 1.5 DV5 MT Trend': 1263, 'Toyota Innova 2.5 VX 7 STR': 1264, 'Volkswagen Vento 1.5 TDI Comfortline': 1265, 'Tata Tiago NRG Petrol': 1266, 'Mercedes-Benz New C-Class C 220 CDI Elegance AT': 1267, 'Hyundai Xcent 1.2 Kappa SX': 1268, 'Hyundai i20 2015-2017 Magna 1.2': 1269, 'Renault Duster 110PS Diesel RxZ Plus': 1270, 'Tata Tiago NRG Petrol AMT': 1271, 'Tata Tigor 1.2 Revotron XZ Option': 1272, 'Tata Safari Storme VX': 1273, 'Hyundai Xcent 1.2 VTVT SX': 1274, 'Honda Jazz VX Diesel': 1275, 'Hyundai i20 Active 1.2': 1276, 'Tata Tigor 1.2 Revotron XZA': 1277, 'Tata Tiago 1.2 Revotron XZA': 1278, 'Maruti Ignis 1.2 AMT Delta BSIV': 1279, 'Nissan Terrano XV 110 PS': 1280, 'Mahindra Thar CRDe AC': 1281, 'Maruti Swift Dzire VDI Optional': 1282, 'Mahindra Scorpio VLX 2WD AIRBAG BSIII': 1283, 'Honda City i VTEC V': 1284, 'Tata Aria Pride': 1285, 'Honda Jazz 1.5 VX i DTEC': 1286, 'Mahindra Scorpio VLX 4WD AIRBAG BSIV': 1287, 'Maruti Ignis Zeta': 1288, 'Honda Jazz V Diesel': 1289, 'Ford Aspire Trend Diesel BSIV': 1290, 'Hyundai i20 Active 1.2 SX with AVN': 1291, 'Mahindra TUV 300 mHAWK100 T8': 1292, 'Maruti Baleno Sigma 1.3': 1293, 'Mahindra Bolero 2011-2019 Plus Non AC BSIV PS': 1294, 'Mahindra KUV 100 mFALCON G80 K8 5str AW': 1295, 'Renault Scala Diesel RxE': 1296, 'Hyundai Grand i10 1.2 CRDi Sportz Option': 1297, 'Tata Tigor 2017-2020 XZ Plus': 1298, 'Datsun GO Plus A Option Petrol': 1299, 'Maruti Ciaz ZDi': 1300, 'Mahindra XUV500 W8 2WD': 1301, 'Mahindra KUV 100 G80 K6 Plus': 1302, 'Renault KWID AMT RXL': 1303, 'Chevrolet Enjoy 1.3 TCDi LT 8': 1304, 'Volkswagen Ameo 1.5 TDI Highline 16 Alloy': 1305, 'Mahindra Scorpio VLX 2WD AIRBAG SE BSIV': 1306, 'Hyundai i20 Active 1.4 SX with AVN': 1307, 'Nissan Terrano XL 110 PS': 1308, 'Maruti Wagon R VXI AMT Opt 1.2': 1309, 'Maruti Ertiga VXI CNG Limited Edition': 1310, 'Hyundai Verna 1.6 SX CRDI (O) AT': 1311, 'Toyota Etios Liva 1.2 V Dual Tone': 1312, 'Maruti Swift Dzire VXI 1.2': 1313, 'Honda Jazz VX': 1314, 'Ford Figo 1.2P Titanium Plus MT': 1315, 'Tata Tigor 1.05 Revotorq XZ Option': 1316, 'Toyota Innova 2.5 GX 8 STR': 1317, 'Hyundai Grand i10 Nios Sportz': 1318, 'Hyundai i20 1.2 Spotz': 1319, 'Maruti Swift Dzire LXI 1.2 BS IV': 1320, 'Hyundai Grand i10 1.2 Kappa Sportz AT': 1321, 'Volkswagen Jetta 2.0L TDI Highline AT': 1322, 'Hyundai Verna 1.4 CX': 1323, 'Toyota Etios Liva VD': 1324, 'Honda Mobilio RS i DTEC': 1325, 'Maruti Dzire LXI': 1326, 'Ford Figo Aspire 1.5 TDCi Titanium Opt': 1327, 'Maruti Ciaz ZDi Plus SHVS': 1328, 'Volkswagen Polo GT TSI': 1329, 'Mahindra Scorpio 2009-2014 SLE 7S BSIV': 1330, 'Renault Lodgy Stepway 110PS RXZ 7S': 1331, 'Honda Amaze E Option i-DTEC': 1332, 'Honda City i DTEC S': 1333, 'Maruti Swift Dzire VXI Optional': 1334, 'Hyundai i20 Asta Option 1.4 CRDi': 1335, 'Volkswagen Ameo 1.0 MPI Comfortline': 1336, 'Toyota Platinum Etios 1.4 GXD': 1337, 'Volkswagen Vento 1.5 TDI Highline': 1338, 'Hyundai i20 Diesel Asta Option': 1339, 'Honda Amaze SX i-DTEC': 1340, 'Maruti Ciaz RS ZXi Plus': 1341, 'Ford Ecosport 1.0 Ecoboost Titanium Optional': 1342, 'Ford Figo Aspire 1.5 TDCi Titanium': 1343, 'Hyundai Xcent 1.2 CRDi SX': 1344, 'Maruti Ciaz VDi Plus SHVS': 1345, 'Hyundai Verna SX Diesel': 1346, 'Ford Ecosport 1.5 Diesel Titanium': 1347, 'Toyota Innova 2.5 E 7 STR': 1348, 'Ford EcoSport 1.5 TDCi Trend Plus BSIV': 1349, 'Ford Ecosport 1.5 Ti VCT MT Titanium': 1350, 'Force One SX ABS 7 Seating': 1351, 'Hyundai Verna 1.6 CRDi S': 1352, 'Honda City i DTec V': 1353, 'Renault Duster 4x4': 1354, 'Honda City E': 1355, 'Honda Amaze S Option i-DTEC': 1356, 'Volkswagen Polo 2015-2019 1.0 MPI Trendline': 1357, 'Honda City i DTEC V': 1358, 'Volkswagen Polo Select 1.5 TDI Highline': 1359, 'Ford Figo Aspire 1.2 Ti-VCT Titanium': 1360, 'Hyundai Xcent 1.2 Kappa SX Option AT': 1361, 'Volkswagen Polo 2015-2019 1.0 MPI Comfortline': 1362, 'Honda City i VTEC VX': 1363, 'Volkswagen Polo 1.0 MPI Trendline BSIV': 1364, 'Maruti Baleno Delta': 1365, 'Ford Figo Aspire 1.2 Ti-VCT Sports Edition': 1366, 'Honda Mobilio RS Option i DTEC': 1367, 'Hyundai i20 Era 1.4 CRDi': 1368, 'Maruti Ignis 1.2 AMT Zeta BSIV': 1369, 'Tata Sumo Gold CX BSIII': 1370, 'Ford EcoSport 1.5 Diesel Titanium BSIV': 1371, 'Ford Figo Aspire 1.5 Ti-VCT Titanium': 1372, 'Ford EcoSport 1.5 Petrol Ambiente BSIV': 1373, 'Ford Ecosport 1.5 Diesel Trend': 1374, 'Volkswagen Polo GT TSI BSIV': 1375, 'Tata Nexon 1.2 Revotron XM': 1376, 'Mahindra Xylo H9': 1377, 'Volkswagen Ameo 1.5 TDI Trendline': 1378, 'Mahindra Scorpio VLX 2WD AIRBAG AT BSIV': 1379, 'Honda Jazz 1.2 V AT i VTEC': 1380, 'Renault Duster 85PS Diesel STD': 1381, 'Hyundai Verna 1.6 CRDi SX': 1382, 'Hyundai i20 2015-2017 Magna 1.4 CRDi': 1383, 'Volkswagen Vento Konekt Diesel Highline': 1384, 'Ford Aspire Titanium BSIV': 1385, 'Hyundai Xcent 1.2 VTVT S AT': 1386, 'Honda City i VTEC SV': 1387, 'Volkswagen Ameo 1.2 MPI Highline': 1388, 'Renault Triber RXT BSIV': 1389, 'Maruti Dzire VXI': 1390, 'Renault Fluence 1.5': 1391, 'Chevrolet Tavera Neo 3 LS 10 Seats BSIII': 1392, 'Honda WR-V i-VTEC VX': 1393, 'Hyundai i20 Active 1.4 SX Dual Tone': 1394, 'Maruti Celerio ZXI Optional MT BSIV': 1395, 'Maruti Baleno Alpha 1.2': 1396, 'Honda Accord 2.4 A/T': 1397, 'Ford Figo Aspire Facelift': 1398, 'Volkswagen Passat Highline DSG S': 1399, 'Honda Amaze S i-VTEC': 1400, 'Hyundai Elite i20 Petrol CVT Magna Executive': 1401, 'Mahindra Thar 4X4': 1402, 'Maruti Baleno Delta 1.3': 1403, 'Hyundai Elite i20 Petrol Magna Exective': 1404, 'Datsun GO Plus T VDC': 1405, 'Maruti Ciaz ZXi': 1406, 'Honda BR-V i-VTEC E MT': 1407, 'Ford Ecosport 1.5 Petrol Titanium': 1408, 'Maruti Swift AMT ZXI': 1409, 'Hyundai Elite i20 Magna Plus BSIV': 1410, 'Mahindra TUV 300 Plus P4 BSIV': 1411, 'Toyota Innova 2.5 EV (Diesel) PS 7 Seater BS IV': 1412, 'Ford Aspire Titanium Diesel BSIV': 1413, 'Maruti Swift Dzire AMT VXI': 1414, 'Maruti SX4 S Cross 2015-2017 DDiS 200 Zeta': 1415, 'Maruti Ciaz ZDi Plus': 1416, 'Mahindra Ingenio CRDe': 1417, 'Maruti Baleno Alpha': 1418, 'Mahindra NuvoSport N8': 1419, 'Mahindra Scorpio VLX 4WD AIRBAG AT BSIV': 1420, 'Honda Accord 2.4 M/T': 1421, 'Hyundai i20 Active 1.4 SX': 1422, 'Toyota Innova 2.5 G (Diesel) 8 Seater': 1423, 'Nissan Teana XL': 1424, 'Skoda Yeti Ambition 4WD': 1425, 'Honda Amaze V Petrol BSIV': 1426, 'Volkswagen Polo 2015-2019 1.2 MPI Highline Plus': 1427, 'Maruti Swift Dzire ZXI': 1428, 'Renault Duster 85PS Diesel RxE Adventure': 1429, 'Hyundai i20 1.2 Asta Dual Tone': 1430, 'Tata Xenon XT EX 4X4': 1431, 'Maruti Ertiga BSIV LXI': 1432, 'Honda Jazz 1.2 S AT i VTEC': 1433, 'Mahindra Bolero 2011-2019 Special Edition': 1434, 'Honda City i DTEC VX': 1435, 'Hyundai i20 Active 1.2 SX Dual Tone': 1436, 'Tata Bolt Quadrajet XM': 1437, 'Mahindra TUV 300 T8 AMT': 1438, 'Maruti Baleno Delta Automatic': 1439, 'Tata Nexon 1.2 Revotron XE': 1440, 'Maruti Ignis Zeta AMT': 1441, 'Maruti Baleno Zeta 1.3': 1442, 'Renault Lodgy 85PS RxE': 1443, 'Maruti Swift ZDI BSIV': 1444, 'Honda Jazz V': 1445, 'Skoda Superb Elegance 2.0 TDI CR AT': 1446, 'Hyundai i20 1.4 Sportz': 1447, 'Maruti Ertiga BSIV VXI': 1448, 'Hyundai Xcent 1.2 CRDi S': 1449, 'Hyundai Verna 1.6 CRDi S Option': 1450, 'Honda Mobilio S i VTEC': 1451, 'Ford Figo 1.5 Sports Edition MT': 1452, 'Mahindra TUV 300 T6 Plus': 1453, 'Renault Fluence 2.0': 1454, 'Mahindra XUV500 W4': 1455, 'Maruti Baleno Zeta 1.2': 1456, 'Honda Jazz 1.2 SV i VTEC': 1457, 'Maruti Swift VVT ZXI': 1458, 'Maruti Swift DDiS VDI': 1459, 'Maruti Vitara Brezza VDi Option': 1460, 'Maruti Ciaz ZXi Plus': 1461, 'Hyundai i20 2015-2017 Asta 1.4 CRDi': 1462, 'Mahindra Scorpio 2009-2014 EX 2WD 7S': 1463, 'Hyundai Elantra CRDi SX': 1464, 'Honda Jazz 1.2 V AT i VTEC Privilege': 1465, 'Mahindra Bolero Power Plus SLX': 1466, 'Hyundai Xcent 1.2 CRDi SX Option': 1467, 'Mahindra Bolero Power Plus SLE': 1468, 'Ford Figo Aspire 1.5 TDCi Sports Edition': 1469, 'Ford Aspire Trend Plus': 1470, 'Maruti Ciaz VDI SHVS': 1471, 'Mahindra TUV 300 T6 Plus AMT': 1472, 'Maruti SX4 S Cross 2015-2017 DDiS 200 Alpha': 1473, 'Maruti Ignis 1.2 Alpha BSIV': 1474, 'Ford Figo 1.2P Sports Edition MT': 1475, 'Hyundai i20 Active S Petrol': 1476, 'Maruti Swift Dzire VXI 1.2 BS IV': 1477, 'Renault Lodgy 85PS Std': 1478, 'Toyota Corolla Altis 1.8 G CVT': 1479, 'Maruti Ignis 1.3 AMT Zeta': 1480, 'Ford Ecosport 1.5 Ti VCT AT Titanium': 1481, 'Mitsubishi Pajero 2.8 SFX BSIII Single Tone': 1482, 'Volkswagen Ameo 1.5 TDI Comfortline AT': 1483, 'Hyundai Verna 1.6 VTVT S Option': 1484, 'Hyundai Grand i10 Magna AT': 1485, 'Ford EcoSport 1.5 TDCi Ambiente BSIV': 1486, 'Mahindra Thar CRDe': 1487, 'Hyundai i20 1.2 Asta Option': 1488, 'Mahindra Scorpio 1.99 S6 Plus': 1489, 'Hyundai i20 2015-2017 Asta 1.2': 1490, 'Honda City i VTEC CVT VX': 1491, 'Maruti Baleno Delta Diesel': 1492, 'Volkswagen Ameo 1.2 MPI Comfortline Plus': 1493, 'Ford Ecosport 1.5 Petrol Ambiente': 1494, 'Maruti Ertiga SHVS VDI': 1495, 'Mahindra Bolero Power Plus ZLX': 1496, 'Maruti Swift AMT ZXI BSIV': 1497, 'Maruti Vitara Brezza LDi Option': 1498, 'Honda Amaze S Petrol BSIV': 1499, 'Hyundai Xcent 1.2 VTVT SX Option': 1500, 'Renault Duster 85PS Diesel RxL Explore': 1501, 'Honda City i VTEC VX Option': 1502, 'Maruti Vitara Brezza LDi': 1503, 'Maruti Baleno Zeta Automatic': 1504, 'Maruti Swift AMT VVT VXI': 1505, 'Mahindra KUV 100 G80 K8': 1506, 'Skoda Rapid 1.5 TDI AT Style Plus': 1507, 'Hyundai Elite i20 Petrol Sportz': 1508, 'Mahindra NuvoSport N8 AMT': 1509, 'Maruti Ertiga VXI Limited Edition': 1510, 'Maruti Ciaz VXi Plus': 1511, 'Hyundai i20 2015-2017 Asta Option 1.2': 1512, 'Maruti Swift Dzire AMT ZDI': 1513, 'Maruti Ciaz Delta BSIV': 1514, 'Ford Freestyle Trend Diesel': 1515, 'Mahindra Scorpio S2 9 Seater': 1516, 'Volkswagen Polo 2015-2019 1.5 TDI Highline Plus': 1517, 'Hyundai Verna 1.6 VTVT S': 1518, 'Maruti Ciaz 1.3 Alpha': 1519, 'Renault Duster Adventure Edition RXZ AWD': 1520, 'Renault Triber RXZ BSIV': 1521, 'Toyota Innova 2.5 GX 8 STR BSIV': 1522, 'Hyundai i20 Active SX Petrol': 1523, 'Honda City i VTEC E': 1524, 'Maruti SX4 S Cross 2015-2017 DDiS 200 Sigma': 1525, 'Skoda Rapid 1.5 TDI Style Plus Black Package': 1526, 'Mercedes-Benz New C-Class C 200 Kompressor Elegance MT': 1527, 'Volkswagen Ameo 1.2 MPI Highline Plus 16': 1528, 'Toyota Etios 1.4 VXD': 1529, 'Renault Duster 110PS Diesel RxL Explore': 1530, 'Maruti Swift AMT ZXI Plus BSIV': 1531, 'Mahindra Xylo D2 Maxx': 1532, 'Chevrolet Enjoy 1.3 TCDi LTZ 7': 1533, 'Volkswagen Ameo 1.5 TDI Highline Plus 16 AT': 1534, 'Maruti Baleno Alpha 1.3': 1535, 'Maruti Ertiga LDI Option': 1536, 'Mahindra Scorpio 1.99 S4 Plus': 1537, 'Honda Jazz 1.5 S i DTEC': 1538, 'Hyundai Elantra CRDi SX Option AT': 1539, 'Chevrolet Tavera B2 8 Seats BSIII': 1540, 'Mahindra Scorpio S4 7 Seater': 1541, 'Honda City i DTec SV': 1542, 'Ford Figo Aspire Titanium Diesel': 1543, 'Hyundai i20 Active SX Diesel': 1544, 'Volkswagen Vento 1.5 TDI Highline Plus AT': 1545, 'Mahindra Scorpio 2009-2014 EX 2WD 9S': 1546, 'Maruti Swift Dzire ZDI Plus': 1547, 'Mahindra Bolero B2': 1548, 'Mahindra TUV 300 T4 Plus': 1549, 'Mahindra Bolero Power Plus LX': 1550, 'Skoda Rapid 1.5 TDI AT Ambition': 1551, 'Tata Nexon 1.5 Revotorq XE': 1552, 'Toyota Etios Liva 1.4 VD': 1553, 'Chevrolet Captiva 2.2 LT': 1554, 'Nissan Sunny XL D': 1555, 'Ford EcoSport 1.5 Ti VCT MT Trend BSIV': 1556, 'Honda Amaze VX Diesel BSIV': 1557, 'Hyundai i20 1.4 Asta Option': 1558, 'Mahindra Scorpio S2 7 Seater': 1559, 'Tata Tiago 2019-2020 XZ Plus Diesel': 1560, 'Maruti Swift AMT ZDI': 1561, 'Honda Amaze VX Petrol BSIV': 1562, 'Honda City i DTec S': 1563, 'Hyundai i20 1.4 Magna AT': 1564, 'Maruti Baleno Zeta': 1565, 'Skoda Rapid 1.6 MPI AT Style Plus': 1566, 'Hyundai Grand i10 Nios AMT Sportz': 1567, 'Mahindra Bolero 2011-2019 EX AC': 1568, 'Honda WR-V i-DTEC S': 1569, 'Ford Freestyle Trend Diesel BSIV': 1570, 'Volkswagen Polo 2015-2019 1.0 MPI Highline Plus': 1571, 'Honda Amaze S CVT Petrol BSIV': 1572, 'Ford EcoSport 1.5 Ti VCT AT Titanium BE BSIV': 1573, 'Ford Freestyle Trend Petrol BSIV': 1574, 'Maruti Ciaz AT ZXi': 1575, 'Ford Ecosport 1.5 DV5 MT Titanium': 1576, 'Hyundai Elite i20 Sportz Plus Dual Tone BSIV': 1577, 'Hyundai Elantra SX AT': 1578, 'Maruti S-Cross 2017-2020 Delta DDiS 200 SH': 1579, 'Hyundai Elite i20 Petrol Asta Option': 1580, 'Mahindra KUV 100 D75 K8 Dual Tone': 1581, 'Renault Lodgy 85PS RxZ': 1582, 'Hyundai Elite i20 Sportz Plus BSIV': 1583, 'Renault Duster RXL AWD': 1584, 'Maruti Swift ZXI Plus': 1585, 'Hyundai Elite i20 Sportz Plus CVT BSIV': 1586, 'Renault Lodgy 85PS RxL': 1587, 'Maruti Swift Dzire AMT VXI BS IV': 1588, 'Honda Amaze S CVT Diesel BSIV': 1589, 'Honda BR-V i-VTEC S MT': 1590, 'Ford Freestyle Titanium Plus Petrol BSIV': 1591, 'Maruti Vitara Brezza ZDi Plus Dual Tone': 1592, 'Tata Nexon 1.5 Revotorq XM': 1593, 'Maruti Ertiga VXI Petrol': 1594, 'Hyundai Creta 1.6 VTVT E Plus': 1595, 'Chevrolet Captiva 2.2 LTZ AWD': 1596, 'Mahindra Xylo E8 ABS Airbag BSIV': 1597, 'Ford Endeavour 2.5L 4X2': 1598, 'Toyota Innova 2.5 G (Diesel) 7 Seater': 1599, 'Ford Freestyle Titanium Plus Diesel': 1600, 'Hyundai Elite i20 Diesel Sportz': 1601, 'Honda WR-V i-VTEC S': 1602, 'Toyota Glanza G Smart Hybrid': 1603, 'Skoda Rapid 1.5 TDI Elegance Black Package': 1604, 'Maruti Swift Dzire ZXI Plus BS IV': 1605, 'Maruti Ciaz VDi Option SHVS': 1606, 'Maruti Ertiga 1.5 ZDI': 1607, 'Ford EcoSport 1.5 Diesel Trend Plus BSIV': 1608, 'Ford Figo Titanium Blu': 1609, 'Honda Amaze S Diesel BSIV': 1610, 'Hyundai i20 Petrol CVT Asta': 1611, 'Maruti Dzire ZXI': 1612, 'Nissan Terrano XL': 1613, 'Mahindra TUV 300 T6': 1614, 'Maruti Baleno RS 1.0 Petrol': 1615, 'Mahindra Thar DI 4X4 PS': 1616, 'Maruti Ertiga SHVS ZDI Plus': 1617, 'Mahindra Scorpio S4 Plus 4WD': 1618, 'Maruti Ciaz 1.4 Alpha': 1619, 'Hyundai i20 Active 1.4 S': 1620, 'Honda Jazz V CVT': 1621, 'Maruti Vitara Brezza ZDi': 1622, 'Skoda Rapid 1.6 MPI Ambition BSIV': 1623, 'Ford Freestyle Titanium Diesel BSIV': 1624, 'Hyundai i20 2015-2017 Asta Option 1.4 CRDi': 1625, 'Ford EcoSport 1.5 Diesel Titanium Plus BSIV': 1626, 'Hyundai Creta 1.4 CRDi S': 1627, 'Honda BRV i-VTEC V MT': 1628, 'Maruti Swift Dzire AMT ZXI': 1629, 'Maruti Vitara Brezza ZDi Plus': 1630, 'Audi A4 1.8 TFSI': 1631, 'Maruti Swift ZXI BSIV': 1632, 'Hyundai Elite i20 Asta Option CVT BSIV': 1633, 'Maruti Swift Dzire AMT ZDI Plus': 1634, 'Mahindra Scorpio 1.99 S4': 1635, 'Maruti Vitara Brezza VDi': 1636, 'Hyundai Verna 1.6 VTVT SX': 1637, 'Maruti Swift Dzire AMT VDI': 1638, 'Toyota Innova 2.5 VX (Diesel) 7 Seater': 1639, 'Mahindra Scorpio Getaway': 1640, 'Honda City i DTEC VX Option': 1641, 'Hyundai Creta 1.6 CRDi SX Option': 1642, 'Maruti Swift ZXI 2018': 1643, 'Maruti S-Cross 2017-2020 Sigma DDiS 200 SH': 1644, 'Mahindra TUV 300 mHAWK100 T8 Dual Tone': 1645, 'Mahindra Bolero 2011-2019 mHAWK D70 ZLX': 1646, 'Toyota Innova 2.5 VX 8 STR BSIV': 1647, 'BMW 7 Series 730Ld': 1648, 'Honda Jazz VX CVT': 1649, 'Maruti S-Cross 2017-2020 Alpha DDiS 200 SH': 1650, 'Hyundai i20 1.4 Asta Dual Tone': 1651, 'Maruti Ertiga BSIV ZXI Plus': 1652, 'Tata Nexon 1.2 Revotron XZ Plus': 1653, 'Ford EcoSport 1.5 Diesel Ambiente BSIV': 1654, 'Maruti Ertiga SHVS ZDI': 1655, 'Maruti Ciaz RS ZDi Plus SHVS': 1656, 'Honda City i VTEC CVT SV': 1657, 'Maruti Swift Dzire AMT ZXI Plus': 1658, 'Mahindra Verito Vibe 1.5 dCi D6': 1659, 'Honda Amaze S CVT i-VTEC': 1660, 'Maruti Ciaz 1.3 Sigma': 1661, 'Hyundai i20 1.4 Asta': 1662, 'Honda City i DTec VX': 1663, 'Toyota Innova 2.5 EV Diesel MS 7 Str BSIII': 1664, 'Hyundai Elite i20 Sportz Plus Diesel': 1665, 'Maruti Ciaz 1.4 Sigma': 1666, 'Mahindra TUV 300 mHAWK100 T8 AMT': 1667, 'Toyota Fortuner 3.0 Diesel': 1668, 'Skoda Rapid 1.5 TDI Ambition Plus': 1669, 'Maruti Baleno Alpha CVT': 1670, 'Maruti Baleno Alpha Diesel': 1671, 'Renault Duster RXZ 110PS AMT BSIV': 1672, 'Ford Freestyle Titanium Plus Diesel BSIV': 1673, 'Honda City i DTec E': 1674, 'Honda WR-V i-DTEC VX': 1675, 'Ford EcoSport 1.5 Ti VCT AT Titanium BSIV': 1676, 'Tata Zest Quadrajet 1.3 75PS XMS': 1677, 'Mahindra TUV 300 T10': 1678, 'Honda Amaze V CVT Petrol BSIV': 1679, 'Toyota Corolla Altis D-4D J': 1680, 'Renault Triber RXZ': 1681, 'Tata Nexon 1.5 Revotorq XZ Plus': 1682, 'Toyota Corolla Altis D-4D G': 1683, 'Maruti Swift AMT VDI': 1684, 'Honda City i-VTEC CVT VX': 1685, 'Maruti Swift Dzire ZXI Plus': 1686, 'Ford Freestyle Titanium Diesel': 1687, 'Volkswagen Passat Highline DSG S (Spl. Edition)': 1688, 'Toyota Innova 2.5 GX (Diesel) 8 Seater': 1689, 'Volkswagen GTI 1.8 TSI': 1690, 'Hyundai Creta 1.6 VTVT S': 1691, 'Toyota Innova Crysta 2.5 VX BS IV': 1692, 'Hyundai i20 Active S Diesel': 1693, 'Mahindra Ssangyong Rexton RX7': 1694, 'Mercedes-Benz E-Class E270 CDI': 1695, 'Hyundai Verna 1.6 VTVT AT SX': 1696, 'Maruti S-Cross 2017-2020 Zeta DDiS 200 SH': 1697, 'Mahindra Scorpio VLX 2WD AT BSIII': 1698, 'Volkswagen Ameo 1.5 TDI Highline Plus': 1699, 'Toyota Glanza G CVT': 1700, 'Renault Lodgy Stepway 85PS RXZ 8S': 1701, 'Hyundai Elite i20 Asta Option BSIV': 1702, 'Maruti Baleno Alpha Automatic': 1703, 'Toyota Innova 2.5 VX (Diesel) 8 Seater': 1704, 'Mahindra Scorpio S4 Plus': 1705, 'Tata Nexon 1.5 Revotorq XT': 1706, 'Hyundai Elantra S': 1707, 'Audi Q7 3.0 TDI Quattro': 1708, 'Maruti Ciaz S 1.3': 1709, 'Tata Nexon 1.2 Revotron XZ Plus Dual Tone': 1710, 'Hyundai Elite i20 Asta Option Diesel': 1711, 'Hyundai Creta 1.6 CRDi Anniversary Edition': 1712, 'Renault Duster 85PS Diesel RxS': 1713, 'Honda City 1.5 V MT Sunroof': 1714, 'Hyundai Santa Fe 4X4': 1715, 'Maruti Ertiga ZDI Plus': 1716, 'Mahindra XUV500 W7': 1717, 'BMW X5 3.0d': 1718, 'Skoda Rapid 1.6 MPI AT Ambition BSIV': 1719, 'Honda BR-V i-VTEC VX MT': 1720, 'Maruti Ciaz Zeta': 1721, 'Hyundai Creta 1.6 CRDi SX': 1722, 'Toyota Innova 2.5 EV (Diesel) PS 8 Seater BS IV': 1723, 'Toyota Innova 2.5 VX (Diesel) 8 Seater BS IV': 1724, 'Honda BRV i-DTEC V MT': 1725, 'Nissan Terrano XV D Premium AMT': 1726, 'Ford EcoSport 1.5 TDCi Platinum Edition BSIV': 1727, 'Maruti Ertiga 1.5 VDI': 1728, 'Mahindra XUV500 AT W6 2WD': 1729, 'Honda BRV i-VTEC V CVT': 1730, 'Hyundai Verna CRDi 1.6 SX Option': 1731, 'Tata Hexa XE': 1732, 'Ford EcoSport 1.5 Petrol Titanium Plus BSIV': 1733, 'Hyundai Verna 1.6 CRDI AT SX Option': 1734, 'Force One EX': 1735, 'Renault Duster 110PS Diesel RxL AMT': 1736, 'Honda City i-VTEC VX': 1737, 'Mahindra XUV500 W10 2WD': 1738, 'Skoda Rapid 1.5 TDI AT Style BSIV': 1739, 'Honda City i-DTEC VX': 1740, 'Nissan Kicks XL BSIV': 1741, 'Maruti Vitara Brezza VDi AMT': 1742, 'Tata Nexon 1.5 Revotorq XZ Plus Dual Tone': 1743, 'Hyundai Verna CRDi 1.6 EX': 1744, 'Hyundai Creta 1.6 CRDi AT SX Plus': 1745, 'Renault Lodgy World Edition 110PS': 1746, 'Mahindra Scorpio Intelli Hybrid S6 Plus': 1747, 'Mahindra Scorpio S10 7 Seater': 1748, 'Ford EcoSport 1.5 Petrol Titanium BSIV': 1749, 'Volkswagen Vento 1.5 Highline Plus AT 16 Alloy': 1750, 'Maruti Ciaz 1.3 Zeta': 1751, 'BMW 5 Series 520d Sedan': 1752, 'Mahindra XUV500 W4 1.99 mHawk': 1753, 'Hyundai Creta 1.6 SX Automatic': 1754, 'Toyota Glanza V CVT': 1755, 'Mahindra Ssangyong Rexton RX5': 1756, 'Skoda Octavia Ambition 2.0 TDI MT': 1757, 'Hyundai Santa Fe 4WD AT': 1758, 'Tata Tigor 2017-2020 XZ Plus Diesel': 1759, 'Honda BR-V i-DTEC S MT': 1760, 'Maruti Ertiga ZXI Plus Petrol': 1761, 'Mahindra Thar CRDe ABS': 1762, 'Mahindra Scorpio S3 9 Seater BSIV': 1763, 'Hyundai Verna VTVT 1.6 SX': 1764, 'Renault Captur 1.5 Diesel RXT': 1765, 'Mahindra XUV500 AT W10 FWD': 1766, 'Hyundai Creta 1.6 Gamma SX Plus': 1767, 'Volkswagen Passat 2.0 TDI AT Highline': 1768, 'Maruti Vitara Brezza ZDi AMT': 1769, 'Renault Duster Petrol RXS CVT': 1770, 'Mahindra Scorpio 1.99 S10': 1771, 'Skoda Rapid Monte Carlo 1.5 TDI AT BSIV': 1772, 'Skoda Rapid 1.5 TDI Ambition BSIV': 1773, 'BMW 3 Series 320d Corporate Edition': 1774, 'Hyundai Creta 1.6 CRDi SX Plus': 1775, 'Force Gurkha Hard Top BS3 4WD': 1776, 'Hyundai Creta 1.6 SX Automatic Diesel': 1777, 'Ford EcoSport 1.5 TDCi Titanium BE BSIV': 1778, 'Honda City i VTEC VX Option BL': 1779, 'Mahindra Marazzo M2 BSIV': 1780, 'BMW X1 sDrive20d M Sport': 1781, 'Honda City i-DTEC ZX': 1782, 'Ford EcoSport 1.5 TDCi Titanium Plus BE BSIV': 1783, 'Hyundai Creta 1.4 CRDi Base': 1784, 'Mitsubishi Pajero Sport 4X4': 1785, 'Tata Nexon 1.5 Revotorq XZA Plus DualTone': 1786, 'Nissan Kicks XV BSIV': 1787, 'Mahindra XUV300 W6 Diesel BSIV': 1788, 'Tata Nexon 1.2 Revotron XZA Plus': 1789, 'Hyundai Creta 1.4 E Plus': 1790, 'Toyota Innova 2.5 VX (Diesel) 7 Seater BS IV': 1791, 'Maruti Ciaz Zeta Diesel': 1792, 'Mahindra Scorpio 1.99 S8': 1793, 'Ford EcoSport 1.5 TDCi Signature BSIV': 1794, 'Hyundai Creta 1.4 CRDi S Plus': 1795, 'Mahindra Scorpio S10 4WD': 1796, 'Toyota Innova 2.5 Z Diesel 7 Seater BS IV': 1797, 'Honda BR-V i-DTEC VX MT': 1798, 'Hyundai Verna CRDi 1.6 SX': 1799, 'Hyundai Verna CRDi 1.4 EX': 1800, 'Toyota Innova 2.5 VX 8 STR': 1801, 'Mahindra XUV300 W8': 1802, 'Toyota Innova 2.5 Z Diesel 7 Seater': 1803, 'BMW 5 Series 523i': 1804, 'Ford Endeavour 3.0L 4X4 AT': 1805, 'Mahindra XUV500 AT W6 1.99 mHawk': 1806, 'Maruti Ciaz Alpha Diesel': 1807, 'Hyundai Creta 1.6 SX Diesel': 1808, 'BMW 5 Series 520d Sport Line': 1809, 'Hyundai Verna VTVT 1.6 AT SX Option': 1810, 'Mahindra Scorpio S4 9 Seater': 1811, 'Hyundai Creta 1.4 EX Diesel': 1812, 'Toyota Yaris V BSIV': 1813, 'Hyundai Verna CRDi 1.6 AT SX Plus': 1814, 'Renault Koleos 2.0 Diesel': 1815, 'Maruti XL6 Alpha': 1816, 'Mahindra XUV300 W8 Option BSIV': 1817, 'Hyundai Verna VTVT 1.6 SX Option': 1818, 'BMW 5 Series 525d': 1819, 'Mercedes-Benz New C-Class C 250 CDI Elegance': 1820, 'Mercedes-Benz E-Class E350 Petrol': 1821, 'BMW X1 sDrive20d': 1822, 'Mahindra Marazzo M2 8Str BSIV': 1823, 'Mahindra Scorpio S5 BSIV': 1824, 'Maruti Vitara Brezza ZDi Plus AMT': 1825, 'Maruti Ciaz Delta Automatic BSIV': 1826, 'Honda City i-VTEC CVT ZX': 1827, 'Toyota Innova 2.5 ZX Diesel 7 Seater BSIII': 1828, 'Hyundai Santa Fe 2WD AT': 1829, 'Mahindra Scorpio Intelli Hybrid S10 4WD': 1830, 'Ford Endeavour Hurricane Limited Edition': 1831, 'Toyota Yaris V CVT BSIV': 1832, 'Hyundai Creta 1.6 CRDi SX Plus Dual Tone': 1833, 'Toyota Corolla Altis JS MT': 1834, 'BMW 3 Series 320d Highline': 1835, 'Mahindra XUV500 W7 BSIV': 1836, 'Hyundai Santa Fe 2WD MT': 1837, 'BMW 3 Series 320d Luxury Line': 1838, 'BMW 5 Series 520d': 1839, 'Hyundai Venue SX Plus Turbo DCT BSIV': 1840, 'Tata Nexon 1.5 Revotorq XZA Plus': 1841, 'Hyundai Creta 1.6 SX Option': 1842, 'Hyundai Verna CRDi 1.6 AT SX Option': 1843, 'Hyundai Venue SX Plus Dual Tone Turbo DCT': 1844, 'Mahindra Marazzo M6': 1845, 'Mahindra Marazzo M6 8Str': 1846, 'Tata Hexa XM': 1847, 'Volvo V40 Cross Country D3': 1848, 'Mahindra XUV500 W5 BSIV': 1849, 'Hyundai Creta 1.6 SX': 1850, 'Honda City i-DTEC V': 1851, 'Mercedes-Benz E-Class E 250 Elegance': 1852, 'Mahindra XUV300 W8 Option Diesel BSIV': 1853, 'Audi A4 2.0 TDI 177 Bhp Premium Plus': 1854, 'Tata Hexa XT': 1855, 'Nissan Kicks XV D BSIV': 1856, 'Audi Q3 2.0 TDI Quattro Premium Plus': 1857, 'Hyundai Santa Fe 4x4 AT': 1858, 'Mahindra XUV300 W8 Option Dual Tone Diesel BSIV': 1859, 'Toyota Fortuner 4x2 4 Speed AT': 1860, 'Tata Safari Storme VX Varicor 400': 1861, 'Mahindra Scorpio Intelli Hybrid S10': 1862, 'Mercedes-Benz B Class B180 Sports': 1863, 'Mitsubishi Pajero Sport Anniversary Edition': 1864, 'Isuzu D-Max V-Cross 4X4': 1865, 'Mahindra XUV500 AT W10 AWD': 1866, 'Volkswagen Vento 1.5 TDI Highline Plus AT BSIV': 1867, 'Chevrolet Trailblazer LTZ 4X2 AT': 1868, 'Tata Hexa XTA': 1869, 'Audi Q5 2.0 TDI': 1870, 'BMW 3 Series 320d Luxury Plus': 1871, 'Honda City VX CVT': 1872, 'Mahindra Scorpio S7 120': 1873, 'Jeep Compass 2.0 Limited Option': 1874, 'Mahindra XUV500 W9 2WD': 1875, 'Volkswagen Vento 1.5 TDI Highline BSIV': 1876, 'Mercedes-Benz New C-Class C 220 CDI BE Avantgare': 1877, 'Mercedes-Benz New C-Class 250 CDI Classic': 1878, 'Toyota Fortuner 4x2 Manual': 1879, 'Mercedes-Benz New C-Class 220 CDI AT': 1880, 'Toyota Corolla Altis 1.8 G': 1881, 'Mahindra XUV500 W10 1.99 mHawk': 1882, 'Toyota Fortuner 4x2 AT TRD Sportivo': 1883, 'Hyundai Creta 1.6 SX Option Executive': 1884, 'Mercedes-Benz B Class B180': 1885, 'Jeep Compass 1.4 Limited': 1886, 'Mahindra Marazzo M8': 1887, 'Toyota Innova Crysta 2.4 ZX MT BSIV': 1888, 'Mahindra Scorpio S11 BSIV': 1889, 'Toyota Innova Crysta 2.8 GX AT BSIV': 1890, 'Mahindra XUV500 W9 BSIV': 1891, 'Toyota Innova Crysta 2.4 GX MT BSIV': 1892, 'Toyota Fortuner 2.8 2WD MT': 1893, 'Toyota Fortuner 4x4 MT': 1894, 'Toyota Innova Crysta 2.7 GX AT 8 STR': 1895, 'Toyota Fortuner 4x2 AT': 1896, 'Mahindra Scorpio S11 4WD BSIV': 1897, 'Mahindra XUV500 W11 Option BSIV': 1898, 'Mahindra XUV500 AT W9 2WD': 1899, 'Toyota Innova Crysta 2.4 VX MT 8S BSIV': 1900, 'Audi A4 2.0 TDI': 1901, 'Toyota Innova Crysta 2.8 ZX AT BSIV': 1902, 'Mahindra XUV500 W11 BSIV': 1903, 'Jeep Compass 2.0 Longitude BSIV': 1904, 'Jeep Compass 2.0 Longitude Option BSIV': 1905, 'Jeep Compass 2.0 Limited': 1906, 'Kia Seltos HTX Plus AT D': 1907, 'Skoda Octavia Elegance 1.8 TSI AT': 1908, 'Mercedes-Benz E-Class E 220 CDI Avantgarde': 1909, 'Toyota Innova Crysta 2.4 VX MT BSIV': 1910, 'Mercedes-Benz E-Class E250 CDI Elegance': 1911, 'Tata Harrier XZ Dark Edition BSIV': 1912, 'Land Rover Freelander 2 TD4 HSE': 1913, 'Mahindra XUV500 W11 AT BSIV': 1914, 'Tata Harrier XZ Plus': 1915, 'Tata Harrier XZ': 1916, 'Honda CR-V 2.4L 4WD AT AVN': 1917, 'BMW 3 Series 320d Prestige': 1918, 'Toyota Innova Crysta 2.4 VX MT': 1919, 'Toyota Innova Crysta 2.4 GX MT 8S BSIV': 1920, 'Audi A6 2.0 TDI  Design Edition': 1921, 'Audi A3 40 TFSI Premium': 1922, 'Mahindra XUV500 W11 Option AWD': 1923, 'Mercedes-Benz M-Class ML 350 4Matic': 1924, 'MG Hector Smart DCT': 1925, 'Tata Harrier XZ BSIV': 1926, 'Audi A6 2.0 TDI Technology': 1927, 'MG Hector Sharp AT BSIV': 1928, 'Audi A4 35 TDI Premium Plus': 1929, 'Toyota Fortuner 4x4 AT': 1930, 'Toyota Innova Crysta 2.8 GX AT 8S BSIV': 1931, 'Jeep Compass 2.0 Limited 4X4': 1932, 'Mahindra XUV500 W10 AWD': 1933, 'BMW X3 xDrive20d': 1934, 'Audi Q5 3.0 TDI Quattro': 1935, 'Audi Q7 3.0 TDI Quattro Premium Plus': 1936, 'Mercedes-Benz GLA Class 200 CDI': 1937, 'Mercedes-Benz E-Class E250 CDI Avantgrade': 1938, 'Skoda Superb LK 1.8 TSI AT': 1939, 'Toyota Camry 2.5 Hybrid': 1940, 'MG Hector Sharp DCT Dualtone': 1941, 'Isuzu D-Max V-Cross Z Prestige': 1942, 'Toyota Innova Crysta 2.4 ZX MT': 1943, 'Volvo S60 D4 SUMMUM': 1944, 'Hyundai Tucson 2.0 e-VGT 2WD AT GLS': 1945, 'Mitsubishi Pajero Sport 4X4 Dual Tone': 1946, 'Jaguar XF 3.0 Litre S Premium Luxury': 1947, 'Toyota Fortuner 2.5 4x2 MT TRD Sportivo': 1948, 'BMW 5 Series 530d': 1949, 'Honda Civic ZX': 1950, 'Land Rover Range Rover Evoque 2.2L Pure': 1951, 'Mercedes-Benz GLA Class 200': 1952, 'Audi A6 2.0 TDI Premium Plus': 1953, 'Ford Endeavour 3.2 Titanium AT 4X4': 1954, 'Jeep Compass 1.4 Limited Plus BSIV': 1955, 'Toyota Innova Crysta 2.7 ZX AT BSIV': 1956, 'Mercedes-Benz GLA Class 200 CDI SPORT': 1957, 'Ford Endeavour 2.2 Titanium AT 4X2': 1958, 'Honda Civic ZX Diesel BSIV': 1959, 'BMW X1 sDrive 20D xLine': 1960, 'Volkswagen Multivan TDI': 1961, 'Jeep Compass 2.0 Limited Plus 4X4': 1962, 'Audi A6 2.0 TDI': 1963, 'Audi Q3 35 TDI Quattro Technology': 1964, 'Jaguar XF 2.2 Litre Luxury': 1965, 'Volvo V40 D3 R-Design': 1966, 'BMW X1 sDrive20i xLine': 1967, 'Jaguar XF Diesel': 1968, 'Mercedes-Benz CLA 200 CGI Sport': 1969, 'Audi A3 35 TDI Premium Plus': 1970, 'Skoda Octavia Style Plus 2.0 TDI AT': 1971, 'BMW 3 Series 320d Luxury Line Plus': 1972, 'Mercedes-Benz M-Class ML 250 CDI': 1973, 'Jaguar XE 2016-2019 2.0L Diesel Prestige': 1974, 'Mercedes-Benz E-Class E250 Edition E': 1975, 'Mercedes-Benz New C-Class C 200 AVANTGARDE': 1976, 'Isuzu MUX 2WD': 1977, 'Audi Q5 45 TDI quattro Technology': 1978, 'Audi Q3 35 TDI Quattro Premium Plus': 1979, 'Skoda Kodiaq 2.0 TDI Style': 1980, 'BMW 5 Series 520d Luxury Line': 1981, 'Mercedes-Benz E-Class E250 CDI Avantgarde': 1982, 'Toyota Fortuner 2.8 2WD AT BSIV': 1983, 'Toyota Fortuner 2.8 2WD MT BSIV': 1984, 'Mercedes-Benz New C-Class C 220 CDI Elegance MT': 1985, 'Toyota Fortuner 2.8 4WD AT BSIV': 1986, 'BMW 3 Series 320d GT Luxury Line': 1987, 'BMW 3 Series GT Luxury Line': 1988, 'Jaguar XF 2.0 Diesel Portfolio': 1989, 'Toyota Fortuner 2.8 4WD MT BSIV': 1990, 'BMW 3 Series 320d': 1991, 'Mercedes-Benz GL-Class 350 CDI Blue Efficiency': 1992, 'Volvo XC40 D4 R-Design': 1993, 'Toyota Land Cruiser Prado VX L': 1994, 'BMW X6 xDrive30d': 1995, 'Volvo XC40 D4 Inscription BSIV': 1996, 'Audi Q5 35TDI Premium Plus': 1997, 'Jeep Wrangler 2016-2019 3.6 4X4': 1998, 'Land Rover Discovery Sport TD4 SE': 1999, 'Mercedes-Benz GL-Class 220d 4MATIC Sport': 2000, 'Lexus ES 300h': 2001, 'Mercedes-Benz E-Class Exclusive E 200 BSIV': 2002, 'BMW X4 M Sport X xDrive20d': 2003, 'BMW 6 Series GT 630d Luxury Line': 2004, 'Volvo XC60 Inscription D5 BSIV': 2005, 'Volvo S90 D4 Inscription BSIV': 2006, 'Mercedes-Benz S-Class S 350 CDI': 2007}\n"
          ]
        }
      ]
    },
    {
      "cell_type": "markdown",
      "source": [
        "# Implement the biased random walk"
      ],
      "metadata": {
        "id": "cEULEyum4j7O"
      }
    },
    {
      "cell_type": "code",
      "source": [
        "def next_step(graph, previous, current, p, q):\n",
        "    neighbors = list(graph.neighbors(current))   \n",
        "\n",
        "    weights = []        \n",
        "    \n",
        "    # Adjust the weights of the edges to the neighbors with respect to p and q.\n",
        "    for neighbor in neighbors:\n",
        "        if neighbor == previous:\n",
        "            # Control the probability to return to the previous node.\n",
        "            weights.append(graph[current][neighbor][\"weight\"] / p)\n",
        "        elif graph.has_edge(neighbor, previous):\n",
        "            # The probability of visiting a local node.\n",
        "            weights.append(graph[current][neighbor][\"weight\"])\n",
        "        else:\n",
        "            # Control the probability to move forward.\n",
        "            weights.append(graph[current][neighbor][\"weight\"] / q)\n",
        "\n",
        "    # Compute the probabilities of visiting each neighbor.\n",
        "    weight_sum = sum(weights)\n",
        "    probabilities = [weight / weight_sum for weight in weights]\n",
        "    # Probabilistically select a neighbor to visit.\n",
        "    next = np.random.choice(neighbors, size=1, p=probabilities)[0]\n",
        "    return next\n",
        "\n",
        "\n",
        "def random_walk(graph, num_walks, num_steps, p, q):\n",
        "    walks = []\n",
        "    nodes = list(graph.nodes())\n",
        "    # Perform multiple iterations of the random walk.\n",
        "    for walk_iteration in range(num_walks):\n",
        "        random.shuffle(nodes)\n",
        "\n",
        "        for node in tqdm(\n",
        "            nodes,\n",
        "            position=0,\n",
        "            leave=True,\n",
        "            desc=f\"Random walks iteration {walk_iteration + 1} of {num_walks}\",\n",
        "        ):\n",
        "            # Start the walk with a random node from the graph.\n",
        "            walk = [node]\n",
        "            # Randomly walk for num_steps.\n",
        "            while len(walk) < num_steps:\n",
        "                current = walk[-1]\n",
        "                previous = walk[-2] if len(walk) > 1 else None\n",
        "                # Compute the next node to visit.\n",
        "                next = next_step(graph, previous, current, p, q)\n",
        "                walk.append(next)\n",
        "            # Replace node ids in the walk with token ids.\n",
        "            walk = [vocabulary_lookup[token] for token in walk]\n",
        "            # Add the walk to the generated sequence.\n",
        "            walks.append(walk)\n",
        "\n",
        "    return walks"
      ],
      "metadata": {
        "id": "XcVK3AXriouA"
      },
      "execution_count": null,
      "outputs": []
    },
    {
      "cell_type": "markdown",
      "source": [
        "# Generate training data using the biased random walk"
      ],
      "metadata": {
        "id": "5ZgvhTsn48Al"
      }
    },
    {
      "cell_type": "code",
      "source": [
        "# Random walk return parameter.\n",
        "p = 1\n",
        "# Random walk in-out parameter.\n",
        "q = 1\n",
        "# Number of iterations of random walks.\n",
        "num_walks = 5\n",
        "# Number of steps of each random walk.\n",
        "num_steps = 10\n",
        "walks = random_walk(cars_graph, num_walks, num_steps, p, q)\n",
        "\n",
        "print(\"Number of walks generated:\", len(walks))\n"
      ],
      "metadata": {
        "colab": {
          "base_uri": "https://localhost:8080/"
        },
        "id": "l2Od_6Aj4w2k",
        "outputId": "ce918152-907c-44a4-913d-c36e0469876a"
      },
      "execution_count": null,
      "outputs": [
        {
          "output_type": "stream",
          "name": "stderr",
          "text": [
            "Random walks iteration 1 of 5: 100%|██████████| 2007/2007 [00:10<00:00, 191.18it/s]\n",
            "Random walks iteration 2 of 5: 100%|██████████| 2007/2007 [00:10<00:00, 197.40it/s]\n",
            "Random walks iteration 3 of 5: 100%|██████████| 2007/2007 [00:10<00:00, 197.51it/s]\n",
            "Random walks iteration 4 of 5: 100%|██████████| 2007/2007 [00:11<00:00, 176.90it/s]\n",
            "Random walks iteration 5 of 5: 100%|██████████| 2007/2007 [00:10<00:00, 195.61it/s]"
          ]
        },
        {
          "output_type": "stream",
          "name": "stdout",
          "text": [
            "Number of walks generated: 10035\n"
          ]
        },
        {
          "output_type": "stream",
          "name": "stderr",
          "text": [
            "\n"
          ]
        }
      ]
    },
    {
      "cell_type": "code",
      "source": [
        "print(\"Number of nodes in walk number 1:\", len(walks[0]))\n",
        "print(\"Number of nodes in walk number 7025:\", len(walks[7024]))"
      ],
      "metadata": {
        "colab": {
          "base_uri": "https://localhost:8080/"
        },
        "id": "kMqa-Trtrxar",
        "outputId": "08091fb0-ad32-47e4-a297-122bb128e731"
      },
      "execution_count": null,
      "outputs": [
        {
          "output_type": "stream",
          "name": "stdout",
          "text": [
            "Number of nodes in walk number 1: 10\n",
            "Number of nodes in walk number 7025: 10\n"
          ]
        }
      ]
    },
    {
      "cell_type": "code",
      "source": [
        "for i in range(10):\n",
        "  print(walks[i])"
      ],
      "metadata": {
        "colab": {
          "base_uri": "https://localhost:8080/"
        },
        "id": "mL5UUlffuC8Y",
        "outputId": "9fd7b1b4-ac26-4409-cbb9-b7cf69f33e83"
      },
      "execution_count": null,
      "outputs": [
        {
          "output_type": "stream",
          "name": "stdout",
          "text": [
            "[1665, 1651, 884, 956, 540, 863, 467, 735, 939, 735]\n",
            "[895, 660, 702, 353, 359, 444, 70, 255, 556, 673]\n",
            "[551, 522, 588, 553, 592, 416, 347, 322, 138, 88]\n",
            "[1439, 674, 754, 1104, 1090, 450, 1058, 1076, 897, 1390]\n",
            "[66, 67, 32, 58, 9, 7, 255, 790, 884, 1656]\n",
            "[1870, 1771, 1747, 1801, 1371, 1357, 1083, 869, 1214, 1443]\n",
            "[412, 224, 46, 193, 199, 201, 647, 603, 407, 595]\n",
            "[901, 677, 677, 864, 892, 947, 793, 1764, 1790, 1579]\n",
            "[128, 140, 358, 356, 538, 375, 182, 224, 435, 264]\n",
            "[1902, 1936, 1910, 1785, 1910, 1905, 1910, 1894, 1923, 1925]\n"
          ]
        }
      ]
    },
    {
      "cell_type": "markdown",
      "source": [
        "# Generate positive and negative examples"
      ],
      "metadata": {
        "id": "HrPSY1I05Y-i"
      }
    },
    {
      "cell_type": "code",
      "source": [
        "def generate_examples(sequences, window_size, num_negative_samples, vocabulary_size):\n",
        "    example_weights = defaultdict(int)\n",
        "    # Iterate over all sequences (walks).\n",
        "    for sequence in tqdm(\n",
        "        sequences,\n",
        "        position=0,\n",
        "        leave=True,\n",
        "        desc=f\"Generating postive and negative examples\",\n",
        "    ):\n",
        "        # Generate positive and negative skip-gram pairs for a sequence (walk).\n",
        "        pairs, labels = keras.preprocessing.sequence.skipgrams(\n",
        "            sequence,\n",
        "            vocabulary_size=vocabulary_size,\n",
        "            window_size=window_size,\n",
        "            negative_samples=num_negative_samples,\n",
        "        )\n",
        "        for idx in range(len(pairs)):\n",
        "            pair = pairs[idx]\n",
        "            label = labels[idx]\n",
        "            target, context = min(pair[0], pair[1]), max(pair[0], pair[1])\n",
        "            if target == context:\n",
        "                continue\n",
        "            entry = (target, context, label)\n",
        "            example_weights[entry] += 1\n",
        "\n",
        "    targets, contexts, labels, weights = [], [], [], []\n",
        "    for entry in example_weights:\n",
        "        weight = example_weights[entry]\n",
        "        target, context, label = entry\n",
        "        targets.append(target)\n",
        "        contexts.append(context)\n",
        "        labels.append(label)\n",
        "        weights.append(weight)\n",
        "\n",
        "    return np.array(targets), np.array(contexts), np.array(labels), np.array(weights)\n",
        "\n",
        "\n",
        "num_negative_samples = 4\n",
        "targets, contexts, labels, weights = generate_examples(\n",
        "    sequences=walks,\n",
        "    window_size=num_steps,\n",
        "    num_negative_samples=num_negative_samples,\n",
        "    vocabulary_size=len(vocabulary),\n",
        ")"
      ],
      "metadata": {
        "colab": {
          "base_uri": "https://localhost:8080/"
        },
        "id": "aSxfggoJ5d_o",
        "outputId": "98c93f0a-2deb-4528-a147-e9c0a4d3ce4f"
      },
      "execution_count": null,
      "outputs": [
        {
          "output_type": "stream",
          "name": "stderr",
          "text": [
            "Generating postive and negative examples: 100%|██████████| 10035/10035 [00:21<00:00, 460.69it/s]\n"
          ]
        }
      ]
    },
    {
      "cell_type": "markdown",
      "source": [
        "##### Let's display the shapes of the outputs"
      ],
      "metadata": {
        "id": "zZ8noatrfKMA"
      }
    },
    {
      "cell_type": "code",
      "source": [
        "print(f\"Targets shape: {targets.shape}\")\n",
        "print(f\"Contexts shape: {contexts.shape}\")\n",
        "print(f\"Labels shape: {labels.shape}\")\n",
        "print(f\"Weights shape: {weights.shape}\")"
      ],
      "metadata": {
        "colab": {
          "base_uri": "https://localhost:8080/"
        },
        "id": "QrGFeLvH6dd6",
        "outputId": "6642c871-6ed8-46b3-9345-05278c0071ae"
      },
      "execution_count": null,
      "outputs": [
        {
          "output_type": "stream",
          "name": "stdout",
          "text": [
            "Targets shape: (1801000,)\n",
            "Contexts shape: (1801000,)\n",
            "Labels shape: (1801000,)\n",
            "Weights shape: (1801000,)\n"
          ]
        }
      ]
    },
    {
      "cell_type": "markdown",
      "source": [
        "### Convert the data into tf.data.Dataset objects"
      ],
      "metadata": {
        "id": "ti9txf4T6kcT"
      }
    },
    {
      "cell_type": "code",
      "source": [
        "batch_size = 1024\n",
        "\n",
        "\n",
        "def create_dataset(targets, contexts, labels, weights, batch_size):\n",
        "    inputs = {\n",
        "        \"target\": targets,\n",
        "        \"context\": contexts,\n",
        "    }\n",
        "    dataset = tf.data.Dataset.from_tensor_slices((inputs, labels, weights))\n",
        "    dataset = dataset.shuffle(buffer_size=batch_size * 2)\n",
        "    dataset = dataset.batch(batch_size, drop_remainder=True)\n",
        "    dataset = dataset.prefetch(tf.data.AUTOTUNE)\n",
        "    return dataset\n",
        "\n",
        "\n",
        "dataset = create_dataset(\n",
        "    targets=targets,\n",
        "    contexts=contexts,\n",
        "    labels=labels,\n",
        "    weights=weights,\n",
        "    batch_size=batch_size,\n",
        ")\n"
      ],
      "metadata": {
        "id": "qBa9VGAk6eUi"
      },
      "execution_count": null,
      "outputs": []
    },
    {
      "cell_type": "markdown",
      "source": [
        "# Train the skip-gram model"
      ],
      "metadata": {
        "id": "4mi8HMGY6uZY"
      }
    },
    {
      "cell_type": "code",
      "source": [
        "learning_rate = 0.001\n",
        "embedding_dim = 50\n",
        "num_epochs = 10"
      ],
      "metadata": {
        "id": "yaif4xm-6v5j"
      },
      "execution_count": null,
      "outputs": []
    },
    {
      "cell_type": "markdown",
      "source": [],
      "metadata": {
        "id": "5N8R6IYW7GC9"
      }
    },
    {
      "cell_type": "markdown",
      "source": [
        "### Implement the model"
      ],
      "metadata": {
        "id": "cRcYEcBV7GKK"
      }
    },
    {
      "cell_type": "code",
      "source": [
        "def create_model(vocabulary_size, embedding_dim):\n",
        "\n",
        "    inputs = {\n",
        "        \"target\": layers.Input(name=\"target\", shape=(), dtype=\"int32\"),\n",
        "        \"context\": layers.Input(name=\"context\", shape=(), dtype=\"int32\"),\n",
        "    }\n",
        "    # Initialize item embeddings.\n",
        "    embed_item = layers.Embedding(\n",
        "        input_dim=vocabulary_size,\n",
        "        output_dim=embedding_dim,\n",
        "        embeddings_initializer=\"he_normal\",\n",
        "        embeddings_regularizer=keras.regularizers.l2(1e-6),\n",
        "        name=\"item_embeddings\",\n",
        "    )\n",
        "    # Lookup embeddings for target.\n",
        "    target_embeddings = embed_item(inputs[\"target\"])\n",
        "    # Lookup embeddings for context.\n",
        "    context_embeddings = embed_item(inputs[\"context\"])\n",
        "    # Compute dot similarity between target and context embeddings.\n",
        "    logits = layers.Dot(axes=1, normalize=False, name=\"dot_similarity\")(\n",
        "        [target_embeddings, context_embeddings]\n",
        "    )\n",
        "    # Create the model.\n",
        "    model = keras.Model(inputs=inputs, outputs=logits)\n",
        "    return model"
      ],
      "metadata": {
        "id": "xNzziJhN7EF7"
      },
      "execution_count": null,
      "outputs": []
    },
    {
      "cell_type": "markdown",
      "source": [
        "### Train the model"
      ],
      "metadata": {
        "id": "hCRZpC5H7PBG"
      }
    },
    {
      "cell_type": "code",
      "source": [
        "model = create_model(len(vocabulary), embedding_dim)\n",
        "model.compile(\n",
        "    optimizer=keras.optimizers.Adam(learning_rate),\n",
        "    loss=keras.losses.BinaryCrossentropy(from_logits=True),\n",
        ")"
      ],
      "metadata": {
        "id": "2jWgsscA7LZO"
      },
      "execution_count": null,
      "outputs": []
    },
    {
      "cell_type": "code",
      "source": [
        "keras.utils.plot_model(\n",
        "    model,\n",
        "    show_shapes=True,\n",
        "    show_dtype=True,\n",
        "    show_layer_names=True,\n",
        ")"
      ],
      "metadata": {
        "colab": {
          "base_uri": "https://localhost:8080/",
          "height": 404
        },
        "id": "GPXuJzvH7RqJ",
        "outputId": "b75071a3-8e67-4338-a41d-4050fe052393"
      },
      "execution_count": null,
      "outputs": [
        {
          "output_type": "execute_result",
          "data": {
            "image/png": "[encoded data removed]",
            "text/plain": [
              "<IPython.core.display.Image object>"
            ]
          },
          "metadata": {},
          "execution_count": 26
        }
      ]
    },
    {
      "cell_type": "code",
      "source": [
        "history = model.fit(dataset, epochs=num_epochs)"
      ],
      "metadata": {
        "colab": {
          "base_uri": "https://localhost:8080/"
        },
        "id": "o7HKff-77VLq",
        "outputId": "1a10d08a-47f0-41c0-ab37-213f3e2bc24e"
      },
      "execution_count": null,
      "outputs": [
        {
          "output_type": "stream",
          "name": "stdout",
          "text": [
            "Epoch 1/10\n",
            "1758/1758 [==============================] - 13s 7ms/step - loss: 1.7165\n",
            "Epoch 2/10\n",
            "1758/1758 [==============================] - 14s 8ms/step - loss: 1.6775\n",
            "Epoch 3/10\n",
            "1758/1758 [==============================] - 13s 7ms/step - loss: 1.6702\n",
            "Epoch 4/10\n",
            "1758/1758 [==============================] - 13s 7ms/step - loss: 1.6639\n",
            "Epoch 5/10\n",
            "1758/1758 [==============================] - 13s 7ms/step - loss: 1.6594\n",
            "Epoch 6/10\n",
            "1758/1758 [==============================] - 13s 7ms/step - loss: 1.6558\n",
            "Epoch 7/10\n",
            "1758/1758 [==============================] - 14s 8ms/step - loss: 1.6524\n",
            "Epoch 8/10\n",
            "1758/1758 [==============================] - 13s 7ms/step - loss: 1.6490\n",
            "Epoch 9/10\n",
            "1758/1758 [==============================] - 13s 7ms/step - loss: 1.6458\n",
            "Epoch 10/10\n",
            "1758/1758 [==============================] - 13s 7ms/step - loss: 1.6427\n"
          ]
        }
      ]
    },
    {
      "cell_type": "code",
      "source": [
        "plt.plot(history.history[\"loss\"])\n",
        "plt.ylabel(\"loss\")\n",
        "plt.xlabel(\"epoch\")\n",
        "plt.show()"
      ],
      "metadata": {
        "colab": {
          "base_uri": "https://localhost:8080/",
          "height": 283
        },
        "id": "aTgRi6n-7gTX",
        "outputId": "a3839407-0177-4ef2-b7f7-79e3a0ce6946"
      },
      "execution_count": null,
      "outputs": [
        {
          "output_type": "display_data",
          "data": {
            "text/plain": [
              "<Figure size 432x288 with 1 Axes>"
            ],
            "image/png": "[encoded data removed]"
          },
          "metadata": {
            "needs_background": "light"
          }
        }
      ]
    },
    {
      "cell_type": "markdown",
      "source": [
        "# Analyze the learnt embeddings"
      ],
      "metadata": {
        "id": "tE6grwIO7-AH"
      }
    },
    {
      "cell_type": "code",
      "source": [
        "car_embeddings = model.get_layer(\"item_embeddings\").get_weights()[0]\n",
        "print(\"Embeddings shape:\", car_embeddings.shape)"
      ],
      "metadata": {
        "colab": {
          "base_uri": "https://localhost:8080/"
        },
        "id": "Cu30SMZE71b8",
        "outputId": "de202882-4b7e-4388-cb84-1f5e8066f6af"
      },
      "execution_count": null,
      "outputs": [
        {
          "output_type": "stream",
          "name": "stdout",
          "text": [
            "Embeddings shape: (2008, 50)\n"
          ]
        }
      ]
    },
    {
      "cell_type": "markdown",
      "source": [
        "### Find similair cars"
      ],
      "metadata": {
        "id": "OX8x5ZQ-8Dcd"
      }
    },
    {
      "cell_type": "code",
      "source": [
        "query_cars = [\n",
        "    \"Audi A6 2.0 TDI  Design Edition\"\n",
        "]"
      ],
      "metadata": {
        "id": "WiCnzEe874CY"
      },
      "execution_count": null,
      "outputs": []
    },
    {
      "cell_type": "code",
      "source": [
        "query_embeddings = []\n",
        "\n",
        "for name in query_cars:\n",
        "    token_id = vocabulary_lookup[name]\n",
        "    car_embedding = car_embeddings[token_id]\n",
        "    query_embeddings.append(car_embedding)\n",
        "\n",
        "query_embeddings = np.array(query_embeddings)"
      ],
      "metadata": {
        "id": "Ct-oL5eu8JFv"
      },
      "execution_count": null,
      "outputs": []
    },
    {
      "cell_type": "code",
      "source": [
        "similarities = tf.linalg.matmul(\n",
        "    tf.math.l2_normalize(query_embeddings),\n",
        "    tf.math.l2_normalize(car_embeddings),\n",
        "    transpose_b=True,\n",
        ")\n",
        "\n",
        "_, indices = tf.math.top_k(similarities, k=5)\n",
        "indices = indices.numpy().tolist()"
      ],
      "metadata": {
        "id": "KM9gEC8X85qt"
      },
      "execution_count": null,
      "outputs": []
    },
    {
      "cell_type": "code",
      "source": [
        "for idx, title in enumerate(query_cars):\n",
        "    print(title)\n",
        "    print(\"\".rjust(len(title), \"-\"))\n",
        "    similar_tokens = indices[idx]\n",
        "    for token in similar_tokens:\n",
        "        similar_car_name = vocabulary[token]\n",
        "        print(f\"- {similar_car_name}\")\n",
        "    print()"
      ],
      "metadata": {
        "colab": {
          "base_uri": "https://localhost:8080/"
        },
        "id": "hqje0vre89ND",
        "outputId": "61f3e914-2189-4fab-b68e-745d636c4c8d"
      },
      "execution_count": null,
      "outputs": [
        {
          "output_type": "stream",
          "name": "stdout",
          "text": [
            "Audi A6 2.0 TDI  Design Edition\n",
            "-------------------------------\n",
            "- Audi A6 2.0 TDI  Design Edition\n",
            "- Jeep Compass 2.0 Longitude Option BSIV\n",
            "- MG Hector Smart DCT\n",
            "- Skoda Octavia Elegance 1.8 TSI AT\n",
            "- Toyota Fortuner 2.8 2WD MT\n",
            "\n"
          ]
        }
      ]
    }
  ],
  "metadata": {
    "colab": {
      "provenance": []
    },
    "kernelspec": {
      "display_name": "Python 3",
      "name": "python3"
    },
    "language_info": {
      "name": "python"
    }
  },
  "nbformat": 4,
  "nbformat_minor": 0
}