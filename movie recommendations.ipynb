{
  "cells": [
    {
      "cell_type": "code",
      "execution_count": null,
      "metadata": {
        "colab": {
          "base_uri": "https://localhost:8080/"
        },
        "id": "xoq2ft3dD5WT",
        "outputId": "dd5303fc-f0a8-4b14-aaf8-b9ab8027b186"
      },
      "outputs": [
        {
          "output_type": "stream",
          "name": "stdout",
          "text": [
            "Looking in indexes: https://pypi.org/simple, https://us-python.pkg.dev/colab-wheels/public/simple/\n",
            "Requirement already satisfied: networkx in /usr/local/lib/python3.7/dist-packages (2.6.3)\n"
          ]
        }
      ],
      "source": [
        "pip install networkx"
      ]
    },
    {
      "cell_type": "code",
      "execution_count": null,
      "metadata": {
        "id": "SINJ3ot5EHYd"
      },
      "outputs": [],
      "source": [
        "import os\n",
        "from collections import defaultdict\n",
        "import math\n",
        "import networkx as nx\n",
        "import random\n",
        "from tqdm import tqdm\n",
        "from zipfile import ZipFile\n",
        "from urllib.request import urlretrieve\n",
        "import numpy as np\n",
        "import pandas as pd\n",
        "import tensorflow as tf\n",
        "from tensorflow import keras\n",
        "from tensorflow.keras import layers\n",
        "import matplotlib.pyplot as plt"
      ]
    },
    {
      "cell_type": "code",
      "execution_count": null,
      "metadata": {
        "id": "R4uV968sExg0"
      },
      "outputs": [],
      "source": [
        "urlretrieve(\n",
        "    \"http://files.grouplens.org/datasets/movielens/ml-latest-small.zip\", \"movielens.zip\"\n",
        ")\n",
        "ZipFile(\"movielens.zip\", \"r\").extractall()"
      ]
    },
    {
      "cell_type": "code",
      "execution_count": null,
      "metadata": {
        "id": "2dkuvXDWGS14",
        "colab": {
          "base_uri": "https://localhost:8080/"
        },
        "outputId": "6ed758d6-c9c6-428b-ec5c-b7a06a4b2d5f"
      },
      "outputs": [
        {
          "output_type": "stream",
          "name": "stdout",
          "text": [
            "Movies data shape: (9742, 3)\n",
            "Ratings data shape: (100836, 4)\n"
          ]
        }
      ],
      "source": [
        "# Load movies to a DataFrame.\n",
        "movies = pd.read_csv(\"ml-latest-small/movies.csv\")\n",
        "# Create a `movieId` string.\n",
        "movies[\"movieId\"] = movies[\"movieId\"].apply(lambda x: f\"movie_{x}\")\n",
        "\n",
        "# Load ratings to a DataFrame.\n",
        "ratings = pd.read_csv(\"ml-latest-small/ratings.csv\")\n",
        "# Convert the `ratings` to floating point\n",
        "ratings[\"rating\"] = ratings[\"rating\"].apply(lambda x: float(x))\n",
        "# Create the `movie_id` string.\n",
        "ratings[\"movieId\"] = ratings[\"movieId\"].apply(lambda x: f\"movie_{x}\")\n",
        "\n",
        "print(\"Movies data shape:\", movies.shape)\n",
        "print(\"Ratings data shape:\", ratings.shape)"
      ]
    },
    {
      "cell_type": "code",
      "execution_count": null,
      "metadata": {
        "colab": {
          "base_uri": "https://localhost:8080/",
          "height": 206
        },
        "id": "-Ub5Bv6wGd78",
        "outputId": "90bae85d-a7e2-4723-b105-e2327ad8b6b5"
      },
      "outputs": [
        {
          "output_type": "execute_result",
          "data": {
            "text/plain": [
              "   userId   movieId  rating  timestamp\n",
              "0       1   movie_1     4.0  964982703\n",
              "1       1   movie_3     4.0  964981247\n",
              "2       1   movie_6     4.0  964982224\n",
              "3       1  movie_47     5.0  964983815\n",
              "4       1  movie_50     5.0  964982931"
            ],
            "text/html": [
              "\n",
              "  <div id=\"df-431eaeeb-3525-4a3f-884b-66025a680996\">\n",
              "    <div class=\"colab-df-container\">\n",
              "      <div>\n",
              "<style scoped>\n",
              "    .dataframe tbody tr th:only-of-type {\n",
              "        vertical-align: middle;\n",
              "    }\n",
              "\n",
              "    .dataframe tbody tr th {\n",
              "        vertical-align: top;\n",
              "    }\n",
              "\n",
              "    .dataframe thead th {\n",
              "        text-align: right;\n",
              "    }\n",
              "</style>\n",
              "<table border=\"1\" class=\"dataframe\">\n",
              "  <thead>\n",
              "    <tr style=\"text-align: right;\">\n",
              "      <th></th>\n",
              "      <th>userId</th>\n",
              "      <th>movieId</th>\n",
              "      <th>rating</th>\n",
              "      <th>timestamp</th>\n",
              "    </tr>\n",
              "  </thead>\n",
              "  <tbody>\n",
              "    <tr>\n",
              "      <th>0</th>\n",
              "      <td>1</td>\n",
              "      <td>movie_1</td>\n",
              "      <td>4.0</td>\n",
              "      <td>964982703</td>\n",
              "    </tr>\n",
              "    <tr>\n",
              "      <th>1</th>\n",
              "      <td>1</td>\n",
              "      <td>movie_3</td>\n",
              "      <td>4.0</td>\n",
              "      <td>964981247</td>\n",
              "    </tr>\n",
              "    <tr>\n",
              "      <th>2</th>\n",
              "      <td>1</td>\n",
              "      <td>movie_6</td>\n",
              "      <td>4.0</td>\n",
              "      <td>964982224</td>\n",
              "    </tr>\n",
              "    <tr>\n",
              "      <th>3</th>\n",
              "      <td>1</td>\n",
              "      <td>movie_47</td>\n",
              "      <td>5.0</td>\n",
              "      <td>964983815</td>\n",
              "    </tr>\n",
              "    <tr>\n",
              "      <th>4</th>\n",
              "      <td>1</td>\n",
              "      <td>movie_50</td>\n",
              "      <td>5.0</td>\n",
              "      <td>964982931</td>\n",
              "    </tr>\n",
              "  </tbody>\n",
              "</table>\n",
              "</div>\n",
              "      <button class=\"colab-df-convert\" onclick=\"convertToInteractive('df-431eaeeb-3525-4a3f-884b-66025a680996')\"\n",
              "              title=\"Convert this dataframe to an interactive table.\"\n",
              "              style=\"display:none;\">\n",
              "        \n",
              "  <svg xmlns=\"http://www.w3.org/2000/svg\" height=\"24px\"viewBox=\"0 0 24 24\"\n",
              "       width=\"24px\">\n",
              "    <path d=\"M0 0h24v24H0V0z\" fill=\"none\"/>\n",
              "    <path d=\"M18.56 5.44l.94 2.06.94-2.06 2.06-.94-2.06-.94-.94-2.06-.94 2.06-2.06.94zm-11 1L8.5 8.5l.94-2.06 2.06-.94-2.06-.94L8.5 2.5l-.94 2.06-2.06.94zm10 10l.94 2.06.94-2.06 2.06-.94-2.06-.94-.94-2.06-.94 2.06-2.06.94z\"/><path d=\"M17.41 7.96l-1.37-1.37c-.4-.4-.92-.59-1.43-.59-.52 0-1.04.2-1.43.59L10.3 9.45l-7.72 7.72c-.78.78-.78 2.05 0 2.83L4 21.41c.39.39.9.59 1.41.59.51 0 1.02-.2 1.41-.59l7.78-7.78 2.81-2.81c.8-.78.8-2.07 0-2.86zM5.41 20L4 18.59l7.72-7.72 1.47 1.35L5.41 20z\"/>\n",
              "  </svg>\n",
              "      </button>\n",
              "      \n",
              "  <style>\n",
              "    .colab-df-container {\n",
              "      display:flex;\n",
              "      flex-wrap:wrap;\n",
              "      gap: 12px;\n",
              "    }\n",
              "\n",
              "    .colab-df-convert {\n",
              "      background-color: #E8F0FE;\n",
              "      border: none;\n",
              "      border-radius: 50%;\n",
              "      cursor: pointer;\n",
              "      display: none;\n",
              "      fill: #1967D2;\n",
              "      height: 32px;\n",
              "      padding: 0 0 0 0;\n",
              "      width: 32px;\n",
              "    }\n",
              "\n",
              "    .colab-df-convert:hover {\n",
              "      background-color: #E2EBFA;\n",
              "      box-shadow: 0px 1px 2px rgba(60, 64, 67, 0.3), 0px 1px 3px 1px rgba(60, 64, 67, 0.15);\n",
              "      fill: #174EA6;\n",
              "    }\n",
              "\n",
              "    [theme=dark] .colab-df-convert {\n",
              "      background-color: #3B4455;\n",
              "      fill: #D2E3FC;\n",
              "    }\n",
              "\n",
              "    [theme=dark] .colab-df-convert:hover {\n",
              "      background-color: #434B5C;\n",
              "      box-shadow: 0px 1px 3px 1px rgba(0, 0, 0, 0.15);\n",
              "      filter: drop-shadow(0px 1px 2px rgba(0, 0, 0, 0.3));\n",
              "      fill: #FFFFFF;\n",
              "    }\n",
              "  </style>\n",
              "\n",
              "      <script>\n",
              "        const buttonEl =\n",
              "          document.querySelector('#df-431eaeeb-3525-4a3f-884b-66025a680996 button.colab-df-convert');\n",
              "        buttonEl.style.display =\n",
              "          google.colab.kernel.accessAllowed ? 'block' : 'none';\n",
              "\n",
              "        async function convertToInteractive(key) {\n",
              "          const element = document.querySelector('#df-431eaeeb-3525-4a3f-884b-66025a680996');\n",
              "          const dataTable =\n",
              "            await google.colab.kernel.invokeFunction('convertToInteractive',\n",
              "                                                     [key], {});\n",
              "          if (!dataTable) return;\n",
              "\n",
              "          const docLinkHtml = 'Like what you see? Visit the ' +\n",
              "            '<a target=\"_blank\" href=https://colab.research.google.com/notebooks/data_table.ipynb>data table notebook</a>'\n",
              "            + ' to learn more about interactive tables.';\n",
              "          element.innerHTML = '';\n",
              "          dataTable['output_type'] = 'display_data';\n",
              "          await google.colab.output.renderOutput(dataTable, element);\n",
              "          const docLink = document.createElement('div');\n",
              "          docLink.innerHTML = docLinkHtml;\n",
              "          element.appendChild(docLink);\n",
              "        }\n",
              "      </script>\n",
              "    </div>\n",
              "  </div>\n",
              "  "
            ]
          },
          "metadata": {},
          "execution_count": 5
        }
      ],
      "source": [
        "ratings.head()"
      ]
    },
    {
      "cell_type": "code",
      "execution_count": null,
      "metadata": {
        "colab": {
          "base_uri": "https://localhost:8080/",
          "height": 206
        },
        "id": "pCFQiKS3O9rC",
        "outputId": "622a3d5e-51e7-4e08-bb1a-158f366d7306"
      },
      "outputs": [
        {
          "output_type": "execute_result",
          "data": {
            "text/plain": [
              "   movieId                               title  \\\n",
              "0  movie_1                    Toy Story (1995)   \n",
              "1  movie_2                      Jumanji (1995)   \n",
              "2  movie_3             Grumpier Old Men (1995)   \n",
              "3  movie_4            Waiting to Exhale (1995)   \n",
              "4  movie_5  Father of the Bride Part II (1995)   \n",
              "\n",
              "                                        genres  \n",
              "0  Adventure|Animation|Children|Comedy|Fantasy  \n",
              "1                   Adventure|Children|Fantasy  \n",
              "2                               Comedy|Romance  \n",
              "3                         Comedy|Drama|Romance  \n",
              "4                                       Comedy  "
            ],
            "text/html": [
              "\n",
              "  <div id=\"df-e1c2545d-b826-42a3-9bfb-b068d917360d\">\n",
              "    <div class=\"colab-df-container\">\n",
              "      <div>\n",
              "<style scoped>\n",
              "    .dataframe tbody tr th:only-of-type {\n",
              "        vertical-align: middle;\n",
              "    }\n",
              "\n",
              "    .dataframe tbody tr th {\n",
              "        vertical-align: top;\n",
              "    }\n",
              "\n",
              "    .dataframe thead th {\n",
              "        text-align: right;\n",
              "    }\n",
              "</style>\n",
              "<table border=\"1\" class=\"dataframe\">\n",
              "  <thead>\n",
              "    <tr style=\"text-align: right;\">\n",
              "      <th></th>\n",
              "      <th>movieId</th>\n",
              "      <th>title</th>\n",
              "      <th>genres</th>\n",
              "    </tr>\n",
              "  </thead>\n",
              "  <tbody>\n",
              "    <tr>\n",
              "      <th>0</th>\n",
              "      <td>movie_1</td>\n",
              "      <td>Toy Story (1995)</td>\n",
              "      <td>Adventure|Animation|Children|Comedy|Fantasy</td>\n",
              "    </tr>\n",
              "    <tr>\n",
              "      <th>1</th>\n",
              "      <td>movie_2</td>\n",
              "      <td>Jumanji (1995)</td>\n",
              "      <td>Adventure|Children|Fantasy</td>\n",
              "    </tr>\n",
              "    <tr>\n",
              "      <th>2</th>\n",
              "      <td>movie_3</td>\n",
              "      <td>Grumpier Old Men (1995)</td>\n",
              "      <td>Comedy|Romance</td>\n",
              "    </tr>\n",
              "    <tr>\n",
              "      <th>3</th>\n",
              "      <td>movie_4</td>\n",
              "      <td>Waiting to Exhale (1995)</td>\n",
              "      <td>Comedy|Drama|Romance</td>\n",
              "    </tr>\n",
              "    <tr>\n",
              "      <th>4</th>\n",
              "      <td>movie_5</td>\n",
              "      <td>Father of the Bride Part II (1995)</td>\n",
              "      <td>Comedy</td>\n",
              "    </tr>\n",
              "  </tbody>\n",
              "</table>\n",
              "</div>\n",
              "      <button class=\"colab-df-convert\" onclick=\"convertToInteractive('df-e1c2545d-b826-42a3-9bfb-b068d917360d')\"\n",
              "              title=\"Convert this dataframe to an interactive table.\"\n",
              "              style=\"display:none;\">\n",
              "        \n",
              "  <svg xmlns=\"http://www.w3.org/2000/svg\" height=\"24px\"viewBox=\"0 0 24 24\"\n",
              "       width=\"24px\">\n",
              "    <path d=\"M0 0h24v24H0V0z\" fill=\"none\"/>\n",
              "    <path d=\"M18.56 5.44l.94 2.06.94-2.06 2.06-.94-2.06-.94-.94-2.06-.94 2.06-2.06.94zm-11 1L8.5 8.5l.94-2.06 2.06-.94-2.06-.94L8.5 2.5l-.94 2.06-2.06.94zm10 10l.94 2.06.94-2.06 2.06-.94-2.06-.94-.94-2.06-.94 2.06-2.06.94z\"/><path d=\"M17.41 7.96l-1.37-1.37c-.4-.4-.92-.59-1.43-.59-.52 0-1.04.2-1.43.59L10.3 9.45l-7.72 7.72c-.78.78-.78 2.05 0 2.83L4 21.41c.39.39.9.59 1.41.59.51 0 1.02-.2 1.41-.59l7.78-7.78 2.81-2.81c.8-.78.8-2.07 0-2.86zM5.41 20L4 18.59l7.72-7.72 1.47 1.35L5.41 20z\"/>\n",
              "  </svg>\n",
              "      </button>\n",
              "      \n",
              "  <style>\n",
              "    .colab-df-container {\n",
              "      display:flex;\n",
              "      flex-wrap:wrap;\n",
              "      gap: 12px;\n",
              "    }\n",
              "\n",
              "    .colab-df-convert {\n",
              "      background-color: #E8F0FE;\n",
              "      border: none;\n",
              "      border-radius: 50%;\n",
              "      cursor: pointer;\n",
              "      display: none;\n",
              "      fill: #1967D2;\n",
              "      height: 32px;\n",
              "      padding: 0 0 0 0;\n",
              "      width: 32px;\n",
              "    }\n",
              "\n",
              "    .colab-df-convert:hover {\n",
              "      background-color: #E2EBFA;\n",
              "      box-shadow: 0px 1px 2px rgba(60, 64, 67, 0.3), 0px 1px 3px 1px rgba(60, 64, 67, 0.15);\n",
              "      fill: #174EA6;\n",
              "    }\n",
              "\n",
              "    [theme=dark] .colab-df-convert {\n",
              "      background-color: #3B4455;\n",
              "      fill: #D2E3FC;\n",
              "    }\n",
              "\n",
              "    [theme=dark] .colab-df-convert:hover {\n",
              "      background-color: #434B5C;\n",
              "      box-shadow: 0px 1px 3px 1px rgba(0, 0, 0, 0.15);\n",
              "      filter: drop-shadow(0px 1px 2px rgba(0, 0, 0, 0.3));\n",
              "      fill: #FFFFFF;\n",
              "    }\n",
              "  </style>\n",
              "\n",
              "      <script>\n",
              "        const buttonEl =\n",
              "          document.querySelector('#df-e1c2545d-b826-42a3-9bfb-b068d917360d button.colab-df-convert');\n",
              "        buttonEl.style.display =\n",
              "          google.colab.kernel.accessAllowed ? 'block' : 'none';\n",
              "\n",
              "        async function convertToInteractive(key) {\n",
              "          const element = document.querySelector('#df-e1c2545d-b826-42a3-9bfb-b068d917360d');\n",
              "          const dataTable =\n",
              "            await google.colab.kernel.invokeFunction('convertToInteractive',\n",
              "                                                     [key], {});\n",
              "          if (!dataTable) return;\n",
              "\n",
              "          const docLinkHtml = 'Like what you see? Visit the ' +\n",
              "            '<a target=\"_blank\" href=https://colab.research.google.com/notebooks/data_table.ipynb>data table notebook</a>'\n",
              "            + ' to learn more about interactive tables.';\n",
              "          element.innerHTML = '';\n",
              "          dataTable['output_type'] = 'display_data';\n",
              "          await google.colab.output.renderOutput(dataTable, element);\n",
              "          const docLink = document.createElement('div');\n",
              "          docLink.innerHTML = docLinkHtml;\n",
              "          element.appendChild(docLink);\n",
              "        }\n",
              "      </script>\n",
              "    </div>\n",
              "  </div>\n",
              "  "
            ]
          },
          "metadata": {},
          "execution_count": 6
        }
      ],
      "source": [
        "movies.head()"
      ]
    },
    {
      "cell_type": "code",
      "execution_count": null,
      "metadata": {
        "id": "KIdhx0A2PF3v"
      },
      "outputs": [],
      "source": [
        "def get_movie_title_by_id(movieId):\n",
        "    return list(movies[movies.movieId == movieId].title)[0]\n",
        "\n",
        "\n",
        "def get_movie_id_by_title(title):\n",
        "    return list(movies[movies.title == title].movieId)[0]"
      ]
    },
    {
      "cell_type": "code",
      "execution_count": null,
      "metadata": {
        "colab": {
          "base_uri": "https://localhost:8080/",
          "height": 36
        },
        "id": "WfqKbvW8wP0w",
        "outputId": "80692fb0-45a1-4aec-b235-ef73c7ea3090"
      },
      "outputs": [
        {
          "output_type": "execute_result",
          "data": {
            "text/plain": [
              "'Toy Story (1995)'"
            ],
            "application/vnd.google.colaboratory.intrinsic+json": {
              "type": "string"
            }
          },
          "metadata": {},
          "execution_count": 8
        }
      ],
      "source": [
        "get_movie_title_by_id('movie_1')"
      ]
    },
    {
      "cell_type": "code",
      "execution_count": null,
      "metadata": {
        "colab": {
          "base_uri": "https://localhost:8080/",
          "height": 36
        },
        "id": "LwSPytBDwmPw",
        "outputId": "cb7c1c68-abb9-4987-bbdf-ba1a622b670d"
      },
      "outputs": [
        {
          "output_type": "execute_result",
          "data": {
            "text/plain": [
              "'movie_296'"
            ],
            "application/vnd.google.colaboratory.intrinsic+json": {
              "type": "string"
            }
          },
          "metadata": {},
          "execution_count": 9
        }
      ],
      "source": [
        "get_movie_id_by_title('Pulp Fiction (1994)')"
      ]
    },
    {
      "cell_type": "markdown",
      "source": [
        "# Construct the Movies graph\n",
        "\n",
        "###### We create an edge between two movie nodes in the graph if both movies are rated by the same user >= min_rating. The weight of the edge will be based on the pointwise mutual information between the two movies, which is computed as: log(xy) - log(x) - log(y) + log(D), where:\n",
        "\n",
        "###### xy is how many users rated both movie x and movie y with >= min_rating.\n",
        "###### x is how many users rated movie x >= min_rating.\n",
        "###### y is how many users rated movie y >= min_rating.\n",
        "###### D total number of movie ratings >= min_rating."
      ],
      "metadata": {
        "id": "uH5Xep2ipcpd"
      }
    },
    {
      "cell_type": "markdown",
      "source": [
        "### Step 1: create the weighted edges between movies."
      ],
      "metadata": {
        "id": "NSvW5y6epg3N"
      }
    },
    {
      "cell_type": "code",
      "execution_count": null,
      "metadata": {
        "colab": {
          "base_uri": "https://localhost:8080/"
        },
        "id": "A7Tfy_E-Qv4q",
        "outputId": "769c8293-14a8-4fee-e322-a9db3e3f080a"
      },
      "outputs": [
        {
          "output_type": "stream",
          "name": "stderr",
          "text": [
            "Compute movie rating frequencies: 100%|██████████| 573/573 [00:00<00:00, 990.68it/s]\n"
          ]
        }
      ],
      "source": [
        "min_rating = 5\n",
        "pair_frequency = defaultdict(int)\n",
        "item_frequency = defaultdict(int)\n",
        "\n",
        "# Filter instances where rating is greater than or equal to min_rating.\n",
        "rated_movies = ratings[ratings.rating >= min_rating]\n",
        "# Group instances by user.\n",
        "movies_grouped_by_users = list(rated_movies.groupby(\"userId\"))\n",
        "for group in tqdm(\n",
        "    movies_grouped_by_users,\n",
        "    position=0,\n",
        "    leave=True,\n",
        "    desc=\"Compute movie rating frequencies\",\n",
        "):\n",
        "    # Get a list of movies rated by the user.\n",
        "    current_movies = list(group[1][\"movieId\"])\n",
        "\n",
        "    for i in range(len(current_movies)):\n",
        "        item_frequency[current_movies[i]] += 1              # the final value of item_frequency is \"how many users rated movie x\"  the sum of the users who rated movie x starting by one user to an other\n",
        "        for j in range(i + 1, len(current_movies)):\n",
        "            x = min(current_movies[i], current_movies[j])   # we used min and max to have a sorted form of each pair to avoid duplication of pairs between the users when the there is the same pair but in different order ex: (movie_1,movie_2) and (movie_2,movie_1) or just to have a sorted form of the pairs\n",
        "            y = max(current_movies[i], current_movies[j])\n",
        "            pair_frequency[(x, y)] += 1                     # the final value of pair_frequeny is \"how many users rated both movies x and y \" the sum of the users who rated both movies x and y starting by one user to the other "
      ]
    },
    {
      "cell_type": "markdown",
      "source": [
        "### Step 2: create the graph with the nodes and the edges\n",
        "\n",
        "###### To reduce the number of edges between nodes, we only add an edge between movies if the weight of the edge is greater than min_weight."
      ],
      "metadata": {
        "id": "-9sKD2UaKCrD"
      }
    },
    {
      "cell_type": "code",
      "source": [
        "min_weight = 10\n",
        "D = math.log(sum(item_frequency.values()))          # total number of ratings\n",
        "\n",
        "# Create the movies undirected graph.\n",
        "movies_graph = nx.Graph()\n",
        "# Add weighted edges between movies.\n",
        "# This automatically adds the movie nodes to the graph.\n",
        "for pair in tqdm(\n",
        "    pair_frequency, position=0, leave=True, desc=\"Creating the movie graph\"\n",
        "):\n",
        "    x, y = pair\n",
        "    xy_frequency = pair_frequency[pair]\n",
        "    x_frequency = item_frequency[x]\n",
        "    y_frequency = item_frequency[y]\n",
        "    pmi = math.log(xy_frequency) - math.log(x_frequency) - math.log(y_frequency) + D\n",
        "    weight = pmi * xy_frequency\n",
        "    # Only include edges with weight >= min_weight.\n",
        "    if weight >= min_weight:\n",
        "        movies_graph.add_edge(x, y, weight=weight)\n",
        "\n",
        "\n",
        "nx.draw(movies_graph, with_labels=True)\n",
        "plt.show()"
      ],
      "metadata": {
        "id": "vxprS--cHy8d",
        "colab": {
          "base_uri": "https://localhost:8080/",
          "height": 336
        },
        "outputId": "f7628eae-f9e3-455c-ccbe-7df8efe84ffb"
      },
      "execution_count": null,
      "outputs": [
        {
          "output_type": "stream",
          "name": "stderr",
          "text": [
            "Creating the movie graph: 100%|██████████| 298586/298586 [00:00<00:00, 631746.86it/s]\n"
          ]
        },
        {
          "output_type": "display_data",
          "data": {
            "text/plain": [
              "<Figure size 432x288 with 1 Axes>"
            ],
            "image/png": "[encoded data removed]"
          },
          "metadata": {}
        }
      ]
    },
    {
      "cell_type": "markdown",
      "source": [
        "###### Let's display the total number of nodes and edges in the graph"
      ],
      "metadata": {
        "id": "_YtFv-ntcK6K"
      }
    },
    {
      "cell_type": "code",
      "source": [
        "print(\"Total number of graph nodes:\", movies_graph.number_of_nodes())\n",
        "print(\"Total number of graph edges:\", movies_graph.number_of_edges())"
      ],
      "metadata": {
        "colab": {
          "base_uri": "https://localhost:8080/"
        },
        "id": "xqHbHwg1elFf",
        "outputId": "a9ebc286-db29-4c09-affe-035960f44361"
      },
      "execution_count": null,
      "outputs": [
        {
          "output_type": "stream",
          "name": "stdout",
          "text": [
            "Total number of graph nodes: 1405\n",
            "Total number of graph edges: 40043\n"
          ]
        }
      ]
    },
    {
      "cell_type": "markdown",
      "source": [
        "Let's display the average node degree (number of neighbours) in the graph."
      ],
      "metadata": {
        "id": "0Dt5N4ZIgSOR"
      }
    },
    {
      "cell_type": "code",
      "source": [
        "degrees = []\n",
        "for node in movies_graph.nodes:\n",
        "    degrees.append(movies_graph.degree[node])\n",
        "\n",
        "print(\"Average node degree:\", round(sum(degrees) / len(degrees), 2))"
      ],
      "metadata": {
        "colab": {
          "base_uri": "https://localhost:8080/"
        },
        "id": "ShObMwU3e1a4",
        "outputId": "d7551052-c529-48fc-8fdb-ad32a0ac89bb"
      },
      "execution_count": null,
      "outputs": [
        {
          "output_type": "stream",
          "name": "stdout",
          "text": [
            "Average node degree: 57.0\n"
          ]
        }
      ]
    },
    {
      "cell_type": "markdown",
      "source": [
        "### Step 3: Create vocabulary and a mapping from tokens to integer indices"
      ],
      "metadata": {
        "id": "huSlr8dbhkKo"
      }
    },
    {
      "cell_type": "code",
      "source": [
        "vocabulary = [\"NA\"] + list(movies_graph.nodes)\n",
        "vocabulary_lookup = {token: idx for idx, token in enumerate(vocabulary)}"
      ],
      "metadata": {
        "id": "8-iXcRe0g5uA"
      },
      "execution_count": null,
      "outputs": []
    },
    {
      "cell_type": "code",
      "source": [
        "print(list(movies_graph.nodes))"
      ],
      "metadata": {
        "colab": {
          "base_uri": "https://localhost:8080/"
        },
        "id": "hDfT7medjg7-",
        "outputId": "d524b8d0-ca96-4070-e5e8-59207b2bc51c"
      },
      "execution_count": null,
      "outputs": [
        {
          "output_type": "stream",
          "name": "stdout",
          "text": [
            "['movie_47', 'movie_50', 'movie_151', 'movie_163', 'movie_216', 'movie_231', 'movie_260', 'movie_333', 'movie_457', 'movie_527', 'movie_596', 'movie_608', 'movie_1029', 'movie_1073', 'movie_1080', 'movie_1089', 'movie_1136', 'movie_1196', 'movie_1197', 'movie_1198', 'movie_1206', 'movie_1210', 'movie_1213', 'movie_1220', 'movie_1222', 'movie_1240', 'movie_1270', 'movie_1275', 'movie_1278', 'movie_1291', 'movie_1517', 'movie_1573', 'movie_1617', 'movie_1625', 'movie_1732', 'movie_2005', 'movie_2094', 'movie_2115', 'movie_2116', 'movie_2329', 'movie_2387', 'movie_2459', 'movie_2470', 'movie_2502', 'movie_2529', 'movie_2542', 'movie_2571', 'movie_2700', 'movie_2716', 'movie_2858', 'movie_2949', 'movie_2959', 'movie_2987', 'movie_3033', 'movie_3052', 'movie_3147', 'movie_3253', 'movie_3386', 'movie_3441', 'movie_3578', 'movie_3671', 'movie_3703', 'movie_101', 'movie_362', 'movie_553', 'movie_923', 'movie_1097', 'movie_1282', 'movie_1587', 'movie_1954', 'movie_2058', 'movie_2078', 'movie_2395', 'movie_2580', 'movie_2692', 'movie_2761', 'movie_2944', 'movie_2948', 'movie_3034', 'movie_3448', 'movie_3450', 'movie_3793', 'movie_919', 'movie_954', 'movie_2427', 'movie_2991', 'movie_5060', 'movie_2872', 'movie_661', 'movie_2947', 'movie_3702', 'movie_940', 'movie_1031', 'movie_1256', 'movie_2018', 'movie_2141', 'movie_2161', 'movie_2353', 'movie_1049', 'movie_1023', 'movie_3053', 'movie_1927', 'movie_1025', 'movie_1032', 'movie_2137', 'movie_1224', 'movie_2291', 'movie_1298', 'movie_2596', 'movie_106782', 'movie_60756', 'movie_80906', 'movie_89774', 'movie_122882', 'movie_125', 'movie_176', 'movie_898', 'movie_930', 'movie_2791', 'movie_4034', 'movie_162', 'movie_215', 'movie_232', 'movie_265', 'movie_593', 'movie_908', 'movie_912', 'movie_914', 'movie_920', 'movie_1084', 'movie_1103', 'movie_1283', 'movie_1947', 'movie_1967', 'movie_2150', 'movie_2174', 'movie_2186', 'movie_2599', 'movie_3083', 'movie_3365', 'movie_4967', 'movie_1250', 'movie_910', 'movie_1086', 'movie_1449', 'movie_475', 'movie_1188', 'movie_1203', 'movie_3508', 'movie_538', 'movie_2583', 'movie_319', 'movie_342', 'movie_1077', 'movie_3044', 'movie_1834', 'movie_2843', 'movie_4239', 'movie_1046', 'movie_296', 'movie_58', 'movie_290', 'movie_590', 'movie_594', 'movie_595', 'movie_3', 'movie_5', 'movie_168', 'movie_262', 'movie_277', 'movie_318', 'movie_337', 'movie_356', 'movie_500', 'movie_587', 'movie_588', 'movie_616', 'movie_736', 'movie_780', 'movie_783', 'movie_364', 'movie_22', 'movie_110', 'movie_36', 'movie_316', 'movie_86', 'movie_480', 'movie_160', 'movie_248', 'movie_349', 'movie_350', 'movie_368', 'movie_377', 'movie_432', 'movie_257', 'movie_230', 'movie_314', 'movie_1219', 'movie_1584', 'movie_2019', 'movie_5618', 'movie_466', 'movie_3869', 'movie_34', 'movie_253', 'movie_357', 'movie_380', 'movie_185', 'movie_2300', 'movie_4993', 'movie_5902', 'movie_5481', 'movie_5952', 'movie_7458', 'movie_8533', 'movie_81845', 'movie_33794', 'movie_49272', 'movie_91529', 'movie_92259', 'movie_96079', 'movie_79091', 'movie_6', 'movie_150', 'movie_529', 'movie_1408', 'movie_2028', 'movie_1101', 'movie_1721', 'movie_1784', 'movie_222', 'movie_256', 'movie_1357', 'movie_2572', 'movie_3668', 'movie_6942', 'movie_40629', 'movie_3996', 'movie_4011', 'movie_282', 'movie_95', 'movie_266', 'movie_509', 'movie_589', 'movie_1200', 'movie_1214', 'movie_2011', 'movie_3510', 'movie_5989', 'movie_33493', 'movie_122886', 'movie_166528', 'movie_4720', 'movie_4995', 'movie_84152', 'movie_858', 'movie_1201', 'movie_7099', 'movie_6350', 'movie_1221', 'movie_1209', 'movie_353', 'movie_551', 'movie_592', 'movie_1285', 'movie_1374', 'movie_1527', 'movie_2918', 'movie_2968', 'movie_3070', 'movie_3396', 'movie_903', 'movie_904', 'movie_1372', 'movie_913', 'movie_3358', 'movie_3477', 'movie_2723', 'movie_48', 'movie_1907', 'movie_2081', 'movie_2657', 'movie_3114', 'movie_4306', 'movie_2083', 'movie_2394', 'movie_3751', 'movie_5218', 'movie_720', 'movie_2804', 'movie_5991', 'movie_1380', 'movie_6345', 'movie_1148', 'movie_3549', 'movie_3398', 'movie_2135', 'movie_4246', 'movie_10', 'movie_1722', 'movie_2706', 'movie_3082', 'movie_2012', 'movie_370', 'movie_47997', 'movie_541', 'movie_1193', 'movie_1952', 'movie_7438', 'movie_3489', 'movie_1212', 'movie_1233', 'movie_1258', 'movie_1284', 'movie_1232', 'movie_3949', 'movie_7153', 'movie_58559', 'movie_60069', 'movie_68157', 'movie_68954', 'movie_79132', 'movie_116797', 'movie_187593', 'movie_122912', 'movie_745', 'movie_1035', 'movie_62', 'movie_1207', 'movie_1262', 'movie_2628', 'movie_1287', 'movie_2565', 'movie_2478', 'movie_3451', 'movie_2151', 'movie_924', 'movie_953', 'movie_1272', 'movie_68237', 'movie_5995', 'movie_59315', 'movie_109487', 'movie_112852', 'movie_115617', 'movie_122904', 'movie_68358', 'movie_111759', 'movie_93510', 'movie_96821', 'movie_95510', 'movie_1', 'movie_648', 'movie_733', 'movie_1036', 'movie_784', 'movie_1391', 'movie_272', 'movie_497', 'movie_1104', 'movie_194', 'movie_345', 'movie_28', 'movie_39', 'movie_994', 'movie_1280', 'movie_1639', 'movie_1673', 'movie_1719', 'movie_307', 'movie_446', 'movie_838', 'movie_1446', 'movie_339', 'movie_1060', 'movie_1249', 'movie_1653', 'movie_1704', 'movie_1923', 'movie_2357', 'movie_1641', 'movie_1245', 'movie_428', 'movie_2355', 'movie_562', 'movie_6333', 'movie_8636', 'movie_2273', 'movie_4446', 'movie_5349', 'movie_6539', 'movie_6874', 'movie_45499', 'movie_6711', 'movie_21', 'movie_60', 'movie_261', 'movie_165', 'movie_344', 'movie_671', 'movie_11', 'movie_223', 'movie_246', 'movie_1215', 'movie_1387', 'movie_1968', 'movie_2762', 'movie_2997', 'movie_3000', 'movie_3911', 'movie_1921', 'movie_2118', 'movie_2366', 'movie_3019', 'movie_3213', 'movie_3328', 'movie_3481', 'movie_1248', 'movie_3362', 'movie_2391', 'movie_1729', 'movie_17', 'movie_203', 'movie_82', 'movie_300', 'movie_306', 'movie_308', 'movie_111', 'movie_431', 'movie_491', 'movie_281', 'movie_514', 'movie_1259', 'movie_2160', 'movie_2712', 'movie_4022', 'movie_4816', 'movie_4848', 'movie_4878', 'movie_7293', 'movie_55820', 'movie_104879', 'movie_116897', 'movie_6287', 'movie_7173', 'movie_3948', 'movie_16', 'movie_555', 'movie_1090', 'movie_2990', 'movie_288', 'movie_597', 'movie_1231', 'movie_1500', 'movie_4002', 'movie_2278', 'movie_2423', 'movie_4262', 'movie_4321', 'movie_1246', 'movie_1265', 'movie_2000', 'movie_2371', 'movie_3100', 'movie_4102', 'movie_1124', 'movie_3755', 'movie_1093', 'movie_2023', 'movie_2871', 'movie_2763', 'movie_1379', 'movie_4041', 'movie_107', 'movie_158', 'movie_174', 'movie_276', 'movie_292', 'movie_367', 'movie_442', 'movie_788', 'movie_1356', 'movie_419', 'movie_7', 'movie_23', 'movie_29', 'movie_434', 'movie_552', 'movie_153', 'movie_329', 'movie_382', 'movie_520', 'movie_610', 'movie_1105', 'movie_112', 'movie_737', 'movie_1476', 'movie_104', 'movie_474', 'movie_543', 'movie_1242', 'movie_1302', 'movie_2324', 'movie_2890', 'movie_4308', 'movie_4886', 'movie_6377', 'movie_54272', 'movie_1393', 'movie_4718', 'movie_8360', 'movie_2268', 'movie_2431', 'movie_3552', 'movie_3717', 'movie_3753', 'movie_3972', 'movie_4734', 'movie_5418', 'movie_8665', 'movie_1059', 'movie_50872', 'movie_3798', 'movie_5378', 'movie_6365', 'movie_2231', 'movie_4963', 'movie_5630', 'movie_4369', 'movie_4901', 'movie_4016', 'movie_2694', 'movie_4299', 'movie_2006', 'movie_5500', 'movie_33679', 'movie_53322', 'movie_454', 'movie_112552', 'movie_1580', 'movie_70', 'movie_1079', 'movie_2302', 'movie_3421', 'movie_3918', 'movie_6502', 'movie_8874', 'movie_48774', 'movie_51662', 'movie_54001', 'movie_56367', 'movie_247', 'movie_965', 'movie_1235', 'movie_1243', 'movie_1276', 'movie_1304', 'movie_1674', 'movie_1845', 'movie_1953', 'movie_1997', 'movie_2140', 'movie_2194', 'movie_2788', 'movie_2901', 'movie_3683', 'movie_3814', 'movie_4437', 'movie_4865', 'movie_5377', 'movie_5956', 'movie_39183', 'movie_236', 'movie_2797', 'movie_3361', 'movie_1663', 'movie_2248', 'movie_3108', 'movie_3471', 'movie_5816', 'movie_6807', 'movie_2321', 'movie_3107', 'movie_3863', 'movie_3994', 'movie_4014', 'movie_34338', 'movie_1645', 'movie_3969', 'movie_2249', 'movie_3148', 'movie_6708', 'movie_2375', 'movie_1873', 'movie_2301', 'movie_44191', 'movie_47610', 'movie_51255', 'movie_54286', 'movie_54995', 'movie_54997', 'movie_57669', 'movie_61132', 'movie_63082', 'movie_69122', 'movie_73017', 'movie_76093', 'movie_134130', 'movie_134853', 'movie_7445', 'movie_30749', 'movie_49530', 'movie_70286', 'movie_122900', 'movie_37733', 'movie_54999', 'movie_89745', 'movie_152081', 'movie_36529', 'movie_110501', 'movie_58998', 'movie_95167', 'movie_5064', 'movie_54736', 'movie_47200', 'movie_52328', 'movie_46976', 'movie_55276', 'movie_55118', 'movie_916', 'movie_922', 'movie_1982', 'movie_2686', 'movie_3275', 'movie_48516', 'movie_19', 'movie_235', 'movie_899', 'movie_1234', 'movie_1288', 'movie_2396', 'movie_3494', 'movie_750', 'movie_1204', 'movie_1252', 'movie_3836', 'movie_955', 'movie_2921', 'movie_3030', 'movie_2067', 'movie_2202', 'movie_3334', 'movie_915', 'movie_3022', 'movie_32', 'movie_293', 'movie_708', 'movie_249', 'movie_280', 'movie_315', 'movie_508', 'movie_539', 'movie_218', 'movie_928', 'movie_969', 'movie_1151', 'movie_1183', 'movie_1208', 'movie_1244', 'movie_1247', 'movie_1263', 'movie_1269', 'movie_1299', 'movie_2076', 'movie_2550', 'movie_3462', 'movie_6460', 'movie_2020', 'movie_3498', 'movie_2352', 'movie_1797', 'movie_906', 'movie_1094', 'movie_2124', 'movie_8984', 'movie_48780', 'movie_99114', 'movie_106489', 'movie_115149', 'movie_150548', 'movie_168252', 'movie_1961', 'movie_47099', 'movie_109374', 'movie_6934', 'movie_128360', 'movie_174053', 'movie_91542', 'movie_7361', 'movie_79702', 'movie_97913', 'movie_32587', 'movie_77455', 'movie_92535', 'movie_1223', 'movie_5669', 'movie_89904', 'movie_38038', 'movie_106696', 'movie_98491', 'movie_108932', 'movie_89753', 'movie_111781', 'movie_778', 'movie_1293', 'movie_4235', 'movie_4973', 'movie_5010', 'movie_8376', 'movie_27773', 'movie_1217', 'movie_4128', 'movie_4380', 'movie_5673', 'movie_3535', 'movie_6385', 'movie_8917', 'movie_3072', 'movie_1096', 'movie_1912', 'movie_5690', 'movie_8014', 'movie_6188', 'movie_30810', 'movie_224', 'movie_535', 'movie_1266', 'movie_1358', 'movie_1748', 'movie_2288', 'movie_2648', 'movie_3037', 'movie_4226', 'movie_5464', 'movie_5617', 'movie_1261', 'movie_7147', 'movie_1956', 'movie_3201', 'movie_5747', 'movie_3074', 'movie_5299', 'movie_7018', 'movie_4896', 'movie_40815', 'movie_44195', 'movie_52973', 'movie_71535', 'movie_72998', 'movie_81834', 'movie_34162', 'movie_59369', 'movie_102445', 'movie_8368', 'movie_66934', 'movie_53996', 'movie_69069', 'movie_64969', 'movie_91500', 'movie_2951', 'movie_3175', 'movie_4027', 'movie_4874', 'movie_1172', 'movie_3359', 'movie_3468', 'movie_1300', 'movie_8949', 'movie_802', 'movie_4979', 'movie_6936', 'movie_78499', 'movie_86833', 'movie_122892', 'movie_1682', 'movie_86332', 'movie_87232', 'movie_111362', 'movie_60684', 'movie_110102', 'movie_1041', 'movie_926', 'movie_1230', 'movie_1960', 'movie_2908', 'movie_3089', 'movie_3307', 'movie_6016', 'movie_6591', 'movie_46578', 'movie_6666', 'movie_41997', 'movie_6791', 'movie_6993', 'movie_7323', 'movie_6787', 'movie_3681', 'movie_34405', 'movie_8961', 'movie_1127', 'movie_1192', 'movie_1218', 'movie_1610', 'movie_3104', 'movie_3266', 'movie_44199', 'movie_44665', 'movie_91658', 'movie_8798', 'movie_8950', 'movie_80831', 'movie_94864', 'movie_1225', 'movie_25', 'movie_52', 'movie_299', 'movie_348', 'movie_800', 'movie_1267', 'movie_1292', 'movie_1307', 'movie_1131', 'movie_412', 'movie_1295', 'movie_53', 'movie_1185', 'movie_5971', 'movie_1884', 'movie_48394', 'movie_3785', 'movie_14', 'movie_85', 'movie_1411', 'movie_3429', 'movie_3740', 'movie_6659', 'movie_7387', 'movie_1129', 'movie_3081', 'movie_1274', 'movie_6857', 'movie_7360', 'movie_2', 'movie_2193', 'movie_2916', 'movie_1917', 'movie_1175', 'movie_1228', 'movie_741', 'movie_5072', 'movie_2289', 'movie_2294', 'movie_3418', 'movie_1296', 'movie_3060', 'movie_3623', 'movie_74458', 'movie_88163', 'movie_122916', 'movie_122926', 'movie_164179', 'movie_177765', 'movie_97921', 'movie_225', 'movie_252', 'movie_1958', 'movie_2318', 'movie_3174', 'movie_18', 'movie_3160', 'movie_55247', 'movie_64614', 'movie_2087', 'movie_148626', 'movie_4873', 'movie_4881', 'movie_4019', 'movie_2671', 'movie_7034', 'movie_106920', 'movie_159817', 'movie_52281', 'movie_170705', 'movie_1281', 'movie_69757', 'movie_7371', 'movie_2131', 'movie_96829', 'movie_171011', 'movie_104374', 'movie_45722', 'movie_59784', 'movie_88125', 'movie_69844', 'movie_53125', 'movie_141', 'movie_5445', 'movie_175', 'movie_119145', 'movie_37384', 'movie_61024', 'movie_87529', 'movie_48322', 'movie_128520', 'movie_85367', 'movie_102903', 'movie_902', 'movie_2080', 'movie_3296', 'movie_932', 'movie_933', 'movie_1683', 'movie_3099', 'movie_2132', 'movie_3831', 'movie_1407', 'movie_3499', 'movie_1566', 'movie_2792', 'movie_170', 'movie_30707', 'movie_104913', 'movie_67255', 'movie_114662', 'movie_80463', 'movie_96861', 'movie_105504', 'movie_714', 'movie_1199', 'movie_1394', 'movie_55765', 'movie_93840', 'movie_96737', 'movie_139385', 'movie_31658', 'movie_54503', 'movie_51540', 'movie_56782', 'movie_72226', 'movie_103341', 'movie_121231', 'movie_2455', 'movie_5110', 'movie_86345', 'movie_86377', 'movie_61323', 'movie_94959', 'movie_1237', 'movie_4776', 'movie_86347', 'movie_115122', 'movie_81591', 'movie_171763', 'movie_7022', 'movie_7254', 'movie_8254', 'movie_9010', 'movie_2600', 'movie_54190', 'movie_905', 'movie_945', 'movie_1676', 'movie_3556', 'movie_161', 'movie_485', 'movie_1883', 'movie_2409', 'movie_2064', 'movie_440', 'movie_207', 'movie_188', 'movie_1949', 'movie_951', 'movie_2924', 'movie_1019', 'movie_1957', 'movie_4223', 'movie_6947', 'movie_3155', 'movie_3916', 'movie_3685', 'movie_3255', 'movie_4327', 'movie_6378', 'movie_3178', 'movie_2144', 'movie_81847', 'movie_4447', 'movie_5066', 'movie_7169', 'movie_1405', 'movie_69481', 'movie_96610', 'movie_98243', 'movie_417', 'movie_866', 'movie_947', 'movie_1179', 'movie_1354', 'movie_2360', 'movie_3224', 'movie_3473', 'movie_3503', 'movie_2239', 'movie_3152', 'movie_1251', 'movie_2732', 'movie_4914', 'movie_8228', 'movie_3134', 'movie_936', 'movie_2511', 'movie_72641', 'movie_1186', 'movie_1277', 'movie_1483', 'movie_3910', 'movie_198', 'movie_2710', 'movie_3697', 'movie_4021', 'movie_1339', 'movie_1320', 'movie_1734', 'movie_1022', 'movie_5992', 'movie_4571', 'movie_7247', 'movie_515', 'movie_534', 'movie_3527', 'movie_3404', 'movie_5466', 'movie_26662', 'movie_8784', 'movie_33166', 'movie_1950', 'movie_4406', 'movie_44555', 'movie_5291', 'movie_2683', 'movie_524', 'movie_2501', 'movie_317', 'movie_586', 'movie_8641', 'movie_1028', 'movie_3967', 'movie_861', 'movie_1367', 'movie_171', 'movie_471', 'movie_909', 'movie_1945', 'movie_1939', 'movie_97304', 'movie_7121', 'movie_1801', 'movie_1955', 'movie_971', 'movie_106100', 'movie_103141', 'movie_7451', 'movie_80549', 'movie_38061', 'movie_5225', 'movie_1227', 'movie_2010', 'movie_3925', 'movie_1279', 'movie_1370', 'movie_74754', 'movie_2640', 'movie_1253', 'movie_2617', 'movie_968', 'movie_1376', 'movie_2664', 'movie_5008', 'movie_3504', 'movie_1809', 'movie_2810', 'movie_27397', 'movie_31364', 'movie_31410', 'movie_6620', 'movie_3341', 'movie_2312', 'movie_213', 'movie_99', 'movie_3897', 'movie_142488', 'movie_3252', 'movie_3246', 'movie_4023', 'movie_1178', 'movie_441', 'movie_3301', 'movie_4025', 'movie_31878', 'movie_1777', 'movie_44761', 'movie_1020', 'movie_5103', 'movie_6863', 'movie_1909', 'movie_1095', 'movie_3505', 'movie_1147', 'movie_3036', 'movie_98809', 'movie_122918', 'movie_112175', 'movie_1297', 'movie_3507', 'movie_1238', 'movie_3435', 'movie_3543', 'movie_2915', 'movie_45517', 'movie_55363', 'movie_1711', 'movie_3983', 'movie_6987', 'movie_2973', 'movie_3090', 'movie_3476', 'movie_6796', 'movie_2100', 'movie_2108', 'movie_2795', 'movie_69', 'movie_785', 'movie_1974', 'movie_5650', 'movie_48738', 'movie_55721', 'movie_85342', 'movie_24', 'movie_3624', 'movie_2770', 'movie_2490', 'movie_5903', 'movie_35836', 'movie_7143', 'movie_8132', 'movie_383', 'movie_516', 'movie_653', 'movie_172', 'movie_267', 'movie_673', 'movie_2336', 'movie_5013', 'movie_7669', 'movie_4144', 'movie_7090', 'movie_52885', 'movie_59387', 'movie_65261', 'movie_66371', 'movie_4956', 'movie_62336', 'movie_84944', 'movie_87222', 'movie_115713', 'movie_88129', 'movie_93838', 'movie_104841', 'movie_86882', 'movie_112556', 'movie_115569', 'movie_3408', 'movie_2739', 'movie_1194', 'movie_4641', 'movie_8914', 'movie_1680', 'movie_41566', 'movie_1466', 'movie_3265', 'movie_3101', 'movie_2907', 'movie_334', 'movie_2925', 'movie_1964', 'movie_1303', 'movie_1273', 'movie_74', 'movie_724', 'movie_3260', 'movie_2819', 'movie_2917', 'movie_2935', 'movie_1635', 'movie_2110', 'movie_2240', 'movie_2912', 'movie_3039', 'movie_3424', 'movie_6218', 'movie_3384', 'movie_3730', 'movie_1594', 'movie_4334', 'movie_3741', 'movie_5135', 'movie_4361', 'movie_1042', 'movie_88', 'movie_4499', 'movie_237', 'movie_4642', 'movie_3363', 'movie_3198', 'movie_1254', 'movie_2731', 'movie_3035', 'movie_918', 'movie_3040', 'movie_112290', 'movie_2393', 'movie_1333', 'movie_2411', 'movie_2985', 'movie_3868', 'movie_7981', 'movie_8644', 'movie_65514', 'movie_106918', 'movie_64839', 'movie_2167', 'movie_83134', 'movie_48385', 'movie_3267', 'movie_7439', 'movie_55908', 'movie_2232', 'movie_104211', 'movie_6818', 'movie_106642', 'movie_5899', 'movie_4103', 'movie_4105', 'movie_2003', 'movie_1289', 'movie_3704', 'movie_5026', 'movie_5254', 'movie_2530', 'movie_3701', 'movie_3153', 'movie_4941', 'movie_2867', 'movie_5540', 'movie_2117', 'movie_3727', 'movie_7156', 'movie_78836', 'movie_2687', 'movie_2159', 'movie_3088', 'movie_1619', 'movie_86504', 'movie_4015', 'movie_4388', 'movie_3617', 'movie_61240', 'movie_494', 'movie_628', 'movie_76', 'movie_9', 'movie_762', 'movie_786', 'movie_27', 'movie_3176', 'movie_3470', 'movie_174055', 'movie_4975', 'movie_4370', 'movie_2065', 'movie_118696', 'movie_186', 'movie_1257', 'movie_5666', 'movie_3809', 'movie_26471', 'movie_6380', 'movie_38304', 'movie_1608', 'movie_1616', 'movie_1620', 'movie_1687', 'movie_1747', 'movie_832', 'movie_376', 'movie_2398', 'movie_3061', 'movie_3360', 'movie_55167', 'movie_98154', 'movie_98961', 'movie_5833', 'movie_57274', 'movie_102125', 'movie_122920', 'movie_158238', 'movie_168248', 'movie_1589', 'movie_4855', 'movie_1347', 'movie_7373', 'movie_54259', 'movie_5444', 'movie_2403', 'movie_86880', 'movie_122922', 'movie_167746', 'movie_64957', 'movie_2436', 'movie_1211', 'movie_33615', 'movie_62999', 'movie_805', 'movie_37729', 'movie_1916', 'movie_31696', 'movie_208', 'movie_89492', 'movie_3526', 'movie_2109', 'movie_1078', 'movie_942', 'movie_1260', 'movie_3618', 'movie_51935', 'movie_1792', 'movie_2002', 'movie_6373', 'movie_2476', 'movie_6442', 'movie_322', 'movie_2114', 'movie_5292', 'movie_599', 'movie_176371', 'movie_102407', 'movie_1835', 'movie_3254', 'movie_1241', 'movie_1343', 'movie_4085', 'movie_1717', 'movie_3698', 'movie_1753', 'movie_1569', 'movie_4701', 'movie_168250', 'movie_1344', 'movie_3020', 'movie_2203', 'movie_3068', 'movie_3244', 'movie_2424', 'movie_71530', 'movie_3347', 'movie_51709', 'movie_27611', 'movie_2243', 'movie_1962', 'movie_97938', 'movie_4467', 'movie_3317', 'movie_27815', 'movie_1485', 'movie_2953', 'movie_1047', 'movie_891', 'movie_112183', 'movie_5810', 'movie_127098', 'movie_40148', 'movie_57504', 'movie_56757', 'movie_3672', 'movie_45', 'movie_58295', 'movie_6184', 'movie_4823', 'movie_1327', 'movie_1350', 'movie_122906', 'movie_1701', 'movie_2936', 'movie_931']\n"
          ]
        }
      ]
    },
    {
      "cell_type": "code",
      "source": [
        "print(vocabulary)"
      ],
      "metadata": {
        "colab": {
          "base_uri": "https://localhost:8080/"
        },
        "id": "CAQLfjbajSsK",
        "outputId": "04610bcc-dd4a-40b7-8b11-2ea4f4539bf4"
      },
      "execution_count": null,
      "outputs": [
        {
          "output_type": "stream",
          "name": "stdout",
          "text": [
            "['NA', 'movie_47', 'movie_50', 'movie_151', 'movie_163', 'movie_216', 'movie_231', 'movie_260', 'movie_333', 'movie_457', 'movie_527', 'movie_596', 'movie_608', 'movie_1029', 'movie_1073', 'movie_1080', 'movie_1089', 'movie_1136', 'movie_1196', 'movie_1197', 'movie_1198', 'movie_1206', 'movie_1210', 'movie_1213', 'movie_1220', 'movie_1222', 'movie_1240', 'movie_1270', 'movie_1275', 'movie_1278', 'movie_1291', 'movie_1517', 'movie_1573', 'movie_1617', 'movie_1625', 'movie_1732', 'movie_2005', 'movie_2094', 'movie_2115', 'movie_2116', 'movie_2329', 'movie_2387', 'movie_2459', 'movie_2470', 'movie_2502', 'movie_2529', 'movie_2542', 'movie_2571', 'movie_2700', 'movie_2716', 'movie_2858', 'movie_2949', 'movie_2959', 'movie_2987', 'movie_3033', 'movie_3052', 'movie_3147', 'movie_3253', 'movie_3386', 'movie_3441', 'movie_3578', 'movie_3671', 'movie_3703', 'movie_101', 'movie_362', 'movie_553', 'movie_923', 'movie_1097', 'movie_1282', 'movie_1587', 'movie_1954', 'movie_2058', 'movie_2078', 'movie_2395', 'movie_2580', 'movie_2692', 'movie_2761', 'movie_2944', 'movie_2948', 'movie_3034', 'movie_3448', 'movie_3450', 'movie_3793', 'movie_919', 'movie_954', 'movie_2427', 'movie_2991', 'movie_5060', 'movie_2872', 'movie_661', 'movie_2947', 'movie_3702', 'movie_940', 'movie_1031', 'movie_1256', 'movie_2018', 'movie_2141', 'movie_2161', 'movie_2353', 'movie_1049', 'movie_1023', 'movie_3053', 'movie_1927', 'movie_1025', 'movie_1032', 'movie_2137', 'movie_1224', 'movie_2291', 'movie_1298', 'movie_2596', 'movie_106782', 'movie_60756', 'movie_80906', 'movie_89774', 'movie_122882', 'movie_125', 'movie_176', 'movie_898', 'movie_930', 'movie_2791', 'movie_4034', 'movie_162', 'movie_215', 'movie_232', 'movie_265', 'movie_593', 'movie_908', 'movie_912', 'movie_914', 'movie_920', 'movie_1084', 'movie_1103', 'movie_1283', 'movie_1947', 'movie_1967', 'movie_2150', 'movie_2174', 'movie_2186', 'movie_2599', 'movie_3083', 'movie_3365', 'movie_4967', 'movie_1250', 'movie_910', 'movie_1086', 'movie_1449', 'movie_475', 'movie_1188', 'movie_1203', 'movie_3508', 'movie_538', 'movie_2583', 'movie_319', 'movie_342', 'movie_1077', 'movie_3044', 'movie_1834', 'movie_2843', 'movie_4239', 'movie_1046', 'movie_296', 'movie_58', 'movie_290', 'movie_590', 'movie_594', 'movie_595', 'movie_3', 'movie_5', 'movie_168', 'movie_262', 'movie_277', 'movie_318', 'movie_337', 'movie_356', 'movie_500', 'movie_587', 'movie_588', 'movie_616', 'movie_736', 'movie_780', 'movie_783', 'movie_364', 'movie_22', 'movie_110', 'movie_36', 'movie_316', 'movie_86', 'movie_480', 'movie_160', 'movie_248', 'movie_349', 'movie_350', 'movie_368', 'movie_377', 'movie_432', 'movie_257', 'movie_230', 'movie_314', 'movie_1219', 'movie_1584', 'movie_2019', 'movie_5618', 'movie_466', 'movie_3869', 'movie_34', 'movie_253', 'movie_357', 'movie_380', 'movie_185', 'movie_2300', 'movie_4993', 'movie_5902', 'movie_5481', 'movie_5952', 'movie_7458', 'movie_8533', 'movie_81845', 'movie_33794', 'movie_49272', 'movie_91529', 'movie_92259', 'movie_96079', 'movie_79091', 'movie_6', 'movie_150', 'movie_529', 'movie_1408', 'movie_2028', 'movie_1101', 'movie_1721', 'movie_1784', 'movie_222', 'movie_256', 'movie_1357', 'movie_2572', 'movie_3668', 'movie_6942', 'movie_40629', 'movie_3996', 'movie_4011', 'movie_282', 'movie_95', 'movie_266', 'movie_509', 'movie_589', 'movie_1200', 'movie_1214', 'movie_2011', 'movie_3510', 'movie_5989', 'movie_33493', 'movie_122886', 'movie_166528', 'movie_4720', 'movie_4995', 'movie_84152', 'movie_858', 'movie_1201', 'movie_7099', 'movie_6350', 'movie_1221', 'movie_1209', 'movie_353', 'movie_551', 'movie_592', 'movie_1285', 'movie_1374', 'movie_1527', 'movie_2918', 'movie_2968', 'movie_3070', 'movie_3396', 'movie_903', 'movie_904', 'movie_1372', 'movie_913', 'movie_3358', 'movie_3477', 'movie_2723', 'movie_48', 'movie_1907', 'movie_2081', 'movie_2657', 'movie_3114', 'movie_4306', 'movie_2083', 'movie_2394', 'movie_3751', 'movie_5218', 'movie_720', 'movie_2804', 'movie_5991', 'movie_1380', 'movie_6345', 'movie_1148', 'movie_3549', 'movie_3398', 'movie_2135', 'movie_4246', 'movie_10', 'movie_1722', 'movie_2706', 'movie_3082', 'movie_2012', 'movie_370', 'movie_47997', 'movie_541', 'movie_1193', 'movie_1952', 'movie_7438', 'movie_3489', 'movie_1212', 'movie_1233', 'movie_1258', 'movie_1284', 'movie_1232', 'movie_3949', 'movie_7153', 'movie_58559', 'movie_60069', 'movie_68157', 'movie_68954', 'movie_79132', 'movie_116797', 'movie_187593', 'movie_122912', 'movie_745', 'movie_1035', 'movie_62', 'movie_1207', 'movie_1262', 'movie_2628', 'movie_1287', 'movie_2565', 'movie_2478', 'movie_3451', 'movie_2151', 'movie_924', 'movie_953', 'movie_1272', 'movie_68237', 'movie_5995', 'movie_59315', 'movie_109487', 'movie_112852', 'movie_115617', 'movie_122904', 'movie_68358', 'movie_111759', 'movie_93510', 'movie_96821', 'movie_95510', 'movie_1', 'movie_648', 'movie_733', 'movie_1036', 'movie_784', 'movie_1391', 'movie_272', 'movie_497', 'movie_1104', 'movie_194', 'movie_345', 'movie_28', 'movie_39', 'movie_994', 'movie_1280', 'movie_1639', 'movie_1673', 'movie_1719', 'movie_307', 'movie_446', 'movie_838', 'movie_1446', 'movie_339', 'movie_1060', 'movie_1249', 'movie_1653', 'movie_1704', 'movie_1923', 'movie_2357', 'movie_1641', 'movie_1245', 'movie_428', 'movie_2355', 'movie_562', 'movie_6333', 'movie_8636', 'movie_2273', 'movie_4446', 'movie_5349', 'movie_6539', 'movie_6874', 'movie_45499', 'movie_6711', 'movie_21', 'movie_60', 'movie_261', 'movie_165', 'movie_344', 'movie_671', 'movie_11', 'movie_223', 'movie_246', 'movie_1215', 'movie_1387', 'movie_1968', 'movie_2762', 'movie_2997', 'movie_3000', 'movie_3911', 'movie_1921', 'movie_2118', 'movie_2366', 'movie_3019', 'movie_3213', 'movie_3328', 'movie_3481', 'movie_1248', 'movie_3362', 'movie_2391', 'movie_1729', 'movie_17', 'movie_203', 'movie_82', 'movie_300', 'movie_306', 'movie_308', 'movie_111', 'movie_431', 'movie_491', 'movie_281', 'movie_514', 'movie_1259', 'movie_2160', 'movie_2712', 'movie_4022', 'movie_4816', 'movie_4848', 'movie_4878', 'movie_7293', 'movie_55820', 'movie_104879', 'movie_116897', 'movie_6287', 'movie_7173', 'movie_3948', 'movie_16', 'movie_555', 'movie_1090', 'movie_2990', 'movie_288', 'movie_597', 'movie_1231', 'movie_1500', 'movie_4002', 'movie_2278', 'movie_2423', 'movie_4262', 'movie_4321', 'movie_1246', 'movie_1265', 'movie_2000', 'movie_2371', 'movie_3100', 'movie_4102', 'movie_1124', 'movie_3755', 'movie_1093', 'movie_2023', 'movie_2871', 'movie_2763', 'movie_1379', 'movie_4041', 'movie_107', 'movie_158', 'movie_174', 'movie_276', 'movie_292', 'movie_367', 'movie_442', 'movie_788', 'movie_1356', 'movie_419', 'movie_7', 'movie_23', 'movie_29', 'movie_434', 'movie_552', 'movie_153', 'movie_329', 'movie_382', 'movie_520', 'movie_610', 'movie_1105', 'movie_112', 'movie_737', 'movie_1476', 'movie_104', 'movie_474', 'movie_543', 'movie_1242', 'movie_1302', 'movie_2324', 'movie_2890', 'movie_4308', 'movie_4886', 'movie_6377', 'movie_54272', 'movie_1393', 'movie_4718', 'movie_8360', 'movie_2268', 'movie_2431', 'movie_3552', 'movie_3717', 'movie_3753', 'movie_3972', 'movie_4734', 'movie_5418', 'movie_8665', 'movie_1059', 'movie_50872', 'movie_3798', 'movie_5378', 'movie_6365', 'movie_2231', 'movie_4963', 'movie_5630', 'movie_4369', 'movie_4901', 'movie_4016', 'movie_2694', 'movie_4299', 'movie_2006', 'movie_5500', 'movie_33679', 'movie_53322', 'movie_454', 'movie_112552', 'movie_1580', 'movie_70', 'movie_1079', 'movie_2302', 'movie_3421', 'movie_3918', 'movie_6502', 'movie_8874', 'movie_48774', 'movie_51662', 'movie_54001', 'movie_56367', 'movie_247', 'movie_965', 'movie_1235', 'movie_1243', 'movie_1276', 'movie_1304', 'movie_1674', 'movie_1845', 'movie_1953', 'movie_1997', 'movie_2140', 'movie_2194', 'movie_2788', 'movie_2901', 'movie_3683', 'movie_3814', 'movie_4437', 'movie_4865', 'movie_5377', 'movie_5956', 'movie_39183', 'movie_236', 'movie_2797', 'movie_3361', 'movie_1663', 'movie_2248', 'movie_3108', 'movie_3471', 'movie_5816', 'movie_6807', 'movie_2321', 'movie_3107', 'movie_3863', 'movie_3994', 'movie_4014', 'movie_34338', 'movie_1645', 'movie_3969', 'movie_2249', 'movie_3148', 'movie_6708', 'movie_2375', 'movie_1873', 'movie_2301', 'movie_44191', 'movie_47610', 'movie_51255', 'movie_54286', 'movie_54995', 'movie_54997', 'movie_57669', 'movie_61132', 'movie_63082', 'movie_69122', 'movie_73017', 'movie_76093', 'movie_134130', 'movie_134853', 'movie_7445', 'movie_30749', 'movie_49530', 'movie_70286', 'movie_122900', 'movie_37733', 'movie_54999', 'movie_89745', 'movie_152081', 'movie_36529', 'movie_110501', 'movie_58998', 'movie_95167', 'movie_5064', 'movie_54736', 'movie_47200', 'movie_52328', 'movie_46976', 'movie_55276', 'movie_55118', 'movie_916', 'movie_922', 'movie_1982', 'movie_2686', 'movie_3275', 'movie_48516', 'movie_19', 'movie_235', 'movie_899', 'movie_1234', 'movie_1288', 'movie_2396', 'movie_3494', 'movie_750', 'movie_1204', 'movie_1252', 'movie_3836', 'movie_955', 'movie_2921', 'movie_3030', 'movie_2067', 'movie_2202', 'movie_3334', 'movie_915', 'movie_3022', 'movie_32', 'movie_293', 'movie_708', 'movie_249', 'movie_280', 'movie_315', 'movie_508', 'movie_539', 'movie_218', 'movie_928', 'movie_969', 'movie_1151', 'movie_1183', 'movie_1208', 'movie_1244', 'movie_1247', 'movie_1263', 'movie_1269', 'movie_1299', 'movie_2076', 'movie_2550', 'movie_3462', 'movie_6460', 'movie_2020', 'movie_3498', 'movie_2352', 'movie_1797', 'movie_906', 'movie_1094', 'movie_2124', 'movie_8984', 'movie_48780', 'movie_99114', 'movie_106489', 'movie_115149', 'movie_150548', 'movie_168252', 'movie_1961', 'movie_47099', 'movie_109374', 'movie_6934', 'movie_128360', 'movie_174053', 'movie_91542', 'movie_7361', 'movie_79702', 'movie_97913', 'movie_32587', 'movie_77455', 'movie_92535', 'movie_1223', 'movie_5669', 'movie_89904', 'movie_38038', 'movie_106696', 'movie_98491', 'movie_108932', 'movie_89753', 'movie_111781', 'movie_778', 'movie_1293', 'movie_4235', 'movie_4973', 'movie_5010', 'movie_8376', 'movie_27773', 'movie_1217', 'movie_4128', 'movie_4380', 'movie_5673', 'movie_3535', 'movie_6385', 'movie_8917', 'movie_3072', 'movie_1096', 'movie_1912', 'movie_5690', 'movie_8014', 'movie_6188', 'movie_30810', 'movie_224', 'movie_535', 'movie_1266', 'movie_1358', 'movie_1748', 'movie_2288', 'movie_2648', 'movie_3037', 'movie_4226', 'movie_5464', 'movie_5617', 'movie_1261', 'movie_7147', 'movie_1956', 'movie_3201', 'movie_5747', 'movie_3074', 'movie_5299', 'movie_7018', 'movie_4896', 'movie_40815', 'movie_44195', 'movie_52973', 'movie_71535', 'movie_72998', 'movie_81834', 'movie_34162', 'movie_59369', 'movie_102445', 'movie_8368', 'movie_66934', 'movie_53996', 'movie_69069', 'movie_64969', 'movie_91500', 'movie_2951', 'movie_3175', 'movie_4027', 'movie_4874', 'movie_1172', 'movie_3359', 'movie_3468', 'movie_1300', 'movie_8949', 'movie_802', 'movie_4979', 'movie_6936', 'movie_78499', 'movie_86833', 'movie_122892', 'movie_1682', 'movie_86332', 'movie_87232', 'movie_111362', 'movie_60684', 'movie_110102', 'movie_1041', 'movie_926', 'movie_1230', 'movie_1960', 'movie_2908', 'movie_3089', 'movie_3307', 'movie_6016', 'movie_6591', 'movie_46578', 'movie_6666', 'movie_41997', 'movie_6791', 'movie_6993', 'movie_7323', 'movie_6787', 'movie_3681', 'movie_34405', 'movie_8961', 'movie_1127', 'movie_1192', 'movie_1218', 'movie_1610', 'movie_3104', 'movie_3266', 'movie_44199', 'movie_44665', 'movie_91658', 'movie_8798', 'movie_8950', 'movie_80831', 'movie_94864', 'movie_1225', 'movie_25', 'movie_52', 'movie_299', 'movie_348', 'movie_800', 'movie_1267', 'movie_1292', 'movie_1307', 'movie_1131', 'movie_412', 'movie_1295', 'movie_53', 'movie_1185', 'movie_5971', 'movie_1884', 'movie_48394', 'movie_3785', 'movie_14', 'movie_85', 'movie_1411', 'movie_3429', 'movie_3740', 'movie_6659', 'movie_7387', 'movie_1129', 'movie_3081', 'movie_1274', 'movie_6857', 'movie_7360', 'movie_2', 'movie_2193', 'movie_2916', 'movie_1917', 'movie_1175', 'movie_1228', 'movie_741', 'movie_5072', 'movie_2289', 'movie_2294', 'movie_3418', 'movie_1296', 'movie_3060', 'movie_3623', 'movie_74458', 'movie_88163', 'movie_122916', 'movie_122926', 'movie_164179', 'movie_177765', 'movie_97921', 'movie_225', 'movie_252', 'movie_1958', 'movie_2318', 'movie_3174', 'movie_18', 'movie_3160', 'movie_55247', 'movie_64614', 'movie_2087', 'movie_148626', 'movie_4873', 'movie_4881', 'movie_4019', 'movie_2671', 'movie_7034', 'movie_106920', 'movie_159817', 'movie_52281', 'movie_170705', 'movie_1281', 'movie_69757', 'movie_7371', 'movie_2131', 'movie_96829', 'movie_171011', 'movie_104374', 'movie_45722', 'movie_59784', 'movie_88125', 'movie_69844', 'movie_53125', 'movie_141', 'movie_5445', 'movie_175', 'movie_119145', 'movie_37384', 'movie_61024', 'movie_87529', 'movie_48322', 'movie_128520', 'movie_85367', 'movie_102903', 'movie_902', 'movie_2080', 'movie_3296', 'movie_932', 'movie_933', 'movie_1683', 'movie_3099', 'movie_2132', 'movie_3831', 'movie_1407', 'movie_3499', 'movie_1566', 'movie_2792', 'movie_170', 'movie_30707', 'movie_104913', 'movie_67255', 'movie_114662', 'movie_80463', 'movie_96861', 'movie_105504', 'movie_714', 'movie_1199', 'movie_1394', 'movie_55765', 'movie_93840', 'movie_96737', 'movie_139385', 'movie_31658', 'movie_54503', 'movie_51540', 'movie_56782', 'movie_72226', 'movie_103341', 'movie_121231', 'movie_2455', 'movie_5110', 'movie_86345', 'movie_86377', 'movie_61323', 'movie_94959', 'movie_1237', 'movie_4776', 'movie_86347', 'movie_115122', 'movie_81591', 'movie_171763', 'movie_7022', 'movie_7254', 'movie_8254', 'movie_9010', 'movie_2600', 'movie_54190', 'movie_905', 'movie_945', 'movie_1676', 'movie_3556', 'movie_161', 'movie_485', 'movie_1883', 'movie_2409', 'movie_2064', 'movie_440', 'movie_207', 'movie_188', 'movie_1949', 'movie_951', 'movie_2924', 'movie_1019', 'movie_1957', 'movie_4223', 'movie_6947', 'movie_3155', 'movie_3916', 'movie_3685', 'movie_3255', 'movie_4327', 'movie_6378', 'movie_3178', 'movie_2144', 'movie_81847', 'movie_4447', 'movie_5066', 'movie_7169', 'movie_1405', 'movie_69481', 'movie_96610', 'movie_98243', 'movie_417', 'movie_866', 'movie_947', 'movie_1179', 'movie_1354', 'movie_2360', 'movie_3224', 'movie_3473', 'movie_3503', 'movie_2239', 'movie_3152', 'movie_1251', 'movie_2732', 'movie_4914', 'movie_8228', 'movie_3134', 'movie_936', 'movie_2511', 'movie_72641', 'movie_1186', 'movie_1277', 'movie_1483', 'movie_3910', 'movie_198', 'movie_2710', 'movie_3697', 'movie_4021', 'movie_1339', 'movie_1320', 'movie_1734', 'movie_1022', 'movie_5992', 'movie_4571', 'movie_7247', 'movie_515', 'movie_534', 'movie_3527', 'movie_3404', 'movie_5466', 'movie_26662', 'movie_8784', 'movie_33166', 'movie_1950', 'movie_4406', 'movie_44555', 'movie_5291', 'movie_2683', 'movie_524', 'movie_2501', 'movie_317', 'movie_586', 'movie_8641', 'movie_1028', 'movie_3967', 'movie_861', 'movie_1367', 'movie_171', 'movie_471', 'movie_909', 'movie_1945', 'movie_1939', 'movie_97304', 'movie_7121', 'movie_1801', 'movie_1955', 'movie_971', 'movie_106100', 'movie_103141', 'movie_7451', 'movie_80549', 'movie_38061', 'movie_5225', 'movie_1227', 'movie_2010', 'movie_3925', 'movie_1279', 'movie_1370', 'movie_74754', 'movie_2640', 'movie_1253', 'movie_2617', 'movie_968', 'movie_1376', 'movie_2664', 'movie_5008', 'movie_3504', 'movie_1809', 'movie_2810', 'movie_27397', 'movie_31364', 'movie_31410', 'movie_6620', 'movie_3341', 'movie_2312', 'movie_213', 'movie_99', 'movie_3897', 'movie_142488', 'movie_3252', 'movie_3246', 'movie_4023', 'movie_1178', 'movie_441', 'movie_3301', 'movie_4025', 'movie_31878', 'movie_1777', 'movie_44761', 'movie_1020', 'movie_5103', 'movie_6863', 'movie_1909', 'movie_1095', 'movie_3505', 'movie_1147', 'movie_3036', 'movie_98809', 'movie_122918', 'movie_112175', 'movie_1297', 'movie_3507', 'movie_1238', 'movie_3435', 'movie_3543', 'movie_2915', 'movie_45517', 'movie_55363', 'movie_1711', 'movie_3983', 'movie_6987', 'movie_2973', 'movie_3090', 'movie_3476', 'movie_6796', 'movie_2100', 'movie_2108', 'movie_2795', 'movie_69', 'movie_785', 'movie_1974', 'movie_5650', 'movie_48738', 'movie_55721', 'movie_85342', 'movie_24', 'movie_3624', 'movie_2770', 'movie_2490', 'movie_5903', 'movie_35836', 'movie_7143', 'movie_8132', 'movie_383', 'movie_516', 'movie_653', 'movie_172', 'movie_267', 'movie_673', 'movie_2336', 'movie_5013', 'movie_7669', 'movie_4144', 'movie_7090', 'movie_52885', 'movie_59387', 'movie_65261', 'movie_66371', 'movie_4956', 'movie_62336', 'movie_84944', 'movie_87222', 'movie_115713', 'movie_88129', 'movie_93838', 'movie_104841', 'movie_86882', 'movie_112556', 'movie_115569', 'movie_3408', 'movie_2739', 'movie_1194', 'movie_4641', 'movie_8914', 'movie_1680', 'movie_41566', 'movie_1466', 'movie_3265', 'movie_3101', 'movie_2907', 'movie_334', 'movie_2925', 'movie_1964', 'movie_1303', 'movie_1273', 'movie_74', 'movie_724', 'movie_3260', 'movie_2819', 'movie_2917', 'movie_2935', 'movie_1635', 'movie_2110', 'movie_2240', 'movie_2912', 'movie_3039', 'movie_3424', 'movie_6218', 'movie_3384', 'movie_3730', 'movie_1594', 'movie_4334', 'movie_3741', 'movie_5135', 'movie_4361', 'movie_1042', 'movie_88', 'movie_4499', 'movie_237', 'movie_4642', 'movie_3363', 'movie_3198', 'movie_1254', 'movie_2731', 'movie_3035', 'movie_918', 'movie_3040', 'movie_112290', 'movie_2393', 'movie_1333', 'movie_2411', 'movie_2985', 'movie_3868', 'movie_7981', 'movie_8644', 'movie_65514', 'movie_106918', 'movie_64839', 'movie_2167', 'movie_83134', 'movie_48385', 'movie_3267', 'movie_7439', 'movie_55908', 'movie_2232', 'movie_104211', 'movie_6818', 'movie_106642', 'movie_5899', 'movie_4103', 'movie_4105', 'movie_2003', 'movie_1289', 'movie_3704', 'movie_5026', 'movie_5254', 'movie_2530', 'movie_3701', 'movie_3153', 'movie_4941', 'movie_2867', 'movie_5540', 'movie_2117', 'movie_3727', 'movie_7156', 'movie_78836', 'movie_2687', 'movie_2159', 'movie_3088', 'movie_1619', 'movie_86504', 'movie_4015', 'movie_4388', 'movie_3617', 'movie_61240', 'movie_494', 'movie_628', 'movie_76', 'movie_9', 'movie_762', 'movie_786', 'movie_27', 'movie_3176', 'movie_3470', 'movie_174055', 'movie_4975', 'movie_4370', 'movie_2065', 'movie_118696', 'movie_186', 'movie_1257', 'movie_5666', 'movie_3809', 'movie_26471', 'movie_6380', 'movie_38304', 'movie_1608', 'movie_1616', 'movie_1620', 'movie_1687', 'movie_1747', 'movie_832', 'movie_376', 'movie_2398', 'movie_3061', 'movie_3360', 'movie_55167', 'movie_98154', 'movie_98961', 'movie_5833', 'movie_57274', 'movie_102125', 'movie_122920', 'movie_158238', 'movie_168248', 'movie_1589', 'movie_4855', 'movie_1347', 'movie_7373', 'movie_54259', 'movie_5444', 'movie_2403', 'movie_86880', 'movie_122922', 'movie_167746', 'movie_64957', 'movie_2436', 'movie_1211', 'movie_33615', 'movie_62999', 'movie_805', 'movie_37729', 'movie_1916', 'movie_31696', 'movie_208', 'movie_89492', 'movie_3526', 'movie_2109', 'movie_1078', 'movie_942', 'movie_1260', 'movie_3618', 'movie_51935', 'movie_1792', 'movie_2002', 'movie_6373', 'movie_2476', 'movie_6442', 'movie_322', 'movie_2114', 'movie_5292', 'movie_599', 'movie_176371', 'movie_102407', 'movie_1835', 'movie_3254', 'movie_1241', 'movie_1343', 'movie_4085', 'movie_1717', 'movie_3698', 'movie_1753', 'movie_1569', 'movie_4701', 'movie_168250', 'movie_1344', 'movie_3020', 'movie_2203', 'movie_3068', 'movie_3244', 'movie_2424', 'movie_71530', 'movie_3347', 'movie_51709', 'movie_27611', 'movie_2243', 'movie_1962', 'movie_97938', 'movie_4467', 'movie_3317', 'movie_27815', 'movie_1485', 'movie_2953', 'movie_1047', 'movie_891', 'movie_112183', 'movie_5810', 'movie_127098', 'movie_40148', 'movie_57504', 'movie_56757', 'movie_3672', 'movie_45', 'movie_58295', 'movie_6184', 'movie_4823', 'movie_1327', 'movie_1350', 'movie_122906', 'movie_1701', 'movie_2936', 'movie_931']\n"
          ]
        }
      ]
    },
    {
      "cell_type": "code",
      "source": [
        "print(vocabulary_lookup)"
      ],
      "metadata": {
        "colab": {
          "base_uri": "https://localhost:8080/"
        },
        "id": "LFDM33rzikIt",
        "outputId": "123a92c6-67c2-4b7b-ae01-71162d05731c"
      },
      "execution_count": null,
      "outputs": [
        {
          "output_type": "stream",
          "name": "stdout",
          "text": [
            "{'NA': 0, 'movie_47': 1, 'movie_50': 2, 'movie_151': 3, 'movie_163': 4, 'movie_216': 5, 'movie_231': 6, 'movie_260': 7, 'movie_333': 8, 'movie_457': 9, 'movie_527': 10, 'movie_596': 11, 'movie_608': 12, 'movie_1029': 13, 'movie_1073': 14, 'movie_1080': 15, 'movie_1089': 16, 'movie_1136': 17, 'movie_1196': 18, 'movie_1197': 19, 'movie_1198': 20, 'movie_1206': 21, 'movie_1210': 22, 'movie_1213': 23, 'movie_1220': 24, 'movie_1222': 25, 'movie_1240': 26, 'movie_1270': 27, 'movie_1275': 28, 'movie_1278': 29, 'movie_1291': 30, 'movie_1517': 31, 'movie_1573': 32, 'movie_1617': 33, 'movie_1625': 34, 'movie_1732': 35, 'movie_2005': 36, 'movie_2094': 37, 'movie_2115': 38, 'movie_2116': 39, 'movie_2329': 40, 'movie_2387': 41, 'movie_2459': 42, 'movie_2470': 43, 'movie_2502': 44, 'movie_2529': 45, 'movie_2542': 46, 'movie_2571': 47, 'movie_2700': 48, 'movie_2716': 49, 'movie_2858': 50, 'movie_2949': 51, 'movie_2959': 52, 'movie_2987': 53, 'movie_3033': 54, 'movie_3052': 55, 'movie_3147': 56, 'movie_3253': 57, 'movie_3386': 58, 'movie_3441': 59, 'movie_3578': 60, 'movie_3671': 61, 'movie_3703': 62, 'movie_101': 63, 'movie_362': 64, 'movie_553': 65, 'movie_923': 66, 'movie_1097': 67, 'movie_1282': 68, 'movie_1587': 69, 'movie_1954': 70, 'movie_2058': 71, 'movie_2078': 72, 'movie_2395': 73, 'movie_2580': 74, 'movie_2692': 75, 'movie_2761': 76, 'movie_2944': 77, 'movie_2948': 78, 'movie_3034': 79, 'movie_3448': 80, 'movie_3450': 81, 'movie_3793': 82, 'movie_919': 83, 'movie_954': 84, 'movie_2427': 85, 'movie_2991': 86, 'movie_5060': 87, 'movie_2872': 88, 'movie_661': 89, 'movie_2947': 90, 'movie_3702': 91, 'movie_940': 92, 'movie_1031': 93, 'movie_1256': 94, 'movie_2018': 95, 'movie_2141': 96, 'movie_2161': 97, 'movie_2353': 98, 'movie_1049': 99, 'movie_1023': 100, 'movie_3053': 101, 'movie_1927': 102, 'movie_1025': 103, 'movie_1032': 104, 'movie_2137': 105, 'movie_1224': 106, 'movie_2291': 107, 'movie_1298': 108, 'movie_2596': 109, 'movie_106782': 110, 'movie_60756': 111, 'movie_80906': 112, 'movie_89774': 113, 'movie_122882': 114, 'movie_125': 115, 'movie_176': 116, 'movie_898': 117, 'movie_930': 118, 'movie_2791': 119, 'movie_4034': 120, 'movie_162': 121, 'movie_215': 122, 'movie_232': 123, 'movie_265': 124, 'movie_593': 125, 'movie_908': 126, 'movie_912': 127, 'movie_914': 128, 'movie_920': 129, 'movie_1084': 130, 'movie_1103': 131, 'movie_1283': 132, 'movie_1947': 133, 'movie_1967': 134, 'movie_2150': 135, 'movie_2174': 136, 'movie_2186': 137, 'movie_2599': 138, 'movie_3083': 139, 'movie_3365': 140, 'movie_4967': 141, 'movie_1250': 142, 'movie_910': 143, 'movie_1086': 144, 'movie_1449': 145, 'movie_475': 146, 'movie_1188': 147, 'movie_1203': 148, 'movie_3508': 149, 'movie_538': 150, 'movie_2583': 151, 'movie_319': 152, 'movie_342': 153, 'movie_1077': 154, 'movie_3044': 155, 'movie_1834': 156, 'movie_2843': 157, 'movie_4239': 158, 'movie_1046': 159, 'movie_296': 160, 'movie_58': 161, 'movie_290': 162, 'movie_590': 163, 'movie_594': 164, 'movie_595': 165, 'movie_3': 166, 'movie_5': 167, 'movie_168': 168, 'movie_262': 169, 'movie_277': 170, 'movie_318': 171, 'movie_337': 172, 'movie_356': 173, 'movie_500': 174, 'movie_587': 175, 'movie_588': 176, 'movie_616': 177, 'movie_736': 178, 'movie_780': 179, 'movie_783': 180, 'movie_364': 181, 'movie_22': 182, 'movie_110': 183, 'movie_36': 184, 'movie_316': 185, 'movie_86': 186, 'movie_480': 187, 'movie_160': 188, 'movie_248': 189, 'movie_349': 190, 'movie_350': 191, 'movie_368': 192, 'movie_377': 193, 'movie_432': 194, 'movie_257': 195, 'movie_230': 196, 'movie_314': 197, 'movie_1219': 198, 'movie_1584': 199, 'movie_2019': 200, 'movie_5618': 201, 'movie_466': 202, 'movie_3869': 203, 'movie_34': 204, 'movie_253': 205, 'movie_357': 206, 'movie_380': 207, 'movie_185': 208, 'movie_2300': 209, 'movie_4993': 210, 'movie_5902': 211, 'movie_5481': 212, 'movie_5952': 213, 'movie_7458': 214, 'movie_8533': 215, 'movie_81845': 216, 'movie_33794': 217, 'movie_49272': 218, 'movie_91529': 219, 'movie_92259': 220, 'movie_96079': 221, 'movie_79091': 222, 'movie_6': 223, 'movie_150': 224, 'movie_529': 225, 'movie_1408': 226, 'movie_2028': 227, 'movie_1101': 228, 'movie_1721': 229, 'movie_1784': 230, 'movie_222': 231, 'movie_256': 232, 'movie_1357': 233, 'movie_2572': 234, 'movie_3668': 235, 'movie_6942': 236, 'movie_40629': 237, 'movie_3996': 238, 'movie_4011': 239, 'movie_282': 240, 'movie_95': 241, 'movie_266': 242, 'movie_509': 243, 'movie_589': 244, 'movie_1200': 245, 'movie_1214': 246, 'movie_2011': 247, 'movie_3510': 248, 'movie_5989': 249, 'movie_33493': 250, 'movie_122886': 251, 'movie_166528': 252, 'movie_4720': 253, 'movie_4995': 254, 'movie_84152': 255, 'movie_858': 256, 'movie_1201': 257, 'movie_7099': 258, 'movie_6350': 259, 'movie_1221': 260, 'movie_1209': 261, 'movie_353': 262, 'movie_551': 263, 'movie_592': 264, 'movie_1285': 265, 'movie_1374': 266, 'movie_1527': 267, 'movie_2918': 268, 'movie_2968': 269, 'movie_3070': 270, 'movie_3396': 271, 'movie_903': 272, 'movie_904': 273, 'movie_1372': 274, 'movie_913': 275, 'movie_3358': 276, 'movie_3477': 277, 'movie_2723': 278, 'movie_48': 279, 'movie_1907': 280, 'movie_2081': 281, 'movie_2657': 282, 'movie_3114': 283, 'movie_4306': 284, 'movie_2083': 285, 'movie_2394': 286, 'movie_3751': 287, 'movie_5218': 288, 'movie_720': 289, 'movie_2804': 290, 'movie_5991': 291, 'movie_1380': 292, 'movie_6345': 293, 'movie_1148': 294, 'movie_3549': 295, 'movie_3398': 296, 'movie_2135': 297, 'movie_4246': 298, 'movie_10': 299, 'movie_1722': 300, 'movie_2706': 301, 'movie_3082': 302, 'movie_2012': 303, 'movie_370': 304, 'movie_47997': 305, 'movie_541': 306, 'movie_1193': 307, 'movie_1952': 308, 'movie_7438': 309, 'movie_3489': 310, 'movie_1212': 311, 'movie_1233': 312, 'movie_1258': 313, 'movie_1284': 314, 'movie_1232': 315, 'movie_3949': 316, 'movie_7153': 317, 'movie_58559': 318, 'movie_60069': 319, 'movie_68157': 320, 'movie_68954': 321, 'movie_79132': 322, 'movie_116797': 323, 'movie_187593': 324, 'movie_122912': 325, 'movie_745': 326, 'movie_1035': 327, 'movie_62': 328, 'movie_1207': 329, 'movie_1262': 330, 'movie_2628': 331, 'movie_1287': 332, 'movie_2565': 333, 'movie_2478': 334, 'movie_3451': 335, 'movie_2151': 336, 'movie_924': 337, 'movie_953': 338, 'movie_1272': 339, 'movie_68237': 340, 'movie_5995': 341, 'movie_59315': 342, 'movie_109487': 343, 'movie_112852': 344, 'movie_115617': 345, 'movie_122904': 346, 'movie_68358': 347, 'movie_111759': 348, 'movie_93510': 349, 'movie_96821': 350, 'movie_95510': 351, 'movie_1': 352, 'movie_648': 353, 'movie_733': 354, 'movie_1036': 355, 'movie_784': 356, 'movie_1391': 357, 'movie_272': 358, 'movie_497': 359, 'movie_1104': 360, 'movie_194': 361, 'movie_345': 362, 'movie_28': 363, 'movie_39': 364, 'movie_994': 365, 'movie_1280': 366, 'movie_1639': 367, 'movie_1673': 368, 'movie_1719': 369, 'movie_307': 370, 'movie_446': 371, 'movie_838': 372, 'movie_1446': 373, 'movie_339': 374, 'movie_1060': 375, 'movie_1249': 376, 'movie_1653': 377, 'movie_1704': 378, 'movie_1923': 379, 'movie_2357': 380, 'movie_1641': 381, 'movie_1245': 382, 'movie_428': 383, 'movie_2355': 384, 'movie_562': 385, 'movie_6333': 386, 'movie_8636': 387, 'movie_2273': 388, 'movie_4446': 389, 'movie_5349': 390, 'movie_6539': 391, 'movie_6874': 392, 'movie_45499': 393, 'movie_6711': 394, 'movie_21': 395, 'movie_60': 396, 'movie_261': 397, 'movie_165': 398, 'movie_344': 399, 'movie_671': 400, 'movie_11': 401, 'movie_223': 402, 'movie_246': 403, 'movie_1215': 404, 'movie_1387': 405, 'movie_1968': 406, 'movie_2762': 407, 'movie_2997': 408, 'movie_3000': 409, 'movie_3911': 410, 'movie_1921': 411, 'movie_2118': 412, 'movie_2366': 413, 'movie_3019': 414, 'movie_3213': 415, 'movie_3328': 416, 'movie_3481': 417, 'movie_1248': 418, 'movie_3362': 419, 'movie_2391': 420, 'movie_1729': 421, 'movie_17': 422, 'movie_203': 423, 'movie_82': 424, 'movie_300': 425, 'movie_306': 426, 'movie_308': 427, 'movie_111': 428, 'movie_431': 429, 'movie_491': 430, 'movie_281': 431, 'movie_514': 432, 'movie_1259': 433, 'movie_2160': 434, 'movie_2712': 435, 'movie_4022': 436, 'movie_4816': 437, 'movie_4848': 438, 'movie_4878': 439, 'movie_7293': 440, 'movie_55820': 441, 'movie_104879': 442, 'movie_116897': 443, 'movie_6287': 444, 'movie_7173': 445, 'movie_3948': 446, 'movie_16': 447, 'movie_555': 448, 'movie_1090': 449, 'movie_2990': 450, 'movie_288': 451, 'movie_597': 452, 'movie_1231': 453, 'movie_1500': 454, 'movie_4002': 455, 'movie_2278': 456, 'movie_2423': 457, 'movie_4262': 458, 'movie_4321': 459, 'movie_1246': 460, 'movie_1265': 461, 'movie_2000': 462, 'movie_2371': 463, 'movie_3100': 464, 'movie_4102': 465, 'movie_1124': 466, 'movie_3755': 467, 'movie_1093': 468, 'movie_2023': 469, 'movie_2871': 470, 'movie_2763': 471, 'movie_1379': 472, 'movie_4041': 473, 'movie_107': 474, 'movie_158': 475, 'movie_174': 476, 'movie_276': 477, 'movie_292': 478, 'movie_367': 479, 'movie_442': 480, 'movie_788': 481, 'movie_1356': 482, 'movie_419': 483, 'movie_7': 484, 'movie_23': 485, 'movie_29': 486, 'movie_434': 487, 'movie_552': 488, 'movie_153': 489, 'movie_329': 490, 'movie_382': 491, 'movie_520': 492, 'movie_610': 493, 'movie_1105': 494, 'movie_112': 495, 'movie_737': 496, 'movie_1476': 497, 'movie_104': 498, 'movie_474': 499, 'movie_543': 500, 'movie_1242': 501, 'movie_1302': 502, 'movie_2324': 503, 'movie_2890': 504, 'movie_4308': 505, 'movie_4886': 506, 'movie_6377': 507, 'movie_54272': 508, 'movie_1393': 509, 'movie_4718': 510, 'movie_8360': 511, 'movie_2268': 512, 'movie_2431': 513, 'movie_3552': 514, 'movie_3717': 515, 'movie_3753': 516, 'movie_3972': 517, 'movie_4734': 518, 'movie_5418': 519, 'movie_8665': 520, 'movie_1059': 521, 'movie_50872': 522, 'movie_3798': 523, 'movie_5378': 524, 'movie_6365': 525, 'movie_2231': 526, 'movie_4963': 527, 'movie_5630': 528, 'movie_4369': 529, 'movie_4901': 530, 'movie_4016': 531, 'movie_2694': 532, 'movie_4299': 533, 'movie_2006': 534, 'movie_5500': 535, 'movie_33679': 536, 'movie_53322': 537, 'movie_454': 538, 'movie_112552': 539, 'movie_1580': 540, 'movie_70': 541, 'movie_1079': 542, 'movie_2302': 543, 'movie_3421': 544, 'movie_3918': 545, 'movie_6502': 546, 'movie_8874': 547, 'movie_48774': 548, 'movie_51662': 549, 'movie_54001': 550, 'movie_56367': 551, 'movie_247': 552, 'movie_965': 553, 'movie_1235': 554, 'movie_1243': 555, 'movie_1276': 556, 'movie_1304': 557, 'movie_1674': 558, 'movie_1845': 559, 'movie_1953': 560, 'movie_1997': 561, 'movie_2140': 562, 'movie_2194': 563, 'movie_2788': 564, 'movie_2901': 565, 'movie_3683': 566, 'movie_3814': 567, 'movie_4437': 568, 'movie_4865': 569, 'movie_5377': 570, 'movie_5956': 571, 'movie_39183': 572, 'movie_236': 573, 'movie_2797': 574, 'movie_3361': 575, 'movie_1663': 576, 'movie_2248': 577, 'movie_3108': 578, 'movie_3471': 579, 'movie_5816': 580, 'movie_6807': 581, 'movie_2321': 582, 'movie_3107': 583, 'movie_3863': 584, 'movie_3994': 585, 'movie_4014': 586, 'movie_34338': 587, 'movie_1645': 588, 'movie_3969': 589, 'movie_2249': 590, 'movie_3148': 591, 'movie_6708': 592, 'movie_2375': 593, 'movie_1873': 594, 'movie_2301': 595, 'movie_44191': 596, 'movie_47610': 597, 'movie_51255': 598, 'movie_54286': 599, 'movie_54995': 600, 'movie_54997': 601, 'movie_57669': 602, 'movie_61132': 603, 'movie_63082': 604, 'movie_69122': 605, 'movie_73017': 606, 'movie_76093': 607, 'movie_134130': 608, 'movie_134853': 609, 'movie_7445': 610, 'movie_30749': 611, 'movie_49530': 612, 'movie_70286': 613, 'movie_122900': 614, 'movie_37733': 615, 'movie_54999': 616, 'movie_89745': 617, 'movie_152081': 618, 'movie_36529': 619, 'movie_110501': 620, 'movie_58998': 621, 'movie_95167': 622, 'movie_5064': 623, 'movie_54736': 624, 'movie_47200': 625, 'movie_52328': 626, 'movie_46976': 627, 'movie_55276': 628, 'movie_55118': 629, 'movie_916': 630, 'movie_922': 631, 'movie_1982': 632, 'movie_2686': 633, 'movie_3275': 634, 'movie_48516': 635, 'movie_19': 636, 'movie_235': 637, 'movie_899': 638, 'movie_1234': 639, 'movie_1288': 640, 'movie_2396': 641, 'movie_3494': 642, 'movie_750': 643, 'movie_1204': 644, 'movie_1252': 645, 'movie_3836': 646, 'movie_955': 647, 'movie_2921': 648, 'movie_3030': 649, 'movie_2067': 650, 'movie_2202': 651, 'movie_3334': 652, 'movie_915': 653, 'movie_3022': 654, 'movie_32': 655, 'movie_293': 656, 'movie_708': 657, 'movie_249': 658, 'movie_280': 659, 'movie_315': 660, 'movie_508': 661, 'movie_539': 662, 'movie_218': 663, 'movie_928': 664, 'movie_969': 665, 'movie_1151': 666, 'movie_1183': 667, 'movie_1208': 668, 'movie_1244': 669, 'movie_1247': 670, 'movie_1263': 671, 'movie_1269': 672, 'movie_1299': 673, 'movie_2076': 674, 'movie_2550': 675, 'movie_3462': 676, 'movie_6460': 677, 'movie_2020': 678, 'movie_3498': 679, 'movie_2352': 680, 'movie_1797': 681, 'movie_906': 682, 'movie_1094': 683, 'movie_2124': 684, 'movie_8984': 685, 'movie_48780': 686, 'movie_99114': 687, 'movie_106489': 688, 'movie_115149': 689, 'movie_150548': 690, 'movie_168252': 691, 'movie_1961': 692, 'movie_47099': 693, 'movie_109374': 694, 'movie_6934': 695, 'movie_128360': 696, 'movie_174053': 697, 'movie_91542': 698, 'movie_7361': 699, 'movie_79702': 700, 'movie_97913': 701, 'movie_32587': 702, 'movie_77455': 703, 'movie_92535': 704, 'movie_1223': 705, 'movie_5669': 706, 'movie_89904': 707, 'movie_38038': 708, 'movie_106696': 709, 'movie_98491': 710, 'movie_108932': 711, 'movie_89753': 712, 'movie_111781': 713, 'movie_778': 714, 'movie_1293': 715, 'movie_4235': 716, 'movie_4973': 717, 'movie_5010': 718, 'movie_8376': 719, 'movie_27773': 720, 'movie_1217': 721, 'movie_4128': 722, 'movie_4380': 723, 'movie_5673': 724, 'movie_3535': 725, 'movie_6385': 726, 'movie_8917': 727, 'movie_3072': 728, 'movie_1096': 729, 'movie_1912': 730, 'movie_5690': 731, 'movie_8014': 732, 'movie_6188': 733, 'movie_30810': 734, 'movie_224': 735, 'movie_535': 736, 'movie_1266': 737, 'movie_1358': 738, 'movie_1748': 739, 'movie_2288': 740, 'movie_2648': 741, 'movie_3037': 742, 'movie_4226': 743, 'movie_5464': 744, 'movie_5617': 745, 'movie_1261': 746, 'movie_7147': 747, 'movie_1956': 748, 'movie_3201': 749, 'movie_5747': 750, 'movie_3074': 751, 'movie_5299': 752, 'movie_7018': 753, 'movie_4896': 754, 'movie_40815': 755, 'movie_44195': 756, 'movie_52973': 757, 'movie_71535': 758, 'movie_72998': 759, 'movie_81834': 760, 'movie_34162': 761, 'movie_59369': 762, 'movie_102445': 763, 'movie_8368': 764, 'movie_66934': 765, 'movie_53996': 766, 'movie_69069': 767, 'movie_64969': 768, 'movie_91500': 769, 'movie_2951': 770, 'movie_3175': 771, 'movie_4027': 772, 'movie_4874': 773, 'movie_1172': 774, 'movie_3359': 775, 'movie_3468': 776, 'movie_1300': 777, 'movie_8949': 778, 'movie_802': 779, 'movie_4979': 780, 'movie_6936': 781, 'movie_78499': 782, 'movie_86833': 783, 'movie_122892': 784, 'movie_1682': 785, 'movie_86332': 786, 'movie_87232': 787, 'movie_111362': 788, 'movie_60684': 789, 'movie_110102': 790, 'movie_1041': 791, 'movie_926': 792, 'movie_1230': 793, 'movie_1960': 794, 'movie_2908': 795, 'movie_3089': 796, 'movie_3307': 797, 'movie_6016': 798, 'movie_6591': 799, 'movie_46578': 800, 'movie_6666': 801, 'movie_41997': 802, 'movie_6791': 803, 'movie_6993': 804, 'movie_7323': 805, 'movie_6787': 806, 'movie_3681': 807, 'movie_34405': 808, 'movie_8961': 809, 'movie_1127': 810, 'movie_1192': 811, 'movie_1218': 812, 'movie_1610': 813, 'movie_3104': 814, 'movie_3266': 815, 'movie_44199': 816, 'movie_44665': 817, 'movie_91658': 818, 'movie_8798': 819, 'movie_8950': 820, 'movie_80831': 821, 'movie_94864': 822, 'movie_1225': 823, 'movie_25': 824, 'movie_52': 825, 'movie_299': 826, 'movie_348': 827, 'movie_800': 828, 'movie_1267': 829, 'movie_1292': 830, 'movie_1307': 831, 'movie_1131': 832, 'movie_412': 833, 'movie_1295': 834, 'movie_53': 835, 'movie_1185': 836, 'movie_5971': 837, 'movie_1884': 838, 'movie_48394': 839, 'movie_3785': 840, 'movie_14': 841, 'movie_85': 842, 'movie_1411': 843, 'movie_3429': 844, 'movie_3740': 845, 'movie_6659': 846, 'movie_7387': 847, 'movie_1129': 848, 'movie_3081': 849, 'movie_1274': 850, 'movie_6857': 851, 'movie_7360': 852, 'movie_2': 853, 'movie_2193': 854, 'movie_2916': 855, 'movie_1917': 856, 'movie_1175': 857, 'movie_1228': 858, 'movie_741': 859, 'movie_5072': 860, 'movie_2289': 861, 'movie_2294': 862, 'movie_3418': 863, 'movie_1296': 864, 'movie_3060': 865, 'movie_3623': 866, 'movie_74458': 867, 'movie_88163': 868, 'movie_122916': 869, 'movie_122926': 870, 'movie_164179': 871, 'movie_177765': 872, 'movie_97921': 873, 'movie_225': 874, 'movie_252': 875, 'movie_1958': 876, 'movie_2318': 877, 'movie_3174': 878, 'movie_18': 879, 'movie_3160': 880, 'movie_55247': 881, 'movie_64614': 882, 'movie_2087': 883, 'movie_148626': 884, 'movie_4873': 885, 'movie_4881': 886, 'movie_4019': 887, 'movie_2671': 888, 'movie_7034': 889, 'movie_106920': 890, 'movie_159817': 891, 'movie_52281': 892, 'movie_170705': 893, 'movie_1281': 894, 'movie_69757': 895, 'movie_7371': 896, 'movie_2131': 897, 'movie_96829': 898, 'movie_171011': 899, 'movie_104374': 900, 'movie_45722': 901, 'movie_59784': 902, 'movie_88125': 903, 'movie_69844': 904, 'movie_53125': 905, 'movie_141': 906, 'movie_5445': 907, 'movie_175': 908, 'movie_119145': 909, 'movie_37384': 910, 'movie_61024': 911, 'movie_87529': 912, 'movie_48322': 913, 'movie_128520': 914, 'movie_85367': 915, 'movie_102903': 916, 'movie_902': 917, 'movie_2080': 918, 'movie_3296': 919, 'movie_932': 920, 'movie_933': 921, 'movie_1683': 922, 'movie_3099': 923, 'movie_2132': 924, 'movie_3831': 925, 'movie_1407': 926, 'movie_3499': 927, 'movie_1566': 928, 'movie_2792': 929, 'movie_170': 930, 'movie_30707': 931, 'movie_104913': 932, 'movie_67255': 933, 'movie_114662': 934, 'movie_80463': 935, 'movie_96861': 936, 'movie_105504': 937, 'movie_714': 938, 'movie_1199': 939, 'movie_1394': 940, 'movie_55765': 941, 'movie_93840': 942, 'movie_96737': 943, 'movie_139385': 944, 'movie_31658': 945, 'movie_54503': 946, 'movie_51540': 947, 'movie_56782': 948, 'movie_72226': 949, 'movie_103341': 950, 'movie_121231': 951, 'movie_2455': 952, 'movie_5110': 953, 'movie_86345': 954, 'movie_86377': 955, 'movie_61323': 956, 'movie_94959': 957, 'movie_1237': 958, 'movie_4776': 959, 'movie_86347': 960, 'movie_115122': 961, 'movie_81591': 962, 'movie_171763': 963, 'movie_7022': 964, 'movie_7254': 965, 'movie_8254': 966, 'movie_9010': 967, 'movie_2600': 968, 'movie_54190': 969, 'movie_905': 970, 'movie_945': 971, 'movie_1676': 972, 'movie_3556': 973, 'movie_161': 974, 'movie_485': 975, 'movie_1883': 976, 'movie_2409': 977, 'movie_2064': 978, 'movie_440': 979, 'movie_207': 980, 'movie_188': 981, 'movie_1949': 982, 'movie_951': 983, 'movie_2924': 984, 'movie_1019': 985, 'movie_1957': 986, 'movie_4223': 987, 'movie_6947': 988, 'movie_3155': 989, 'movie_3916': 990, 'movie_3685': 991, 'movie_3255': 992, 'movie_4327': 993, 'movie_6378': 994, 'movie_3178': 995, 'movie_2144': 996, 'movie_81847': 997, 'movie_4447': 998, 'movie_5066': 999, 'movie_7169': 1000, 'movie_1405': 1001, 'movie_69481': 1002, 'movie_96610': 1003, 'movie_98243': 1004, 'movie_417': 1005, 'movie_866': 1006, 'movie_947': 1007, 'movie_1179': 1008, 'movie_1354': 1009, 'movie_2360': 1010, 'movie_3224': 1011, 'movie_3473': 1012, 'movie_3503': 1013, 'movie_2239': 1014, 'movie_3152': 1015, 'movie_1251': 1016, 'movie_2732': 1017, 'movie_4914': 1018, 'movie_8228': 1019, 'movie_3134': 1020, 'movie_936': 1021, 'movie_2511': 1022, 'movie_72641': 1023, 'movie_1186': 1024, 'movie_1277': 1025, 'movie_1483': 1026, 'movie_3910': 1027, 'movie_198': 1028, 'movie_2710': 1029, 'movie_3697': 1030, 'movie_4021': 1031, 'movie_1339': 1032, 'movie_1320': 1033, 'movie_1734': 1034, 'movie_1022': 1035, 'movie_5992': 1036, 'movie_4571': 1037, 'movie_7247': 1038, 'movie_515': 1039, 'movie_534': 1040, 'movie_3527': 1041, 'movie_3404': 1042, 'movie_5466': 1043, 'movie_26662': 1044, 'movie_8784': 1045, 'movie_33166': 1046, 'movie_1950': 1047, 'movie_4406': 1048, 'movie_44555': 1049, 'movie_5291': 1050, 'movie_2683': 1051, 'movie_524': 1052, 'movie_2501': 1053, 'movie_317': 1054, 'movie_586': 1055, 'movie_8641': 1056, 'movie_1028': 1057, 'movie_3967': 1058, 'movie_861': 1059, 'movie_1367': 1060, 'movie_171': 1061, 'movie_471': 1062, 'movie_909': 1063, 'movie_1945': 1064, 'movie_1939': 1065, 'movie_97304': 1066, 'movie_7121': 1067, 'movie_1801': 1068, 'movie_1955': 1069, 'movie_971': 1070, 'movie_106100': 1071, 'movie_103141': 1072, 'movie_7451': 1073, 'movie_80549': 1074, 'movie_38061': 1075, 'movie_5225': 1076, 'movie_1227': 1077, 'movie_2010': 1078, 'movie_3925': 1079, 'movie_1279': 1080, 'movie_1370': 1081, 'movie_74754': 1082, 'movie_2640': 1083, 'movie_1253': 1084, 'movie_2617': 1085, 'movie_968': 1086, 'movie_1376': 1087, 'movie_2664': 1088, 'movie_5008': 1089, 'movie_3504': 1090, 'movie_1809': 1091, 'movie_2810': 1092, 'movie_27397': 1093, 'movie_31364': 1094, 'movie_31410': 1095, 'movie_6620': 1096, 'movie_3341': 1097, 'movie_2312': 1098, 'movie_213': 1099, 'movie_99': 1100, 'movie_3897': 1101, 'movie_142488': 1102, 'movie_3252': 1103, 'movie_3246': 1104, 'movie_4023': 1105, 'movie_1178': 1106, 'movie_441': 1107, 'movie_3301': 1108, 'movie_4025': 1109, 'movie_31878': 1110, 'movie_1777': 1111, 'movie_44761': 1112, 'movie_1020': 1113, 'movie_5103': 1114, 'movie_6863': 1115, 'movie_1909': 1116, 'movie_1095': 1117, 'movie_3505': 1118, 'movie_1147': 1119, 'movie_3036': 1120, 'movie_98809': 1121, 'movie_122918': 1122, 'movie_112175': 1123, 'movie_1297': 1124, 'movie_3507': 1125, 'movie_1238': 1126, 'movie_3435': 1127, 'movie_3543': 1128, 'movie_2915': 1129, 'movie_45517': 1130, 'movie_55363': 1131, 'movie_1711': 1132, 'movie_3983': 1133, 'movie_6987': 1134, 'movie_2973': 1135, 'movie_3090': 1136, 'movie_3476': 1137, 'movie_6796': 1138, 'movie_2100': 1139, 'movie_2108': 1140, 'movie_2795': 1141, 'movie_69': 1142, 'movie_785': 1143, 'movie_1974': 1144, 'movie_5650': 1145, 'movie_48738': 1146, 'movie_55721': 1147, 'movie_85342': 1148, 'movie_24': 1149, 'movie_3624': 1150, 'movie_2770': 1151, 'movie_2490': 1152, 'movie_5903': 1153, 'movie_35836': 1154, 'movie_7143': 1155, 'movie_8132': 1156, 'movie_383': 1157, 'movie_516': 1158, 'movie_653': 1159, 'movie_172': 1160, 'movie_267': 1161, 'movie_673': 1162, 'movie_2336': 1163, 'movie_5013': 1164, 'movie_7669': 1165, 'movie_4144': 1166, 'movie_7090': 1167, 'movie_52885': 1168, 'movie_59387': 1169, 'movie_65261': 1170, 'movie_66371': 1171, 'movie_4956': 1172, 'movie_62336': 1173, 'movie_84944': 1174, 'movie_87222': 1175, 'movie_115713': 1176, 'movie_88129': 1177, 'movie_93838': 1178, 'movie_104841': 1179, 'movie_86882': 1180, 'movie_112556': 1181, 'movie_115569': 1182, 'movie_3408': 1183, 'movie_2739': 1184, 'movie_1194': 1185, 'movie_4641': 1186, 'movie_8914': 1187, 'movie_1680': 1188, 'movie_41566': 1189, 'movie_1466': 1190, 'movie_3265': 1191, 'movie_3101': 1192, 'movie_2907': 1193, 'movie_334': 1194, 'movie_2925': 1195, 'movie_1964': 1196, 'movie_1303': 1197, 'movie_1273': 1198, 'movie_74': 1199, 'movie_724': 1200, 'movie_3260': 1201, 'movie_2819': 1202, 'movie_2917': 1203, 'movie_2935': 1204, 'movie_1635': 1205, 'movie_2110': 1206, 'movie_2240': 1207, 'movie_2912': 1208, 'movie_3039': 1209, 'movie_3424': 1210, 'movie_6218': 1211, 'movie_3384': 1212, 'movie_3730': 1213, 'movie_1594': 1214, 'movie_4334': 1215, 'movie_3741': 1216, 'movie_5135': 1217, 'movie_4361': 1218, 'movie_1042': 1219, 'movie_88': 1220, 'movie_4499': 1221, 'movie_237': 1222, 'movie_4642': 1223, 'movie_3363': 1224, 'movie_3198': 1225, 'movie_1254': 1226, 'movie_2731': 1227, 'movie_3035': 1228, 'movie_918': 1229, 'movie_3040': 1230, 'movie_112290': 1231, 'movie_2393': 1232, 'movie_1333': 1233, 'movie_2411': 1234, 'movie_2985': 1235, 'movie_3868': 1236, 'movie_7981': 1237, 'movie_8644': 1238, 'movie_65514': 1239, 'movie_106918': 1240, 'movie_64839': 1241, 'movie_2167': 1242, 'movie_83134': 1243, 'movie_48385': 1244, 'movie_3267': 1245, 'movie_7439': 1246, 'movie_55908': 1247, 'movie_2232': 1248, 'movie_104211': 1249, 'movie_6818': 1250, 'movie_106642': 1251, 'movie_5899': 1252, 'movie_4103': 1253, 'movie_4105': 1254, 'movie_2003': 1255, 'movie_1289': 1256, 'movie_3704': 1257, 'movie_5026': 1258, 'movie_5254': 1259, 'movie_2530': 1260, 'movie_3701': 1261, 'movie_3153': 1262, 'movie_4941': 1263, 'movie_2867': 1264, 'movie_5540': 1265, 'movie_2117': 1266, 'movie_3727': 1267, 'movie_7156': 1268, 'movie_78836': 1269, 'movie_2687': 1270, 'movie_2159': 1271, 'movie_3088': 1272, 'movie_1619': 1273, 'movie_86504': 1274, 'movie_4015': 1275, 'movie_4388': 1276, 'movie_3617': 1277, 'movie_61240': 1278, 'movie_494': 1279, 'movie_628': 1280, 'movie_76': 1281, 'movie_9': 1282, 'movie_762': 1283, 'movie_786': 1284, 'movie_27': 1285, 'movie_3176': 1286, 'movie_3470': 1287, 'movie_174055': 1288, 'movie_4975': 1289, 'movie_4370': 1290, 'movie_2065': 1291, 'movie_118696': 1292, 'movie_186': 1293, 'movie_1257': 1294, 'movie_5666': 1295, 'movie_3809': 1296, 'movie_26471': 1297, 'movie_6380': 1298, 'movie_38304': 1299, 'movie_1608': 1300, 'movie_1616': 1301, 'movie_1620': 1302, 'movie_1687': 1303, 'movie_1747': 1304, 'movie_832': 1305, 'movie_376': 1306, 'movie_2398': 1307, 'movie_3061': 1308, 'movie_3360': 1309, 'movie_55167': 1310, 'movie_98154': 1311, 'movie_98961': 1312, 'movie_5833': 1313, 'movie_57274': 1314, 'movie_102125': 1315, 'movie_122920': 1316, 'movie_158238': 1317, 'movie_168248': 1318, 'movie_1589': 1319, 'movie_4855': 1320, 'movie_1347': 1321, 'movie_7373': 1322, 'movie_54259': 1323, 'movie_5444': 1324, 'movie_2403': 1325, 'movie_86880': 1326, 'movie_122922': 1327, 'movie_167746': 1328, 'movie_64957': 1329, 'movie_2436': 1330, 'movie_1211': 1331, 'movie_33615': 1332, 'movie_62999': 1333, 'movie_805': 1334, 'movie_37729': 1335, 'movie_1916': 1336, 'movie_31696': 1337, 'movie_208': 1338, 'movie_89492': 1339, 'movie_3526': 1340, 'movie_2109': 1341, 'movie_1078': 1342, 'movie_942': 1343, 'movie_1260': 1344, 'movie_3618': 1345, 'movie_51935': 1346, 'movie_1792': 1347, 'movie_2002': 1348, 'movie_6373': 1349, 'movie_2476': 1350, 'movie_6442': 1351, 'movie_322': 1352, 'movie_2114': 1353, 'movie_5292': 1354, 'movie_599': 1355, 'movie_176371': 1356, 'movie_102407': 1357, 'movie_1835': 1358, 'movie_3254': 1359, 'movie_1241': 1360, 'movie_1343': 1361, 'movie_4085': 1362, 'movie_1717': 1363, 'movie_3698': 1364, 'movie_1753': 1365, 'movie_1569': 1366, 'movie_4701': 1367, 'movie_168250': 1368, 'movie_1344': 1369, 'movie_3020': 1370, 'movie_2203': 1371, 'movie_3068': 1372, 'movie_3244': 1373, 'movie_2424': 1374, 'movie_71530': 1375, 'movie_3347': 1376, 'movie_51709': 1377, 'movie_27611': 1378, 'movie_2243': 1379, 'movie_1962': 1380, 'movie_97938': 1381, 'movie_4467': 1382, 'movie_3317': 1383, 'movie_27815': 1384, 'movie_1485': 1385, 'movie_2953': 1386, 'movie_1047': 1387, 'movie_891': 1388, 'movie_112183': 1389, 'movie_5810': 1390, 'movie_127098': 1391, 'movie_40148': 1392, 'movie_57504': 1393, 'movie_56757': 1394, 'movie_3672': 1395, 'movie_45': 1396, 'movie_58295': 1397, 'movie_6184': 1398, 'movie_4823': 1399, 'movie_1327': 1400, 'movie_1350': 1401, 'movie_122906': 1402, 'movie_1701': 1403, 'movie_2936': 1404, 'movie_931': 1405}\n"
          ]
        }
      ]
    },
    {
      "cell_type": "code",
      "source": [
        "print(len(vocabulary))"
      ],
      "metadata": {
        "colab": {
          "base_uri": "https://localhost:8080/"
        },
        "id": "uiUWf2EQX4PO",
        "outputId": "9c71dd77-c6bb-4ed9-b6b5-b332e8e9526b"
      },
      "execution_count": null,
      "outputs": [
        {
          "output_type": "stream",
          "name": "stdout",
          "text": [
            "1406\n"
          ]
        }
      ]
    },
    {
      "cell_type": "markdown",
      "source": [
        "# Implement the biased random walk"
      ],
      "metadata": {
        "id": "cEULEyum4j7O"
      }
    },
    {
      "cell_type": "code",
      "source": [
        "def next_step(graph, previous, current, p, q):\n",
        "    neighbors = list(graph.neighbors(current))    # Returns an iterator over all neighbors of node n.\n",
        "\n",
        "    weights = []         # weight of each edge between two movies\n",
        "    \n",
        "    # Adjust the weights of the edges to the neighbors with respect to p and q.\n",
        "    for neighbor in neighbors:\n",
        "        if neighbor == previous:\n",
        "            # Control the probability to return to the previous node.\n",
        "            weights.append(graph[current][neighbor][\"weight\"] / p)\n",
        "        elif graph.has_edge(neighbor, previous):\n",
        "            # The probability of visiting a local node.\n",
        "            weights.append(graph[current][neighbor][\"weight\"])\n",
        "        else:\n",
        "            # Control the probability to move forward.\n",
        "            weights.append(graph[current][neighbor][\"weight\"] / q)\n",
        "\n",
        "    # Compute the probabilities of visiting each neighbor.\n",
        "    weight_sum = sum(weights)\n",
        "    probabilities = [weight / weight_sum for weight in weights]\n",
        "    # Probabilistically select a neighbor to visit.\n",
        "    next = np.random.choice(neighbors, size=1, p=probabilities)[0]\n",
        "    return next\n",
        "\n",
        "\n",
        "def random_walk(graph, num_walks, num_steps, p, q):\n",
        "    walks = []\n",
        "    nodes = list(graph.nodes())\n",
        "    # Perform multiple iterations of the random walk.\n",
        "    for walk_iteration in range(num_walks):\n",
        "        random.shuffle(nodes)\n",
        "\n",
        "        for node in tqdm(\n",
        "            nodes,\n",
        "            position=0,\n",
        "            leave=True,\n",
        "            desc=f\"Random walks iteration {walk_iteration + 1} of {num_walks}\",\n",
        "        ):\n",
        "            # Start the walk with a random node from the graph.\n",
        "            walk = [node]\n",
        "            # Randomly walk for num_steps.\n",
        "            while len(walk) < num_steps:\n",
        "                current = walk[-1]\n",
        "                previous = walk[-2] if len(walk) > 1 else None\n",
        "                # Compute the next node to visit.\n",
        "                next = next_step(graph, previous, current, p, q)\n",
        "                walk.append(next)\n",
        "            # Replace node ids (movie ids) in the walk with token ids.\n",
        "            walk = [vocabulary_lookup[token] for token in walk]\n",
        "            # Add the walk to the generated sequence.\n",
        "            walks.append(walk)\n",
        "\n",
        "    return walks"
      ],
      "metadata": {
        "id": "XcVK3AXriouA"
      },
      "execution_count": null,
      "outputs": []
    },
    {
      "cell_type": "markdown",
      "source": [
        "# Generate training data using the biased random walk"
      ],
      "metadata": {
        "id": "5ZgvhTsn48Al"
      }
    },
    {
      "cell_type": "code",
      "source": [
        "# Random walk return parameter.\n",
        "p = 1\n",
        "# Random walk in-out parameter.\n",
        "q = 1\n",
        "# Number of iterations of random walks.\n",
        "num_walks = 5\n",
        "# Number of steps of each random walk.\n",
        "num_steps = 10\n",
        "walks = random_walk(movies_graph, num_walks, num_steps, p, q)\n",
        "\n",
        "print(\"Number of walks generated:\", len(walks))"
      ],
      "metadata": {
        "colab": {
          "base_uri": "https://localhost:8080/"
        },
        "id": "l2Od_6Aj4w2k",
        "outputId": "d0223803-c273-4672-cbdd-9b7cfed85bae"
      },
      "execution_count": null,
      "outputs": [
        {
          "output_type": "stream",
          "name": "stderr",
          "text": [
            "Random walks iteration 1 of 5: 100%|██████████| 1405/1405 [00:06<00:00, 220.27it/s]\n",
            "Random walks iteration 2 of 5: 100%|██████████| 1405/1405 [00:06<00:00, 207.61it/s]\n",
            "Random walks iteration 3 of 5: 100%|██████████| 1405/1405 [00:06<00:00, 228.24it/s]\n",
            "Random walks iteration 4 of 5: 100%|██████████| 1405/1405 [00:06<00:00, 215.12it/s]\n",
            "Random walks iteration 5 of 5: 100%|██████████| 1405/1405 [00:06<00:00, 220.25it/s]"
          ]
        },
        {
          "output_type": "stream",
          "name": "stdout",
          "text": [
            "Number of walks generated: 7025\n"
          ]
        },
        {
          "output_type": "stream",
          "name": "stderr",
          "text": [
            "\n"
          ]
        }
      ]
    },
    {
      "cell_type": "code",
      "source": [
        "print(\"Number of nodes or movies in walk number 1:\", len(walks[0]))\n",
        "print(\"Number of nodes or movies in walk number 7025:\", len(walks[7024]))"
      ],
      "metadata": {
        "colab": {
          "base_uri": "https://localhost:8080/"
        },
        "id": "kMqa-Trtrxar",
        "outputId": "479f3cde-a168-4cfb-d38b-846b4370fd14"
      },
      "execution_count": null,
      "outputs": [
        {
          "output_type": "stream",
          "name": "stdout",
          "text": [
            "Number of nodes or movies in walk number 1: 10\n",
            "Number of nodes or movies in walk number 7025: 10\n"
          ]
        }
      ]
    },
    {
      "cell_type": "code",
      "source": [
        "for i in range(10):\n",
        "  print(walks[i])"
      ],
      "metadata": {
        "colab": {
          "base_uri": "https://localhost:8080/"
        },
        "id": "mL5UUlffuC8Y",
        "outputId": "3e506f18-9b85-4cee-ccc2-b59c55cc3fee"
      },
      "execution_count": null,
      "outputs": [
        {
          "output_type": "stream",
          "name": "stdout",
          "text": [
            "[57, 6, 176, 391, 937, 322, 350, 656, 306, 34]\n",
            "[208, 163, 974, 171, 656, 415, 416, 16, 2, 449]\n",
            "[1099, 12, 714, 1352, 433, 50, 201, 541, 770, 702]\n",
            "[515, 19, 16, 19, 211, 716, 419, 256, 680, 338]\n",
            "[1146, 448, 23, 461, 863, 542, 224, 1028, 668, 73]\n",
            "[120, 1, 18, 52, 782, 1101, 984, 1101, 273, 1014]\n",
            "[1164, 273, 558, 106, 668, 743, 1180, 319, 598, 24]\n",
            "[746, 847, 207, 246, 1107, 669, 160, 50, 823, 260]\n",
            "[632, 855, 1254, 62, 1254, 1177, 655, 16, 838, 514]\n",
            "[416, 272, 126, 970, 126, 641, 302, 49, 78, 407]\n"
          ]
        }
      ]
    },
    {
      "cell_type": "markdown",
      "source": [
        "# Generate positive and negative examples"
      ],
      "metadata": {
        "id": "HrPSY1I05Y-i"
      }
    },
    {
      "cell_type": "code",
      "source": [
        "def generate_examples(sequences, window_size, num_negative_samples, vocabulary_size):\n",
        "    example_weights = defaultdict(int)\n",
        "    # Iterate over all sequences (walks).\n",
        "    for sequence in tqdm(\n",
        "        sequences,\n",
        "        position=0,\n",
        "        leave=True,\n",
        "        desc=f\"Generating postive and negative examples\",\n",
        "    ):\n",
        "        # Generate positive and negative skip-gram pairs for a sequence (walk).\n",
        "        pairs, labels = keras.preprocessing.sequence.skipgrams(\n",
        "            sequence,\n",
        "            vocabulary_size=vocabulary_size,\n",
        "            window_size=window_size,\n",
        "            negative_samples=num_negative_samples,\n",
        "        )\n",
        "        for idx in range(len(pairs)):\n",
        "            pair = pairs[idx]\n",
        "            label = labels[idx]\n",
        "            target, context = min(pair[0], pair[1]), max(pair[0], pair[1])\n",
        "            if target == context:\n",
        "                continue\n",
        "            entry = (target, context, label)\n",
        "            example_weights[entry] += 1\n",
        "\n",
        "    targets, contexts, labels, weights = [], [], [], []\n",
        "    for entry in example_weights:\n",
        "        weight = example_weights[entry]\n",
        "        target, context, label = entry\n",
        "        targets.append(target)\n",
        "        contexts.append(context)\n",
        "        labels.append(label)\n",
        "        weights.append(weight)\n",
        "\n",
        "    return np.array(targets), np.array(contexts), np.array(labels), np.array(weights)\n",
        "\n",
        "\n",
        "num_negative_samples = 4\n",
        "targets, contexts, labels, weights = generate_examples(\n",
        "    sequences=walks,\n",
        "    window_size=num_steps,\n",
        "    num_negative_samples=num_negative_samples,\n",
        "    vocabulary_size=len(vocabulary),\n",
        ")"
      ],
      "metadata": {
        "colab": {
          "base_uri": "https://localhost:8080/"
        },
        "id": "aSxfggoJ5d_o",
        "outputId": "5a2feb36-ea2b-443a-98af-05cb19b8b39c"
      },
      "execution_count": null,
      "outputs": [
        {
          "output_type": "stream",
          "name": "stderr",
          "text": [
            "Generating postive and negative examples: 100%|██████████| 7025/7025 [00:13<00:00, 514.59it/s]\n"
          ]
        }
      ]
    },
    {
      "cell_type": "markdown",
      "source": [
        "##### Let's display the shapes of the outputs"
      ],
      "metadata": {
        "id": "zZ8noatrfKMA"
      }
    },
    {
      "cell_type": "code",
      "source": [
        "print(f\"Targets shape: {targets.shape}\")\n",
        "print(f\"Contexts shape: {contexts.shape}\")\n",
        "print(f\"Labels shape: {labels.shape}\")\n",
        "print(f\"Weights shape: {weights.shape}\")"
      ],
      "metadata": {
        "colab": {
          "base_uri": "https://localhost:8080/"
        },
        "id": "QrGFeLvH6dd6",
        "outputId": "4f72d703-579d-4810-ca0d-85096ab75387"
      },
      "execution_count": null,
      "outputs": [
        {
          "output_type": "stream",
          "name": "stdout",
          "text": [
            "Targets shape: (881813,)\n",
            "Contexts shape: (881813,)\n",
            "Labels shape: (881813,)\n",
            "Weights shape: (881813,)\n"
          ]
        }
      ]
    },
    {
      "cell_type": "markdown",
      "source": [
        "### Convert the data into tf.data.Dataset objects"
      ],
      "metadata": {
        "id": "ti9txf4T6kcT"
      }
    },
    {
      "cell_type": "code",
      "source": [
        "batch_size = 1024\n",
        "\n",
        "\n",
        "def create_dataset(targets, contexts, labels, weights, batch_size):\n",
        "    inputs = {\n",
        "        \"target\": targets,\n",
        "        \"context\": contexts,\n",
        "    }\n",
        "    dataset = tf.data.Dataset.from_tensor_slices((inputs, labels, weights))\n",
        "    dataset = dataset.shuffle(buffer_size=batch_size * 2)\n",
        "    dataset = dataset.batch(batch_size, drop_remainder=True)\n",
        "    dataset = dataset.prefetch(tf.data.AUTOTUNE)\n",
        "    return dataset\n",
        "\n",
        "\n",
        "dataset = create_dataset(\n",
        "    targets=targets,\n",
        "    contexts=contexts,\n",
        "    labels=labels,\n",
        "    weights=weights,\n",
        "    batch_size=batch_size,\n",
        ")\n"
      ],
      "metadata": {
        "id": "qBa9VGAk6eUi"
      },
      "execution_count": null,
      "outputs": []
    },
    {
      "cell_type": "markdown",
      "source": [
        "# Train the skip-gram model"
      ],
      "metadata": {
        "id": "4mi8HMGY6uZY"
      }
    },
    {
      "cell_type": "code",
      "source": [
        "learning_rate = 0.001\n",
        "embedding_dim = 50\n",
        "num_epochs = 10"
      ],
      "metadata": {
        "id": "yaif4xm-6v5j"
      },
      "execution_count": null,
      "outputs": []
    },
    {
      "cell_type": "markdown",
      "source": [],
      "metadata": {
        "id": "5N8R6IYW7GC9"
      }
    },
    {
      "cell_type": "markdown",
      "source": [
        "### Implement the model"
      ],
      "metadata": {
        "id": "cRcYEcBV7GKK"
      }
    },
    {
      "cell_type": "code",
      "source": [
        "def create_model(vocabulary_size, embedding_dim):\n",
        "\n",
        "    inputs = {\n",
        "        \"target\": layers.Input(name=\"target\", shape=(), dtype=\"int32\"),\n",
        "        \"context\": layers.Input(name=\"context\", shape=(), dtype=\"int32\"),\n",
        "    }\n",
        "    # Initialize item embeddings.\n",
        "    embed_item = layers.Embedding(\n",
        "        input_dim=vocabulary_size,\n",
        "        output_dim=embedding_dim,\n",
        "        embeddings_initializer=\"he_normal\",\n",
        "        embeddings_regularizer=keras.regularizers.l2(1e-6),\n",
        "        name=\"item_embeddings\",\n",
        "    )\n",
        "    # Lookup embeddings for target.\n",
        "    target_embeddings = embed_item(inputs[\"target\"])\n",
        "    # Lookup embeddings for context.\n",
        "    context_embeddings = embed_item(inputs[\"context\"])\n",
        "    # Compute dot similarity between target and context embeddings.\n",
        "    logits = layers.Dot(axes=1, normalize=False, name=\"dot_similarity\")(\n",
        "        [target_embeddings, context_embeddings]\n",
        "    )\n",
        "    # Create the model.\n",
        "    model = keras.Model(inputs=inputs, outputs=logits)\n",
        "    return model"
      ],
      "metadata": {
        "id": "xNzziJhN7EF7"
      },
      "execution_count": null,
      "outputs": []
    },
    {
      "cell_type": "markdown",
      "source": [
        "### Train the model"
      ],
      "metadata": {
        "id": "hCRZpC5H7PBG"
      }
    },
    {
      "cell_type": "code",
      "source": [
        "model = create_model(len(vocabulary), embedding_dim)\n",
        "model.compile(\n",
        "    optimizer=keras.optimizers.Adam(learning_rate),\n",
        "    loss=keras.losses.BinaryCrossentropy(from_logits=True),\n",
        ")"
      ],
      "metadata": {
        "id": "2jWgsscA7LZO"
      },
      "execution_count": null,
      "outputs": []
    },
    {
      "cell_type": "code",
      "source": [
        "keras.utils.plot_model(\n",
        "    model,\n",
        "    show_shapes=True,\n",
        "    show_dtype=True,\n",
        "    show_layer_names=True,\n",
        ")"
      ],
      "metadata": {
        "colab": {
          "base_uri": "https://localhost:8080/",
          "height": 404
        },
        "id": "GPXuJzvH7RqJ",
        "outputId": "e1e15df9-9944-418a-f9cf-53a1f9c87344"
      },
      "execution_count": null,
      "outputs": [
        {
          "output_type": "execute_result",
          "data": {
            "image/png": "[encoded data removed]",
            "text/plain": [
              "<IPython.core.display.Image object>"
            ]
          },
          "metadata": {},
          "execution_count": 29
        }
      ]
    },
    {
      "cell_type": "code",
      "source": [
        "history = model.fit(dataset, epochs=num_epochs)"
      ],
      "metadata": {
        "colab": {
          "base_uri": "https://localhost:8080/"
        },
        "id": "o7HKff-77VLq",
        "outputId": "e71acecb-bcd5-4f4c-f599-88ba579beb36"
      },
      "execution_count": null,
      "outputs": [
        {
          "output_type": "stream",
          "name": "stdout",
          "text": [
            "Epoch 1/10\n",
            "861/861 [==============================] - 5s 5ms/step - loss: 2.4455\n",
            "Epoch 2/10\n",
            "861/861 [==============================] - 6s 7ms/step - loss: 2.3392\n",
            "Epoch 3/10\n",
            "861/861 [==============================] - 4s 5ms/step - loss: 2.3328\n",
            "Epoch 4/10\n",
            "861/861 [==============================] - 5s 6ms/step - loss: 2.3293\n",
            "Epoch 5/10\n",
            "861/861 [==============================] - 4s 5ms/step - loss: 2.3253\n",
            "Epoch 6/10\n",
            "861/861 [==============================] - 5s 6ms/step - loss: 2.3212\n",
            "Epoch 7/10\n",
            "861/861 [==============================] - 5s 6ms/step - loss: 2.3176\n",
            "Epoch 8/10\n",
            "861/861 [==============================] - 5s 5ms/step - loss: 2.3144\n",
            "Epoch 9/10\n",
            "861/861 [==============================] - 4s 5ms/step - loss: 2.3117\n",
            "Epoch 10/10\n",
            "861/861 [==============================] - 5s 6ms/step - loss: 2.3089\n"
          ]
        }
      ]
    },
    {
      "cell_type": "code",
      "source": [
        "plt.plot(history.history[\"loss\"])\n",
        "plt.ylabel(\"loss\")\n",
        "plt.xlabel(\"epoch\")\n",
        "plt.show()"
      ],
      "metadata": {
        "colab": {
          "base_uri": "https://localhost:8080/",
          "height": 279
        },
        "id": "aTgRi6n-7gTX",
        "outputId": "b325eead-9bf4-4ec9-c000-a80c730f0307"
      },
      "execution_count": null,
      "outputs": [
        {
          "output_type": "display_data",
          "data": {
            "text/plain": [
              "<Figure size 432x288 with 1 Axes>"
            ],
            "image/png": "[encoded data removed]"
          },
          "metadata": {
            "needs_background": "light"
          }
        }
      ]
    },
    {
      "cell_type": "markdown",
      "source": [
        "# Analyze the learnt embeddings"
      ],
      "metadata": {
        "id": "tE6grwIO7-AH"
      }
    },
    {
      "cell_type": "code",
      "source": [
        "movie_embeddings = model.get_layer(\"item_embeddings\").get_weights()[0]\n",
        "print(\"Embeddings shape:\", movie_embeddings.shape)"
      ],
      "metadata": {
        "colab": {
          "base_uri": "https://localhost:8080/"
        },
        "id": "Cu30SMZE71b8",
        "outputId": "1a6656bf-f787-4f85-e736-250ca36c72f4"
      },
      "execution_count": null,
      "outputs": [
        {
          "output_type": "stream",
          "name": "stdout",
          "text": [
            "Embeddings shape: (1406, 50)\n"
          ]
        }
      ]
    },
    {
      "cell_type": "markdown",
      "source": [
        "### Find related movies"
      ],
      "metadata": {
        "id": "OX8x5ZQ-8Dcd"
      }
    },
    {
      "cell_type": "code",
      "source": [
        "query_movies = [\n",
        "    \"Matrix, The (1999)\"\n",
        "]"
      ],
      "metadata": {
        "id": "WiCnzEe874CY"
      },
      "execution_count": null,
      "outputs": []
    },
    {
      "cell_type": "code",
      "source": [
        "query_embeddings = []\n",
        "\n",
        "for movie_title in query_movies:\n",
        "    movieId = get_movie_id_by_title(movie_title)\n",
        "    token_id = vocabulary_lookup[movieId]\n",
        "    movie_embedding = movie_embeddings[token_id]\n",
        "    query_embeddings.append(movie_embedding)\n",
        "\n",
        "query_embeddings = np.array(query_embeddings)"
      ],
      "metadata": {
        "id": "Ct-oL5eu8JFv"
      },
      "execution_count": null,
      "outputs": []
    },
    {
      "cell_type": "code",
      "source": [
        "similarities = tf.linalg.matmul(\n",
        "    tf.math.l2_normalize(query_embeddings),\n",
        "    tf.math.l2_normalize(movie_embeddings),\n",
        "    transpose_b=True,\n",
        ")\n",
        "\n",
        "_, indices = tf.math.top_k(similarities, k=5)\n",
        "indices = indices.numpy().tolist()"
      ],
      "metadata": {
        "id": "KM9gEC8X85qt"
      },
      "execution_count": null,
      "outputs": []
    },
    {
      "cell_type": "code",
      "source": [
        "for idx, title in enumerate(query_movies):\n",
        "    print(title)\n",
        "    print(\"\".rjust(len(title), \"-\"))\n",
        "    similar_tokens = indices[idx]\n",
        "    for token in similar_tokens:\n",
        "        similar_movieId = vocabulary[token]\n",
        "        similar_title = get_movie_title_by_id(similar_movieId)\n",
        "        print(f\"- {similar_title}\")\n",
        "    print()"
      ],
      "metadata": {
        "colab": {
          "base_uri": "https://localhost:8080/"
        },
        "id": "hqje0vre89ND",
        "outputId": "ceb4c470-b2a4-430f-fbe7-f48c238fd90d"
      },
      "execution_count": null,
      "outputs": [
        {
          "output_type": "stream",
          "name": "stdout",
          "text": [
            "Matrix, The (1999)\n",
            "------------------\n",
            "- Fight Club (1999)\n",
            "- Matrix, The (1999)\n",
            "- Star Wars: Episode IV - A New Hope (1977)\n",
            "- Raiders of the Lost Ark (Indiana Jones and the Raiders of the Lost Ark) (1981)\n",
            "- Lord of the Rings: The Fellowship of the Ring, The (2001)\n",
            "\n"
          ]
        }
      ]
    },
    {
      "cell_type": "markdown",
      "source": [
        "### Visualize the embeddings using the Embedding Projector"
      ],
      "metadata": {
        "id": "YwWM6GsJqIlV"
      }
    },
    {
      "cell_type": "code",
      "source": [
        "import io\n",
        "\n",
        "out_v = io.open(\"embeddings.tsv\", \"w\", encoding=\"utf-8\")\n",
        "out_m = io.open(\"metadata.tsv\", \"w\", encoding=\"utf-8\")\n",
        "\n",
        "for idx, movie_id in enumerate(vocabulary[1:]):\n",
        "    movie_title = list(movies[movies.movieId == movie_id].title)[0]\n",
        "    vector = movie_embeddings[idx]\n",
        "    out_v.write(\"\\t\".join([str(x) for x in vector]) + \"\\n\")\n",
        "    out_m.write(movie_title + \"\\n\")\n",
        "\n",
        "out_v.close()\n",
        "out_m.close()"
      ],
      "metadata": {
        "id": "wNXh4teq8_gT"
      },
      "execution_count": null,
      "outputs": []
    },
    {
      "cell_type": "code",
      "source": [
        "import networkx as nx\n",
        "import matplotlib.pyplot as plt\n",
        "G = nx.Graph()\n",
        "G.add_edge('movie1','movie2', weight = 1)\n",
        "G.add_edge('movie2','movie3', weight = 2 )\n",
        "G.add_edge('movie2','movie4', weight = 3)\n",
        "nx.draw(G, with_labels=True)\n",
        "plt.show()"
      ],
      "metadata": {
        "id": "wvGGgk8q9DJz",
        "colab": {
          "base_uri": "https://localhost:8080/",
          "height": 319
        },
        "outputId": "23672f23-20fe-4cfe-8aab-6cd4d26f1114"
      },
      "execution_count": null,
      "outputs": [
        {
          "output_type": "display_data",
          "data": {
            "text/plain": [
              "<Figure size 432x288 with 1 Axes>"
            ],
            "image/png": "[encoded data removed]"
          },
          "metadata": {}
        }
      ]
    },
    {
      "cell_type": "code",
      "source": [],
      "metadata": {
        "id": "TfoAoYY4XJwo"
      },
      "execution_count": null,
      "outputs": []
    }
  ],
  "metadata": {
    "colab": {
      "provenance": []
    },
    "kernelspec": {
      "display_name": "Python 3",
      "name": "python3"
    },
    "language_info": {
      "name": "python"
    }
  },
  "nbformat": 4,
  "nbformat_minor": 0
}