{
  "cells": [
    {
      "cell_type": "code",
      "execution_count": null,
      "metadata": {
        "colab": {
          "base_uri": "https://localhost:8080/"
        },
        "id": "xoq2ft3dD5WT",
        "outputId": "ea7309cb-2bd6-49f8-ea66-8b1d3baf4c75"
      },
      "outputs": [
        {
          "output_type": "stream",
          "name": "stdout",
          "text": [
            "Looking in indexes: https://pypi.org/simple, https://us-python.pkg.dev/colab-wheels/public/simple/\n",
            "Requirement already satisfied: networkx in /usr/local/lib/python3.8/dist-packages (2.8.8)\n"
          ]
        }
      ],
      "source": [
        "pip install networkx"
      ]
    },
    {
      "cell_type": "code",
      "execution_count": null,
      "metadata": {
        "id": "SINJ3ot5EHYd"
      },
      "outputs": [],
      "source": [
        "import os\n",
        "from collections import defaultdict\n",
        "import math\n",
        "import networkx as nx\n",
        "import random\n",
        "from tqdm import tqdm\n",
        "from zipfile import ZipFile\n",
        "from urllib.request import urlretrieve\n",
        "import numpy as np\n",
        "import pandas as pd\n",
        "import tensorflow as tf\n",
        "from tensorflow import keras\n",
        "from tensorflow.keras import layers\n",
        "import matplotlib.pyplot as plt"
      ]
    },
    {
      "cell_type": "code",
      "execution_count": null,
      "metadata": {
        "id": "2dkuvXDWGS14"
      },
      "outputs": [],
      "source": [
        "cars = pd.read_csv(\"Car dataset.csv\")"
      ]
    },
    {
      "cell_type": "code",
      "execution_count": null,
      "metadata": {
        "colab": {
          "base_uri": "https://localhost:8080/",
          "height": 389
        },
        "id": "-Ub5Bv6wGd78",
        "outputId": "5009e77c-b951-4c29-fc41-bbed762be812"
      },
      "outputs": [
        {
          "output_type": "execute_result",
          "data": {
            "text/plain": [
              "                           name  year  selling_price  km_driven    fuel  \\\n",
              "0        Maruti Swift Dzire VDI  2014         450000     145500  Diesel   \n",
              "1  Skoda Rapid 1.5 TDI Ambition  2014         370000     120000  Diesel   \n",
              "2      Honda City 2017-2020 EXi  2006         158000     140000  Petrol   \n",
              "3     Hyundai i20 Sportz Diesel  2010         225000     127000  Diesel   \n",
              "4        Maruti Swift VXI BSIII  2007         130000     120000  Petrol   \n",
              "\n",
              "  seller_type transmission         owner     mileage   engine   max_power  \\\n",
              "0  Individual       Manual   First Owner   23.4 kmpl  1248 CC      74 bhp   \n",
              "1  Individual       Manual  Second Owner  21.14 kmpl  1498 CC  103.52 bhp   \n",
              "2  Individual       Manual   Third Owner   17.7 kmpl  1497 CC      78 bhp   \n",
              "3  Individual       Manual   First Owner   23.0 kmpl  1396 CC      90 bhp   \n",
              "4  Individual       Manual   First Owner   16.1 kmpl  1298 CC    88.2 bhp   \n",
              "\n",
              "                     torque  seats  \n",
              "0            190Nm@ 2000rpm    5.0  \n",
              "1       250Nm@ 1500-2500rpm    5.0  \n",
              "2     12.7@ 2,700(kgm@ rpm)    5.0  \n",
              "3  22.4 kgm at 1750-2750rpm    5.0  \n",
              "4     11.5@ 4,500(kgm@ rpm)    5.0  "
            ],
            "text/html": [
              "\n",
              "  <div id=\"df-41ad722b-7cc9-4dc4-9e96-fb30263d0df3\">\n",
              "    <div class=\"colab-df-container\">\n",
              "      <div>\n",
              "<style scoped>\n",
              "    .dataframe tbody tr th:only-of-type {\n",
              "        vertical-align: middle;\n",
              "    }\n",
              "\n",
              "    .dataframe tbody tr th {\n",
              "        vertical-align: top;\n",
              "    }\n",
              "\n",
              "    .dataframe thead th {\n",
              "        text-align: right;\n",
              "    }\n",
              "</style>\n",
              "<table border=\"1\" class=\"dataframe\">\n",
              "  <thead>\n",
              "    <tr style=\"text-align: right;\">\n",
              "      <th></th>\n",
              "      <th>name</th>\n",
              "      <th>year</th>\n",
              "      <th>selling_price</th>\n",
              "      <th>km_driven</th>\n",
              "      <th>fuel</th>\n",
              "      <th>seller_type</th>\n",
              "      <th>transmission</th>\n",
              "      <th>owner</th>\n",
              "      <th>mileage</th>\n",
              "      <th>engine</th>\n",
              "      <th>max_power</th>\n",
              "      <th>torque</th>\n",
              "      <th>seats</th>\n",
              "    </tr>\n",
              "  </thead>\n",
              "  <tbody>\n",
              "    <tr>\n",
              "      <th>0</th>\n",
              "      <td>Maruti Swift Dzire VDI</td>\n",
              "      <td>2014</td>\n",
              "      <td>450000</td>\n",
              "      <td>145500</td>\n",
              "      <td>Diesel</td>\n",
              "      <td>Individual</td>\n",
              "      <td>Manual</td>\n",
              "      <td>First Owner</td>\n",
              "      <td>23.4 kmpl</td>\n",
              "      <td>1248 CC</td>\n",
              "      <td>74 bhp</td>\n",
              "      <td>190Nm@ 2000rpm</td>\n",
              "      <td>5.0</td>\n",
              "    </tr>\n",
              "    <tr>\n",
              "      <th>1</th>\n",
              "      <td>Skoda Rapid 1.5 TDI Ambition</td>\n",
              "      <td>2014</td>\n",
              "      <td>370000</td>\n",
              "      <td>120000</td>\n",
              "      <td>Diesel</td>\n",
              "      <td>Individual</td>\n",
              "      <td>Manual</td>\n",
              "      <td>Second Owner</td>\n",
              "      <td>21.14 kmpl</td>\n",
              "      <td>1498 CC</td>\n",
              "      <td>103.52 bhp</td>\n",
              "      <td>250Nm@ 1500-2500rpm</td>\n",
              "      <td>5.0</td>\n",
              "    </tr>\n",
              "    <tr>\n",
              "      <th>2</th>\n",
              "      <td>Honda City 2017-2020 EXi</td>\n",
              "      <td>2006</td>\n",
              "      <td>158000</td>\n",
              "      <td>140000</td>\n",
              "      <td>Petrol</td>\n",
              "      <td>Individual</td>\n",
              "      <td>Manual</td>\n",
              "      <td>Third Owner</td>\n",
              "      <td>17.7 kmpl</td>\n",
              "      <td>1497 CC</td>\n",
              "      <td>78 bhp</td>\n",
              "      <td>12.7@ 2,700(kgm@ rpm)</td>\n",
              "      <td>5.0</td>\n",
              "    </tr>\n",
              "    <tr>\n",
              "      <th>3</th>\n",
              "      <td>Hyundai i20 Sportz Diesel</td>\n",
              "      <td>2010</td>\n",
              "      <td>225000</td>\n",
              "      <td>127000</td>\n",
              "      <td>Diesel</td>\n",
              "      <td>Individual</td>\n",
              "      <td>Manual</td>\n",
              "      <td>First Owner</td>\n",
              "      <td>23.0 kmpl</td>\n",
              "      <td>1396 CC</td>\n",
              "      <td>90 bhp</td>\n",
              "      <td>22.4 kgm at 1750-2750rpm</td>\n",
              "      <td>5.0</td>\n",
              "    </tr>\n",
              "    <tr>\n",
              "      <th>4</th>\n",
              "      <td>Maruti Swift VXI BSIII</td>\n",
              "      <td>2007</td>\n",
              "      <td>130000</td>\n",
              "      <td>120000</td>\n",
              "      <td>Petrol</td>\n",
              "      <td>Individual</td>\n",
              "      <td>Manual</td>\n",
              "      <td>First Owner</td>\n",
              "      <td>16.1 kmpl</td>\n",
              "      <td>1298 CC</td>\n",
              "      <td>88.2 bhp</td>\n",
              "      <td>11.5@ 4,500(kgm@ rpm)</td>\n",
              "      <td>5.0</td>\n",
              "    </tr>\n",
              "  </tbody>\n",
              "</table>\n",
              "</div>\n",
              "      <button class=\"colab-df-convert\" onclick=\"convertToInteractive('df-41ad722b-7cc9-4dc4-9e96-fb30263d0df3')\"\n",
              "              title=\"Convert this dataframe to an interactive table.\"\n",
              "              style=\"display:none;\">\n",
              "        \n",
              "  <svg xmlns=\"http://www.w3.org/2000/svg\" height=\"24px\"viewBox=\"0 0 24 24\"\n",
              "       width=\"24px\">\n",
              "    <path d=\"M0 0h24v24H0V0z\" fill=\"none\"/>\n",
              "    <path d=\"M18.56 5.44l.94 2.06.94-2.06 2.06-.94-2.06-.94-.94-2.06-.94 2.06-2.06.94zm-11 1L8.5 8.5l.94-2.06 2.06-.94-2.06-.94L8.5 2.5l-.94 2.06-2.06.94zm10 10l.94 2.06.94-2.06 2.06-.94-2.06-.94-.94-2.06-.94 2.06-2.06.94z\"/><path d=\"M17.41 7.96l-1.37-1.37c-.4-.4-.92-.59-1.43-.59-.52 0-1.04.2-1.43.59L10.3 9.45l-7.72 7.72c-.78.78-.78 2.05 0 2.83L4 21.41c.39.39.9.59 1.41.59.51 0 1.02-.2 1.41-.59l7.78-7.78 2.81-2.81c.8-.78.8-2.07 0-2.86zM5.41 20L4 18.59l7.72-7.72 1.47 1.35L5.41 20z\"/>\n",
              "  </svg>\n",
              "      </button>\n",
              "      \n",
              "  <style>\n",
              "    .colab-df-container {\n",
              "      display:flex;\n",
              "      flex-wrap:wrap;\n",
              "      gap: 12px;\n",
              "    }\n",
              "\n",
              "    .colab-df-convert {\n",
              "      background-color: #E8F0FE;\n",
              "      border: none;\n",
              "      border-radius: 50%;\n",
              "      cursor: pointer;\n",
              "      display: none;\n",
              "      fill: #1967D2;\n",
              "      height: 32px;\n",
              "      padding: 0 0 0 0;\n",
              "      width: 32px;\n",
              "    }\n",
              "\n",
              "    .colab-df-convert:hover {\n",
              "      background-color: #E2EBFA;\n",
              "      box-shadow: 0px 1px 2px rgba(60, 64, 67, 0.3), 0px 1px 3px 1px rgba(60, 64, 67, 0.15);\n",
              "      fill: #174EA6;\n",
              "    }\n",
              "\n",
              "    [theme=dark] .colab-df-convert {\n",
              "      background-color: #3B4455;\n",
              "      fill: #D2E3FC;\n",
              "    }\n",
              "\n",
              "    [theme=dark] .colab-df-convert:hover {\n",
              "      background-color: #434B5C;\n",
              "      box-shadow: 0px 1px 3px 1px rgba(0, 0, 0, 0.15);\n",
              "      filter: drop-shadow(0px 1px 2px rgba(0, 0, 0, 0.3));\n",
              "      fill: #FFFFFF;\n",
              "    }\n",
              "  </style>\n",
              "\n",
              "      <script>\n",
              "        const buttonEl =\n",
              "          document.querySelector('#df-41ad722b-7cc9-4dc4-9e96-fb30263d0df3 button.colab-df-convert');\n",
              "        buttonEl.style.display =\n",
              "          google.colab.kernel.accessAllowed ? 'block' : 'none';\n",
              "\n",
              "        async function convertToInteractive(key) {\n",
              "          const element = document.querySelector('#df-41ad722b-7cc9-4dc4-9e96-fb30263d0df3');\n",
              "          const dataTable =\n",
              "            await google.colab.kernel.invokeFunction('convertToInteractive',\n",
              "                                                     [key], {});\n",
              "          if (!dataTable) return;\n",
              "\n",
              "          const docLinkHtml = 'Like what you see? Visit the ' +\n",
              "            '<a target=\"_blank\" href=https://colab.research.google.com/notebooks/data_table.ipynb>data table notebook</a>'\n",
              "            + ' to learn more about interactive tables.';\n",
              "          element.innerHTML = '';\n",
              "          dataTable['output_type'] = 'display_data';\n",
              "          await google.colab.output.renderOutput(dataTable, element);\n",
              "          const docLink = document.createElement('div');\n",
              "          docLink.innerHTML = docLinkHtml;\n",
              "          element.appendChild(docLink);\n",
              "        }\n",
              "      </script>\n",
              "    </div>\n",
              "  </div>\n",
              "  "
            ]
          },
          "metadata": {},
          "execution_count": 6
        }
      ],
      "source": [
        "cars.head()"
      ]
    },
    {
      "cell_type": "code",
      "execution_count": null,
      "metadata": {
        "id": "KIdhx0A2PF3v"
      },
      "outputs": [],
      "source": [
        "def get_car_name_by_fuel(fuel):\n",
        "    return list(cars[cars.fuel == fuel].name)[0]\n",
        "\n",
        "\n",
        "def get_car_fuel_by_name(name):\n",
        "    return list(cars[cars.name == name].fuel)[0]\n",
        "\n",
        "\n",
        "def get_car_year_by_name(name):\n",
        "    return list(cars[cars.name == name].year)[0]\n",
        "\n",
        "def get_car_name_by_year(year):\n",
        "    return list(cars[cars.year == year].name)[0]\n",
        "\n",
        "\n",
        "def get_car_name_by_selling_price(selling_price):\n",
        "    return list(cars[cars.selling_price == selling_price].name)\n",
        "\n",
        "\n",
        "def get_car_selling_price_by_name(name):\n",
        "    return list(cars[cars.name == name].selling_price)"
      ]
    },
    {
      "cell_type": "markdown",
      "source": [
        "# Construct the cars graph\n",
        "\n",
        "###### We create an edge between two car nodes in the graph if both cars have the same engine."
      ],
      "metadata": {
        "id": "uH5Xep2ipcpd"
      }
    },
    {
      "cell_type": "code",
      "execution_count": null,
      "metadata": {
        "colab": {
          "base_uri": "https://localhost:8080/"
        },
        "id": "A7Tfy_E-Qv4q",
        "outputId": "1348e45e-3968-49b3-dd57-d582369b923d"
      },
      "outputs": [
        {
          "output_type": "stream",
          "name": "stderr",
          "text": [
            "Compute cars frequencies: 100%|██████████| 121/121 [00:02<00:00, 46.45it/s]\n"
          ]
        }
      ],
      "source": [
        "\n",
        "pair_frequency = defaultdict(int)\n",
        "item_frequency = defaultdict(int)\n",
        "\n",
        "\n",
        "# Group cars by engine.\n",
        "cars_grouped_by_engine = list(cars.groupby(\"engine\"))\n",
        "\n",
        "for group in tqdm(\n",
        "    cars_grouped_by_engine,\n",
        "    position=0,\n",
        "    leave=True,\n",
        "    desc=\"Compute cars frequencies\",\n",
        "):\n",
        "    # Get a list of cars with the same engine.\n",
        "    current_cars = list(group[1][\"name\"])\n",
        "\n",
        "    for i in range(len(current_cars)):\n",
        "        item_frequency[current_cars[i]] = 1              \n",
        "        for j in range(i + 1, len(current_cars)):\n",
        "            x = min(current_cars[i], current_cars[j])   \n",
        "            y = max(current_cars[i], current_cars[j])\n",
        "            pair_frequency[(x, y)] = 1     "
      ]
    },
    {
      "cell_type": "code",
      "source": [
        "# Create the cars undirected graph.\n",
        "cars_graph = nx.Graph()\n",
        "\n",
        "for pair in tqdm(\n",
        "    pair_frequency, position=0, leave=True, desc=\"Creating the cars graph\"\n",
        "):\n",
        "    x, y = pair\n",
        "    cars_graph.add_edge(x, y,weight = 1)"
      ],
      "metadata": {
        "id": "vxprS--cHy8d",
        "colab": {
          "base_uri": "https://localhost:8080/"
        },
        "outputId": "8c3aafce-081c-4814-aa0b-23add933be4d"
      },
      "execution_count": null,
      "outputs": [
        {
          "output_type": "stream",
          "name": "stderr",
          "text": [
            "Creating the cars graph: 100%|██████████| 67072/67072 [00:00<00:00, 498607.54it/s]\n"
          ]
        }
      ]
    },
    {
      "cell_type": "markdown",
      "source": [
        "###### Let's display the total number of nodes and edges in the graph"
      ],
      "metadata": {
        "id": "_YtFv-ntcK6K"
      }
    },
    {
      "cell_type": "code",
      "source": [
        "print(\"Total number of graph nodes:\", cars_graph.number_of_nodes())\n",
        "print(\"Total number of graph edges:\", cars_graph.number_of_edges())"
      ],
      "metadata": {
        "colab": {
          "base_uri": "https://localhost:8080/"
        },
        "id": "xqHbHwg1elFf",
        "outputId": "0d29c0a7-593a-4e90-d729-a1c6780d616f"
      },
      "execution_count": null,
      "outputs": [
        {
          "output_type": "stream",
          "name": "stdout",
          "text": [
            "Total number of graph nodes: 1971\n",
            "Total number of graph edges: 67072\n"
          ]
        }
      ]
    },
    {
      "cell_type": "markdown",
      "source": [
        "Let's display the average node degree (number of neighbours) in the graph."
      ],
      "metadata": {
        "id": "0Dt5N4ZIgSOR"
      }
    },
    {
      "cell_type": "code",
      "source": [
        "degrees = []\n",
        "for node in cars_graph.nodes:\n",
        "    degrees.append(cars_graph.degree[node])\n",
        "\n",
        "print(\"Average node degree:\", round(sum(degrees) / len(degrees), 2))"
      ],
      "metadata": {
        "colab": {
          "base_uri": "https://localhost:8080/"
        },
        "id": "ShObMwU3e1a4",
        "outputId": "313f8507-4808-48cd-9216-4aa43301019f"
      },
      "execution_count": null,
      "outputs": [
        {
          "output_type": "stream",
          "name": "stdout",
          "text": [
            "Average node degree: 68.06\n"
          ]
        }
      ]
    },
    {
      "cell_type": "markdown",
      "source": [
        "### Step 3: Create vocabulary and a mapping from tokens to integer indices"
      ],
      "metadata": {
        "id": "huSlr8dbhkKo"
      }
    },
    {
      "cell_type": "code",
      "source": [
        "vocabulary = [\"NA\"] + list(cars_graph.nodes)\n",
        "vocabulary_lookup = {token: idx for idx, token in enumerate(vocabulary)}"
      ],
      "metadata": {
        "id": "8-iXcRe0g5uA"
      },
      "execution_count": null,
      "outputs": []
    },
    {
      "cell_type": "code",
      "source": [
        "print(vocabulary_lookup)"
      ],
      "metadata": {
        "colab": {
          "base_uri": "https://localhost:8080/"
        },
        "id": "hDfT7medjg7-",
        "outputId": "3f9446c5-9ed9-4900-e031-4613b3ac36f6"
      },
      "execution_count": null,
      "outputs": [
        {
          "output_type": "stream",
          "name": "stdout",
          "text": [
            "{'NA': 0, 'Tata Tiago 1.05 Revotorq XZ': 1, 'Tata Tiago Wizz 1.05 Revotorq': 2, 'Tata Tiago 1.05 Revotorq XM': 3, 'Tata Tigor 1.05 Revotorq XZ': 4, 'Tata Tigor 1.05 Revotorq XZ Option': 5, 'Tata Tigor 2017-2020 XZ Plus Diesel': 6, 'Tata Tiago 1.05 Revotorq XE': 7, 'Tata Tigor 1.05 Revotorq XM': 8, 'Tata Tiago 1.05 Revotorq XZ WO Alloy': 9, 'Tata Tiago 2019-2020 XZ Plus Diesel': 10, 'Tata Tiago 1.05 Revotorq XT': 11, 'Tata Tiago 1.05 Revotorq XT Option': 12, 'Maruti Wagon R LXI DUO BSIII': 13, 'Maruti Wagon R LXI Minor': 14, 'Maruti Zen Estilo 1.1 LXI BSIII': 15, 'Maruti Wagon R VXI Minor': 16, 'Maruti Zen Estilo 1.1 VXI BSIII': 17, 'Maruti Wagon R LX BSIII': 18, 'Maruti Zen Estilo 1.1 LX BSIII': 19, 'Maruti Wagon R AX Minor': 20, 'Maruti Wagon R LX Minor': 21, 'Maruti Zen Estilo Sports': 22, 'Maruti Wagon R LXI BSIII': 23, 'Maruti Wagon R AX BSIII': 24, 'Hyundai i10 Era 1.1': 25, 'Hyundai i10 Magna 1.1L': 26, 'Hyundai Santro Xing GLS': 27, 'Hyundai Santro Sportz AMT BSIV': 28, 'Hyundai i10 Sportz 1.1L': 29, 'Hyundai i10 Era': 30, 'Hyundai Santro Xing GL Plus': 31, 'Hyundai Santro Xing GL': 32, 'Hyundai Santro Xing XS': 33, 'Hyundai Santro Magna BSIV': 34, 'Hyundai Santro Magna': 35, 'Hyundai Santro Xing GLS LPG': 36, 'Hyundai Santro Asta BSIV': 37, 'Hyundai Santro Xing (Non-AC)': 38, 'Hyundai Santro Magna AMT BSIV': 39, 'Hyundai Santro Sportz BSIV': 40, 'Hyundai Santro Era': 41, 'Hyundai Santro Xing GLS CNG': 42, 'Hyundai i10 Sportz 1.1L LPG': 43, 'Hyundai Santro Xing GL LPG': 44, 'Hyundai Getz 1.1 GVS': 45, 'Hyundai i10 Magna LPG': 46, 'Hyundai i10 LPG': 47, 'Hyundai Santro Xing XK eRLX Euro II': 48, 'Hyundai i10 Era 1.1 iTech SE': 49, 'Hyundai Santro Xing GL Plus LPG': 50, 'Hyundai Getz 1.1 GLE': 51, 'Hyundai Santro Xing XK eRLX EuroIII': 52, 'Hyundai Grand i10 CRDi Sportz': 53, 'Hyundai Xcent 1.1 CRDi S Option': 54, 'Hyundai Grand i10 CRDi Asta': 55, 'Hyundai Xcent 1.1 CRDi SX Option': 56, 'Hyundai Grand i10 CRDi Magna': 57, 'Hyundai Xcent 1.1 CRDi S': 58, 'Hyundai Grand i10 CRDi Asta Option': 59, 'Hyundai Xcent 1.1 CRDi SX': 60, 'Hyundai Xcent 1.1 CRDi Base': 61, 'Hyundai Grand i10 CRDi SportZ Edition': 62, 'Chevrolet Aveo U-VA 1.2 LS': 63, 'Chevrolet Aveo U-VA 1.2': 64, 'Chevrolet Aveo U-VA 1.2 LT': 65, 'Tata Indica Vista Aura 1.2 Safire (ABS) BS IV': 66, 'Tata Indica Vista Aura Safire Anniversary Edition': 67, 'Fiat Punto 1.2 Active': 68, 'Fiat Punto Pure 1.2L FIRE': 69, 'Tata Indica Vista Safire GLX': 70, 'Tata Indica Vista Aura 1.2 Safire (ABS) 90hp BS IV': 71, 'Fiat Grande Punto EVO 1.2 Dynamic': 72, 'Tata Indica Vista Aura 1.2 Safire BSIV': 73, 'Hyundai Grand i10 1.2 CRDi Sportz': 74, 'Hyundai Xcent 1.2 CRDi E': 75, 'Hyundai Grand i10 1.2 CRDi Asta': 76, 'Hyundai Grand i10 1.2 CRDi Sportz Option': 77, 'Hyundai Xcent 1.2 CRDi S': 78, 'Hyundai Xcent 1.2 CRDi SX': 79, 'Hyundai Xcent 1.2 CRDi SX Option': 80, 'Hyundai Grand i10 1.2 CRDi Magna': 81, 'Hyundai Xcent 1.2 CRDi E Plus': 82, 'Tata Zest Revotron 1.2 XT': 83, 'Tata Indigo CS eGLX BS IV': 84, 'Tata Zest Revotron 1.2T XM': 85, 'Tata Bolt Revotron XE': 86, 'Tata Indigo eCS GLS': 87, 'Tata Indica V2 eXeta GLS': 88, 'Tata Indica V2 Emax CNG GLX': 89, 'Tata Indica V2 LSi': 90, 'Tata Indigo CS GLS BSIII': 91, 'Tata Indica GLS BS IV': 92, 'Tata Zest Revotron 1.2T XMS': 93, 'Tata Indigo CS eGLS BS IV': 94, 'Tata Indigo eCS GLX': 95, 'Tata Indigo CS GLX BS III': 96, 'Tata Indica V2 1.2 GLE BSIII': 97, 'Tata Bolt Revotron XM': 98, 'Ford Freestyle Titanium Petrol BSIV': 99, 'Ford Freestyle Titanium Plus Petrol BSIV': 100, 'Ford Freestyle Trend Petrol BSIV': 101, 'Ford Aspire Titanium BSIV': 102, 'Ford Aspire Trend Plus': 103, 'Ford Figo Titanium Blu': 104, 'Ford Figo Aspire Titanium': 105, 'Ford Figo 1.2P Titanium MT': 106, 'Maruti Eeco 7 Seater Standard BSIV': 107, 'Ford Figo Aspire 1.2 Ti-VCT Trend': 108, 'Maruti Eeco 5 Seater AC BSIV': 109, 'Maruti Eeco CNG 5 Seater AC': 110, 'Maruti Eeco Smiles 5 Seater AC': 111, 'Ford Figo 1.2P Titanium Plus MT': 112, 'Ford Figo Petrol EXI': 113, 'Ford Figo 1.2P Titanium Opt MT': 114, 'Ford Figo Aspire 1.2 Ti-VCT Titanium': 115, 'Maruti Eeco Smiles 7 Seater Standard': 116, 'Maruti Eeco CNG 5 Seater AC BSIV': 117, 'Ford Figo Aspire 1.2 Ti-VCT Titanium Plus': 118, 'Ford Figo Petrol Titanium': 119, 'Ford Figo Aspire 1.2 Ti-VCT Sports Edition': 120, 'Ford Figo Petrol ZXI': 121, 'Ford Figo 1.2P Ambiente MT': 122, 'Ford Figo 1.2P Trend MT': 123, 'Maruti Eeco CNG HTR 5-STR': 124, 'Ford Figo Petrol LXI': 125, 'Ford Figo 1.2P Sports Edition MT': 126, 'Maruti Eeco 5 STR With AC Plus HTR CNG': 127, 'Hyundai Xcent 1.2 VTVT E Plus': 128, 'Maruti Baleno Delta 1.2': 129, 'Hyundai i20 1.2 Asta Dual Tone': 130, 'Maruti Swift Dzire VXi AT': 131, 'Hyundai i10 Magna': 132, 'Hyundai i20 Asta Optional with Sunroof 1.2': 133, 'Hyundai Xcent 1.2 Kappa SX Option AT': 134, 'Maruti Swift VXI': 135, 'Maruti Baleno Zeta 1.2': 136, 'Maruti Swift Dzire VXI': 137, 'Toyota Glanza V CVT': 138, 'Maruti Swift VXI Optional': 139, 'Hyundai i20 Magna 1.2': 140, 'Hyundai Grand i10 Magna': 141, 'Hyundai Grand i10 Sportz': 142, 'Hyundai Xcent 1.2 Kappa S': 143, 'Hyundai Elite i20 Sportz Plus BSIV': 144, 'Hyundai i20 Sportz 1.2': 145, 'Maruti Swift Dzire VXI 1.2': 146, 'Maruti Swift Dzire AMT VXI BS IV': 147, 'Hyundai i20 Magna': 148, 'Maruti Baleno Alpha Automatic': 149, 'Hyundai Xcent 1.2 VTVT SX': 150, 'Hyundai i20 1.2 Sportz': 151, 'Hyundai i10 Sportz 1.2': 152, 'Hyundai i20 1.2 Magna': 153, 'Maruti Swift LXI Optional-O': 154, 'Hyundai Elite i20 Magna Plus BSIV': 155, 'Maruti Swift 1.2 DLX (Only Delhi)': 156, 'Hyundai Grand i10 AT Asta': 157, 'Hyundai i10 Sportz AT': 158, 'Maruti Swift VXI Deca': 159, 'Hyundai i20 Active 1.2': 160, 'Maruti Baleno Zeta': 161, 'Hyundai i20 1.2 Asta': 162, 'Maruti Baleno Zeta Automatic': 163, 'Maruti Swift LXI Option': 164, 'Mahindra XUV300 W8 Option BSIV': 165, 'Maruti Swift VXI BSIV': 166, 'Hyundai Grand i10 Asta': 167, 'Hyundai i10 Sportz': 168, 'Maruti Swift AMT VVT VXI': 169, 'Maruti Swift AMT ZXI': 170, 'Hyundai Xcent 1.2 Kappa S Option': 171, 'Maruti Swift VXI Windsong Limited edition': 172, 'Hyundai Xcent 1.2 VTVT S': 173, 'Hyundai i20 Asta Option 1.2': 174, 'Maruti Swift Dzire 1.2 Vxi BSIV': 175, 'Hyundai i20 1.2 Asta Option': 176, 'Hyundai i20 1.2 Spotz': 177, 'Hyundai Grand i10 1.2 Kappa Sportz BSIV': 178, 'Hyundai i10 Magna 1.2 iTech SE': 179, 'Hyundai Grand i10 1.2 Kappa Magna AT': 180, 'Hyundai i10 Asta': 181, 'Hyundai Xcent 1.2 Kappa Base': 182, 'Maruti Swift Dzire Tour S CNG': 183, 'Hyundai Grand i10 1.2 Kappa Magna BSIV': 184, 'Hyundai i20 Asta 1.2': 185, 'Maruti Baleno Alpha 1.2': 186, 'Maruti Swift ZXI': 187, 'Maruti Ritz ZXi': 188, 'Hyundai i20 2015-2017 Sportz 1.2': 189, 'Hyundai Elite i20 Petrol Asta Option': 190, 'Maruti Swift Dzire AMT VXI': 191, 'Maruti Swift Dzire ZXI Plus': 192, 'Maruti Swift ZXI 2018': 193, 'Hyundai Elite i20 Asta Option CVT BSIV': 194, 'Hyundai Elite i20 Petrol Sportz': 195, 'Maruti Swift VVT ZXI': 196, 'Hyundai Elite i20 Sportz Plus CVT BSIV': 197, 'Maruti Wagon R VXI 1.2': 198, 'Maruti Ritz VXI': 199, 'Maruti Swift AMT VXI': 200, 'Hyundai i20 1.2 Magna Executive': 201, 'Hyundai Elite i20 Petrol Asta': 202, 'Maruti Ignis 1.2 AMT Alpha BSIV': 203, 'Maruti Ignis 1.2 Delta BSIV': 204, 'Hyundai Grand i10 1.2 Kappa Era': 205, 'Maruti Swift AMT ZXI Plus BSIV': 206, 'Maruti Ritz VXi': 207, 'Maruti Baleno Delta': 208, 'Hyundai Grand i10 Nios Sportz': 209, 'Maruti Baleno Alpha': 210, 'Hyundai Grand i10 1.2 Kappa Asta': 211, 'Hyundai Xcent 1.2 VTVT S AT': 212, 'Hyundai Xcent 1.2 Kappa SX': 213, 'Hyundai i20 Asta Optional With Sunroof 1.2': 214, 'Maruti Swift Dzire LXI': 215, 'Hyundai Xcent 1.2 Kappa AT S Option': 216, 'Hyundai Grand i10 Nios AMT Sportz': 217, 'Hyundai i10 Sportz Option': 218, 'Hyundai i20 2015-2017 Asta Option 1.2': 219, 'Hyundai i20 2015-2017 Magna 1.2': 220, 'Maruti Swift Dzire ZXI': 221, 'Maruti Ignis 1.2 AMT Delta BSIV': 222, 'Maruti Swift LXI': 223, 'Toyota Etios Liva 1.2 V Dual Tone': 224, 'Hyundai i20 Active S Petrol': 225, 'Hyundai Xcent 1.2 VTVT E': 226, 'Maruti Swift Dzire LXI 1.2 BS IV': 227, 'Hyundai Grand i10 1.2 Kappa Sportz AT': 228, 'Hyundai i20 Active 1.2 S': 229, 'Hyundai Grand i10 1.2 Kappa Sportz Dual Tone': 230, 'Maruti Swift VXI 2018': 231, 'Hyundai Xcent 1.2 Kappa SX Option': 232, 'Hyundai Grand i10 1.2 Kappa Sportz Option': 233, 'Hyundai Xcent 1.2 Kappa AT SX Option': 234, 'Maruti Dzire VXI': 235, 'Maruti Ritz VXi (ABS) BS IV': 236, 'Hyundai Grand i10 Sportz Celebration Edition': 237, 'Hyundai i20 Sportz Option 1.2': 238, 'Maruti Ignis 1.2 Zeta BSIV': 239, 'Maruti Swift ZXI Plus': 240, 'Toyota Etios Cross 1.2L G': 241, 'Maruti Swift VXI with ABS': 242, 'Maruti Swift Dzire VXI 1.2 BS IV': 243, 'Hyundai i20 Active 1.2 SX': 244, 'Hyundai Grand i10 Asta Option': 245, 'Hyundai i20 2015-2017 Sportz Option 1.2': 246, 'Maruti Dzire LXI': 247, 'Hyundai i20 Asta': 248, 'Maruti Wagon R VXI AMT 1.2': 249, 'Maruti Swift LXi BSIV': 250, 'Maruti Baleno Sigma 1.2': 251, 'Hyundai Grand i10 SportZ Edition': 252, 'Hyundai i20 Asta (o)': 253, 'Maruti Baleno Delta Automatic': 254, 'Hyundai Grand i10 Magna AT': 255, 'Volkswagen Polo GT TSI': 256, 'Hyundai i20 Active 1.2 SX with AVN': 257, 'Maruti Ignis 1.2 AMT Zeta BSIV': 258, 'Hyundai i20 Active SX Petrol': 259, 'Hyundai i10 Asta Sunroof AT': 260, 'Maruti Ritz LXi': 261, 'Maruti Swift VVT VXI': 262, 'Hyundai Elite i20 Petrol Magna Exective': 263, 'Toyota Glanza G CVT': 264, 'Hyundai i20 Active 1.2 SX Dual Tone': 265, 'Toyota Glanza G Smart Hybrid': 266, 'Maruti Swift Dzire AMT ZXI Plus': 267, 'Maruti Wagon R VXI Opt 1.2': 268, 'Maruti Swift VXi BSIV': 269, 'Maruti Swift Dzire 1.2 Lxi BSIV': 270, 'Maruti Ritz LXI': 271, 'Maruti Swift Dzire ZXI Plus BS IV': 272, 'Hyundai i20 Era 1.2': 273, 'Hyundai Elite i20 Asta Option BSIV': 274, 'Hyundai i20 Magna Optional 1.2': 275, 'Maruti Swift AMT ZXI BSIV': 276, 'Maruti Ignis Zeta AMT': 277, 'Mahindra XUV300 W8': 278, 'Hyundai i20 Active Base Petrol': 279, 'Hyundai i20 Petrol CVT Asta': 280, 'Maruti Swift ZXI BSIV': 281, 'Volkswagen Polo GT TSI BSIV': 282, 'Maruti Baleno Sigma': 283, 'Maruti Swift Dzire VXI Optional': 284, 'Hyundai i20 2015-2017 Asta 1.2': 285, 'Hyundai Grand i10 AT Sportz': 286, 'Hyundai i10 Sportz 1.2 AT': 287, 'Hyundai Elite i20 Sportz Plus Dual Tone BSIV': 288, 'Hyundai Elite i20 Petrol CVT Magna Executive': 289, 'Maruti Ignis 1.2 Alpha BSIV': 290, 'Maruti Dzire ZXI': 291, 'Maruti Swift Dzire AMT ZXI': 292, 'Maruti Baleno Alpha CVT': 293, 'Maruti Ignis Zeta': 294, 'Toyota Etios Liva G': 295, 'Maruti Wagon R VXI AMT Opt 1.2': 296, 'Hyundai Xcent 1.2 VTVT SX Option': 297, 'Datsun GO D': 298, 'Mahindra KUV 100 mFALCON G80 K8 5str': 299, 'Datsun GO A Petrol': 300, 'Volkswagen Polo 1.2 MPI Comfortline': 301, 'Honda Amaze S i-VTEC': 302, 'Tata Nexon 1.2 Revotron XZ Plus Dual Tone': 303, 'Mahindra KUV 100 mFALCON G80 K8': 304, 'Honda Brio S MT': 305, 'Datsun GO T BSIV': 306, 'Nissan Micra Active XV S': 307, 'Datsun GO D Petrol': 308, 'Honda Brio Exclusive Edition': 309, 'Datsun GO T Option BSIV': 310, 'Honda Brio 1.2 VX MT': 311, 'Volkswagen Ameo 1.2 MPI Comfortline Plus': 312, 'Nissan Micra Active XL Petrol': 313, 'Mahindra KUV 100 mFALCON D75 K8': 314, 'Mahindra KUV 100 D75 K6 Plus': 315, 'Honda Brio 1.2 S MT': 316, 'Nissan Micra XV CVT': 317, 'Mahindra KUV 100 G80 K6 Plus': 318, 'Mahindra KUV 100 G80 K2': 319, 'Datsun GO Anniversary Edition': 320, 'Mahindra KUV 100 mFALCON G80 K2': 321, 'Honda Amaze i-VTEC Privilege Edition': 322, 'Datsun GO Plus D1': 323, 'Datsun GO Plus Anniversary Edition': 324, 'Mahindra KUV 100 G80 K8': 325, 'Tata Nexon 1.2 Revotron XM': 326, 'Nissan Micra XL': 327, 'Nissan Micra XV': 328, 'Mahindra KUV 100 mFALCON D75 K6 Plus': 329, 'Volkswagen Polo Petrol Comfortline 1.2L': 330, 'Datsun GO Plus A': 331, 'Honda Jazz Select Edition Active': 332, 'Datsun GO Plus T': 333, 'Honda Brio V MT': 334, 'Tata Nexon 1.2 Revotron XZA Plus': 335, 'Honda Amaze S i-Vtech': 336, 'Datsun GO Plus T Option BSIV': 337, 'Datsun GO A EPS': 338, 'Honda Brio E MT': 339, 'Volkswagen Polo 1.2 MPI Highline': 340, 'Nissan Micra Fashion Edition XL CVT': 341, 'Mahindra KUV 100 mFALCON G80 K4': 342, 'Nissan Micra Active XV': 343, 'Tata Nexon 1.2 Revotron XZ Plus': 344, 'Nissan Micra XE': 345, 'Honda Amaze S AT i-Vtech': 346, 'Mahindra KUV 100 G80 K4 Plus': 347, 'Datsun GO T Option': 348, 'Mahindra KUV 100 mFALCON D75 K2 Plus': 349, 'Datsun GO Plus T BSIV': 350, 'Volkswagen Polo Petrol Highline 1.2L': 351, 'Mahindra KUV 100 G80 K8 Dual Tone': 352, 'Datsun GO A Option Petrol': 353, 'Datsun GO T Petrol': 354, 'Volkswagen Ameo 1.2 MPI Highline Plus 16': 355, 'Mahindra KUV 100 mFALCON D75 K6': 356, 'Mahindra KUV 100 mFALCON G80 K8 5str AW': 357, 'Skoda Fabia 1.2 MPI Ambition': 358, 'Skoda Fabia 1.2 MPI Ambition Plus': 359, 'Tata Nexon 1.2 Revotron XE': 360, 'Volkswagen Ameo 1.2 MPI Comfortline': 361, 'Mahindra KUV 100 mFALCON G80 K8 Dual Tone': 362, 'Mahindra KUV 100 D75 K8': 363, 'Volkswagen Ameo 1.2 MPI Highline': 364, 'Nissan Micra XL Optional': 365, 'Honda Jazz Basic': 366, 'Honda Brio 1.2 E MT': 367, 'Mahindra KUV 100 D75 K6 Plus 5Str': 368, 'Datsun GO Plus T VDC': 369, 'Datsun GO A': 370, 'Mahindra KUV 100 mFALCON G80 K6 AW': 371, 'Honda Amaze EX i-Vtech': 372, 'Mahindra KUV 100 G80 K4 Plus 5Str': 373, 'Datsun GO Plus D': 374, 'Mahindra KUV 100 mFALCON D75 K4': 375, 'Volkswagen Polo Petrol Trendline 1.2L': 376, 'Honda Amaze E i-VTEC': 377, 'Datsun GO Plus A Option Petrol': 378, 'Mahindra KUV 100 D75 K4 Plus': 379, 'Mahindra KUV 100 D75 K8 Dual Tone': 380, 'Mahindra KUV 100 mFALCON D75 K2': 381, 'Honda Amaze VX i-VTEC': 382, 'Mahindra KUV 100 mFALCON G80 K4 Plus 5str': 383, 'Volkswagen Polo Select 1.2 MPI Highline': 384, 'Tata Tigor 1.2 Revotron XZ': 385, 'Tata Tigor 2017-2020 XZ': 386, 'Honda Amaze S CVT Petrol BSIV': 387, 'Chevrolet Beat LS': 388, 'Tata Tigor 1.2 Revotron XZA': 389, 'Tata Tiago 1.2 Revotron XZ': 390, 'Honda Jazz VX': 391, 'Honda Amaze V CVT Petrol BSIV': 392, 'Tata Tiago 1.2 Revotron XE': 393, 'Chevrolet Beat LT': 394, 'Chevrolet Sail 1.2 LS ABS': 395, 'Chevrolet Sail 1.2 LS': 396, 'Honda Jazz 1.2 VX i VTEC': 397, 'Tata Tiago NRG Petrol': 398, 'Volkswagen Polo Diesel Highline 1.2L': 399, 'Tata Tigor 1.2 Revotron XT': 400, 'Chevrolet Sail Hatchback Petrol': 401, 'Volkswagen Polo Diesel Trendline 1.2L': 402, 'Honda Jazz V CVT': 403, 'Honda Jazz 1.2 V i VTEC': 404, 'Honda Jazz 1.2 SV i VTEC': 405, 'Tata Tiago 1.2 Revotron XZ WO Alloy': 406, 'Chevrolet Sail 1.2 LT ABS': 407, 'Tata Tiago XT': 408, 'Honda Jazz 1.2 S i VTEC': 409, 'Volkswagen Polo Diesel Comfortline 1.2L': 410, 'Tata Tiago 1.2 Revotron XZA': 411, 'Honda Amaze V Petrol BSIV': 412, 'Honda Jazz 1.2 V AT i VTEC': 413, 'Honda WR-V i-VTEC VX': 414, 'Volkswagen Polo 2015-2019 1.2 MPI Highline Plus': 415, 'Honda Jazz VX CVT': 416, 'Tata Tigor 1.2 Revotron XZ Option': 417, 'Chevrolet Sail Hatchback Petrol LS ABS': 418, 'Tata Tiago 1.2 Revotron XM': 419, 'Tata Tiago 1.2 Revotron XT': 420, 'Skoda Fabia 1.2 TDI Ambition Plus': 421, 'Skoda Fabia 1.2 TDI Active Plus': 422, 'Honda Jazz 1.2 S AT i VTEC': 423, 'Honda WR-V i-VTEC S': 424, 'Skoda Fabia 1.2L Diesel Elegance': 425, 'Tata Tigor 2017-2020 XZ Plus': 426, 'Skoda Fabia Scout 1.2 TDI': 427, 'Honda Amaze S CVT i-VTEC': 428, 'Tata Tigor 1.2 Revotron XE': 429, 'Tata Tiago 1.2 Revotron XM Option': 430, 'Honda Amaze S Petrol BSIV': 431, 'Honda Jazz V': 432, 'Honda Jazz 1.2 V AT i VTEC Privilege': 433, 'Skoda Fabia 1.2L Diesel Ambiente': 434, 'Tata Tiago NRG Petrol AMT': 435, 'Tata Tiago 2019-2020 XZ': 436, 'Chevrolet Sail Hatchback 1.2': 437, 'Honda Amaze VX Petrol BSIV': 438, 'Tata Tiago 2019-2020 XZ Plus Dual Tone': 439, 'Tata Tiago 1.2 Revotron XTA': 440, 'Chevrolet Sail Hatchback 1.2 LS': 441, 'Tata Tiago 1.2 Revotron XZ Plus Dual Tone': 442, 'Maruti Swift Dzire VDI': 443, 'Maruti Swift Dzire VDi': 444, 'Maruti Ertiga SHVS VDI': 445, 'Maruti Swift Dzire ZDI': 446, 'Maruti SX4 ZDI': 447, 'Chevrolet Enjoy TCDi LTZ 7 Seater': 448, 'Maruti Vitara Brezza LDi Option': 449, 'Maruti Vitara Brezza LDi': 450, 'Maruti Vitara Brezza VDi': 451, 'Tata Manza ELAN Quadrajet BS IV': 452, 'Maruti Vitara Brezza ZDi Plus AMT': 453, 'Maruti Swift VDI Deca': 454, 'Maruti Swift Star VDI': 455, 'Maruti Swift Dzire LDI': 456, 'Tata Manza Aura (ABS) Quadrajet': 457, 'Maruti Vitara Brezza ZDi Plus Dual Tone': 458, 'Maruti Ertiga VDI': 459, 'Maruti Ciaz ZDi': 460, 'Maruti Ritz VDi': 461, 'Tata Zest Quadrajet 1.3 75PS XM': 462, 'Maruti Ciaz 1.3 Alpha': 463, 'Maruti Vitara Brezza VDi Option': 464, 'Maruti Ritz LDi': 465, 'Maruti Ertiga SHVS ZDI Plus': 466, 'Maruti Ignis 1.3 Alpha': 467, 'Maruti Swift Dzire LDi': 468, 'Maruti Swift Dzire ZDi': 469, 'Tata Manza Club Class Quadrajet90 LX': 470, 'Maruti Swift Ldi BSIII': 471, 'Maruti Baleno Alpha 1.3': 472, 'Maruti SX4 Celebration Diesel': 473, 'Maruti Swift Dzire AMT VDI': 474, 'Maruti Swift Dzire ZDI Plus': 475, 'Maruti Swift VDI Optional': 476, 'Chevrolet Enjoy 1.3 TCDi LS 7': 477, 'Maruti SX4 S Cross 2015-2017 DDiS 200 Zeta': 478, 'Maruti Swift VDI BSIV': 479, 'Maruti Ertiga ZDI': 480, 'Tata Manza Aura Quadrajet': 481, 'Tata Manza Aura Plus Quadrajet': 482, 'Maruti Ertiga SHVS ZDI': 483, 'Maruti Swift VDI': 484, 'Tata Bolt Quadrajet XE': 485, 'Fiat Grande Punto Sport 90BHP': 486, 'Maruti S-Cross 2017-2020 Zeta DDiS 200 SH': 487, 'Maruti Swift Vdi BSIII': 488, 'Tata Manza Club Class Quadrajet90 VX': 489, 'Fiat Linea 1.3 Active': 490, 'Tata Indica Vista Quadrajet ZX': 491, 'Tata Indica Vista Aqua 1.3 Quadrajet BSIV': 492, 'Tata Manza Aqua Quadrajet BS IV': 493, 'Tata Zest Quadrajet 1.3 75PS XE': 494, 'Tata Indica Vista Quadrajet VX': 495, 'Tata Indica Vista Aura 1.3 Quadrajet (ABS) BS IV': 496, 'Chevrolet Sail Hatchback LS ABS': 497, 'Maruti Ignis 1.3 AMT Zeta': 498, 'Maruti Ciaz RS ZDi Plus SHVS': 499, 'Chevrolet Sail LT ABS': 500, 'Maruti Ciaz ZDi Plus': 501, 'Maruti Ciaz Alpha Diesel': 502, 'Maruti Vitara Brezza ZDi Plus AMT Dual Tone': 503, 'Maruti Ciaz VDi Plus SHVS': 504, 'Maruti S-Cross 2017-2020 Alpha DDiS 200 SH': 505, 'Fiat Grande Punto 1.3 Emotion Pack 90HP (Diesel)': 506, 'Chevrolet Sail 1.3 LS': 507, 'Maruti Swift ZDi': 508, 'Maruti Swift LDI Optional': 509, 'Maruti S-Cross 2017-2020 Sigma DDiS 200 SH': 510, 'Maruti Vitara Brezza ZDi Plus': 511, 'Tata Indica Vista Aqua 1.3 Quadrajet': 512, 'Fiat Linea Emotion (Diesel)': 513, 'Maruti S-Cross 2017-2020 Delta DDiS 200 SH': 514, 'Maruti Swift ZDI Plus': 515, 'Maruti Swift Dzire Tour LDI': 516, 'Fiat Linea Classic Plus 1.3 Multijet': 517, 'Maruti Swift Dzire LDI Optional': 518, 'Maruti Swift DDiS LDI': 519, 'Maruti SX4 VDI': 520, 'Tata Indica Vista Quadrajet LS': 521, 'Maruti Swift Dzire AMT ZDI': 522, 'Maruti Swift DDiS VDI': 523, 'Fiat Linea 1.3 Multijet Emotion': 524, 'Maruti Ertiga SHVS LDI Option': 525, 'Chevrolet Enjoy TCDi LS 8 Seater': 526, 'Tata Manza ELAN Quadrajet BS III': 527, 'Tata Manza Aura (ABS) Quadrajet BS IV': 528, 'Maruti Swift Ldi BSIV': 529, 'Maruti Ciaz S 1.3': 530, 'Maruti Baleno Delta 1.3': 531, 'Maruti Vitara Brezza ZDi': 532, 'Maruti Ciaz VDi Plus': 533, 'Tata Manza Aura Quadrajet BS IV': 534, 'Fiat Grande Punto EVO 1.3 Dynamic': 535, 'Maruti Baleno Zeta 1.3': 536, 'Tata Zest Quadrajet 1.3 XM': 537, 'Fiat Grande Punto Active (Diesel)': 538, 'Fiat Grande Punto EVO 1.3 Active': 539, 'Chevrolet Sail Hatchback LT ABS': 540, 'Maruti Swift Dzire VDI Optional': 541, 'Maruti SX4 ZDI Leather': 542, 'Tata Zest Quadrajet 1.3 XMS': 543, 'Maruti Vitara Brezza VDi AMT': 544, 'Maruti Ertiga ZDI Plus': 545, 'Maruti Ciaz ZDi Plus SHVS': 546, 'Fiat Linea Classic 1.3 Multijet': 547, 'Fiat Grande Punto 1.3 Dynamic (Diesel)': 548, 'Maruti Vitara Brezza ZDi AMT': 549, 'Maruti Swift Dzire AMT ZDI Plus': 550, 'Tata Zest Quadrajet 1.3 XT': 551, 'Tata Indica Vista Terra Quadrajet 1.3L': 552, 'Maruti Swift Dzire Vdi BSIV': 553, 'Maruti Swift AMT ZDI': 554, 'Chevrolet Enjoy 1.3 TCDi LTZ 8': 555, 'Tata Zest Quadrajet 1.3 75PS XMS': 556, 'Tata Manza Club Class Quadrajet90 EX': 557, 'Fiat Avventura Power Up 1.3 Active': 558, 'Maruti Swift Dzire Zdi BSIV': 559, 'Maruti SX4 S Cross 2015-2017 DDiS 200 Sigma': 560, 'Maruti Swift ZDI BSIV': 561, 'Maruti Baleno Zeta Diesel': 562, 'Maruti Baleno Sigma 1.3': 563, 'Fiat Avventura Power Up 1.3 Emotion': 564, 'Fiat Avventura MULTIJET Emotion': 565, 'Tata Indica Vista Aura Plus 1.3 Quadrajet BS IV': 566, 'Tata Indica Vista Quadrajet 90 VX': 567, 'Maruti Swift VDI Windsong Limited edition': 568, 'Chevrolet Sail Hatchback Diesel': 569, 'Tata Bolt Quadrajet XM': 570, 'Tata Zest Quadrajet 1.3 Anniversary Edition': 571, 'Maruti Ciaz VDI SHVS': 572, 'Tata Manza Aura Plus Quadrajet BS IV': 573, 'Tata Manza Club Class Quadrajet90 LS': 574, 'Maruti Swift LDI BSIV': 575, 'Maruti Ciaz VDi Option SHVS': 576, 'Maruti Swift Dzire Ldi BSIV': 577, 'Maruti Ciaz 1.3 Sigma': 578, 'Maruti Ciaz 1.3 Zeta': 579, 'Maruti Swift VDi BSIII W/ ABS': 580, 'Maruti Baleno Delta Diesel': 581, 'Chevrolet Enjoy 1.3 TCDi LT 8': 582, 'Chevrolet Enjoy TCDi LT 7 Seater': 583, 'Tata Indica Vista Quadrajet VX Tech': 584, 'Chevrolet Sail Hatchback Diesel Base': 585, 'Fiat Grande Punto 1.3 Emotion (Diesel)': 586, 'Fiat Linea 1.3 Multijet Active': 587, 'Maruti Ritz ZDi': 588, 'Maruti Ciaz Zeta Diesel': 589, 'Maruti Swift Dzire LDIX Limited Edition': 590, 'Maruti SX4 S Cross 2015-2017 DDiS 200 Alpha': 591, 'Chevrolet Enjoy 1.3 TCDi LS 8': 592, 'Tata Indica Vista Terra Quadrajet 1.3L BS IV': 593, 'Tata Indica Vista Aura 1.3 Quadrajet (ABS)': 594, 'Chevrolet Enjoy 1.3 TCDi LTZ 7': 595, 'Fiat Punto EVO 1.3 Emotion': 596, 'Maruti Ertiga LDI': 597, 'Maruti Ertiga LDI Option': 598, 'Maruti Swift LDI': 599, 'Maruti Ritz VDi ABS': 600, 'Maruti Ritz Genus VDi': 601, 'Maruti Swift AMT VDI': 602, 'Tata Manza Aqua Quadrajet': 603, 'Maruti Swift LDI SP Limited Edition': 604, 'Maruti Baleno Alpha Diesel': 605, 'Maruti Swift VXI BSIII': 606, 'Maruti Swift ZXI ABS': 607, 'Maruti Swift Dzire VXi': 608, 'Maruti Swift Glam': 609, 'Maruti Gypsy King Soft Top MPI BSIV': 610, 'Maruti Swift Dzire LXi': 611, 'Maruti Swift Dzire ZXi': 612, 'Maruti Gypsy King ST BSIII': 613, 'Maruti Esteem Vxi - BSIII': 614, 'Maruti Swift ZXI BSIII': 615, 'Maruti Esteem LX - BSIII': 616, 'Maruti Swift VXI BSIII W/ ABS': 617, 'Maruti Esteem AX': 618, 'Maruti Esteem Lxi - BSIII': 619, 'Maruti Swift Lxi BSIII': 620, 'Maruti Gypsy King Soft Top': 621, 'Ford Ikon 1.3 CLXi': 622, 'Ford Ikon 1.3 Flair': 623, 'Hyundai Getz 1.3 GVS': 624, 'Hyundai Getz GLS': 625, 'Hyundai Getz GLX': 626, 'Hyundai Getz GLE': 627, 'Honda City 1.3 EXI': 628, 'Toyota Corolla Altis Diesel D4DG': 629, 'Toyota Etios VXD': 630, 'Toyota Etios Liva GD SP': 631, 'Toyota Etios Liva Diesel': 632, 'Toyota Etios Liva GD': 633, 'Toyota Corolla Altis D-4D J': 634, 'Toyota Etios GD': 635, 'Toyota Etios Liva 1.4 GD': 636, 'Toyota Corolla Altis 1.4 DGL': 637, 'Toyota Etios Cross 1.4L GD': 638, 'Toyota Etios Diesel TRD Sportivo': 639, 'Toyota Etios Liva VD': 640, 'Toyota Platinum Etios 1.4 GXD': 641, 'Toyota Platinum Etios 1.4 GD': 642, 'Toyota Etios VD': 643, 'Toyota Corolla Altis D-4D G': 644, 'Toyota Etios Liva VXD': 645, 'Toyota Etios 1.4 VXD': 646, 'Toyota Etios Liva 1.4 VD': 647, 'Toyota Corolla Altis Diesel D4DJ': 648, 'Jeep Compass 1.4 Limited Plus BSIV': 649, 'Tata Manza Aura Plus Safire': 650, 'Tata Manza Aura Safire': 651, 'Hyundai i20 1.4 Magna AT': 652, 'Fiat Grande Punto 1.4 Emotion': 653, 'Jeep Compass 1.4 Limited': 654, 'Tata Manza Aqua Safire': 655, 'Tata Manza Aura (ABS) Safire': 656, 'Jeep Compass 1.4 Sport': 657, 'Fiat Linea Emotion': 658, 'Tata Manza Aura (ABS) Safire BS IV': 659, 'Maruti Ertiga ZXI': 660, 'Maruti Ertiga BSIV ZXI Plus': 661, 'Maruti Ertiga VXI': 662, 'Maruti Ertiga BSIV VXI': 663, 'Maruti Ertiga VXI Limited Edition': 664, 'Maruti Ciaz VXi Plus': 665, 'Maruti Ciaz AT ZXi': 666, 'Maruti Ciaz 1.4 Alpha': 667, 'Maruti Ertiga BSIV LXI': 668, 'Maruti Ertiga LXI': 669, 'Maruti Ciaz ZXi': 670, 'Maruti Ertiga VXI CNG Limited Edition': 671, 'Maruti Ciaz ZXi Plus': 672, 'Maruti Ciaz 1.4 Sigma': 673, 'Maruti Ciaz RS ZXi Plus': 674, 'Ford Fiesta 1.4 Duratec EXI': 675, 'Ford Fiesta 1.4 ZXi Duratec': 676, 'Ford Fiesta 1.4 Durasport EXI': 677, 'Ford Fiesta 1.4 Duratec EXI Limited Edition': 678, 'Ford Fiesta Classic 1.4 Duratorq LXI': 679, 'Ford Fiesta 1.4 Duratec ZXI': 680, 'Mahindra Renault Logan 1.4 GLX Petrol': 681, 'Mahindra Verito 1.4 G4 BSIV': 682, 'Mahindra Logan Petrol 1.4 GLE': 683, 'Hyundai i20 1.4 CRDi Asta': 684, 'Hyundai i20 Sportz Diesel': 685, 'Hyundai i20 2015-2017 Asta 1.4 CRDi': 686, 'Hyundai i20 Asta 1.4 CRDi': 687, 'Hyundai i20 1.4 Asta Option': 688, 'Hyundai i20 Magna 1.4 CRDi (Diesel)': 689, 'Hyundai Creta 1.4 CRDi S Plus': 690, 'Hyundai Creta 1.4 CRDi Base': 691, 'Hyundai i20 Active 1.4 SX with AVN': 692, 'Tata Indica V2 2001-2011 DLS BSIII': 693, 'Tata Indica V2 DLX BSII': 694, 'Hyundai i20 Asta (o) 1.4 CRDi (Diesel)': 695, 'Hyundai i20 Sportz 1.4 CRDi': 696, 'Tata Indigo CS LS (TDI) BS III': 697, 'Tata Indigo eCS VX BSIV': 698, 'Tata Indica V2 DL BSIII': 699, 'Hyundai i20 1.4 CRDi Era': 700, 'Tata Indigo GLX': 701, 'Tata Indigo CS LX (TDI) BS III': 702, 'Hyundai i20 Magna 1.4 CRDi': 703, 'Hyundai i20 1.4 CRDi Magna': 704, 'Hyundai i20 Active SX Diesel': 705, 'Tata Indica V2 2001-2011 eLX': 706, 'Hyundai Creta 1.4 EX Diesel': 707, 'Hyundai i20 Asta Option 1.4 CRDi': 708, 'Tata Indigo CS eLX BS IV': 709, 'Tata Indica V2 DLS': 710, 'Hyundai i20 Active 1.4': 711, 'Hyundai i20 Era Diesel': 712, 'Tata Indigo CR4': 713, 'Hyundai i20 Active S Diesel': 714, 'Hyundai Verna 1.4 VTVT': 715, 'Hyundai Elite i20 Asta Option Diesel': 716, 'Hyundai i20 Sportz AT 1.4': 717, 'Tata Indigo eCS LS TDI BSIII': 718, 'Hyundai i20 Active 1.4 SX': 719, 'Hyundai i20 1.4 CRDi Sportz': 720, 'Tata Indica V2 DLE BSIII': 721, 'Tata Indigo CS eLS BS IV': 722, 'Tata Indigo eCS LX BSIV': 723, 'Hyundai Creta 1.4 CRDi S': 724, 'Hyundai i20 2015-2017 Asta Option 1.4 CRDi': 725, 'Tata Indigo CS LE (TDI) BS-III': 726, 'Hyundai Verna 1.4 CRDi': 727, 'Tata Indigo GLS': 728, 'Tata Indica V2 eLS': 729, 'Hyundai i20 Sportz Option 1.4 CRDi': 730, 'Tata Indica V2 eLX': 731, 'Hyundai Creta 1.4 E Plus': 732, 'Hyundai Verna 1.4 CX': 733, 'Tata Indigo CS eVX': 734, 'Hyundai Verna CRDi 1.4 EX': 735, 'Hyundai i20 1.4 Sportz': 736, 'Hyundai i20 Era 1.4 CRDi': 737, 'Hyundai i20 Active 1.4 SX Dual Tone': 738, 'Hyundai i20 Magna Optional 1.4 CRDi': 739, 'Hyundai i20 2015-2017 Sportz 1.4 CRDi': 740, 'Hyundai i20 1.4 Asta Dual Tone': 741, 'Hyundai Elite i20 Diesel Sportz': 742, 'Hyundai i20 2015-2017 Sportz Option 1.4 CRDi': 743, 'Tata Indica V2 GLX BSIII': 744, 'Tata Indigo Grand Dicor': 745, 'Hyundai i20 1.4 Asta': 746, 'Tata Indica V2 DLE BSII': 747, 'Hyundai i20 1.4 Asta (AT)': 748, 'Hyundai i20 2015-2017 Magna 1.4 CRDi': 749, 'Hyundai i20 Asta 1.4 CRDi (Diesel)': 750, 'Hyundai Elite i20 Sportz Plus Diesel': 751, 'Tata Indigo eCS LX TDI BSIII': 752, 'Tata Indica V2 DLX': 753, 'Tata Indica V2 DiCOR DLG BS-III': 754, 'Tata Indigo eCS LE TDI BSIII': 755, 'Hyundai i20 Diesel Asta Option': 756, 'Hyundai i20 Active 1.4 S': 757, 'Tata Indigo Grand Petrol': 758, 'Tata Indica V2 DL': 759, 'Ford Figo Diesel Celebration Edition': 760, 'Ford Figo Diesel LXI': 761, 'Ford Figo Diesel Titanium': 762, 'Ford Figo Diesel EXI': 763, 'Ford Classic 1.4 Duratorq CLXI': 764, 'Ford Figo Diesel ZXI': 765, 'Ford Fiesta Classic 1.4 Duratorq CLXI': 766, 'Ford Fusion 1.4 TDCi Diesel': 767, 'Ford Fiesta EXi 1.4 TDCi Ltd': 768, 'Ford Classic 1.4 Duratorq Titanium': 769, 'Chevrolet Aveo 1.4 LS': 770, 'Ford Ikon 1.4 TDCi DuraTorq': 771, 'Ford Figo Diesel EXI Option': 772, 'Ford Fusion Plus 1.4 TDCi Diesel': 773, 'Ford Fiesta Classic 1.4 SXI Duratorq': 774, 'Ford Fiesta 1.4 ZXi TDCi ABS': 775, 'Chevrolet Enjoy Petrol LS 7 Seater': 776, 'Ford Fiesta 1.4 Duratorq ZXI': 777, 'Chevrolet Enjoy 1.4 LTZ 7': 778, 'Ford Fiesta 1.4 TDCi EXI': 779, 'Ford Fiesta 1.4 ZXi TDCi LE': 780, 'Ford Fiesta 1.4 SXi TDCi ABS': 781, 'Ford Fiesta 1.4 ZXi TDCi Limited Edition': 782, 'Ford Fiesta 1.4 Duratorq EXI': 783, 'Tata Indica Vista TDI LS': 784, 'Tata Indigo CS LS (TDI) BS-III': 785, 'Tata Indigo LS': 786, 'Tata Indica Vista Aqua 1.4 TDI': 787, 'Tata Indigo CS LX DiCOR': 788, 'Tata Venture EX 7 Str Captain Seats': 789, 'Tata Indigo CS LX (TDI) BS-III': 790, 'Tata Indica V2 Turbomax DLS BS IV': 791, 'Tata Indica V2 DLX TC': 792, 'Tata Indica Vista Terra 1.4 TDI': 793, 'Tata Indigo LS BSII': 794, 'Tata Indica V2 DLS TC': 795, 'Tata Indica V2 DLG TC': 796, 'Tata Indigo LX': 797, 'Tata Indigo V BSIII': 798, 'Tata Indica Vista TDI LX': 799, 'Tata Indica Vista Aqua TDI BSIII': 800, 'Tata Indigo TDI': 801, 'Tata Indica V2 DLX BSIII': 802, 'Tata Venture LX 7 Str': 803, 'Tata Indigo CS LS DiCOR': 804, 'Tata Indica Vista Terra TDI BSIII': 805, 'Tata Venture EX 7 Str': 806, 'Tata Indica V2 DLS BSIII': 807, 'Tata Indigo VS': 808, 'MG Hector Sharp AT BSIV': 809, 'MG Hector Sharp DCT Dualtone': 810, 'MG Hector Smart DCT': 811, 'Mahindra Verito 1.5 D4 BSIII': 812, 'Renault Duster 110PS Diesel RxL': 813, 'Nissan Terrano XL 85 PS': 814, 'Nissan Terrano XV Premium 110 PS': 815, 'Nissan Micra Diesel XV': 816, 'Renault Duster 85PS Diesel RxL': 817, 'Nissan Micra Diesel XL': 818, 'Mahindra Verito 1.5 D2 BSIII': 819, 'Nissan Terrano XL Plus 85 PS': 820, 'Renault Duster 110PS Diesel RxZ': 821, 'Nissan Sunny XL D': 822, 'Nissan Sunny Diesel XV': 823, 'Mahindra Verito Vibe 1.5 dCi D4': 824, 'Mahindra Verito 1.5 D6 BSIV': 825, 'Mahindra Verito 1.5 D4 BSIV': 826, 'Renault Scala Diesel RxZ': 827, 'Renault Lodgy World Edition 110PS': 828, 'Renault Pulse RxZ': 829, 'Nissan Terrano XE 85 PS': 830, 'Nissan Terrano XL D Option': 831, 'Renault Duster 85PS Diesel RxE': 832, 'Renault Duster Adventure Edition': 833, 'Mahindra Renault Logan 1.5 Diesel DLSX': 834, 'Mahindra Renault Logan 1.5 DLX Diesel': 835, 'Nissan Terrano XV D Premium AMT': 836, 'Nissan Terrano XV 110 PS': 837, 'Renault Duster 4x4': 838, 'Renault Duster 85PS Diesel RxL Optional': 839, 'Nissan Sunny Diesel XL': 840, 'Mahindra Logan Diesel 1.5 DLE': 841, 'Nissan Micra Diesel XV Premium': 842, 'Nissan Terrano XL 110 PS': 843, 'Renault Duster 85PS Diesel RxE Adventure': 844, 'Renault Fluence 1.5': 845, 'Renault Duster 85PS Diesel RxL Plus': 846, 'Renault Duster 85PS Diesel RxL Explore': 847, 'Renault Duster Adventure Edition RXZ AWD': 848, 'Mahindra Renault Logan 1.5 DLE Diesel': 849, 'Mahindra Logan Diesel 1.5 DLS': 850, 'Nissan Sunny XV D': 851, 'Renault Captur 1.5 Diesel RXT': 852, 'Renault Duster 85PS Diesel RxZ': 853, 'Renault Fluence Diesel E4': 854, 'Renault Pulse RxZ Optional': 855, 'Renault Lodgy 85PS RxE 7 Seater': 856, 'Mahindra Verito 1.5 D2 BSIV': 857, 'Renault Duster 85PS Diesel RxL Optional with Nav': 858, 'Nissan Micra Diesel XL Optional': 859, 'Renault Pulse RxL': 860, 'Ashok Leyland Stile LE': 861, 'Renault Pulse RxL Optional': 862, 'Renault Duster 85PS Diesel RxS': 863, 'Renault Duster 85PS Diesel STD': 864, 'Renault Lodgy Stepway 110PS RXZ 7S': 865, 'Mahindra Verito Vibe 1.5 dCi D6': 866, 'Renault Lodgy Stepway 85PS RXZ 8S': 867, 'Renault Duster 110PS Diesel RxL AMT': 868, 'Renault Lodgy 85PS RxE': 869, 'Renault Duster 110PS Diesel RxZ Plus': 870, 'Renault Scala Diesel RxE': 871, 'Renault Duster RXL AWD': 872, 'Renault Duster 85PS Diesel RxL Option': 873, 'Mahindra Verito 1.5 D6 BSIII': 874, 'Renault Duster 110PS Diesel RxL Explore': 875, 'Renault Duster 110PS Diesel RXZ Optional with Nav': 876, 'Renault Lodgy 85PS RxL': 877, 'Renault Lodgy 85PS RxZ': 878, 'Nissan Kicks XV D BSIV': 879, 'Renault Scala Diesel RxL': 880, 'Renault Lodgy 85PS Std': 881, 'Renault Duster RXZ 110PS AMT BSIV': 882, 'Maruti Ciaz Zeta': 883, 'Maruti XL6 Alpha': 884, 'Maruti Ertiga ZXI Plus Petrol': 885, 'Maruti Ciaz Delta BSIV': 886, 'Maruti Ertiga VXI Petrol': 887, 'Maruti Ciaz Delta Automatic BSIV': 888, 'Maruti Vitara Brezza ZXI Plus AT Dual Tone': 889, 'Honda City 1.5 EXI': 890, 'Mahindra Quanto C8': 891, 'Hyundai Verna CRDi SX': 892, 'Hyundai Verna Transform CRDi VGT SX ABS': 893, 'Kia Seltos HTE D': 894, 'Mahindra TUV 300 T8': 895, 'Hyundai Getz 1.5 CRDi GVS': 896, 'Mahindra TUV 300 T6 Plus': 897, 'Hyundai Verna CRDi SX ABS': 898, 'Hyundai Verna Transform SX VGT CRDi': 899, 'Kia Seltos HTX Plus AT D': 900, 'Mahindra NuvoSport N8 AMT': 901, 'Mahindra TUV 300 T4 Plus': 902, 'Mahindra Quanto C4': 903, 'Mahindra TUV 300 T4': 904, 'Mahindra NuvoSport N8': 905, 'Hyundai Verna CRDi': 906, 'Mahindra Quanto C2': 907, 'Hyundai Accent VIVA CRDi': 908, 'Hyundai Accent CRDi': 909, 'Mahindra TUV 300 mHAWK100 T8': 910, 'Honda City 1.5 GXI': 911, 'Mahindra TUV 300 mHAWK100 T8 Dual Tone': 912, 'Mahindra Bolero Power Plus SLX': 913, 'Mahindra Bolero 2011-2019 mHAWK D70 ZLX': 914, 'Mahindra Quanto C6': 915, 'Mahindra Bolero Power Plus SLE': 916, 'Mahindra Bolero Power Plus ZLX': 917, 'Mahindra TUV 300 T8 AMT': 918, 'Hyundai Verna CRDi ABS': 919, 'Mahindra Bolero Power Plus LX': 920, 'Hyundai Accent DLS': 921, 'Mahindra TUV 300 T6 Plus AMT': 922, 'Hyundai Verna Transform VGT CRDi': 923, 'Hyundai Verna Transform SX VGT CRDi AT BS III': 924, 'Mahindra TUV 300 T10': 925, 'Mahindra TUV 300 mHAWK100 T8 AMT': 926, 'Mahindra TUV 300 T6': 927, 'Hyundai Verna SX Diesel': 928, 'Honda City ZXi AT': 929, 'Hyundai Accent GLE': 930, 'Hyundai Accent GLX': 931, 'Hyundai Accent Executive': 932, 'Hyundai Accent GLS': 933, 'Hyundai Accent Executive CNG': 934, 'Hyundai Accent GLE CNG': 935, 'Hyundai Accent Executive LPG': 936, 'Toyota Etios VX': 937, 'Toyota Yaris V CVT BSIV': 938, 'Toyota Yaris V BSIV': 939, 'Ford Ecosport 1.5 Petrol Ambiente': 940, 'Toyota Etios G Safety': 941, 'Toyota Etios 1.5 V': 942, 'Toyota Etios G': 943, 'Ford Ecosport 1.5 Petrol Titanium': 944, 'Honda City 2017-2020 EXi': 945, 'Honda City i VTEC VX': 946, 'Honda City V MT': 947, 'Honda City i-VTEC CVT VX': 948, 'Honda City V AT': 949, 'Tata Nexon 1.5 Revotorq XZA Plus DualTone': 950, 'Honda City 1.5 S MT': 951, 'Honda City i VTEC S': 952, 'Ford EcoSport 1.5 Petrol Titanium Plus BSIV': 953, 'Mahindra Marazzo M6 8Str': 954, 'Honda City i-VTEC CVT V': 955, 'Honda BR-V i-VTEC S MT': 956, 'Hyundai Verna S': 957, 'Honda City 2017-2020 GXi': 958, 'Honda City 1.5 E MT': 959, 'Honda BRV i-VTEC V CVT': 960, 'Honda BR-V i-VTEC E MT': 961, 'Honda City 1.5 V Elegance': 962, 'Mahindra Marazzo M6': 963, 'Honda City 1.5 V MT Sunroof': 964, 'Honda City 1.5 V MT': 965, 'Honda City i-VTEC S': 966, 'Tata Nexon 1.5 Revotorq XZ Plus': 967, 'Honda City i VTEC V': 968, 'Honda City i VTEC CVT VX': 969, 'Tata Nexon 1.5 Revotorq XM': 970, 'Mahindra Marazzo M8': 971, 'Honda Mobilio V i VTEC': 972, 'Honda City 1.5 V AT': 973, 'Tata Nexon 1.5 Revotorq XE': 974, 'Ford EcoSport 1.5 Petrol Titanium BSIV': 975, 'Honda City Corporate Edition': 976, 'Mahindra Marazzo M2 BSIV': 977, 'Honda City 1.5 V Inspire': 978, 'Honda City E': 979, 'Ford EcoSport 1.5 Petrol Ambiente BSIV': 980, 'Ford EcoSport 1.5 Petrol Trend BSIV': 981, 'Mahindra XUV300 W6 Diesel BSIV': 982, 'Honda City VX CVT': 983, 'Honda City i VTEC VX Option BL': 984, 'Mahindra XUV300 W8 Option Dual Tone Diesel BSIV': 985, 'Honda City 2017-2020 VTEC': 986, 'Honda City i VTEC E': 987, 'Honda City i-VTEC CVT ZX': 988, 'Honda City i VTEC CVT SV': 989, 'Tata Nexon 1.5 Revotorq XZA Plus': 990, 'Honda City 1.5 S Inspire': 991, 'Honda City i-VTEC VX': 992, 'Honda City i VTEC VX Option': 993, 'Honda City S': 994, 'Hyundai Verna SX Opt': 995, 'Hyundai Verna SX': 996, 'Mahindra XUV300 W8 Option Diesel BSIV': 997, 'Honda City 1.5 V MT Exclusive': 998, 'Honda City i-VTEC V': 999, 'Tata Nexon 1.5 Revotorq XZ Plus Dual Tone': 1000, 'Honda BRV i-VTEC V MT': 1001, 'Mahindra Marazzo M2 8Str BSIV': 1002, 'Honda BR-V i-VTEC VX MT': 1003, 'Honda Mobilio S i VTEC': 1004, 'Honda City i VTEC SV': 1005, 'Tata Nexon 1.5 Revotorq XT': 1006, 'Honda WR-V i-DTEC VX': 1007, 'Skoda Rapid 1.5 TDI Ambition': 1008, 'Honda Amaze S Diesel': 1009, 'Honda City i DTEC S': 1010, 'Honda Jazz VX Diesel': 1011, 'Volkswagen Ameo 1.5 TDI Highline 16 Alloy': 1012, 'Honda City i DTEC VX': 1013, 'Volkswagen Ameo 1.5 TDI Comfortline': 1014, 'Ford EcoSport 1.5 TDCi Titanium Plus BSIV': 1015, 'Ford EcoSport 1.5 Diesel Titanium Plus BSIV': 1016, 'Nissan Sunny XL': 1017, 'Honda City i DTEC V': 1018, 'Nissan Sunny XL AT Special Edition': 1019, 'Honda City i-DTEC VX': 1020, 'Nissan Sunny XV Special Edition': 1021, 'Honda Amaze S CVT Diesel BSIV': 1022, 'Volkswagen Polo 1.5 TDI Highline': 1023, 'Ford Fiesta Titanium 1.5 TDCi': 1024, 'Ford EcoSport 1.5 Diesel Trend BSIV': 1025, 'Skoda Rapid 1.5 TDI Elegance': 1026, 'Honda Amaze VX i-DTEC': 1027, 'Ford EcoSport 1.5 TDCi Titanium BSIV': 1028, 'Ford EcoSport 1.5 Diesel Titanium BSIV': 1029, 'Nissan Sunny XE': 1030, 'Volkswagen Polo 1.5 TDI Comfortline': 1031, 'Honda Amaze VX Diesel BSIV': 1032, 'Honda Amaze E i-Dtech': 1033, 'Honda City i DTEC VX Option': 1034, 'Ford Aspire Titanium Diesel BSIV': 1035, 'Ford Ecosport 1.5 DV5 MT Titanium': 1036, 'Ford Figo Titanium Diesel BSIV': 1037, 'Honda Mobilio S i DTEC': 1038, 'Ford Figo Aspire 1.5 TDCi Titanium': 1039, 'Skoda Rapid 1.5 TDI AT Style Plus': 1040, 'Honda BRV i-DTEC V MT': 1041, 'Honda City i DTec V': 1042, 'Mahindra Bolero B2': 1043, 'Nissan Sunny XV': 1044, 'Ford Figo Aspire 1.5 TDCi Trend': 1045, 'Honda Jazz 1.5 V i DTEC': 1046, 'Mahindra Bolero B4': 1047, 'Ford Ecosport Sports Diesel': 1048, 'Honda Amaze E Diesel BSIV': 1049, 'Honda Amaze S i-Dtech': 1050, 'Honda BR-V i-DTEC S MT': 1051, 'Nissan Kicks XV BSIV': 1052, 'Volkswagen Vento 1.5 TDI Highline AT': 1053, 'Ford EcoSport 1.5 TDCi Platinum Edition BSIV': 1054, 'Honda Amaze E i-DTEC': 1055, 'Ford Figo 1.5D Trend MT': 1056, 'Ford Figo Aspire 1.5 TDCi Ambiente': 1057, 'Skoda Rapid 1.5 TDI AT Ambition Plus': 1058, 'Ford Figo 1.5D Base MT': 1059, 'Volkswagen Ameo 1.5 TDI Comfortline AT': 1060, 'Ford Figo 1.5D Titanium MT': 1061, 'Honda City i DTEC E': 1062, 'Maruti Ertiga 1.5 VDI': 1063, 'Volkswagen Vento 1.5 TDI Highline': 1064, 'Honda Jazz 1.5 VX i DTEC': 1065, 'Ford Freestyle Titanium Diesel BSIV': 1066, 'Ford Ecosport 1.5 DV5 MT Trend': 1067, 'Ford EcoSport 1.5 TDCi Titanium BE BSIV': 1068, 'Nissan Kicks XL BSIV': 1069, 'Ford Aspire Trend Diesel BSIV': 1070, 'Honda City i DTEC SV': 1071, 'Ford Fiesta Diesel Style': 1072, 'Volkswagen Polo 2015-2019 1.5 TDI Highline Plus': 1073, 'Honda Mobilio RS i DTEC': 1074, 'Honda Mobilio RS Option i DTEC': 1075, 'Honda Amaze S Option i-DTEC': 1076, 'Ford Figo Aspire 1.5 TDCi Titanium Opt': 1077, 'Volkswagen Vento 1.5 TDI Comfortline': 1078, 'Honda Jazz 1.5 E i DTEC': 1079, 'Ford Ecosport 1.5 Diesel Titanium': 1080, 'Volkswagen Ameo 1.5 TDI Trendline': 1081, 'Honda Amaze S i-DTEC': 1082, 'Ford Fiesta 1.5 TDCi Trend': 1083, 'Ford Figo Aspire 1.5 TDCi Sports Edition': 1084, 'Volkswagen Ameo 1.5 TDI Highline Plus': 1085, 'Honda Amaze VX O iDTEC': 1086, 'Skoda Rapid 1.5 TDI Style Plus Black Package': 1087, 'Honda City i DTec SV': 1088, 'Ford EcoSport S Diesel BSIV': 1089, 'Ford EcoSport 1.5 TDCi Trend Plus BSIV': 1090, 'Ford EcoSport 1.5 Diesel Ambiente BSIV': 1091, 'Ford Fiesta 1.5 TDCi Titanium': 1092, 'Volkswagen Vento 1.5 TDI Highline BSIV': 1093, 'Skoda Rapid 1.5 TDI Elegance Black Package': 1094, 'Ford EcoSport 1.5 Diesel Trend Plus BSIV': 1095, 'Honda Amaze E Option i-DTEC': 1096, 'Honda City i-DTEC V': 1097, 'Honda WR-V i-DTEC S': 1098, 'Honda Jazz 1.5 S i DTEC': 1099, 'Honda Amaze SX i-DTEC': 1100, 'Ford Ecosport 1.5 DV5 MT Titanium Optional': 1101, 'Volkswagen CrossPolo 1.5 TDI': 1102, 'Ford EcoSport 1.5 TDCi Ambiente BSIV': 1103, 'Renault Duster Petrol RXS CVT': 1104, 'Maruti Ertiga 1.5 ZDI': 1105, 'Skoda Rapid 1.5 TDI Active': 1106, 'Skoda Rapid 1.5 TDI AT Ambition': 1107, 'Honda Mobilio V i DTEC': 1108, 'Honda City i DTec VX': 1109, 'Honda City i-DTEC ZX': 1110, 'Ford Freestyle Trend Diesel BSIV': 1111, 'Skoda Rapid Monte Carlo 1.5 TDI AT BSIV': 1112, 'Ford Figo 1.5D Titanium Opt MT': 1113, 'Ford Figo 1.5D Ambiente MT': 1114, 'Skoda Rapid 1.5 TDI Ambition BSIV': 1115, 'Ford Fiesta 1.5 TDCi Ambiente': 1116, 'Volkswagen Polo Select 1.5 TDI Highline': 1117, 'Honda Amaze S Diesel BSIV': 1118, 'Ford EcoSport 1.5 TDCi Signature BSIV': 1119, 'Honda Amaze Anniversary Edition': 1120, 'Volkswagen Ameo 1.5 TDI Highline Plus 16 AT': 1121, 'Skoda Rapid 1.5 TDI AT Style BSIV': 1122, 'Volkswagen Vento 1.5 Highline Plus AT 16 Alloy': 1123, 'Ford Ecosport 1.5 Diesel Trend': 1124, 'Honda City i DTec S': 1125, 'Volkswagen Polo 2015-2019 GT 1.5 TDI': 1126, 'Hyundai Elantra CRDi SX Option AT': 1127, 'Volkswagen Vento 1.5 TDI Highline Plus AT': 1128, 'Skoda Rapid 1.5 TDI Ambition Plus': 1129, 'Volkswagen Vento 1.5 TDI Highline Plus AT BSIV': 1130, 'Honda BR-V i-DTEC VX MT': 1131, 'Honda City i DTec E': 1132, 'Ford Figo 1.5 Sports Edition MT': 1133, 'Ford EcoSport 1.5 TDCi Titanium Plus BE BSIV': 1134, 'Honda Jazz V Diesel': 1135, 'Ford Freestyle Titanium Plus Diesel BSIV': 1136, 'Ford EcoSport 1.5 Ti VCT MT Trend BSIV': 1137, 'Ford Ecosport 1.5 Ti VCT MT Titanium': 1138, 'Ford Ecosport 1.5 Ti VCT AT Titanium': 1139, 'Ford Figo 1.5P Titanium AT': 1140, 'Ford Freestyle Trend Diesel': 1141, 'Ford EcoSport 1.5 Ti VCT AT Titanium BSIV': 1142, 'Ford EcoSport 1.5 Ti VCT MT Titanium BSIV': 1143, 'Ford Freestyle Titanium Plus Diesel': 1144, 'Ford Freestyle Titanium Diesel': 1145, 'Ford Figo Titanium Diesel': 1146, 'Ford EcoSport 1.5 Ti VCT AT Titanium BE BSIV': 1147, 'Ford Figo Aspire 1.5 Ti-VCT Titanium': 1148, 'Ford Figo Aspire Titanium Diesel': 1149, 'Maruti Esteem DI': 1150, 'Maruti Zen D': 1151, 'Hyundai Creta 1.6 CRDi SX': 1152, 'Hyundai Verna 1.6 SX': 1153, 'Hyundai Creta 1.6 CRDi SX Plus Dual Tone': 1154, 'Hyundai Verna 1.6 CRDI': 1155, 'Hyundai Creta 1.6 CRDi AT SX Plus': 1156, 'Hyundai Verna 1.6 SX CRDi (O)': 1157, 'Hyundai Verna 1.6 CRDi S': 1158, 'Hyundai Verna 1.6 CRDi EX AT': 1159, 'Hyundai Verna 1.6 VGT CRDi': 1160, 'Hyundai Elantra CRDi SX': 1161, 'Hyundai Creta 1.6 CRDi SX Option': 1162, 'Hyundai Creta 1.6 CRDi AT S Plus': 1163, 'Hyundai Verna 1.6 CRDi EX MT': 1164, 'Hyundai Verna CRDi 1.6 SX Option': 1165, 'Hyundai Creta 1.6 CRDi Anniversary Edition': 1166, 'Hyundai Creta 1.6 SX Automatic Diesel': 1167, 'Hyundai Verna CRDi 1.6 AT SX Plus': 1168, 'Hyundai Verna 1.6 CRDi SX': 1169, 'Hyundai Verna CRDi 1.6 AT SX Option': 1170, 'Hyundai Creta 1.6 CRDi SX Plus': 1171, 'Hyundai Verna 1.6 CRDI AT SX Option': 1172, 'Hyundai Verna 1.6 CRDi S Option': 1173, 'Hyundai Verna 1.6 SX CRDI (O) AT': 1174, 'Hyundai Verna SX CRDi AT': 1175, 'Hyundai Creta 1.6 SX Diesel': 1176, 'Hyundai Verna CRDi 1.6 EX': 1177, 'Hyundai Verna CRDi 1.6 SX': 1178, 'Maruti SX4 Vxi BSIII': 1179, 'Maruti SX4 ZXI AT': 1180, 'Maruti SX4 ZXI AT Leather': 1181, 'Maruti SX4 Zxi BSIII': 1182, 'Maruti SX4 Zxi with Leather BSIII': 1183, 'Maruti SX4 ZXI MT BSIV Leather': 1184, 'Maruti SX4 Vxi BSIV': 1185, 'Maruti SX4 Green Vxi (CNG)': 1186, 'Maruti SX4 ZXI MT BSIV': 1187, 'Hyundai Verna VTVT 1.6 SX': 1188, 'Hyundai Verna VTVT 1.6 SX Option': 1189, 'Hyundai Verna 1.6 SX VTVT (O)': 1190, 'Hyundai Creta 1.6 VTVT S': 1191, 'Hyundai Verna 1.6 VTVT S Option': 1192, 'Hyundai Verna 1.6 VTVT SX': 1193, 'Hyundai Creta 1.6 SX Automatic': 1194, 'Hyundai Creta 1.6 VTVT E Plus': 1195, 'Hyundai Verna VTVT 1.6 AT SX Option': 1196, 'Hyundai Verna 1.6 VTVT S': 1197, 'Hyundai Verna 1.6 VTVT AT SX': 1198, 'Hyundai Creta 1.6 SX Option': 1199, 'Hyundai Creta 1.6 SX': 1200, 'Hyundai Creta 1.6 SX Option Executive': 1201, 'Hyundai Creta 1.6 Gamma SX Plus': 1202, 'Hyundai Verna 1.6 VTVT': 1203, 'Hyundai Verna 1.6 SX VTVT AT': 1204, 'Mercedes-Benz B Class B180 Sports': 1205, 'Volkswagen Jetta 1.6 Trendline': 1206, 'Ford Classic 1.6 Duratec Titanium': 1207, 'Ford Fiesta Classic 1.6 Duratec LXI': 1208, 'Ford Fiesta Classic 1.6 SXI Duratec': 1209, 'Ford Fiesta 1.6 ZXi ABS': 1210, 'Ford Classic 1.6 Duratec LXI': 1211, 'Ford Fiesta 1.6 Duratec EXI': 1212, 'Ford Fiesta Classic 1.6 Duratec CLXI': 1213, 'Ford Classic 1.6 Duratec CLXI': 1214, 'Ford Ikon 1.6 Nxt': 1215, 'Honda Civic ZX Diesel BSIV': 1216, 'Ford Ikon 1.6 EXi NXt': 1217, 'Ford Ikon 1.6 Really Sport': 1218, 'Volkswagen Vento Diesel Highline': 1219, 'Volkswagen Vento Petrol Highline': 1220, 'Skoda Rapid 1.6 MPI AT Elegance': 1221, 'Volkswagen Vento Diesel Trendline': 1222, 'Skoda Rapid Ultima 1.6 TDI Elegance': 1223, 'Chevrolet Optra Magnum 1.6 LT Petrol': 1224, 'Volkswagen Vento Diesel Comfortline': 1225, 'Skoda Rapid 1.6 MPI Ambition Plus': 1226, 'Skoda Rapid 1.6 MPI AT Style Plus': 1227, 'Volkswagen Vento 1.6 Highline': 1228, 'Volkswagen Polo GT TDI': 1229, 'Volkswagen Vento IPL II Diesel Trendline': 1230, 'Skoda Rapid 1.6 MPI Ambition BSIV': 1231, 'Skoda Rapid 1.6 MPI Ambition': 1232, 'Skoda Rapid 1.6 MPI AT Ambition BSIV': 1233, 'Volkswagen Vento Diesel Breeze': 1234, 'Mahindra Verito 1.6 G6 Executive BSIII': 1235, 'Skoda Rapid 1.6 TDI Ambition': 1236, 'Opel Astra 1.6': 1237, 'Skoda Rapid 1.6 TDI Elegance': 1238, 'Skoda Rapid 1.6 TDI Ambition Plus': 1239, 'Skoda Rapid 1.6 MPI Active BSIV': 1240, 'Volkswagen Vento Konekt Diesel Highline': 1241, 'Volkswagen Vento Petrol Trendline': 1242, 'Skoda Rapid 1.6 TDI Ambition Plus Alloy': 1243, 'Nissan Terrano XL': 1244, 'Skoda Rapid 1.6 MPI Elegance': 1245, 'Volkswagen Vento Petrol Highline AT': 1246, 'Hyundai Verna Transform SX VTVT': 1247, 'Hyundai Verna XXi ABS (Petrol)': 1248, 'Hyundai Verna Xi (Petrol)': 1249, 'Chevrolet Optra 1.6 LT Royale': 1250, 'Hyundai Verna Transform VTVT': 1251, 'Hyundai Verna 1.6 Xi ABS': 1252, 'Hyundai Accent GLS 1.6 ABS': 1253, 'Hyundai Accent GLS 1.6': 1254, 'Audi A4 1.8 TFSI': 1255, 'Skoda Octavia RS 1.8 Turbo Petrol MT': 1256, 'Toyota Corolla Altis 1.8 VL AT': 1257, 'Toyota Corolla AE': 1258, 'Toyota Corolla Altis 1.8 Sport': 1259, 'Toyota Corolla H2': 1260, 'Toyota Corolla DX': 1261, 'Hyundai Elantra GLS': 1262, 'Hyundai Elantra GT': 1263, 'Mercedes-Benz New C-Class C 200 Kompressor Elegance AT': 1264, 'Mercedes-Benz New C-Class C 200 Kompressor Elegance MT': 1265, 'Mercedes-Benz New C-Class 200 K AT': 1266, 'Hyundai Elantra S': 1267, 'Hyundai Elantra SX': 1268, 'Hyundai Elantra SX AT': 1269, 'Toyota Corolla Altis 1.8 VL CVT': 1270, 'Volkswagen Passat 1.8 TSI MT': 1271, 'Toyota Corolla Altis G': 1272, 'Skoda Superb LK 1.8 TSI AT': 1273, 'Toyota Corolla Altis 1.8 G CVT': 1274, 'Volkswagen GTI 1.8 TSI': 1275, 'Toyota Corolla Altis 1.8 G': 1276, 'Toyota Corolla Altis JS MT': 1277, 'Skoda Superb Elegance 1.8 TSI AT': 1278, 'Toyota Corolla Altis 1.8 J': 1279, 'Skoda Octavia Elegance 1.8 TSI AT': 1280, 'Audi A6 35 TFSI Matrix': 1281, 'Audi A3 40 TFSI Premium': 1282, 'Honda Civic 1.8 V AT': 1283, 'Honda Civic 1.8 V MT': 1284, 'Honda Civic 1.8 S MT': 1285, 'Honda Civic 1.8 S AT': 1286, 'Honda Civic 1.8 (E) MT': 1287, 'Honda Civic ZX': 1288, 'Honda Civic 1.8 V MT Inspire': 1289, 'Skoda Laura Ambiente': 1290, 'Volkswagen Jetta 2.0 TDI Comfortline': 1291, 'Skoda Laura Ambiente 1.9 PD': 1292, 'Skoda Octavia Classic 1.9 TDI MT': 1293, 'Skoda Octavia L and K 1.9 TDI MT': 1294, 'Skoda Octavia Ambiente 1.9 TDI MT': 1295, 'Skoda Octavia Rider 1.9 AT TDI': 1296, 'Skoda Octavia Ambiente 1.9 TDI': 1297, 'Skoda Octavia L and K 1.9 TDI (MT)': 1298, 'Tata Sumo CX 10 Str BSIV': 1299, 'Tata Sumo MKII Turbo 2.0 LX': 1300, 'Tata Sumo EX 10/7 Str BSIII': 1301, 'Tata Sumo SE Plus BSII': 1302, 'Tata Sumo GX 7 Str BSII': 1303, 'Tata Winger Deluxe - Flat Roof (Non-AC)': 1304, 'Tata Sumo CX 9 Seater': 1305, 'Tata Sumo EX TC': 1306, 'Jeep Compass 2.0 Limited': 1307, 'Jeep Compass 2.0 Longitude Option BSIV': 1308, 'Jeep Compass 2.0 Limited 4X4': 1309, 'Jeep Compass 2.0 Limited Option': 1310, 'Tata Harrier XZ Dark Edition BSIV': 1311, 'Jeep Compass 2.0 Limited Option 4X4': 1312, 'Tata Harrier XZ Plus': 1313, 'Jeep Compass 2.0 Limited Plus 4X4': 1314, 'Tata Harrier XZ': 1315, 'Jeep Compass 2.0 Longitude BSIV': 1316, 'Tata Harrier XZ BSIV': 1317, 'Audi A6 2.0 TDI  Design Edition': 1318, 'Audi A6 2.0 TDI Technology': 1319, 'Audi Q5 35TDI Premium Plus': 1320, 'Skoda Octavia Ambition 2.0 TDI MT': 1321, 'Audi A4 2.0 TDI': 1322, 'Audi Q5 2.0 TDI': 1323, 'Volkswagen Jetta 2.0L TDI Highline AT': 1324, 'Skoda Yeti Ambition 4WD': 1325, 'Audi Q3 2.0 TDI Quattro Premium Plus': 1326, 'Skoda Octavia Style Plus 2.0 TDI AT': 1327, 'Audi A3 35 TDI Premium Plus': 1328, 'Audi Q3 35 TDI Quattro Premium Plus': 1329, 'Volkswagen Jetta 2.0L TDI Highline': 1330, 'Audi A4 35 TDI Premium Plus': 1331, 'Volkswagen Passat 2.0 TDI AT Highline': 1332, 'Skoda Kodiaq 2.0 TDI Style': 1333, 'Audi A4 2.0 TDI 177 Bhp Premium Plus': 1334, 'Volkswagen Passat Highline DSG S': 1335, 'Skoda Superb Elegance 2.0 TDI CR AT': 1336, 'Skoda Laura Ambiente 2.0 TDI CR MT': 1337, 'Audi Q3 35 TDI Quattro Technology': 1338, 'Volkswagen Jetta 2.0L TDI Comfortline': 1339, 'Volkswagen Passat Highline DSG S (Spl. Edition)': 1340, 'Audi A6 2.0 TDI Premium Plus': 1341, 'Audi A6 2.0 TDI': 1342, 'Volvo XC40 D4 R-Design': 1343, 'Volvo XC90 T8 Excellence BSIV': 1344, 'Volvo XC40 D4 Inscription BSIV': 1345, 'Volvo XC60 Inscription D5 BSIV': 1346, 'Volvo S90 D4 Inscription BSIV': 1347, 'Volvo V40 D3 R-Design': 1348, 'Volvo S60 D4 SUMMUM': 1349, 'Volvo V40 Cross Country D3': 1350, 'Mercedes-Benz CLA 200 CGI Sport': 1351, 'Mercedes-Benz New C-Class C 200 AVANTGARDE': 1352, 'Chevrolet Captiva LT': 1353, 'Chevrolet Optra Magnum 2.0 LS': 1354, 'Chevrolet Cruze LTZ AT': 1355, 'Hyundai Sonata CRDi M/T': 1356, 'Hyundai Elantra CRDi': 1357, 'Chevrolet Optra Magnum 2.0 LT': 1358, 'Chevrolet Cruze LTZ': 1359, 'Chevrolet Optra Magnum 2.0 LS BSIII': 1360, 'Chevrolet Optra Magnum 2.0 LT BS3': 1361, 'Mercedes-Benz E-Class Exclusive E 200 BSIV': 1362, 'Hyundai Tucson CRDi': 1363, 'Mercedes-Benz GLA Class 200': 1364, 'Hyundai Sonata 2.0L CRDi MT': 1365, 'Chevrolet Cruze LT': 1366, 'Chevrolet Tavera Neo 3 LS 10 Str': 1367, 'Chevrolet Tavera Neo 3 LT 9 Seats BSIV': 1368, 'BMW 5 Series 520d Sport Line': 1369, 'BMW X4 M Sport X xDrive20d': 1370, 'BMW 3 Series 320d Luxury Line': 1371, 'BMW 5 Series 520d Luxury Line': 1372, 'BMW 3 Series 320d': 1373, 'BMW 3 Series 320d Luxury Plus': 1374, 'BMW 3 Series 320d Highline': 1375, 'BMW X1 sDrive 20d Sportline': 1376, 'BMW 3 Series 320d Luxury Line Plus': 1377, 'Renault Koleos 2.0 Diesel': 1378, 'BMW 3 Series 320d Sedan': 1379, 'Hyundai Tucson 2.0 e-VGT 2WD AT GLS': 1380, 'BMW 3 Series 320d GT Luxury Line': 1381, 'Ambassador Classic 2000 DSZ AC PS': 1382, 'BMW 3 Series GT Luxury Line': 1383, 'BMW 5 Series 525d': 1384, 'BMW 5 Series 520d': 1385, 'Ambassador Grand 1500 DSZ BSIII': 1386, 'BMW 3 Series 320d Prestige': 1387, 'BMW X3 xDrive20d': 1388, 'BMW X1 sDrive20d': 1389, 'BMW 3 Series 320d Corporate Edition': 1390, 'Ambassador Grand 2000 DSZ PW CL': 1391, 'Mahindra Scorpio 1.99 S10': 1392, 'Mahindra XUV500 W10 1.99 mHawk': 1393, 'Mahindra Scorpio 1.99 S4': 1394, 'Mahindra Scorpio 1.99 S6 Plus': 1395, 'Mahindra XUV500 AT W6 1.99 mHawk': 1396, 'Mahindra Scorpio 1.99 S10 4WD': 1397, 'Mahindra Scorpio 1.99 S8': 1398, 'Mahindra Scorpio 1.99 S4 Plus': 1399, 'Honda CR-V 2.0L 2WD AT': 1400, 'Mahindra XUV500 W4 1.99 mHawk': 1401, 'Renault Fluence 2.0': 1402, 'BMW X1 sDrive20d M Sport': 1403, 'BMW X1 sDrive20i xLine': 1404, 'Mitsubishi Lancer 2.0 L Diesel LX': 1405, 'Mitsubishi Lancer 2.0 LXd': 1406, 'Mitsubishi Lancer 2.0 GLd': 1407, 'Jaguar XF 2.0 Diesel Portfolio': 1408, 'Land Rover Discovery Sport TD4 SE': 1409, 'Jaguar XE 2016-2019 2.0L Diesel Prestige': 1410, 'Isuzu D-Max V-Cross Z Prestige': 1411, 'Tata New Safari 4X2': 1412, 'Tata New Safari 4X4 EXI BSIII': 1413, 'Mercedes-Benz B Class B180': 1414, 'Mercedes-Benz New C-Class 220 CDI AT': 1415, 'Mercedes-Benz E-Class E250 Edition E': 1416, 'Mercedes-Benz GL-Class 220d 4MATIC Sport': 1417, 'Mercedes-Benz E-Class E250 CDI Avantgarde': 1418, 'Mercedes-Benz GLA Class 200 CDI SPORT': 1419, 'Mercedes-Benz GLA Class 200 D Sport Edition': 1420, 'Mercedes-Benz M-Class ML 250 CDI': 1421, 'Mercedes-Benz GLA Class 200 CDI': 1422, 'Mercedes-Benz E-Class E250 CDI Avantgrade': 1423, 'Mercedes-Benz New C-Class C 250 CDI Elegance': 1424, 'Mercedes-Benz New C-Class C 220 CDI Elegance AT': 1425, 'Mercedes-Benz New C-Class C 220 CDI BE Avantgare': 1426, 'Mercedes-Benz B Class B200 CDI Sport': 1427, 'Mercedes-Benz E-Class E250 CDI Elegance': 1428, 'Mercedes-Benz E-Class E 220 CDI Avantgarde': 1429, 'Mercedes-Benz New C-Class C 220 CDI Elegance MT': 1430, 'Mercedes-Benz New C-Class 250 CDI Classic': 1431, 'Mahindra Scorpio VLX AT AIRBAG BSIV': 1432, 'Tata Safari DICOR 2.2 LX 4x2': 1433, 'Mahindra XUV500 W11 Option AWD': 1434, 'Tata Hexa XE': 1435, 'Tata Safari Storme EX': 1436, 'Mahindra XUV500 W4': 1437, 'Mahindra XUV500 W8 2WD': 1438, 'Tata Hexa XTA': 1439, 'Mahindra Scorpio LX': 1440, 'Tata New Safari DICOR 2.2 EX 4x2': 1441, 'Mahindra XUV500 AT W10 AWD': 1442, 'Tata Hexa XT': 1443, 'Tata New Safari DICOR 2.2 VX 4x2': 1444, 'Tata Aria Pride': 1445, 'Mahindra Scorpio S10 7 Seater': 1446, 'Mahindra Scorpio M2DI': 1447, 'Mahindra XUV500 W10 2WD': 1448, 'Mahindra Scorpio VLX 2WD AIRBAG SE BSIV': 1449, 'Mahindra Scorpio 2.6 SPORTZ CRDe': 1450, 'Mahindra XUV500 W6 2WD': 1451, 'Tata Sumo GX': 1452, 'Mahindra Scorpio SLE BSIV': 1453, 'Mahindra Xylo H4': 1454, 'Mahindra Scorpio Getaway': 1455, 'Mahindra TUV 300 Plus P4 BSIV': 1456, 'Mahindra Scorpio S4 Plus 4WD': 1457, 'Tata Safari DICOR 2.2 EX 4x2': 1458, 'Tata Sumo MKII GX BS IV': 1459, 'Mahindra Scorpio VLX 2WD AIRBAG BSIV': 1460, 'Mahindra Scorpio 2.6 SLX Turbo 7 Seater': 1461, 'Tata Safari Storme VX': 1462, 'Mahindra Scorpio S4 Plus': 1463, 'Mahindra Scorpio S4 7 Seater': 1464, 'Mahindra XUV500 W7': 1465, 'Mahindra Scorpio 2.6 CRDe': 1466, 'Mahindra XUV500 W8 4WD': 1467, 'Mahindra Scorpio LX BSIV': 1468, 'Tata New Safari DICOR 2.2 EX 4x4': 1469, 'Mahindra Scorpio VLX 2WD BSIV': 1470, 'Mahindra Scorpio S11 BSIV': 1471, 'Mahindra Scorpio VLX 4WD AIRBAG AT BSIV': 1472, 'Mahindra Scorpio VLS 2.2 mHawk': 1473, 'Tata New Safari DICOR 2.2 VX 4x2 BS IV': 1474, 'Mahindra Scorpio VLX 2WD BSIII': 1475, 'Mahindra Scorpio VLX 2WD ABS AT BSIII': 1476, 'Tata Safari Storme LX': 1477, 'Tata New Safari Dicor VX 4X2 BS IV': 1478, 'Mahindra XUV500 W8 AWD': 1479, 'Mahindra Scorpio Intelli Hybrid S6 Plus': 1480, 'Jaguar XF 2.2 Litre Luxury': 1481, 'Tata Hexa XM': 1482, 'Mahindra XUV500 W9 2WD': 1483, 'Mahindra Scorpio VLS AT 2.2 mHAWK': 1484, 'Land Rover Freelander 2 TD4 HSE': 1485, 'Tata New Safari DICOR 2.2 LX 4x2': 1486, 'Tata Aria Pure LX 4x2': 1487, 'Tata New Safari DICOR 2.2 VX 4x4': 1488, 'Mahindra Scorpio S7 120': 1489, 'Tata Safari Storme VX Varicor 400': 1490, 'Mahindra XUV500 AT W6 2WD': 1491, 'Mahindra Scorpio Intelli Hybrid S10': 1492, 'Tata Xenon XT EX 4X4': 1493, 'Mahindra XUV500 W9 BSIV': 1494, 'Mahindra Scorpio 2009-2014 SLE 7S BSIV': 1495, 'Mahindra Xylo H9': 1496, 'Mahindra Scorpio VLX 2WD AIRBAG BSIII': 1497, 'Mahindra Scorpio Intelli Hybrid S10 4WD': 1498, 'Mahindra XUV500 W11 Option BSIV': 1499, 'Mahindra XUV500 AT W10 FWD': 1500, 'Mahindra XUV500 W5 BSIV': 1501, 'Tata New Safari Dicor GX 4X2 BS IV': 1502, 'Mahindra Scorpio VLX 2WD AT BSIII': 1503, 'Mahindra XUV500 W7 BSIV': 1504, 'Mahindra XUV500 W11 BSIV': 1505, 'Mahindra XUV500 W11 AT BSIV': 1506, 'Mahindra Scorpio S11 4WD BSIV': 1507, 'Mahindra Scorpio VLX 2WD AIRBAG AT BSIV': 1508, 'Mahindra Scorpio SLE BS IV': 1509, 'Tata New Safari DICOR 2.2 GX 4x2': 1510, 'Mahindra Scorpio SLX 2.6 Turbo 8 Str': 1511, 'Mahindra XUV500 W10 AWD': 1512, 'Mahindra Scorpio 2009-2014 SLE 7S BSIII': 1513, 'Mahindra Scorpio 2006-2009 VLX 2WD 7 Str BSIII': 1514, 'Mahindra Scorpio S4 9 Seater': 1515, 'Mahindra Scorpio SLE BSIII': 1516, 'Tata Sumo MKII CX BS IV': 1517, 'Mahindra Scorpio 2009-2014 VLX 2WD 7S BSIV': 1518, 'Mahindra XUV500 AT W9 2WD': 1519, 'Tata Aria Pleasure 4x2': 1520, 'Tata Xenon XT EX 4X2': 1521, 'Land Rover Range Rover Evoque 2.2L Pure': 1522, 'Mahindra Scorpio VLX 4WD AIRBAG BSIV': 1523, 'Tata New Safari DICOR 2.2 EX 4x4 BS IV': 1524, 'Tata New Safari Dicor LX 4X2 BS IV': 1525, 'Mahindra Scorpio S10 4WD': 1526, 'Tata New Safari Dicor EX 4X2 BS IV': 1527, 'Tata New Safari DICOR 2.2 GX 4x2 BS IV': 1528, 'Mahindra XUV500 AT W8 FWD': 1529, 'Mahindra Scorpio S5 BSIV': 1530, 'Tata New Safari Dicor VX 4X2': 1531, 'Ford Endeavour 2.2 Titanium AT 4X2': 1532, 'Hyundai Santa Fe 2WD AT': 1533, 'Hyundai Santa Fe 4WD AT': 1534, 'Hyundai Santa Fe 4X4': 1535, 'Hyundai Santa Fe 2WD MT': 1536, 'Hyundai Santa Fe 4x4 AT': 1537, 'Force One SX ABS 7 Seating': 1538, 'Chevrolet Captiva 2.2 LT': 1539, 'Chevrolet Captiva 2.2 LTZ AWD': 1540, 'Honda CR-V 2.4 4WD AT': 1541, 'Honda CR-V 2.4L 4WD AT': 1542, 'Honda Accord 2.4 AT': 1543, 'Honda Accord 2.4 M/T': 1544, 'Honda CR-V 2.4L 4WD AT AVN': 1545, 'Honda CR-V 2.4L 4WD': 1546, 'Honda CR-V 2.4L 4WD MT': 1547, 'Honda Accord 2.4 MT': 1548, 'Honda Accord VTi-L MT': 1549, 'Honda Accord 2.4 A/T': 1550, 'Hyundai Sonata 2.4 GDi MT': 1551, 'Hyundai Sonata 2.4L AT': 1552, 'Toyota Camry V4 (MT)': 1553, 'Toyota Camry W4 (AT)': 1554, 'Toyota Innova Crysta 2.4 G MT 8 STR': 1555, 'Toyota Innova Crysta 2.4 VX MT BSIV': 1556, 'Toyota Innova Crysta 2.4 GX MT BSIV': 1557, 'Toyota Innova Crysta 2.4 GX MT 8S BSIV': 1558, 'Toyota Innova Crysta 2.4 ZX MT BSIV': 1559, 'Toyota Innova Crysta 2.4 ZX MT': 1560, 'Toyota Innova Crysta 2.4 VX MT 8S BSIV': 1561, 'Toyota Innova Crysta 2.4 VX MT': 1562, 'Toyota Innova Crysta 2.4 ZX AT': 1563, 'Mitsubishi Pajero Sport 4X4': 1564, 'Mitsubishi Pajero Sport 4X4 Dual Tone': 1565, 'Mitsubishi Pajero Sport Anniversary Edition': 1566, 'Lexus ES 300h': 1567, 'Mahindra Xylo D2': 1568, 'Mahindra Xylo D2 BS IV': 1569, 'Mahindra Xylo D2 BSIV': 1570, 'Mahindra Xylo D4': 1571, 'Mahindra Xylo D2 BS III': 1572, 'Mahindra Xylo D2 Maxx': 1573, 'Toyota Innova 2.5 G (Diesel) 7 Seater': 1574, 'Toyota Innova 2.5 G (Diesel) 7 Seater BS IV': 1575, 'Toyota Innova 2.5 VX (Diesel) 8 Seater': 1576, 'Toyota Camry 2.5 Hybrid': 1577, 'Toyota Innova 2.5 EV (Diesel) PS 7 Seater BS IV': 1578, 'Toyota Innova 2.5 GX 7 STR': 1579, 'Toyota Innova 2.5 GX (Diesel) 8 Seater': 1580, 'Toyota Innova 2.5 V Diesel 8-seater': 1581, 'Toyota Innova 2.5 V Diesel 7-seater': 1582, 'Toyota Innova 2.5 VX (Diesel) 7 Seater': 1583, 'Toyota Innova 2.5 G1 Diesel 8-seater': 1584, 'Toyota Innova 2.5 G (Diesel) 8 Seater': 1585, 'Toyota Innova 2.5 G (Diesel) 8 Seater BS IV': 1586, 'Toyota Innova 2.5 E Diesel MS 8-seater': 1587, 'Toyota Innova 2.5 G4 Diesel 7-seater': 1588, 'Toyota Innova 2.5 VX 8 STR': 1589, 'Toyota Innova 2.5 EV (Diesel) PS 8 Seater BS IV': 1590, 'Toyota Innova 2.5 Z Diesel 7 Seater BS IV': 1591, 'Toyota Innova Crysta 2.5 VX BS IV': 1592, 'Toyota Innova 2.5 E Diesel MS 7-seater': 1593, 'Toyota Innova 2.5 VX (Diesel) 8 Seater BS IV': 1594, 'Toyota Innova 2.5 GX 8 STR': 1595, 'Toyota Innova 2.5 G4 Diesel 8-seater': 1596, 'Toyota Innova 2.5 VX 7 STR': 1597, 'Toyota Innova 2.5 VX 8 STR BSIV': 1598, 'Toyota Innova 2.5 GX (Diesel) 7 Seater': 1599, 'Toyota Innova 2.5 G2': 1600, 'Toyota Innova 2.5 EV PS 8 STR BSIV': 1601, 'Toyota Innova 2.5 GX 8 STR BSIV': 1602, 'Toyota Innova 2.5 E Diesel PS 7-Seater': 1603, 'Toyota Fortuner 2.5 4x2 MT TRD Sportivo': 1604, 'Toyota Innova 2.5 ZX Diesel 7 Seater BSIII': 1605, 'Toyota Innova 2.5 VX (Diesel) 7 Seater BS IV': 1606, 'Toyota Innova 2.5 EV Diesel MS 7 Str BSIII': 1607, 'Toyota Innova 2.5 Z Diesel 7 Seater': 1608, 'Toyota Innova 2.5 EV Diesel PS 7 Seater BSIII': 1609, 'Toyota Innova 2.5 E 7 STR': 1610, 'Toyota Innova 2.5 GX (Diesel) 8 Seater BS IV': 1611, 'BMW 5 Series 523i': 1612, 'Mercedes-Benz E-Class E 250 Elegance': 1613, 'Mahindra Thar CRDe': 1614, 'Mahindra Xylo E4 BS IV': 1615, 'Mahindra Thar CRDe AC': 1616, 'Mahindra Xylo E6': 1617, 'Mahindra Xylo D4 BSIV': 1618, 'Mahindra Xylo E4 8S': 1619, 'Mahindra Xylo D4 BSIII': 1620, 'Mahindra Thar CRDe ABS': 1621, 'Mahindra Xylo E8': 1622, 'Mahindra Xylo E4': 1623, 'Mahindra Xylo E8 ABS Airbag': 1624, 'Mahindra Xylo E8 ABS Airbag BSIV': 1625, 'Mahindra Xylo E4 BS III': 1626, 'Mahindra Xylo E4 ABS BS IV': 1627, 'Mahindra Thar 4X4': 1628, 'Chevrolet Tavera Neo 3 LT 9 Seats BSIII': 1629, 'Chevrolet Tavera Neo LS B3 - 7(C) seats BSIII': 1630, 'Chevrolet Tavera Neo 3 9 Str BSIII': 1631, 'Ford Endeavour 2.5L 4X2 MT': 1632, 'Chevrolet Tavera Neo 3 LS 9 Str BSIII': 1633, 'Chevrolet Tavera Neo 3 10 Seats BSIII': 1634, 'Ford Endeavour 2.5L 4X2': 1635, 'Ford Endeavour 4x2 XLT Limited Edition': 1636, 'Chevrolet Tavera Neo 3 LS 10 Seats BSIII': 1637, 'Chevrolet Tavera B3 LT L1 10 Seats BSIII': 1638, 'Chevrolet Tavera LS B3 10 Seats BSII': 1639, 'Chevrolet Tavera B1-10 seats BSII': 1640, 'Chevrolet Tavera Neo LS B3 - 10 seats BSIII': 1641, 'Chevrolet Tavera B2 8 Seats BSIII': 1642, 'Chevrolet Tavera Neo LT-L - 9 seats BSII': 1643, 'Isuzu D-Max V-Cross 4X4': 1644, 'Mahindra Bolero DI DX 7 Seater': 1645, 'Mahindra Bolero SLE': 1646, 'Mahindra Bolero 2011-2019 ZLX': 1647, 'Mahindra Bolero 2011-2019 SLE': 1648, 'Mahindra Bolero 2011-2019 DI 4WD NON AC': 1649, 'Mahindra Bolero SLX': 1650, 'Mahindra Bolero 2011-2019 SLX': 1651, 'Mahindra Bolero 2011-2019 DI - AC BS III': 1652, 'Mahindra Bolero 2011-2019 DI BSIII': 1653, 'Mahindra Bolero DI DX 8 Seater': 1654, 'Mahindra Bolero 2011-2019 Plus AC': 1655, 'Mahindra Bolero PLUS AC BSIII': 1656, 'Mahindra Bolero 2011-2019 Plus - AC BSIII': 1657, 'Mahindra Bolero 2011-2019 Plus-AC Plus PS BSIII': 1658, 'Mahindra Scorpio S2 7 Seater': 1659, 'Mahindra Bolero SLX 2WD BSIII': 1660, 'Mahindra Bolero ZLX BSIII': 1661, 'Mahindra Bolero VLX CRDe': 1662, 'Mahindra Bolero DI Non AC BSIII': 1663, 'Mahindra Scorpio 2009-2014 EX 2WD 7S': 1664, 'Mahindra Thar DI 4X4': 1665, 'Mahindra Scorpio EX': 1666, 'Mahindra Bolero 2011-2019 EX NON AC': 1667, 'Mahindra Bolero 2011-2019 DI NON AC BS III White': 1668, 'Mahindra Bolero DI': 1669, 'Mahindra Bolero DI AC BSIII': 1670, 'Mahindra Bolero 2011-2019 SLX 2WD BSIII': 1671, 'Mahindra Bolero 2011-2019 ZLX BSIII': 1672, 'Mahindra Bolero 2011-2019 DI NON AC BS III SILVER': 1673, 'Mahindra Bolero 2011-2019 SLE BSIII': 1674, 'Mahindra Bolero Power Plus Plus AC BSIV PS': 1675, 'Mahindra Bolero XL 10 Seater Non AC': 1676, 'Mahindra Scorpio S3 9 Seater BSIV': 1677, 'Mahindra Bolero SLE BSIII': 1678, 'Mahindra Scorpio S2 9 Seater': 1679, 'Mahindra Bolero 2011-2019 EX AC': 1680, 'Mahindra Thar DI 4X4 PS': 1681, 'Mahindra Bolero Power Plus Plus Non AC BSIV PS': 1682, 'Mahindra Bolero SLX 2WD': 1683, 'Mahindra Bolero PLUS AC': 1684, 'Mahindra Bolero DI BSIII': 1685, 'Mahindra Bolero 2011-2019 Special Edition': 1686, 'Mahindra Bolero 2011-2019 Plus Non AC BSIV PS': 1687, 'Mahindra Scorpio 2009-2014 EX 9S BSIII': 1688, 'Mahindra Bolero 2011-2019 Camper': 1689, 'Mahindra Scorpio 2009-2014 EX 2WD 9S': 1690, 'Mahindra Bolero 2011-2019 Plus Non AC': 1691, 'Mahindra Bolero SLX 4WD BSIII': 1692, 'Mahindra Bolero LX Non AC BSIII': 1693, 'Mahindra Bolero Pik-Up FB 1.7T': 1694, 'Mahindra Bolero Pik-Up CBC 1.7T': 1695, 'Force Gurkha Hard Top BS3 4WD': 1696, 'Mahindra Scorpio 2.6 CRDe SLE': 1697, 'Mahindra Scorpio LX 2.6 Turbo': 1698, 'Mahindra Scorpio 2.6 Turbo 9 Str': 1699, 'Mahindra Scorpio Gateway 2WD': 1700, 'Mahindra Scorpio SLX 4WD': 1701, 'Mahindra Scorpio SLX 4WD LE': 1702, 'Mahindra Scorpio 2.6 DX': 1703, 'Mahindra Scorpio 2.6 Turbo 7 Str': 1704, 'Mahindra Scorpio 2006-2009 LX 2.6 Turbo 9 Str': 1705, 'Toyota Innova Crysta 2.7 GX AT 8 STR': 1706, 'Toyota Innova Crysta 2.7 ZX AT BSIV': 1707, 'Mahindra Ssangyong Rexton RX5': 1708, 'Mahindra Ssangyong Rexton RX7': 1709, 'Toyota Innova Crysta 2.8 ZX AT BSIV': 1710, 'Toyota Fortuner 2.8 2WD MT BSIV': 1711, 'Toyota Fortuner 2.8 2WD MT': 1712, 'Toyota Innova Crysta 2.8 GX AT BSIV': 1713, 'Toyota Innova Crysta 2.8 GX AT 8S BSIV': 1714, 'Toyota Fortuner 2.8 2WD AT BSIV': 1715, 'Toyota Fortuner 2.8 4WD AT BSIV': 1716, 'Toyota Fortuner 2.8 4WD MT BSIV': 1717, 'Ford Endeavour 3.0L 4X4 AT': 1718, 'Ford Endeavour Hurricane Limited Edition': 1719, 'Ford Endeavour 3.0L 4X2 AT': 1720, 'Tata Sumo Gold EX BSIII': 1721, 'Tata New Safari 3L Dicor LX 4x2': 1722, 'Tata Sumo EX': 1723, 'Tata Sumo CX': 1724, 'Tata Sumo SE': 1725, 'Tata Sumo Gold EX': 1726, 'Tata Sumo Gold GX BSIII': 1727, 'Tata Spacio Gold-10/6 Str BSII': 1728, 'Tata Sumo Gold CX BSIII': 1729, 'Tata Sumo Gold GX': 1730, 'Audi Q5 3.0 TDI Quattro': 1731, 'Audi Q7 35 TDI Quattro Premium': 1732, 'Audi Q7 3.0 TDI Quattro': 1733, 'Audi Q7 3.0 TDI Quattro Premium Plus': 1734, 'Audi Q5 45 TDI quattro Technology': 1735, 'Toyota Fortuner 4x4 MT': 1736, 'Toyota Fortuner 4x2 Manual': 1737, 'Toyota Fortuner 3.0 Diesel': 1738, 'Toyota Fortuner 4x2 AT': 1739, 'Toyota Fortuner 4x2 4 Speed AT': 1740, 'Toyota Fortuner 4x4 AT': 1741, 'Toyota Fortuner 4x2 AT TRD Sportivo': 1742, 'Toyota Land Cruiser Prado VX L': 1743, 'Mercedes-Benz S-Class S 350 CDI': 1744, 'Mercedes-Benz M-Class ML 350 4Matic': 1745, 'Mercedes-Benz E-Class E270 CDI': 1746, 'Mercedes-Benz M-Class ML 350 CDI': 1747, 'Mercedes-Benz GL-Class 350 CDI Luxury': 1748, 'Mercedes-Benz GL-Class 350 CDI Blue Efficiency': 1749, 'BMW 6 Series GT 630d Luxury Line': 1750, 'BMW X6 xDrive30d': 1751, 'BMW 7 Series 730Ld': 1752, 'Jaguar XF 3.0 Litre S Premium Luxury': 1753, 'BMW X7 xDrive 30d DPE': 1754, 'Jaguar XF Diesel': 1755, 'BMW 5 Series 530d': 1756, 'BMW X5 3.0d': 1757, 'Honda Accord V6 AT': 1758, 'Isuzu MUX 2WD': 1759, 'Isuzu MU 7 AT Premium': 1760, 'Ford Endeavour 3.2 Titanium AT 4X4': 1761, 'Jeep Wrangler 2016-2019 3.6 4X4': 1762, 'Tata Nano Cx': 1763, 'Tata Nano STD': 1764, 'Tata Nano CX': 1765, 'Tata Nano Cx BSIV': 1766, 'Tata Nano XTA': 1767, 'Tata Nano LX': 1768, 'Tata Nano Lx BSIV': 1769, 'Tata Nano Twist XT': 1770, 'Tata Nano XE': 1771, 'Tata Nano Cx BSIII': 1772, 'Tata Nano Twist XE': 1773, 'Tata Nano Lx': 1774, 'Tata Nano LX SE': 1775, 'Maruti Celerio LDi': 1776, 'Maruti Celerio VDi': 1777, 'Maruti Celerio ZDi': 1778, 'Maruti 800 DX BSII': 1779, 'Maruti Alto LX': 1780, 'Maruti Alto 800 LXI': 1781, 'Maruti Omni E MPI STD BS IV': 1782, 'Maruti Omni 8 Seater BSIV': 1783, 'Maruti Alto 800 CNG LXI Optional': 1784, 'Maruti 800 Std': 1785, 'Maruti Alto 800 VXI BSIV': 1786, 'Maruti Alto 800 LXI BSIV': 1787, 'Maruti Alto LX BSIII': 1788, 'Maruti Alto LXi': 1789, 'Daewoo Matiz SD': 1790, 'Maruti Alto LXI': 1791, 'Maruti Alto 800 VXI': 1792, 'Maruti Alto LXi BSIII': 1793, 'Maruti 800 AC BSIII': 1794, 'Maruti Alto 800 LXI Optional': 1795, 'Maruti 800 AC': 1796, 'Maruti Alto Std': 1797, 'Maruti Omni 8 Seater BSII': 1798, 'Maruti Alto 800 CNG LXI': 1799, 'Maruti Alto 800 VXI Plus': 1800, 'Maruti Omni MPI STD BSIV': 1801, 'Maruti 800 Std BSII': 1802, 'Maruti Omni MPI CARGO BSIV': 1803, 'Maruti 800 DX 5 Speed': 1804, 'Maruti 800 DX': 1805, 'Maruti Alto 800 LX': 1806, 'Maruti 800 Std MPFi': 1807, 'Maruti 800 AC BSII': 1808, 'Daewoo Matiz SS': 1809, 'Maruti Omni 5 Str STD': 1810, 'Maruti Omni E 8 Str STD': 1811, 'Maruti 800 Std BSIII': 1812, 'Maruti Alto 800 LXI Anniversary Edition': 1813, 'Maruti Alto 800 LXI Airbag': 1814, 'Maruti Alto 800 Base': 1815, 'Maruti 800 EX': 1816, 'Maruti Alto STD': 1817, 'Maruti Omni LPG CARGO BSIII W IMMOBILISER': 1818, 'Maruti 800 EX BSII': 1819, 'Maruti Alto 800 LX Optional': 1820, 'Maruti 800 Uniq': 1821, 'Maruti Omni CNG': 1822, 'Maruti Omni Limited Edition': 1823, 'Maruti 800 AC Uniq': 1824, 'Maruti 800 AC LPG': 1825, 'Maruti Omni MPI STD BSIII 8-STR W/ IMMOBILISER': 1826, 'Maruti Alto 800 LXI CNG': 1827, 'Maruti Omni 5 Seater BSIV': 1828, 'Maruti Alto AX': 1829, 'Maruti 800 EX 5 Speed': 1830, 'Maruti Alto 800 VXI Optional': 1831, 'Maruti Alto Green LXi (CNG)': 1832, 'Renault KWID RXT': 1833, 'Renault KWID RXL': 1834, 'Datsun RediGO S': 1835, 'Datsun RediGO T Option': 1836, 'Datsun RediGO Sport': 1837, 'Renault KWID RXT Optional': 1838, 'Datsun RediGO A': 1839, 'Datsun RediGO T': 1840, 'Renault KWID RXE': 1841, 'Hyundai EON Era Plus': 1842, 'Hyundai EON Sportz': 1843, 'Hyundai EON Magna Plus': 1844, 'Hyundai EON D Lite': 1845, 'Hyundai EON D Lite Plus': 1846, 'Hyundai EON Era': 1847, 'Hyundai EON D Lite Plus Option': 1848, 'Hyundai EON Era Plus Sports Edition': 1849, 'Hyundai EON Magna Optional': 1850, 'Hyundai EON LPG Era Plus': 1851, 'Hyundai EON Magna Plus Option': 1852, 'Mahindra Supro LX 8 Str': 1853, 'Chevrolet Beat Diesel LT': 1854, 'Chevrolet Beat Diesel LS': 1855, 'Chevrolet Beat Diesel LT Option': 1856, 'Chevrolet Beat Diesel': 1857, 'Maruti Zen LX': 1858, 'Maruti Zen LXI': 1859, 'Maruti Zen VXi - BS III': 1860, 'Maruti Zen Base': 1861, 'Maruti Zen LXi - BS III': 1862, 'Maruti Zen LX - BS III': 1863, 'Maruti Zen LX BSII': 1864, 'Maruti Zen VXI': 1865, 'Maruti Zen Std': 1866, 'Maruti Zen Classic': 1867, 'Chevrolet Spark 1.0 E': 1868, 'Chevrolet Spark 1.0 LT': 1869, 'Chevrolet Spark 1.0 LS': 1870, 'Chevrolet Spark 1.0': 1871, 'Chevrolet Spark 1.0 PS': 1872, 'Chevrolet Spark 1.0 LT Option Pack w/ Airbag': 1873, 'Chevrolet Spark 1.0 PS LPG': 1874, 'Chevrolet Spark 1.0 LT LPG': 1875, 'Maruti Alto K10 VXI': 1876, 'Maruti Alto K10 VXI Airbag': 1877, 'Maruti Wagon R AMT VXI': 1878, 'Maruti Celerio ZXI MT BSIV': 1879, 'Maruti Wagon R LXI LPG BSIV': 1880, 'Maruti Zen Estilo LXI BSIII': 1881, 'Maruti Wagon R VXI': 1882, 'Maruti Celerio VXI': 1883, 'Maruti Wagon R VXI BS IV': 1884, 'Maruti Wagon R VXI BS IV with ABS': 1885, 'Maruti Wagon R LXI CNG': 1886, 'Maruti Wagon R LXI Optional': 1887, 'Maruti Celerio LXI': 1888, 'Maruti A-Star Vxi': 1889, 'Maruti Wagon R LXI': 1890, 'Maruti Alto K10 LXI': 1891, 'Maruti Celerio ZXI': 1892, 'Maruti Wagon R VXI BSIII': 1893, 'Maruti Alto K10 2010-2014 VXI': 1894, 'Maruti Wagon R VXI Optional': 1895, 'Maruti Zen Estilo VXI BSIV': 1896, 'Maruti Wagon R LXI BS IV': 1897, 'Maruti A-Star Zxi': 1898, 'Maruti Zen Estilo LXI BS IV': 1899, 'Maruti Wagon R Stingray VXI': 1900, 'Hyundai EON 1.0 Kappa Magna Plus': 1901, 'Maruti Wagon R Duo Lxi': 1902, 'Maruti Alto K10 Knightracer': 1903, 'Maruti Celerio ZXI AT': 1904, 'Maruti Wagon R VXi BSII': 1905, 'Maruti Wagon R AX': 1906, 'Hyundai EON 1.0 Era Plus': 1907, 'Maruti Celerio ZXI Optional': 1908, 'Maruti Celerio X ZXI BSIV': 1909, 'Maruti Wagon R VXI Plus Optional': 1910, 'Maruti Wagon R LX': 1911, 'Maruti Wagon R CNG LXI': 1912, 'Maruti Celerio X ZXI': 1913, 'Maruti Wagon R PRIMEA': 1914, 'Maruti Alto K10 VXI Optional': 1915, 'Maruti Alto K10 VXI AGS': 1916, 'Maruti Zen Estilo LXI Green (CNG)': 1917, 'Maruti Celerio VXi AMT': 1918, 'Maruti Alto K10 LX': 1919, 'Maruti Celerio X ZXI Option BSIV': 1920, 'Maruti Celerio VXI AT': 1921, 'Maruti Zen Estilo LX BSIV': 1922, 'Maruti Wagon R AX BSIV': 1923, 'Maruti Alto K10 VXI AGS Optional': 1924, 'Maruti A-Star Lxi': 1925, 'Maruti Wagon R AMT VXI Option': 1926, 'Maruti Celerio X VXI Option BSIV': 1927, 'Maruti Baleno RS 1.0 Petrol': 1928, 'Maruti Wagon R VXI Plus': 1929, 'Maruti Zen Estilo VXI BSIII': 1930, 'Maruti Wagon R Stingray VXI Optional': 1931, 'Hyundai Venue SX Plus Turbo DCT BSIV': 1932, 'Maruti Celerio X VXI': 1933, 'Maruti Alto K10 LXI CNG': 1934, 'Maruti Celerio ZXI Optional MT BSIV': 1935, 'Maruti Wagon R AMT VXI Plus': 1936, 'Maruti Celerio VXI MT BSIV': 1937, 'Maruti Wagon R LXI CNG Optional': 1938, 'Maruti Celerio ZXI Optional AMT BSIV': 1939, 'Maruti Wagon R LXI DUO BS IV': 1940, 'Hyundai EON 1.0 Kappa Magna Plus Optional': 1941, 'Hyundai Venue SX Plus Dual Tone Turbo DCT': 1942, 'Hyundai EON 1.0 Magna Plus Option O': 1943, 'Maruti S-Presso VXI AT': 1944, 'Maruti Celerio ZXI AMT BSIV': 1945, 'Renault KWID 1.0': 1946, 'Volkswagen Ameo 1.0 MPI Trendline': 1947, 'Datsun RediGO 1.0 S': 1948, 'Renault KWID 1.0 RXT Optional': 1949, 'Renault Triber RXT BSIV': 1950, 'Renault Triber RXZ BSIV': 1951, 'Renault KWID Climber 1.0 MT': 1952, 'Ford Ecosport 1.0 Ecoboost Titanium Optional': 1953, 'Volkswagen Polo 2015-2019 1.0 MPI Highline Plus': 1954, 'Renault KWID 1.0 RXT 02 Anniversary Edition': 1955, 'Volkswagen Polo 2015-2019 1.0 MPI Comfortline': 1956, 'Datsun RediGO 1.0 T Option': 1957, 'Volkswagen Polo 2015-2019 1.0 MPI Trendline': 1958, 'Renault KWID 1.0 RXL': 1959, 'Renault KWID Climber 1.0 AMT': 1960, 'Renault KWID 1.0 RXT BSIV': 1961, 'Renault KWID AMT RXL': 1962, 'Volkswagen Polo 1.0 TSI Highline Plus': 1963, 'Renault Triber RXZ': 1964, 'Volkswagen Polo 1.0 MPI Trendline BSIV': 1965, 'Renault KWID AMT': 1966, 'Renault KWID 1.0 RXT AMT Opt': 1967, 'Volkswagen Ameo 1.0 MPI Comfortline': 1968, 'Datsun RediGO SV 1.0': 1969, 'Datsun RediGO AMT 1.0 S': 1970, 'Renault KWID Climber 1.0 MT BSIV': 1971}\n"
          ]
        }
      ]
    },
    {
      "cell_type": "markdown",
      "source": [
        "# Implement the biased random walk"
      ],
      "metadata": {
        "id": "cEULEyum4j7O"
      }
    },
    {
      "cell_type": "code",
      "source": [
        "def next_step(graph, previous, current, p, q):\n",
        "    neighbors = list(graph.neighbors(current))   \n",
        "\n",
        "    weights = []        \n",
        "    \n",
        "    # Adjust the weights of the edges to the neighbors with respect to p and q.\n",
        "    for neighbor in neighbors:\n",
        "        if neighbor == previous:\n",
        "            # Control the probability to return to the previous node.\n",
        "            weights.append(graph[current][neighbor][\"weight\"] / p)\n",
        "        elif graph.has_edge(neighbor, previous):\n",
        "            # The probability of visiting a local node.\n",
        "            weights.append(graph[current][neighbor][\"weight\"])\n",
        "        else:\n",
        "            # Control the probability to move forward.\n",
        "            weights.append(graph[current][neighbor][\"weight\"] / q)\n",
        "\n",
        "    # Compute the probabilities of visiting each neighbor.\n",
        "    weight_sum = sum(weights)\n",
        "    probabilities = [weight / weight_sum for weight in weights]\n",
        "    # Probabilistically select a neighbor to visit.\n",
        "    next = np.random.choice(neighbors, size=1, p=probabilities)[0]\n",
        "    return next\n",
        "\n",
        "\n",
        "def random_walk(graph, num_walks, num_steps, p, q):\n",
        "    walks = []\n",
        "    nodes = list(graph.nodes())\n",
        "    # Perform multiple iterations of the random walk.\n",
        "    for walk_iteration in range(num_walks):\n",
        "        random.shuffle(nodes)\n",
        "\n",
        "        for node in tqdm(\n",
        "            nodes,\n",
        "            position=0,\n",
        "            leave=True,\n",
        "            desc=f\"Random walks iteration {walk_iteration + 1} of {num_walks}\",\n",
        "        ):\n",
        "            # Start the walk with a random node from the graph.\n",
        "            walk = [node]\n",
        "            # Randomly walk for num_steps.\n",
        "            while len(walk) < num_steps:\n",
        "                current = walk[-1]\n",
        "                previous = walk[-2] if len(walk) > 1 else None\n",
        "                # Compute the next node to visit.\n",
        "                next = next_step(graph, previous, current, p, q)\n",
        "                walk.append(next)\n",
        "            # Replace node ids in the walk with token ids.\n",
        "            walk = [vocabulary_lookup[token] for token in walk]\n",
        "            # Add the walk to the generated sequence.\n",
        "            walks.append(walk)\n",
        "\n",
        "    return walks"
      ],
      "metadata": {
        "id": "XcVK3AXriouA"
      },
      "execution_count": null,
      "outputs": []
    },
    {
      "cell_type": "markdown",
      "source": [
        "# Generate training data using the biased random walk"
      ],
      "metadata": {
        "id": "5ZgvhTsn48Al"
      }
    },
    {
      "cell_type": "code",
      "source": [
        "# Random walk return parameter.\n",
        "p = 1\n",
        "# Random walk in-out parameter.\n",
        "q = 1\n",
        "# Number of iterations of random walks.\n",
        "num_walks = 5\n",
        "# Number of steps of each random walk.\n",
        "num_steps = 10\n",
        "walks = random_walk(cars_graph, num_walks, num_steps, p, q)\n",
        "\n",
        "print(\"Number of walks generated:\", len(walks))\n"
      ],
      "metadata": {
        "colab": {
          "base_uri": "https://localhost:8080/"
        },
        "id": "l2Od_6Aj4w2k",
        "outputId": "835445c4-674a-4cae-a885-7de2228161d3"
      },
      "execution_count": null,
      "outputs": [
        {
          "output_type": "stream",
          "name": "stderr",
          "text": [
            "Random walks iteration 1 of 5: 100%|██████████| 1971/1971 [00:03<00:00, 586.90it/s]\n",
            "Random walks iteration 2 of 5: 100%|██████████| 1971/1971 [00:03<00:00, 604.88it/s]\n",
            "Random walks iteration 3 of 5: 100%|██████████| 1971/1971 [00:03<00:00, 594.66it/s]\n",
            "Random walks iteration 4 of 5: 100%|██████████| 1971/1971 [00:03<00:00, 574.49it/s]\n",
            "Random walks iteration 5 of 5: 100%|██████████| 1971/1971 [00:03<00:00, 619.21it/s]"
          ]
        },
        {
          "output_type": "stream",
          "name": "stdout",
          "text": [
            "Number of walks generated: 9855\n"
          ]
        },
        {
          "output_type": "stream",
          "name": "stderr",
          "text": [
            "\n"
          ]
        }
      ]
    },
    {
      "cell_type": "code",
      "source": [
        "print(\"Number of nodes in walk number 1:\", len(walks[0]))\n",
        "print(\"Number of nodes in walk number 7025:\", len(walks[7024]))"
      ],
      "metadata": {
        "colab": {
          "base_uri": "https://localhost:8080/"
        },
        "id": "kMqa-Trtrxar",
        "outputId": "13f86275-0b8c-4e79-dab7-88162f35ab9f"
      },
      "execution_count": null,
      "outputs": [
        {
          "output_type": "stream",
          "name": "stdout",
          "text": [
            "Number of nodes in walk number 1: 10\n",
            "Number of nodes in walk number 7025: 10\n"
          ]
        }
      ]
    },
    {
      "cell_type": "code",
      "source": [
        "for i in range(10):\n",
        "  print(walks[i])"
      ],
      "metadata": {
        "colab": {
          "base_uri": "https://localhost:8080/"
        },
        "id": "mL5UUlffuC8Y",
        "outputId": "79221811-8961-4778-fc27-2a999862a1a4"
      },
      "execution_count": null,
      "outputs": [
        {
          "output_type": "stream",
          "name": "stdout",
          "text": [
            "[977, 996, 1006, 987, 985, 993, 995, 989, 973, 952]\n",
            "[541, 581, 522, 583, 458, 501, 567, 543, 475, 566]\n",
            "[555, 550, 547, 525, 576, 444, 574, 507, 487, 561]\n",
            "[1290, 1297, 1292, 1290, 1295, 1297, 1298, 1293, 1293, 1296]\n",
            "[1319, 1327, 1334, 1337, 1335, 1326, 1329, 1333, 1335, 1331]\n",
            "[1652, 1646, 1651, 1679, 1665, 1653, 1674, 1654, 1662, 1694]\n",
            "[1022, 1134, 1090, 1132, 1025, 1101, 1116, 1130, 1066, 1099]\n",
            "[800, 796, 807, 784, 792, 785, 803, 807, 808, 803]\n",
            "[1734, 1735, 1733, 1734, 1735, 1732, 1733, 1731, 1731, 1732]\n",
            "[123, 106, 125, 120, 115, 106, 110, 117, 126, 127]\n"
          ]
        }
      ]
    },
    {
      "cell_type": "markdown",
      "source": [
        "# Generate positive and negative examples"
      ],
      "metadata": {
        "id": "HrPSY1I05Y-i"
      }
    },
    {
      "cell_type": "code",
      "source": [
        "def generate_examples(sequences, window_size, num_negative_samples, vocabulary_size):\n",
        "    example_weights = defaultdict(int)\n",
        "    # Iterate over all sequences (walks).\n",
        "    for sequence in tqdm(\n",
        "        sequences,\n",
        "        position=0,\n",
        "        leave=True,\n",
        "        desc=f\"Generating postive and negative examples\",\n",
        "    ):\n",
        "        # Generate positive and negative skip-gram pairs for a sequence (walk).\n",
        "        pairs, labels = keras.preprocessing.sequence.skipgrams(\n",
        "            sequence,\n",
        "            vocabulary_size=vocabulary_size,\n",
        "            window_size=window_size,\n",
        "            negative_samples=num_negative_samples,\n",
        "        )\n",
        "        for idx in range(len(pairs)):\n",
        "            pair = pairs[idx]\n",
        "            label = labels[idx]\n",
        "            target, context = min(pair[0], pair[1]), max(pair[0], pair[1])\n",
        "            if target == context:\n",
        "                continue\n",
        "            entry = (target, context, label)\n",
        "            example_weights[entry] += 1\n",
        "\n",
        "    targets, contexts, labels, weights = [], [], [], []\n",
        "    for entry in example_weights:\n",
        "        weight = example_weights[entry]\n",
        "        target, context, label = entry\n",
        "        targets.append(target)\n",
        "        contexts.append(context)\n",
        "        labels.append(label)\n",
        "        weights.append(weight)\n",
        "\n",
        "    return np.array(targets), np.array(contexts), np.array(labels), np.array(weights)\n",
        "\n",
        "\n",
        "num_negative_samples = 4\n",
        "targets, contexts, labels, weights = generate_examples(\n",
        "    sequences=walks,\n",
        "    window_size=num_steps,\n",
        "    num_negative_samples=num_negative_samples,\n",
        "    vocabulary_size=len(vocabulary),\n",
        ")"
      ],
      "metadata": {
        "colab": {
          "base_uri": "https://localhost:8080/"
        },
        "id": "aSxfggoJ5d_o",
        "outputId": "56e78b8a-c1d0-458e-8277-1d827a3c736d"
      },
      "execution_count": null,
      "outputs": [
        {
          "output_type": "stream",
          "name": "stderr",
          "text": [
            "Generating postive and negative examples: 100%|██████████| 9855/9855 [00:20<00:00, 479.17it/s]\n"
          ]
        }
      ]
    },
    {
      "cell_type": "markdown",
      "source": [
        "##### Let's display the shapes of the outputs"
      ],
      "metadata": {
        "id": "zZ8noatrfKMA"
      }
    },
    {
      "cell_type": "code",
      "source": [
        "print(f\"Targets shape: {targets.shape}\")\n",
        "print(f\"Contexts shape: {contexts.shape}\")\n",
        "print(f\"Labels shape: {labels.shape}\")\n",
        "print(f\"Weights shape: {weights.shape}\")"
      ],
      "metadata": {
        "colab": {
          "base_uri": "https://localhost:8080/"
        },
        "id": "QrGFeLvH6dd6",
        "outputId": "71dfb5b5-f9e6-4fbb-a498-69cca4471494"
      },
      "execution_count": null,
      "outputs": [
        {
          "output_type": "stream",
          "name": "stdout",
          "text": [
            "Targets shape: (1687908,)\n",
            "Contexts shape: (1687908,)\n",
            "Labels shape: (1687908,)\n",
            "Weights shape: (1687908,)\n"
          ]
        }
      ]
    },
    {
      "cell_type": "markdown",
      "source": [
        "### Convert the data into tf.data.Dataset objects"
      ],
      "metadata": {
        "id": "ti9txf4T6kcT"
      }
    },
    {
      "cell_type": "code",
      "source": [
        "batch_size = 1024\n",
        "\n",
        "\n",
        "def create_dataset(targets, contexts, labels, weights, batch_size):\n",
        "    inputs = {\n",
        "        \"target\": targets,\n",
        "        \"context\": contexts,\n",
        "    }\n",
        "    dataset = tf.data.Dataset.from_tensor_slices((inputs, labels, weights))\n",
        "    dataset = dataset.shuffle(buffer_size=batch_size * 2)\n",
        "    dataset = dataset.batch(batch_size, drop_remainder=True)\n",
        "    dataset = dataset.prefetch(tf.data.AUTOTUNE)\n",
        "    return dataset\n",
        "\n",
        "\n",
        "dataset = create_dataset(\n",
        "    targets=targets,\n",
        "    contexts=contexts,\n",
        "    labels=labels,\n",
        "    weights=weights,\n",
        "    batch_size=batch_size,\n",
        ")\n"
      ],
      "metadata": {
        "id": "qBa9VGAk6eUi"
      },
      "execution_count": null,
      "outputs": []
    },
    {
      "cell_type": "markdown",
      "source": [
        "# Train the skip-gram model"
      ],
      "metadata": {
        "id": "4mi8HMGY6uZY"
      }
    },
    {
      "cell_type": "code",
      "source": [
        "learning_rate = 0.001\n",
        "embedding_dim = 50\n",
        "num_epochs = 10"
      ],
      "metadata": {
        "id": "yaif4xm-6v5j"
      },
      "execution_count": null,
      "outputs": []
    },
    {
      "cell_type": "markdown",
      "source": [],
      "metadata": {
        "id": "5N8R6IYW7GC9"
      }
    },
    {
      "cell_type": "markdown",
      "source": [
        "### Implement the model"
      ],
      "metadata": {
        "id": "cRcYEcBV7GKK"
      }
    },
    {
      "cell_type": "code",
      "source": [
        "def create_model(vocabulary_size, embedding_dim):\n",
        "\n",
        "    inputs = {\n",
        "        \"target\": layers.Input(name=\"target\", shape=(), dtype=\"int32\"),\n",
        "        \"context\": layers.Input(name=\"context\", shape=(), dtype=\"int32\"),\n",
        "    }\n",
        "    # Initialize item embeddings.\n",
        "    embed_item = layers.Embedding(\n",
        "        input_dim=vocabulary_size,\n",
        "        output_dim=embedding_dim,\n",
        "        embeddings_initializer=\"he_normal\",\n",
        "        embeddings_regularizer=keras.regularizers.l2(1e-6),\n",
        "        name=\"item_embeddings\",\n",
        "    )\n",
        "    # Lookup embeddings for target.\n",
        "    target_embeddings = embed_item(inputs[\"target\"])\n",
        "    # Lookup embeddings for context.\n",
        "    context_embeddings = embed_item(inputs[\"context\"])\n",
        "    # Compute dot similarity between target and context embeddings.\n",
        "    logits = layers.Dot(axes=1, normalize=False, name=\"dot_similarity\")(\n",
        "        [target_embeddings, context_embeddings]\n",
        "    )\n",
        "    # Create the model.\n",
        "    model = keras.Model(inputs=inputs, outputs=logits)\n",
        "    return model"
      ],
      "metadata": {
        "id": "xNzziJhN7EF7"
      },
      "execution_count": null,
      "outputs": []
    },
    {
      "cell_type": "markdown",
      "source": [
        "### Train the model"
      ],
      "metadata": {
        "id": "hCRZpC5H7PBG"
      }
    },
    {
      "cell_type": "code",
      "source": [
        "model = create_model(len(vocabulary), embedding_dim)\n",
        "model.compile(\n",
        "    optimizer=keras.optimizers.Adam(learning_rate),\n",
        "    loss=keras.losses.BinaryCrossentropy(from_logits=True),\n",
        ")"
      ],
      "metadata": {
        "id": "2jWgsscA7LZO"
      },
      "execution_count": null,
      "outputs": []
    },
    {
      "cell_type": "code",
      "source": [
        "keras.utils.plot_model(\n",
        "    model,\n",
        "    show_shapes=True,\n",
        "    show_dtype=True,\n",
        "    show_layer_names=True,\n",
        ")"
      ],
      "metadata": {
        "colab": {
          "base_uri": "https://localhost:8080/",
          "height": 404
        },
        "id": "GPXuJzvH7RqJ",
        "outputId": "0cb25ed7-97ef-48b8-84d0-96674187ce4e"
      },
      "execution_count": null,
      "outputs": [
        {
          "output_type": "execute_result",
          "data": {
            "image/png": "[encoded data removed]",
            "text/plain": [
              "<IPython.core.display.Image object>"
            ]
          },
          "metadata": {},
          "execution_count": 24
        }
      ]
    },
    {
      "cell_type": "code",
      "source": [
        "history = model.fit(dataset, epochs=num_epochs)"
      ],
      "metadata": {
        "colab": {
          "base_uri": "https://localhost:8080/"
        },
        "id": "o7HKff-77VLq",
        "outputId": "b72da8f8-dd95-4089-902b-e66c717c9f79"
      },
      "execution_count": null,
      "outputs": [
        {
          "output_type": "stream",
          "name": "stdout",
          "text": [
            "Epoch 1/10\n",
            "1648/1648 [==============================] - 15s 8ms/step - loss: 1.7866\n",
            "Epoch 2/10\n",
            "1648/1648 [==============================] - 11s 7ms/step - loss: 1.6800\n",
            "Epoch 3/10\n",
            "1648/1648 [==============================] - 13s 8ms/step - loss: 1.6172\n",
            "Epoch 4/10\n",
            "1648/1648 [==============================] - 12s 7ms/step - loss: 1.5849\n",
            "Epoch 5/10\n",
            "1648/1648 [==============================] - 11s 7ms/step - loss: 1.5669\n",
            "Epoch 6/10\n",
            "1648/1648 [==============================] - 11s 7ms/step - loss: 1.5565\n",
            "Epoch 7/10\n",
            "1648/1648 [==============================] - 10s 6ms/step - loss: 1.5501\n",
            "Epoch 8/10\n",
            "1648/1648 [==============================] - 9s 6ms/step - loss: 1.5458\n",
            "Epoch 9/10\n",
            "1648/1648 [==============================] - 11s 7ms/step - loss: 1.5426\n",
            "Epoch 10/10\n",
            "1648/1648 [==============================] - 13s 8ms/step - loss: 1.5401\n"
          ]
        }
      ]
    },
    {
      "cell_type": "code",
      "source": [
        "plt.plot(history.history[\"loss\"])\n",
        "plt.ylabel(\"loss\")\n",
        "plt.xlabel(\"epoch\")\n",
        "plt.show()"
      ],
      "metadata": {
        "colab": {
          "base_uri": "https://localhost:8080/",
          "height": 279
        },
        "id": "aTgRi6n-7gTX",
        "outputId": "6e191c32-9722-4f71-a296-199c66d80cf7"
      },
      "execution_count": null,
      "outputs": [
        {
          "output_type": "display_data",
          "data": {
            "text/plain": [
              "<Figure size 432x288 with 1 Axes>"
            ],
            "image/png": "[encoded data removed]"
          },
          "metadata": {
            "needs_background": "light"
          }
        }
      ]
    },
    {
      "cell_type": "markdown",
      "source": [
        "# Analyze the learnt embeddings"
      ],
      "metadata": {
        "id": "tE6grwIO7-AH"
      }
    },
    {
      "cell_type": "code",
      "source": [
        "car_embeddings = model.get_layer(\"item_embeddings\").get_weights()[0]\n",
        "print(\"Embeddings shape:\", car_embeddings.shape)"
      ],
      "metadata": {
        "colab": {
          "base_uri": "https://localhost:8080/"
        },
        "id": "Cu30SMZE71b8",
        "outputId": "2168e5ac-b60a-467a-e8bc-c6481d444395"
      },
      "execution_count": null,
      "outputs": [
        {
          "output_type": "stream",
          "name": "stdout",
          "text": [
            "Embeddings shape: (1972, 50)\n"
          ]
        }
      ]
    },
    {
      "cell_type": "markdown",
      "source": [
        "### Find similair cars"
      ],
      "metadata": {
        "id": "OX8x5ZQ-8Dcd"
      }
    },
    {
      "cell_type": "code",
      "source": [
        "query_cars = [\n",
        "    \"Audi A6 2.0 TDI  Design Edition\"\n",
        "]"
      ],
      "metadata": {
        "id": "WiCnzEe874CY"
      },
      "execution_count": null,
      "outputs": []
    },
    {
      "cell_type": "code",
      "source": [
        "query_embeddings = []\n",
        "\n",
        "for name in query_cars:\n",
        "    token_id = vocabulary_lookup[name]\n",
        "    car_embedding = car_embeddings[token_id]\n",
        "    query_embeddings.append(car_embedding)\n",
        "\n",
        "query_embeddings = np.array(query_embeddings)"
      ],
      "metadata": {
        "id": "Ct-oL5eu8JFv"
      },
      "execution_count": null,
      "outputs": []
    },
    {
      "cell_type": "code",
      "source": [
        "similarities = tf.linalg.matmul(\n",
        "    tf.math.l2_normalize(query_embeddings),\n",
        "    tf.math.l2_normalize(car_embeddings),\n",
        "    transpose_b=True,\n",
        ")\n",
        "\n",
        "_, indices = tf.math.top_k(similarities, k=5)\n",
        "indices = indices.numpy().tolist()"
      ],
      "metadata": {
        "id": "KM9gEC8X85qt"
      },
      "execution_count": null,
      "outputs": []
    },
    {
      "cell_type": "code",
      "source": [
        "for idx, title in enumerate(query_cars):\n",
        "    print(title)\n",
        "    print(\"\".rjust(len(title), \"-\"))\n",
        "    similar_tokens = indices[idx]\n",
        "    for token in similar_tokens:\n",
        "        similar_car_name = vocabulary[token]\n",
        "        print(f\"- {similar_car_name}\")\n",
        "    print()"
      ],
      "metadata": {
        "colab": {
          "base_uri": "https://localhost:8080/"
        },
        "id": "hqje0vre89ND",
        "outputId": "16a535e8-6ae5-485a-ec9e-38cf1998d80d"
      },
      "execution_count": null,
      "outputs": [
        {
          "output_type": "stream",
          "name": "stdout",
          "text": [
            "Audi A6 2.0 TDI  Design Edition\n",
            "-------------------------------\n",
            "- Audi A6 2.0 TDI\n",
            "- Audi A4 35 TDI Premium Plus\n",
            "- Audi A6 2.0 TDI  Design Edition\n",
            "- Volkswagen Jetta 2.0L TDI Highline\n",
            "- Volkswagen Passat Highline DSG S\n",
            "\n"
          ]
        }
      ]
    }
  ],
  "metadata": {
    "colab": {
      "provenance": []
    },
    "kernelspec": {
      "display_name": "Python 3",
      "name": "python3"
    },
    "language_info": {
      "name": "python"
    }
  },
  "nbformat": 4,
  "nbformat_minor": 0
}