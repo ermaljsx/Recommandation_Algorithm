{
  "cells": [
    {
      "cell_type": "code",
      "execution_count": null,
      "metadata": {
        "colab": {
          "base_uri": "https://localhost:8080/"
        },
        "id": "xoq2ft3dD5WT",
        "outputId": "08bd0693-2aea-4c11-ec46-2bb3b74aa5b0"
      },
      "outputs": [
        {
          "output_type": "stream",
          "name": "stdout",
          "text": [
            "Looking in indexes: https://pypi.org/simple, https://us-python.pkg.dev/colab-wheels/public/simple/\n",
            "Requirement already satisfied: networkx in /usr/local/lib/python3.8/dist-packages (2.8.8)\n"
          ]
        }
      ],
      "source": [
        "pip install networkx"
      ]
    },
    {
      "cell_type": "code",
      "execution_count": null,
      "metadata": {
        "id": "SINJ3ot5EHYd"
      },
      "outputs": [],
      "source": [
        "import os\n",
        "from collections import defaultdict\n",
        "import math\n",
        "import networkx as nx\n",
        "import random\n",
        "from tqdm import tqdm\n",
        "from zipfile import ZipFile\n",
        "from urllib.request import urlretrieve\n",
        "import numpy as np\n",
        "import pandas as pd\n",
        "import tensorflow as tf\n",
        "from tensorflow import keras\n",
        "from tensorflow.keras import layers\n",
        "import matplotlib.pyplot as plt"
      ]
    },
    {
      "cell_type": "code",
      "execution_count": null,
      "metadata": {
        "id": "2dkuvXDWGS14"
      },
      "outputs": [],
      "source": [
        "cars = pd.read_csv(\"Car dataset.csv\")"
      ]
    },
    {
      "cell_type": "code",
      "execution_count": null,
      "metadata": {
        "colab": {
          "base_uri": "https://localhost:8080/",
          "height": 389
        },
        "id": "-Ub5Bv6wGd78",
        "outputId": "e94c4cfd-30f0-474a-8e15-75e4fbb971bd"
      },
      "outputs": [
        {
          "output_type": "execute_result",
          "data": {
            "text/plain": [
              "                           name  year  selling_price  km_driven    fuel  \\\n",
              "0        Maruti Swift Dzire VDI  2014         450000     145500  Diesel   \n",
              "1  Skoda Rapid 1.5 TDI Ambition  2014         370000     120000  Diesel   \n",
              "2      Honda City 2017-2020 EXi  2006         158000     140000  Petrol   \n",
              "3     Hyundai i20 Sportz Diesel  2010         225000     127000  Diesel   \n",
              "4        Maruti Swift VXI BSIII  2007         130000     120000  Petrol   \n",
              "\n",
              "  seller_type transmission         owner     mileage   engine   max_power  \\\n",
              "0  Individual       Manual   First Owner   23.4 kmpl  1248 CC      74 bhp   \n",
              "1  Individual       Manual  Second Owner  21.14 kmpl  1498 CC  103.52 bhp   \n",
              "2  Individual       Manual   Third Owner   17.7 kmpl  1497 CC      78 bhp   \n",
              "3  Individual       Manual   First Owner   23.0 kmpl  1396 CC      90 bhp   \n",
              "4  Individual       Manual   First Owner   16.1 kmpl  1298 CC    88.2 bhp   \n",
              "\n",
              "                     torque  seats  \n",
              "0            190Nm@ 2000rpm    5.0  \n",
              "1       250Nm@ 1500-2500rpm    5.0  \n",
              "2     12.7@ 2,700(kgm@ rpm)    5.0  \n",
              "3  22.4 kgm at 1750-2750rpm    5.0  \n",
              "4     11.5@ 4,500(kgm@ rpm)    5.0  "
            ],
            "text/html": [
              "\n",
              "  <div id=\"df-d1944edc-4f2d-4e53-830e-f02abad07485\">\n",
              "    <div class=\"colab-df-container\">\n",
              "      <div>\n",
              "<style scoped>\n",
              "    .dataframe tbody tr th:only-of-type {\n",
              "        vertical-align: middle;\n",
              "    }\n",
              "\n",
              "    .dataframe tbody tr th {\n",
              "        vertical-align: top;\n",
              "    }\n",
              "\n",
              "    .dataframe thead th {\n",
              "        text-align: right;\n",
              "    }\n",
              "</style>\n",
              "<table border=\"1\" class=\"dataframe\">\n",
              "  <thead>\n",
              "    <tr style=\"text-align: right;\">\n",
              "      <th></th>\n",
              "      <th>name</th>\n",
              "      <th>year</th>\n",
              "      <th>selling_price</th>\n",
              "      <th>km_driven</th>\n",
              "      <th>fuel</th>\n",
              "      <th>seller_type</th>\n",
              "      <th>transmission</th>\n",
              "      <th>owner</th>\n",
              "      <th>mileage</th>\n",
              "      <th>engine</th>\n",
              "      <th>max_power</th>\n",
              "      <th>torque</th>\n",
              "      <th>seats</th>\n",
              "    </tr>\n",
              "  </thead>\n",
              "  <tbody>\n",
              "    <tr>\n",
              "      <th>0</th>\n",
              "      <td>Maruti Swift Dzire VDI</td>\n",
              "      <td>2014</td>\n",
              "      <td>450000</td>\n",
              "      <td>145500</td>\n",
              "      <td>Diesel</td>\n",
              "      <td>Individual</td>\n",
              "      <td>Manual</td>\n",
              "      <td>First Owner</td>\n",
              "      <td>23.4 kmpl</td>\n",
              "      <td>1248 CC</td>\n",
              "      <td>74 bhp</td>\n",
              "      <td>190Nm@ 2000rpm</td>\n",
              "      <td>5.0</td>\n",
              "    </tr>\n",
              "    <tr>\n",
              "      <th>1</th>\n",
              "      <td>Skoda Rapid 1.5 TDI Ambition</td>\n",
              "      <td>2014</td>\n",
              "      <td>370000</td>\n",
              "      <td>120000</td>\n",
              "      <td>Diesel</td>\n",
              "      <td>Individual</td>\n",
              "      <td>Manual</td>\n",
              "      <td>Second Owner</td>\n",
              "      <td>21.14 kmpl</td>\n",
              "      <td>1498 CC</td>\n",
              "      <td>103.52 bhp</td>\n",
              "      <td>250Nm@ 1500-2500rpm</td>\n",
              "      <td>5.0</td>\n",
              "    </tr>\n",
              "    <tr>\n",
              "      <th>2</th>\n",
              "      <td>Honda City 2017-2020 EXi</td>\n",
              "      <td>2006</td>\n",
              "      <td>158000</td>\n",
              "      <td>140000</td>\n",
              "      <td>Petrol</td>\n",
              "      <td>Individual</td>\n",
              "      <td>Manual</td>\n",
              "      <td>Third Owner</td>\n",
              "      <td>17.7 kmpl</td>\n",
              "      <td>1497 CC</td>\n",
              "      <td>78 bhp</td>\n",
              "      <td>12.7@ 2,700(kgm@ rpm)</td>\n",
              "      <td>5.0</td>\n",
              "    </tr>\n",
              "    <tr>\n",
              "      <th>3</th>\n",
              "      <td>Hyundai i20 Sportz Diesel</td>\n",
              "      <td>2010</td>\n",
              "      <td>225000</td>\n",
              "      <td>127000</td>\n",
              "      <td>Diesel</td>\n",
              "      <td>Individual</td>\n",
              "      <td>Manual</td>\n",
              "      <td>First Owner</td>\n",
              "      <td>23.0 kmpl</td>\n",
              "      <td>1396 CC</td>\n",
              "      <td>90 bhp</td>\n",
              "      <td>22.4 kgm at 1750-2750rpm</td>\n",
              "      <td>5.0</td>\n",
              "    </tr>\n",
              "    <tr>\n",
              "      <th>4</th>\n",
              "      <td>Maruti Swift VXI BSIII</td>\n",
              "      <td>2007</td>\n",
              "      <td>130000</td>\n",
              "      <td>120000</td>\n",
              "      <td>Petrol</td>\n",
              "      <td>Individual</td>\n",
              "      <td>Manual</td>\n",
              "      <td>First Owner</td>\n",
              "      <td>16.1 kmpl</td>\n",
              "      <td>1298 CC</td>\n",
              "      <td>88.2 bhp</td>\n",
              "      <td>11.5@ 4,500(kgm@ rpm)</td>\n",
              "      <td>5.0</td>\n",
              "    </tr>\n",
              "  </tbody>\n",
              "</table>\n",
              "</div>\n",
              "      <button class=\"colab-df-convert\" onclick=\"convertToInteractive('df-d1944edc-4f2d-4e53-830e-f02abad07485')\"\n",
              "              title=\"Convert this dataframe to an interactive table.\"\n",
              "              style=\"display:none;\">\n",
              "        \n",
              "  <svg xmlns=\"http://www.w3.org/2000/svg\" height=\"24px\"viewBox=\"0 0 24 24\"\n",
              "       width=\"24px\">\n",
              "    <path d=\"M0 0h24v24H0V0z\" fill=\"none\"/>\n",
              "    <path d=\"M18.56 5.44l.94 2.06.94-2.06 2.06-.94-2.06-.94-.94-2.06-.94 2.06-2.06.94zm-11 1L8.5 8.5l.94-2.06 2.06-.94-2.06-.94L8.5 2.5l-.94 2.06-2.06.94zm10 10l.94 2.06.94-2.06 2.06-.94-2.06-.94-.94-2.06-.94 2.06-2.06.94z\"/><path d=\"M17.41 7.96l-1.37-1.37c-.4-.4-.92-.59-1.43-.59-.52 0-1.04.2-1.43.59L10.3 9.45l-7.72 7.72c-.78.78-.78 2.05 0 2.83L4 21.41c.39.39.9.59 1.41.59.51 0 1.02-.2 1.41-.59l7.78-7.78 2.81-2.81c.8-.78.8-2.07 0-2.86zM5.41 20L4 18.59l7.72-7.72 1.47 1.35L5.41 20z\"/>\n",
              "  </svg>\n",
              "      </button>\n",
              "      \n",
              "  <style>\n",
              "    .colab-df-container {\n",
              "      display:flex;\n",
              "      flex-wrap:wrap;\n",
              "      gap: 12px;\n",
              "    }\n",
              "\n",
              "    .colab-df-convert {\n",
              "      background-color: #E8F0FE;\n",
              "      border: none;\n",
              "      border-radius: 50%;\n",
              "      cursor: pointer;\n",
              "      display: none;\n",
              "      fill: #1967D2;\n",
              "      height: 32px;\n",
              "      padding: 0 0 0 0;\n",
              "      width: 32px;\n",
              "    }\n",
              "\n",
              "    .colab-df-convert:hover {\n",
              "      background-color: #E2EBFA;\n",
              "      box-shadow: 0px 1px 2px rgba(60, 64, 67, 0.3), 0px 1px 3px 1px rgba(60, 64, 67, 0.15);\n",
              "      fill: #174EA6;\n",
              "    }\n",
              "\n",
              "    [theme=dark] .colab-df-convert {\n",
              "      background-color: #3B4455;\n",
              "      fill: #D2E3FC;\n",
              "    }\n",
              "\n",
              "    [theme=dark] .colab-df-convert:hover {\n",
              "      background-color: #434B5C;\n",
              "      box-shadow: 0px 1px 3px 1px rgba(0, 0, 0, 0.15);\n",
              "      filter: drop-shadow(0px 1px 2px rgba(0, 0, 0, 0.3));\n",
              "      fill: #FFFFFF;\n",
              "    }\n",
              "  </style>\n",
              "\n",
              "      <script>\n",
              "        const buttonEl =\n",
              "          document.querySelector('#df-d1944edc-4f2d-4e53-830e-f02abad07485 button.colab-df-convert');\n",
              "        buttonEl.style.display =\n",
              "          google.colab.kernel.accessAllowed ? 'block' : 'none';\n",
              "\n",
              "        async function convertToInteractive(key) {\n",
              "          const element = document.querySelector('#df-d1944edc-4f2d-4e53-830e-f02abad07485');\n",
              "          const dataTable =\n",
              "            await google.colab.kernel.invokeFunction('convertToInteractive',\n",
              "                                                     [key], {});\n",
              "          if (!dataTable) return;\n",
              "\n",
              "          const docLinkHtml = 'Like what you see? Visit the ' +\n",
              "            '<a target=\"_blank\" href=https://colab.research.google.com/notebooks/data_table.ipynb>data table notebook</a>'\n",
              "            + ' to learn more about interactive tables.';\n",
              "          element.innerHTML = '';\n",
              "          dataTable['output_type'] = 'display_data';\n",
              "          await google.colab.output.renderOutput(dataTable, element);\n",
              "          const docLink = document.createElement('div');\n",
              "          docLink.innerHTML = docLinkHtml;\n",
              "          element.appendChild(docLink);\n",
              "        }\n",
              "      </script>\n",
              "    </div>\n",
              "  </div>\n",
              "  "
            ]
          },
          "metadata": {},
          "execution_count": 5
        }
      ],
      "source": [
        "cars.head()"
      ]
    },
    {
      "cell_type": "code",
      "execution_count": null,
      "metadata": {
        "id": "KIdhx0A2PF3v"
      },
      "outputs": [],
      "source": [
        "def get_car_name_by_fuel(fuel):\n",
        "    return list(cars[cars.fuel == fuel].name)[0]\n",
        "\n",
        "\n",
        "def get_car_fuel_by_name(name):\n",
        "    return list(cars[cars.name == name].fuel)[0]\n",
        "\n",
        "\n",
        "def get_car_year_by_name(name):\n",
        "    return list(cars[cars.name == name].year)[0]\n",
        "\n",
        "def get_car_name_by_year(year):\n",
        "    return list(cars[cars.year == year].name)[0]\n",
        "\n",
        "\n",
        "def get_car_name_by_selling_price(selling_price):\n",
        "    return list(cars[cars.selling_price == selling_price].name)\n",
        "\n",
        "\n",
        "def get_car_selling_price_by_name(name):\n",
        "    return list(cars[cars.name == name].selling_price)"
      ]
    },
    {
      "cell_type": "markdown",
      "source": [
        "# Construct the cars graph\n",
        "\n",
        "###### We create an edge between two car nodes in the graph if both cars have the same fuel."
      ],
      "metadata": {
        "id": "uH5Xep2ipcpd"
      }
    },
    {
      "cell_type": "code",
      "execution_count": null,
      "metadata": {
        "colab": {
          "base_uri": "https://localhost:8080/"
        },
        "id": "A7Tfy_E-Qv4q",
        "outputId": "c6d76473-ad08-4db7-f211-9b5bdc36270b"
      },
      "outputs": [
        {
          "output_type": "stream",
          "name": "stderr",
          "text": [
            "Compute cars frequencies: 100%|██████████| 4/4 [00:15<00:00,  3.84s/it]\n"
          ]
        }
      ],
      "source": [
        "\n",
        "pair_frequency = defaultdict(int)\n",
        "item_frequency = defaultdict(int)\n",
        "\n",
        "\n",
        "# Group cars by fuel.\n",
        "cars_grouped_by_fuel = list(cars.groupby(\"fuel\"))\n",
        "\n",
        "for group in tqdm(\n",
        "    cars_grouped_by_fuel,\n",
        "    position=0,\n",
        "    leave=True,\n",
        "    desc=\"Compute cars frequencies\",\n",
        "):\n",
        "    # Get a list of cars with the same fuel.\n",
        "    current_cars = list(group[1][\"name\"])\n",
        "\n",
        "    for i in range(len(current_cars)):\n",
        "        item_frequency[current_cars[i]] = 1              \n",
        "        for j in range(i + 1, len(current_cars)):\n",
        "            x = min(current_cars[i], current_cars[j])   \n",
        "            y = max(current_cars[i], current_cars[j])\n",
        "            pair_frequency[(x, y)] = 1     "
      ]
    },
    {
      "cell_type": "code",
      "source": [
        "# Create the cars undirected graph.\n",
        "cars_graph = nx.Graph()\n",
        "\n",
        "for pair in tqdm(\n",
        "    pair_frequency, position=0, leave=True, desc=\"Creating the cars graph\"\n",
        "):\n",
        "    x, y = pair\n",
        "    cars_graph.add_edge(x, y,weight = 1)"
      ],
      "metadata": {
        "id": "vxprS--cHy8d",
        "colab": {
          "base_uri": "https://localhost:8080/"
        },
        "outputId": "f2de0f5b-b989-44e7-95ca-08ff5b73070b"
      },
      "execution_count": null,
      "outputs": [
        {
          "output_type": "stream",
          "name": "stderr",
          "text": [
            "Creating the cars graph: 100%|██████████| 1033096/1033096 [00:02<00:00, 452750.96it/s]\n"
          ]
        }
      ]
    },
    {
      "cell_type": "markdown",
      "source": [
        "###### Let's display the total number of nodes and edges in the graph"
      ],
      "metadata": {
        "id": "_YtFv-ntcK6K"
      }
    },
    {
      "cell_type": "code",
      "source": [
        "print(\"Total number of graph nodes:\", cars_graph.number_of_nodes())\n",
        "print(\"Total number of graph edges:\", cars_graph.number_of_edges())"
      ],
      "metadata": {
        "colab": {
          "base_uri": "https://localhost:8080/"
        },
        "id": "xqHbHwg1elFf",
        "outputId": "b7c8a4c3-ce96-4ba6-a24b-b192f4149219"
      },
      "execution_count": null,
      "outputs": [
        {
          "output_type": "stream",
          "name": "stdout",
          "text": [
            "Total number of graph nodes: 2058\n",
            "Total number of graph edges: 1033096\n"
          ]
        }
      ]
    },
    {
      "cell_type": "markdown",
      "source": [
        "Let's display the average node degree (number of neighbours) in the graph."
      ],
      "metadata": {
        "id": "0Dt5N4ZIgSOR"
      }
    },
    {
      "cell_type": "code",
      "source": [
        "degrees = []\n",
        "for node in cars_graph.nodes:\n",
        "    degrees.append(cars_graph.degree[node])\n",
        "\n",
        "print(\"Average node degree:\", round(sum(degrees) / len(degrees), 2))"
      ],
      "metadata": {
        "colab": {
          "base_uri": "https://localhost:8080/"
        },
        "id": "ShObMwU3e1a4",
        "outputId": "b9ed6387-1785-49b1-e079-fbc7d2370bf5"
      },
      "execution_count": null,
      "outputs": [
        {
          "output_type": "stream",
          "name": "stdout",
          "text": [
            "Average node degree: 1003.98\n"
          ]
        }
      ]
    },
    {
      "cell_type": "markdown",
      "source": [
        "### Step 3: Create vocabulary and a mapping from tokens to integer indices"
      ],
      "metadata": {
        "id": "huSlr8dbhkKo"
      }
    },
    {
      "cell_type": "code",
      "source": [
        "vocabulary = [\"NA\"] + list(cars_graph.nodes)\n",
        "vocabulary_lookup = {token: idx for idx, token in enumerate(vocabulary)}"
      ],
      "metadata": {
        "id": "8-iXcRe0g5uA"
      },
      "execution_count": null,
      "outputs": []
    },
    {
      "cell_type": "code",
      "source": [
        "print(vocabulary_lookup)"
      ],
      "metadata": {
        "colab": {
          "base_uri": "https://localhost:8080/"
        },
        "id": "hDfT7medjg7-",
        "outputId": "b4221744-c818-4ca4-a89e-60b4000b2fe2"
      },
      "execution_count": null,
      "outputs": [
        {
          "output_type": "stream",
          "name": "stdout",
          "text": [
            "{'NA': 0, 'Maruti Alto 800 CNG LXI Optional': 1, 'Maruti Wagon R LXI CNG': 2, 'Maruti Eeco CNG 5 Seater AC': 3, 'Maruti Alto 800 CNG LXI': 4, 'Maruti Eeco CNG 5 Seater AC BSIV': 5, 'Hyundai Santro Xing GL CNG': 6, 'Hyundai Santro Xing GL PLUS CNG': 7, 'Maruti Wagon R CNG LXI': 8, 'Hyundai Santro Xing GLS CNG': 9, 'Maruti Zen Estilo LXI Green (CNG)': 10, 'Tata Indica V2 Emax CNG GLX': 11, 'Maruti Omni CNG': 12, 'Maruti Eeco CNG HTR 5-STR': 13, 'Hyundai Accent Executive CNG': 14, 'Maruti SX4 Green Vxi (CNG)': 15, 'Maruti Ertiga VXI CNG Limited Edition': 16, 'Maruti Alto K10 LXI CNG': 17, 'Hyundai Accent GLE CNG': 18, 'Maruti Alto 800 LXI CNG': 19, 'Maruti Wagon R LXI CNG Optional': 20, 'Hyundai Santro AT CNG': 21, 'Maruti Alto Green LXi (CNG)': 22, 'Maruti Eeco 5 STR With AC Plus HTR CNG': 23, 'Maruti Swift Dzire VDI': 24, 'Skoda Rapid 1.5 TDI Ambition': 25, 'Hyundai i20 Sportz Diesel': 26, 'Toyota Etios VXD': 27, 'Ford Figo Diesel Celebration Edition': 28, 'Renault Duster 110PS Diesel RxL': 29, 'Maruti Swift Dzire VDi': 30, 'Maruti Ertiga SHVS VDI': 31, 'Hyundai i20 1.4 CRDi Asta': 32, 'Hyundai i20 2015-2017 Asta 1.4 CRDi': 33, 'Mahindra Verito 1.5 D4 BSIII': 34, 'Honda WR-V i-DTEC VX': 35, 'Maruti Swift Dzire ZDI': 36, 'Maruti SX4 ZDI': 37, 'Chevrolet Enjoy TCDi LTZ 7 Seater': 38, 'Maruti Vitara Brezza LDi Option': 39, 'Maruti Vitara Brezza LDi': 40, 'Tata Safari DICOR 2.2 LX 4x2': 41, 'Maruti Vitara Brezza VDi': 42, 'Toyota Fortuner 4x4 MT': 43, 'Toyota Innova 2.5 G (Diesel) 7 Seater BS IV': 44, 'Mercedes-Benz B Class B180': 45, 'Honda Amaze S Diesel': 46, 'Mitsubishi Pajero Sport 4X4': 47, 'Honda City i DTEC S': 48, 'Honda Jazz VX Diesel': 49, 'Toyota Innova Crysta 2.8 ZX AT BSIV': 50, 'Toyota Innova 2.5 G (Diesel) 7 Seater': 51, 'Audi A6 2.0 TDI Technology': 52, 'Audi A6 2.0 TDI  Design Edition': 53, 'Mercedes-Benz New C-Class 220 CDI AT': 54, 'Tata Manza ELAN Quadrajet BS IV': 55, 'Hyundai i20 Asta 1.4 CRDi': 56, 'Volkswagen Ameo 1.5 TDI Highline 16 Alloy': 57, 'Honda City i DTEC VX': 58, 'Volkswagen Ameo 1.5 TDI Comfortline': 59, 'Maruti Vitara Brezza ZDi Plus AMT': 60, 'Maruti Swift VDI Deca': 61, 'Maruti Swift Star VDI': 62, 'Tata Indica DLS': 63, 'Volkswagen Vento Diesel Highline': 64, 'Toyota Innova 2.5 VX (Diesel) 8 Seater': 65, 'Ford EcoSport 1.5 TDCi Titanium Plus BSIV': 66, 'Maruti Swift VDI BSIV W ABS': 67, 'Maruti Swift Dzire LDI': 68, 'Hyundai i20 1.4 Asta Option': 69, 'Tata Manza Aura (ABS) Quadrajet': 70, 'Mahindra Scorpio VLX AT AIRBAG BSIV': 71, 'Mahindra XUV500 W11 Option AWD': 72, 'Tata Indigo CS LS (TDI) BS-III': 73, 'Hyundai Verna 1.6 SX': 74, 'Hyundai i20 Magna 1.4 CRDi (Diesel)': 75, 'Maruti Vitara Brezza ZDi Plus Dual Tone': 76, 'Maruti Swift VDI BSIV': 77, 'Nissan Terrano XL 85 PS': 78, 'Hyundai Creta 1.6 CRDi SX': 79, 'Ford EcoSport 1.5 Diesel Titanium Plus BSIV': 80, 'Maruti Ertiga VDI': 81, 'Audi Q5 35TDI Premium Plus': 82, 'Jaguar XF 2.0 Diesel Portfolio': 83, 'Land Rover Discovery Sport TD4 SE': 84, 'Mercedes-Benz S-Class S 350 CDI': 85, 'BMW 5 Series 520d Sport Line': 86, 'BMW X1 sDrive 20D xLine': 87, 'BMW X4 M Sport X xDrive20d': 88, 'Mercedes-Benz E-Class E250 Edition E': 89, 'Volvo XC40 D4 R-Design': 90, 'Audi Q7 35 TDI Quattro Premium': 91, 'Maruti Ciaz ZDi': 92, 'Jaguar XE 2016-2019 2.0L Diesel Prestige': 93, 'Tata Nexon 1.5 Revotorq XZA Plus DualTone': 94, 'BMW 3 Series 320d Luxury Line': 95, 'BMW 5 Series 520d Luxury Line': 96, 'Ford Figo Diesel LXI': 97, 'Maruti Ritz VDi': 98, 'Toyota Corolla Altis Diesel D4DG': 99, 'Toyota Fortuner 4x2 Manual': 100, 'Tata Zest Quadrajet 1.3 75PS XM': 101, 'Maruti Ciaz 1.3 Alpha': 102, 'Toyota Etios GD': 103, 'Tata Hexa XE': 104, 'Tata Safari Storme EX': 105, 'Maruti Vitara Brezza VDi Option': 106, 'Mahindra Ssangyong Rexton RX5': 107, 'Mahindra Quanto C8': 108, 'Maruti Ritz LDi': 109, 'Hyundai Creta 1.6 CRDi SX Plus Dual Tone': 110, 'Mahindra XUV500 W4': 111, 'Mahindra XUV500 W8 2WD': 112, 'Toyota Innova 2.5 EV (Diesel) PS 7 Seater BS IV': 113, 'Maruti Ertiga SHVS ZDI Plus': 114, 'Tata Indica Vista TDI LS': 115, 'Maruti Ignis 1.3 Alpha': 116, 'Tata Hexa XTA': 117, 'Mahindra Marazzo M6 8Str': 118, 'Hyundai Verna 1.6 CRDI': 119, 'Maruti Swift Dzire LDi': 120, 'Honda City i DTEC V': 121, 'Maruti Swift Dzire ZDi': 122, 'Hyundai Xcent 1.2 CRDi E': 123, 'Toyota Fortuner 3.0 Diesel': 124, 'Tata Tiago 1.05 Revotorq XZ': 125, 'Toyota Innova 2.5 GX 7 STR': 126, 'Mahindra Thar CRDe': 127, 'Mahindra Scorpio LX': 128, 'Tata Sumo Gold EX BSIII': 129, 'Tata Tiago Wizz 1.05 Revotorq': 130, 'Tata Manza Club Class Quadrajet90 LX': 131, 'Tata New Safari DICOR 2.2 EX 4x2': 132, 'Mahindra Bolero SLE': 133, 'Mahindra Bolero DI DX 7 Seater': 134, 'Mercedes-Benz GL-Class 220d 4MATIC Sport': 135, 'Mahindra Bolero 2011-2019 ZLX': 136, 'Hyundai Grand i10 CRDi Sportz': 137, 'Honda City i-DTEC VX': 138, 'Nissan Terrano XV Premium 110 PS': 139, 'Mahindra Willys CJ 3B 4X4': 140, 'Toyota Innova 2.5 GX (Diesel) 8 Seater': 141, 'Hyundai Creta 1.4 CRDi S Plus': 142, 'Hyundai Grand i10 1.2 CRDi Sportz': 143, 'Toyota Innova 2.5 V Diesel 8-seater': 144, 'Nissan Micra Diesel XV': 145, 'Maruti Swift Ldi BSIII': 146, 'Ford Figo Diesel Titanium': 147, 'Hyundai Creta 1.6 CRDi AT SX Plus': 148, 'Toyota Fortuner 2.8 2WD MT BSIV': 149, 'Toyota Etios Liva GD SP': 150, 'Renault Duster 85PS Diesel RxL': 151, 'Toyota Innova 2.5 V Diesel 7-seater': 152, 'Nissan Micra Diesel XL': 153, 'Volvo XC40 D4 Inscription BSIV': 154, 'Maruti Baleno Alpha 1.3': 155, 'Toyota Innova 2.5 VX (Diesel) 7 Seater': 156, 'Volvo V40 D3 R-Design': 157, 'Toyota Etios Liva Diesel TRD Sportivo': 158, 'Hyundai Verna 1.6 SX CRDi (O)': 159, 'Toyota Innova 2.5 G1 Diesel 8-seater': 160, 'Maruti SX4 Celebration Diesel': 161, 'Hyundai Verna CRDi SX': 162, 'Maruti Swift Dzire AMT VDI': 163, 'Tata Indigo LS': 164, 'Mahindra XUV500 AT W10 AWD': 165, 'Honda Amaze S CVT Diesel BSIV': 166, 'Hyundai Creta 1.4 CRDi Base': 167, 'Hyundai Xcent 1.1 CRDi S Option': 168, 'Toyota Etios Liva Diesel': 169, 'Maruti Swift Dzire ZDI Plus': 170, 'Volkswagen Polo 1.5 TDI Highline': 171, 'Mahindra Verito 1.5 D2 BSIII': 172, 'Maruti Swift VDI Optional': 173, 'Ford Figo Diesel EXI': 174, 'Tata Hexa XT': 175, 'Hyundai i20 Active 1.4 SX with AVN': 176, 'Mahindra Bolero 2011-2019 SLE': 177, 'Nissan Terrano XL Plus 85 PS': 178, 'Renault Duster 110PS Diesel RxZ': 179, 'Chevrolet Enjoy 1.3 TCDi LS 7': 180, 'Maruti SX4 S Cross 2015-2017 DDiS 200 Zeta': 181, 'Toyota Fortuner 4x2 AT': 182, 'Chevrolet Captiva LT': 183, 'Tata Indica Vista Aqua 1.4 TDI': 184, 'Hyundai Verna Transform CRDi VGT SX ABS': 185, 'Mahindra KUV 100 mFALCON D75 K8': 186, 'Ford Fiesta Titanium 1.5 TDCi': 187, 'Tata Indigo CS LX DiCOR': 188, 'Hyundai Verna 1.6 CRDi S': 189, 'Mahindra KUV 100 D75 K6 Plus': 190, 'Kia Seltos HTE D': 191, 'Maruti Celerio LDi': 192, 'Volkswagen Vento Diesel Trendline': 193, 'Toyota Etios Liva GD': 194, 'Chevrolet Beat Diesel LT': 195, 'Tata New Safari DICOR 2.2 VX 4x2': 196, 'Tata Indica V2 2001-2011 DLS BSIII': 197, 'Tata Indica V2 DLX BSII': 198, 'Mahindra Bolero 2011-2019 DI 4WD NON AC': 199, 'Jeep Compass 2.0 Longitude Option BSIV': 200, 'Tata Venture EX 7 Str Captain Seats': 201, 'Ford Classic 1.4 Duratorq CLXI': 202, 'Toyota Innova 2.5 G (Diesel) 8 Seater': 203, 'Mahindra Bolero SLX': 204, 'Ford EcoSport 1.5 Diesel Trend BSIV': 205, 'Nissan Sunny XL D': 206, 'Jeep Compass 2.0 Limited': 207, 'Maruti Ertiga ZDI': 208, 'Tata Manza Aura Quadrajet': 209, 'Skoda Rapid 1.5 TDI Elegance': 210, 'Hyundai Verna 1.6 CRDi EX AT': 211, 'Mahindra Scorpio 1.99 S10': 212, 'Mahindra Bolero 2011-2019 SLX': 213, 'Toyota Innova 2.5 G (Diesel) 8 Seater BS IV': 214, 'Chevrolet Beat Diesel LS': 215, 'Honda Amaze VX i-DTEC': 216, 'Toyota Fortuner 2.8 2WD MT': 217, 'Tata Aria Pride': 218, 'Tata Sumo CX 10 Str BSIV': 219, 'Tata Manza Aura Plus Quadrajet': 220, 'Tata Indigo CS LX (TDI) BS-III': 221, 'Mahindra TUV 300 T8': 222, 'Maruti Ertiga SHVS ZDI': 223, 'Ford Figo Diesel ZXI': 224, 'Hyundai Grand i10 1.2 CRDi Asta': 225, 'Maruti Swift VDI': 226, 'Mahindra Scorpio S10 7 Seater': 227, 'Hyundai Grand i10 CRDi Asta': 228, 'Ford EcoSport 1.5 TDCi Titanium BSIV': 229, 'Mahindra Bolero 2011-2019 DI - AC BS III': 230, 'Hyundai i20 Asta (o) 1.4 CRDi (Diesel)': 231, 'Tata Bolt Quadrajet XE': 232, 'Mahindra Xylo E4 BS IV': 233, 'Mahindra Thar CRDe AC': 234, 'Fiat Grande Punto Sport 90BHP': 235, 'Hyundai Getz 1.5 CRDi GVS': 236, 'Maruti S-Cross 2017-2020 Zeta DDiS 200 SH': 237, 'Tata Indica V2 Turbomax DLS BS IV': 238, 'Ford EcoSport 1.5 Diesel Titanium BSIV': 239, 'Mercedes-Benz E-Class E250 CDI Avantgarde': 240, 'Toyota Fortuner 4x2 4 Speed AT': 241, 'Nissan Sunny Diesel XV': 242, 'Mahindra Xylo D2 BS IV': 243, 'Mahindra Bolero 2011-2019 DI BSIII': 244, 'Maruti Swift Vdi BSIII': 245, 'Mahindra Xylo E6': 246, 'Mahindra Bolero DI DX 8 Seater': 247, 'Chevrolet Tavera Neo 3 LT 9 Seats BSIII': 248, 'Mahindra TUV 300 T6 Plus': 249, 'Mahindra Scorpio M2DI': 250, 'Hyundai i20 Sportz 1.4 CRDi': 251, 'Tata Indigo CS LS (TDI) BS III': 252, 'Mahindra Bolero 2011-2019 Plus AC': 253, 'Mahindra Bolero PLUS AC BSIII': 254, 'Mahindra Bolero 2011-2019 Plus - AC BSIII': 255, 'Tata Manza Club Class Quadrajet90 VX': 256, 'Hyundai Xcent 1.1 CRDi SX Option': 257, 'Skoda Rapid Ultima 1.6 TDI Elegance': 258, 'Mahindra Bolero 2011-2019 Plus-AC Plus PS BSIII': 259, 'Volkswagen Polo 1.5 TDI Comfortline': 260, 'Mahindra XUV500 W10 2WD': 261, 'Mahindra Bolero GLX': 262, 'Tata Indica V2 DLX TC': 263, 'Tata Tiago 1.05 Revotorq XM': 264, 'Mahindra Scorpio VLX 2WD AIRBAG SE BSIV': 265, 'Toyota Innova 2.5 E Diesel MS 8-seater': 266, 'Tata Indigo eCS VX BSIV': 267, 'Mahindra Scorpio 2.6 CRDe SLE': 268, 'Tata Indica V2 DL BSIII': 269, 'Volkswagen Polo Diesel Highline 1.2L': 270, 'Mahindra Xylo D2': 271, 'Fiat Linea 1.3 Active': 272, 'Hyundai i20 1.4 CRDi Era': 273, 'Mahindra Xylo D4 BSIV': 274, 'Mahindra Scorpio S2 7 Seater': 275, 'Tata Indica Vista Quadrajet ZX': 276, 'Ford Endeavour Hurricane Limited Edition': 277, 'Mahindra Bolero SLX 2WD BSIII': 278, 'Mahindra Scorpio 2.6 SPORTZ CRDe': 279, 'Mahindra Bolero ZLX BSIII': 280, 'Mahindra XUV500 W6 2WD': 281, 'Chevrolet Tavera Neo 3 LS 10 Str': 282, 'Honda Amaze VX Diesel BSIV': 283, 'Mahindra Bolero VLX CRDe': 284, 'Honda Amaze E i-Dtech': 285, 'Mahindra XUV500 W10 1.99 mHawk': 286, 'Mahindra Verito Vibe 1.5 dCi D4': 287, 'Tata Sumo GX': 288, 'Tata Indica Vista Terra 1.4 TDI': 289, 'Tata Indica Vista Aqua 1.3 Quadrajet BSIV': 290, 'Mahindra Scorpio SLE BSIV': 291, 'Hyundai Verna 1.6 VGT CRDi': 292, 'Tata Tigor 1.05 Revotorq XZ': 293, 'Toyota Corolla Altis D-4D J': 294, 'Tata Manza Aqua Quadrajet BS IV': 295, 'Mahindra Xylo H4': 296, 'Ford Fiesta Classic 1.4 Duratorq CLXI': 297, 'Mahindra Scorpio Getaway': 298, 'Mahindra Bolero DI Non AC BSIII': 299, 'Tata Indigo CS LX (TDI) BS III': 300, 'Ford Fusion 1.4 TDCi Diesel': 301, 'Skoda Octavia Ambition 2.0 TDI MT': 302, 'Hyundai i20 Magna 1.4 CRDi': 303, 'Toyota Innova 2.5 G4 Diesel 7-seater': 304, 'Audi A4 2.0 TDI': 305, 'Tata Zest Quadrajet 1.3 75PS XE': 306, 'Tata Indica Vista Quadrajet VX': 307, 'Hyundai i20 1.4 CRDi Magna': 308, 'Hyundai i20 Active SX Diesel': 309, 'Mahindra TUV 300 Plus P4 BSIV': 310, 'Tata Tigor 1.05 Revotorq XZ Option': 311, 'Honda City i DTEC VX Option': 312, 'Tata Indica V2 2001-2011 eLX': 313, 'Hyundai Verna CRDi SX ABS': 314, 'Tata New Safari 3L Dicor LX 4x2': 315, 'Hyundai Creta 1.4 EX Diesel': 316, 'Tata Indica Vista Aura 1.3 Quadrajet (ABS) BS IV': 317, 'Maruti Zen D': 318, 'Toyota Innova 2.5 VX 8 STR': 319, 'Toyota Innova Crysta 2.8 GX AT BSIV': 320, 'Mahindra Scorpio 2009-2014 EX 2WD 7S': 321, 'Hyundai Elantra CRDi SX': 322, 'Chevrolet Sail Hatchback LS ABS': 323, 'Hyundai i20 Asta Option 1.4 CRDi': 324, 'Volkswagen Polo Diesel Trendline 1.2L': 325, 'Hyundai Santa Fe 4WD AT': 326, 'Mahindra Thar DI 4X4': 327, 'Mahindra Scorpio S4 Plus 4WD': 328, 'Mahindra Xylo E8 BS4': 329, 'Tata Indigo LS BSII': 330, 'Mahindra Scorpio EX': 331, 'Tata Indica V2 DLS TC': 332, 'Tata Safari DICOR 2.2 EX 4x2': 333, 'Mahindra Bolero 2011-2019 EX NON AC': 334, 'Hyundai Verna Transform SX VGT CRDi': 335, 'Toyota Innova 2.5 EV (Diesel) PS 8 Seater BS IV': 336, 'Tata Tigor 2017-2020 XZ Plus Diesel': 337, 'Toyota Innova 2.5 Z Diesel 7 Seater BS IV': 338, 'Ford Aspire Titanium Diesel BSIV': 339, 'Ford Ecosport 1.5 DV5 MT Titanium': 340, 'Ford Figo Titanium Diesel BSIV': 341, 'Fiat Punto 1.3 Emotion': 342, 'Ford Fiesta EXi 1.4 TDCi Ltd': 343, 'Tata Indica V2 DLG TC': 344, 'Chevrolet Optra Magnum 2.0 LS': 345, 'Tata Sumo MKII GX BS IV': 346, 'Toyota Innova Crysta 2.5 VX BS IV': 347, 'Honda Mobilio S i DTEC': 348, 'Toyota Innova 2.5 E Diesel MS 7-seater': 349, 'Toyota Qualis Fleet A3': 350, 'Ford Figo Aspire 1.5 TDCi Titanium': 351, 'Hyundai Creta 1.6 CRDi SX Option': 352, 'BMW X6 xDrive30d': 353, 'Maruti Ignis 1.3 AMT Zeta': 354, 'Chevrolet Cruze LTZ AT': 355, 'Mercedes-Benz GLA Class 200 CDI SPORT': 356, 'Toyota Innova Crysta 2.8 GX AT 8S BSIV': 357, 'Kia Seltos HTX Plus AT D': 358, 'Maruti Ciaz RS ZDi Plus SHVS': 359, 'Skoda Rapid 1.5 TDI AT Style Plus': 360, 'BMW 6 Series GT 630d Luxury Line': 361, 'Toyota Fortuner 2.8 2WD AT BSIV': 362, 'Tata Indigo CS eLX BS IV': 363, 'Hyundai Grand i10 1.2 CRDi Sportz Option': 364, 'Chevrolet Tavera Neo LS B3 - 7(C) seats BSIII': 365, 'Hyundai Xcent 1.2 CRDi S': 366, 'Chevrolet Sail LT ABS': 367, 'Mahindra Verito 1.5 D6 BSIV': 368, 'Mahindra Scorpio VLX 2WD AIRBAG BSIV': 369, 'Tata Indica V2 DLS': 370, 'Chevrolet Tavera Neo 3 9 Str BSIII': 371, 'Mahindra Verito 1.5 D4 BSIV': 372, 'Mahindra Scorpio 2.6 SLX Turbo 7 Seater': 373, 'Mahindra Bolero 2011-2019 DI NON AC BS III White': 374, 'Toyota Innova 2.5 VX (Diesel) 8 Seater BS IV': 375, 'Mahindra Bolero DI': 376, 'Mahindra NuvoSport N8 AMT': 377, 'Mahindra Xylo E4 8S': 378, 'Renault Scala Diesel RxZ': 379, 'Mahindra Jeep Classic': 380, 'Maruti Ciaz ZDi Plus': 381, 'Maruti Ciaz Alpha Diesel': 382, 'Mahindra Xylo D4 BSIII': 383, 'Hyundai i20 Active 1.4': 384, 'Maruti Vitara Brezza ZDi Plus AMT Dual Tone': 385, 'Hyundai i20 Era Diesel': 386, 'Toyota Innova 2.5 GX 8 STR': 387, 'Maruti Ciaz VDi Plus SHVS': 388, 'Renault Lodgy World Edition 110PS': 389, 'Honda BRV i-DTEC V MT': 390, 'Tata Indigo CR4': 391, 'Maruti S-Cross 2017-2020 Alpha DDiS 200 SH': 392, 'Hyundai i20 Active S Diesel': 393, 'Mahindra Scorpio LX 2.6 Turbo': 394, 'Renault Pulse RxZ': 395, 'Hyundai Xcent 1.2 CRDi SX': 396, 'Fiat Grande Punto 1.3 Emotion Pack 90HP (Diesel)': 397, 'Hyundai Santa Fe 2WD AT': 398, 'Tata Safari Storme VX': 399, 'Chevrolet Sail 1.3 LS': 400, 'Maruti Swift ZDi': 401, 'Nissan Terrano XE 85 PS': 402, 'Mahindra Supro LX 8 Str': 403, 'Hyundai Grand i10 CRDi Magna': 404, 'Maruti Celerio VDi': 405, 'Mahindra Marazzo M6': 406, 'Mahindra Ingenio CRDe': 407, 'Volkswagen Vento Diesel Comfortline': 408, 'Maruti Swift LDI Optional': 409, 'Toyota Innova Crysta 2.4 VX MT BSIV': 410, 'Mahindra Ssangyong Rexton RX7': 411, 'Maruti S-Cross 2017-2020 Sigma DDiS 200 SH': 412, 'Mahindra Scorpio S4 Plus': 413, 'Mahindra TUV 300 T4 Plus': 414, 'Mahindra Scorpio S4 7 Seater': 415, 'Honda City i DTec V': 416, 'Mahindra Bolero DI AC BSIII': 417, 'Nissan Terrano XL D Option': 418, 'Toyota Innova Crysta 2.4 G MT 8 STR': 419, 'Toyota Etios Liva 1.4 GD': 420, 'Mahindra Bolero B2': 421, 'Maruti Vitara Brezza ZDi Plus': 422, 'Tata Indica Vista Aqua 1.3 Quadrajet': 423, 'Fiat Linea Emotion (Diesel)': 424, 'Jeep Compass 2.0 Limited 4X4': 425, 'Audi Q5 2.0 TDI': 426, 'Toyota Innova 2.5 G4 Diesel 8-seater': 427, 'Volkswagen Polo Diesel Comfortline 1.2L': 428, 'Ford Figo Aspire 1.5 TDCi Trend': 429, 'Hyundai Sonata CRDi M/T': 430, 'Hyundai Elite i20 Asta Option Diesel': 431, 'Mahindra Jeep CL 500 MDI': 432, 'Honda Jazz 1.5 V i DTEC': 433, 'BMW X1 sDrive20d M Sport': 434, 'Maruti S-Cross 2017-2020 Delta DDiS 200 SH': 435, 'Maruti Swift Dzire VDI Optional': 436, 'Maruti Swift ZDI Plus': 437, 'Mahindra Bolero B4': 438, 'Ford Ecosport Sports Diesel': 439, 'Honda Amaze E Diesel BSIV': 440, 'Maruti Swift Dzire Tour LDI': 441, 'Mahindra Quanto C4': 442, 'Mahindra XUV500 W7': 443, 'Mahindra Scorpio 1.99 S4': 444, 'Mahindra Scorpio 2.6 CRDe': 445, 'Tata Nexon 1.5 Revotorq XZ Plus': 446, 'Hyundai Elantra CRDi': 447, 'Fiat Linea Classic Plus 1.3 Multijet': 448, 'Honda Amaze S i-Dtech': 449, 'Mahindra Bolero 2011-2019 SLX 2WD BSIII': 450, 'Mahindra XUV500 W8 4WD': 451, 'Maruti Swift Dzire LDI Optional': 452, 'Honda BR-V i-DTEC S MT': 453, 'Maruti Swift DDiS LDI': 454, 'Hyundai Xcent 1.1 CRDi S': 455, 'Ford Endeavour 3.2 Titanium AT 4X4': 456, 'Renault Duster 85PS Diesel RxE': 457, 'Hyundai Creta 1.6 CRDi AT S Plus': 458, 'Mahindra TUV 300 T4': 459, 'Mahindra Xylo D2 BSIV': 460, 'Maruti SX4 VDI': 461, 'Mahindra Bolero 2011-2019 ZLX BSIII': 462, 'Tata Indigo eCS LS TDI BSIII': 463, 'Tata Nexon 1.5 Revotorq XM': 464, 'Mahindra Scorpio LX BSIV': 465, 'Tata New Safari DICOR 2.2 EX 4x4': 466, 'Mahindra Scorpio VLX 2WD BSIV': 467, 'Tata Indica Vista Quadrajet LS': 468, 'Mahindra NuvoSport N8': 469, 'Renault Duster Adventure Edition': 470, 'Mahindra Scorpio S11 BSIV': 471, 'Mahindra Xylo D4': 472, 'Mahindra Scorpio VLX 4WD AIRBAG AT BSIV': 473, 'Hyundai Grand i10 CRDi Asta Option': 474, 'Tata Tiago 1.05 Revotorq XE': 475, 'Mahindra Renault Logan 1.5 Diesel DLSX': 476, 'Mahindra Renault Logan 1.5 DLX Diesel': 477, 'Chevrolet Optra Magnum 2.0 LT': 478, 'Maruti Swift Dzire AMT ZDI': 479, 'Volkswagen Jetta 2.0L TDI Highline AT': 480, 'Volkswagen Vento 1.5 TDI Highline AT': 481, 'Mercedes-Benz M-Class ML 350 4Matic': 482, 'Maruti Swift DDiS VDI': 483, 'Fiat Linea 1.3 Multijet Emotion': 484, 'Nissan Terrano XV D Premium AMT': 485, 'Mahindra Marazzo M8': 486, 'Ford EcoSport 1.5 TDCi Platinum Edition BSIV': 487, 'Hyundai Verna CRDi': 488, 'Hyundai i20 Active 1.4 SX': 489, 'Nissan Terrano XV 110 PS': 490, 'Chevrolet Cruze LTZ': 491, 'Honda Amaze E i-DTEC': 492, 'Maruti Ertiga SHVS LDI Option': 493, 'Mahindra Scorpio VLS 2.2 mHawk': 494, 'Tata Nexon 1.5 Revotorq XE': 495, 'Mahindra KUV 100 mFALCON D75 K6 Plus': 496, 'Toyota Fortuner 2.8 4WD AT BSIV': 497, 'Mitsubishi Pajero 2.8 SFX BSIII Single Tone': 498, 'Hyundai i20 1.4 CRDi Sportz': 499, 'Tata New Safari DICOR 2.2 VX 4x2 BS IV': 500, 'Ford Figo 1.5D Trend MT': 501, 'Tata Indigo LX': 502, 'Ford Figo Aspire 1.5 TDCi Ambiente': 503, 'Ford Classic 1.4 Duratorq Titanium': 504, 'Renault Duster 4x4': 505, 'Mahindra Scorpio 1.99 S6 Plus': 506, 'Chevrolet Optra Magnum 2.0 LS BSIII': 507, 'Skoda Rapid 1.5 TDI AT Ambition Plus': 508, 'Chevrolet Enjoy TCDi LS 8 Seater': 509, 'Chevrolet Beat Diesel LT Option': 510, 'Tata Indica Vista Aqua 1.3 Quadrajet (ABS)': 511, 'Mahindra Jeep MM 540': 512, 'Mercedes-Benz E-Class E270 CDI': 513, 'Mahindra Bolero 2011-2019 DI NON AC BS III SILVER': 514, 'Toyota Fortuner 2.8 4WD MT BSIV': 515, 'Tata Indica V2 DLE BSIII': 516, 'Mahindra Quanto C2': 517, 'Tata Indigo V BSIII': 518, 'Mahindra Bolero 2011-2019 SLE BSIII': 519, 'Ford Endeavour 3.0L 4X4 AT': 520, 'Tata Manza ELAN Quadrajet BS III': 521, 'Tata Manza Aura (ABS) Quadrajet BS IV': 522, 'Mahindra Scorpio VLX 2WD BSIII': 523, 'Tata Indigo CS eLS BS IV': 524, 'Tata Indigo eCS LX BSIV': 525, 'Hyundai Creta 1.4 CRDi S': 526, 'Hyundai i20 2015-2017 Asta Option 1.4 CRDi': 527, 'Maruti Swift Ldi BSIV': 528, 'Skoda Yeti Ambition 4WD': 529, 'Maruti Ciaz S 1.3': 530, 'Maruti Baleno Delta 1.3': 531, 'Renault Duster 85PS Diesel RxL Optional': 532, 'Hyundai Accent VIVA CRDi': 533, 'Hyundai Accent CRDi': 534, 'Mahindra Scorpio VLX 2WD ABS AT BSIII': 535, 'Tata Safari Storme LX': 536, 'Mahindra Bolero Power Plus Plus AC BSIV PS': 537, 'Mahindra Xylo D2 BS III': 538, 'Tata New Safari Dicor VX 4X2 BS IV': 539, 'Mahindra XUV500 W8 AWD': 540, 'Tata Indigo CS LE (TDI) BS-III': 541, 'Nissan Sunny Diesel XL': 542, 'Mahindra Scorpio Intelli Hybrid S6 Plus': 543, 'Hyundai Verna 1.4 CRDi': 544, 'Ford Figo 1.5D Base MT': 545, 'Tata Sumo MKII Turbo 2.0 LX': 546, 'Mahindra TUV 300 mHAWK100 T8': 547, 'Jaguar XF 2.2 Litre Luxury': 548, 'Volkswagen Ameo 1.5 TDI Comfortline AT': 549, 'Audi Q3 2.0 TDI Quattro Premium Plus': 550, 'Honda Civic ZX Diesel BSIV': 551, 'Force Gurkha Hard Top BS3 4WD': 552, 'Maruti Vitara Brezza ZDi': 553, 'Ford Figo 1.5D Titanium MT': 554, 'Mahindra Thar CRDe ABS': 555, 'Mercedes-Benz New C-Class C 220 CDI Elegance MT': 556, 'Mahindra Marazzo M2 BSIV': 557, 'BMW 3 Series 320d': 558, 'Skoda Octavia Style Plus 2.0 TDI AT': 559, 'Mahindra Logan Diesel 1.5 DLE': 560, 'Honda City i DTEC E': 561, 'Volkswagen Polo GT TDI': 562, 'Toyota Corolla Altis 1.4 DGL': 563, 'Mahindra Xylo E8': 564, 'Ford Endeavour 2.5L 4X2 MT': 565, 'Maruti Ertiga 1.5 VDI': 566, 'Tata Indica V2 eLS': 567, 'Maruti Celerio ZDi': 568, 'Mahindra Xylo E4': 569, 'Nissan Micra Diesel XV Premium': 570, 'Maruti Ciaz VDi Plus': 571, 'Chevrolet Tavera Neo 3 LS 9 Str BSIII': 572, 'Mahindra TUV 300 mHAWK100 T8 Dual Tone': 573, 'BMW 3 Series 320d Luxury Plus': 574, 'Nissan Terrano XL 110 PS': 575, 'Mahindra Scorpio 2.6 Turbo 9 Str': 576, 'Tata Sumo EX 10/7 Str BSIII': 577, 'Tata Hexa XM': 578, 'Chevrolet Optra Magnum 2.0 LT BS3': 579, 'Tata Manza Aura Quadrajet BS IV': 580, 'Fiat Grande Punto EVO 1.3 Dynamic': 581, 'Mahindra Bolero XL 10 Seater Non AC': 582, 'Tata Sumo EX BS IV': 583, 'Mahindra XUV500 W9 2WD': 584, 'Audi A3 35 TDI Premium Plus': 585, 'Mahindra Scorpio VLS AT 2.2 mHAWK': 586, 'Toyota Innova 2.5 VX 7 STR': 587, 'Audi Q5 3.0 TDI Quattro': 588, 'Audi Q7 3.0 TDI Quattro': 589, 'Mahindra Scorpio S3 9 Seater BSIV': 590, 'Audi Q7 3.0 TDI Quattro Premium Plus': 591, 'Land Rover Freelander 2 TD4 HSE': 592, 'Hyundai Xcent 1.1 CRDi SX': 593, 'Maruti Baleno Zeta 1.3': 594, 'Tata Zest Quadrajet 1.3 XM': 595, 'Mahindra Xylo E8 ABS Airbag': 596, 'Tata New Safari DICOR 2.2 LX 4x2': 597, 'Mahindra Bolero Power Plus SLX': 598, 'Hyundai i20 Sportz Option 1.4 CRDi': 599, 'Fiat Grande Punto Active (Diesel)': 600, 'Tata Aria Pure LX 4x2': 601, 'Tata Tigor 1.05 Revotorq XM': 602, 'Mahindra XUV300 W6 Diesel BSIV': 603, 'Volkswagen Vento IPL II Diesel Trendline': 604, 'Tata New Safari DICOR 2.2 VX 4x4': 605, 'Tata Indica Vista TDI LX': 606, 'Toyota Qualis GS G1': 607, 'Ford Ikon 1.4 TDCi DuraTorq': 608, 'Mahindra Bolero SLE BSIII': 609, 'Mahindra Bolero 2011-2019 mHAWK D70 ZLX': 610, 'Volkswagen Vento 1.5 TDI Highline': 611, 'Honda Jazz 1.5 VX i DTEC': 612, 'Tata Indica V2 eLX': 613, 'Chevrolet Tavera Neo 3 10 Seats BSIII': 614, 'Hyundai Creta 1.4 E Plus': 615, 'Ford Freestyle Titanium Diesel BSIV': 616, 'Hyundai Verna 1.4 CX': 617, 'Ford Ecosport 1.5 DV5 MT Trend': 618, 'Ford EcoSport 1.5 TDCi Titanium BE BSIV': 619, 'Ford Figo Diesel EXI Option': 620, 'Ford Freestyle Trend Diesel': 621, 'Renault Duster 85PS Diesel RxE Adventure': 622, 'Mahindra Quanto C6': 623, 'Mahindra Scorpio S7 120': 624, 'Hyundai Santa Fe 4X4': 625, 'Ford Aspire Trend Diesel BSIV': 626, 'Honda City i DTEC SV': 627, 'Chevrolet Captiva 2.2 LTZ AWD': 628, 'Ford Fiesta Diesel Style': 629, 'Mahindra Scorpio S2 9 Seater': 630, 'Ford Fusion Plus 1.4 TDCi Diesel': 631, 'Tata Safari Storme VX Varicor 400': 632, 'Mahindra XUV500 AT W6 2WD': 633, 'Mahindra Bolero Power Plus SLE': 634, 'Toyota Innova 2.5 VX 8 STR BSIV': 635, 'Ford Endeavour 3.0L 4X2 AT': 636, 'Toyota Innova 2.5 GX (Diesel) 7 Seater': 637, 'Chevrolet Beat Diesel': 638, 'Toyota Etios Cross 1.4L GD': 639, 'Toyota Etios Diesel TRD Sportivo': 640, 'Fiat Grande Punto EVO 1.3 Active': 641, 'Renault Fluence 1.5': 642, 'Mahindra Scorpio Intelli Hybrid S10': 643, 'Renault Duster 85PS Diesel RxL Plus': 644, 'Toyota Etios Liva VD': 645, 'Tata Xenon XT EX 4X4': 646, 'Mahindra Bolero Power Plus ZLX': 647, 'Toyota Innova 2.5 G2': 648, 'Chevrolet Sail Hatchback LT ABS': 649, 'Volkswagen Polo 2015-2019 1.5 TDI Highline Plus': 650, 'Hyundai Verna 1.6 CRDi EX MT': 651, 'Mahindra XUV500 W9 BSIV': 652, 'Force One SX ABS 7 Seating': 653, 'Tata Indigo CS eVX': 654, 'Maruti SX4 ZDI Leather': 655, 'Honda Mobilio RS i DTEC': 656, 'Mahindra Scorpio 2009-2014 SLE 7S BSIV': 657, 'Mercedes-Benz GLA Class 200 D Sport Edition': 658, 'Mercedes-Benz M-Class ML 350 CDI': 659, 'BMW 3 Series 320d Highline': 660, 'Mahindra XUV500 AT W6 1.99 mHawk': 661, 'BMW 7 Series 730Ld': 662, 'Mahindra TUV 300 T8 AMT': 663, 'Tata Zest Quadrajet 1.3 XMS': 664, 'Hyundai Xcent 1.2 CRDi SX Option': 665, 'Maruti Vitara Brezza VDi AMT': 666, 'Mahindra Bolero 2011-2019 EX AC': 667, 'Mahindra Xylo H9': 668, 'Mahindra Xylo E8 ABS Airbag BSIV': 669, 'Honda Mobilio RS Option i DTEC': 670, 'Jeep Compass 2.0 Limited Option': 671, 'Renault Duster 85PS Diesel RxL Explore': 672, 'Honda Amaze S Option i-DTEC': 673, 'Mahindra Scorpio VLX 2WD AIRBAG BSIII': 674, 'Renault Duster Adventure Edition RXZ AWD': 675, 'Ford Figo Aspire 1.5 TDCi Titanium Opt': 676, 'Maruti Ertiga ZDI Plus': 677, 'Maruti Ciaz ZDi Plus SHVS': 678, 'Jaguar XF 3.0 Litre S Premium Luxury': 679, 'BMW X1 sDrive 20d Sportline': 680, 'Audi Q3 35 TDI Quattro Premium Plus': 681, 'Volkswagen Vento 1.5 TDI Comfortline': 682, 'Ford Endeavour 2.5L 4X2': 683, 'Volvo S60 D4 SUMMUM': 684, 'Hyundai Verna CRDi 1.6 SX Option': 685, 'Mahindra Scorpio Intelli Hybrid S10 4WD': 686, 'Fiat Linea Classic 1.3 Multijet': 687, 'Mahindra Renault Logan 1.5 DLE Diesel': 688, 'Mahindra Jeep MM 550 XDB': 689, 'Ford Fiesta 1.4 SXi TDCi': 690, 'Volvo V40 Cross Country D3': 691, 'Mahindra Logan Diesel 1.5 DLS': 692, 'Nissan Sunny XV D': 693, 'Hyundai Verna CRDi 1.4 EX': 694, 'Mitsubishi Lancer 2.0 L Diesel LX': 695, 'Mahindra XUV500 W11 Option BSIV': 696, 'Mahindra XUV500 AT W10 FWD': 697, 'BMW X7 xDrive 30d DPE': 698, 'Tata Indica Vista Aqua TDI BSIII': 699, 'Mahindra Thar DI 4X4 PS': 700, 'Skoda Fabia 1.2 TDI Ambition Plus': 701, 'Mahindra XUV500 W5 BSIV': 702, 'Honda Jazz 1.5 E i DTEC': 703, 'Mahindra Bolero Power Plus Plus Non AC BSIV PS': 704, 'Fiat Grande Punto 1.3 Dynamic (Diesel)': 705, 'Maruti Vitara Brezza ZDi AMT': 706, 'Volkswagen Jetta 2.0 TDI Comfortline': 707, 'Tata New Safari Dicor GX 4X2 BS IV': 708, 'Volkswagen Jetta 2.0L TDI Highline': 709, 'Ford Endeavour 4x2 XLT Limited Edition': 710, 'Audi A4 35 TDI Premium Plus': 711, 'Maruti Swift Dzire AMT ZDI Plus': 712, 'Hyundai Verna CRDi ABS': 713, 'Toyota Platinum Etios 1.4 GXD': 714, 'Tata Zest Quadrajet 1.3 XT': 715, 'Mahindra Bolero LX': 716, 'Tata Sumo EX': 717, 'Mahindra Scorpio 1.99 S10 4WD': 718, 'Hyundai Creta 1.6 CRDi Anniversary Edition': 719, 'Ford Ecosport 1.5 Diesel Titanium': 720, 'Renault Captur 1.5 Diesel RXT': 721, 'Ford Fiesta Classic 1.4 SXI Duratorq': 722, 'Skoda Fabia 1.2 TDI Active Plus': 723, 'Tata Indica Vista Terra Quadrajet 1.3L': 724, 'Maruti Swift Dzire Vdi BSIV': 725, 'Volkswagen Ameo 1.5 TDI Trendline': 726, 'Maruti Swift AMT ZDI': 727, 'Renault Duster 85PS Diesel RxZ': 728, 'Mercedes-Benz GL-Class 350 CDI Luxury': 729, 'Hyundai Creta 1.6 SX Automatic Diesel': 730, 'Hyundai i20 1.4 Sportz': 731, 'Skoda Fabia 1.4 TDI Ambiente': 732, 'Renault Fluence Diesel E4': 733, 'Honda Amaze S i-DTEC': 734, 'Chevrolet Tavera Neo 3 LS 10 Seats BSIII': 735, 'Mahindra Scorpio VLX 2WD AT BSIII': 736, 'Mahindra XUV300 W8 Option Dual Tone Diesel BSIV': 737, 'Mahindra XUV500 W7 BSIV': 738, 'Chevrolet Enjoy 1.3 TCDi LTZ 8': 739, 'Tata Estate Std': 740, 'Mahindra Scorpio Gateway 2WD': 741, 'Hyundai Xcent 1.1 CRDi Base': 742, 'Hyundai Verna CRDi 1.6 AT SX Plus': 743, 'BMW 3 Series 320d Luxury Line Plus': 744, 'Renault Koleos 2.0 Diesel': 745, 'Renault Pulse RxZ Optional': 746, 'Toyota Innova Crysta 2.4 GX MT BSIV': 747, 'Hyundai i20 Era 1.4 CRDi': 748, 'Renault Lodgy 85PS RxE 7 Seater': 749, 'Ambassador CLASSIC 1500 DSL AC': 750, 'Tata Harrier XZ Dark Edition BSIV': 751, 'Ford Fiesta 1.5 TDCi Trend': 752, 'Tata Zest Quadrajet 1.3 75PS XMS': 753, 'Volkswagen Vento Diesel Breeze': 754, 'Mahindra Verito 1.5 D2 BSIV': 755, 'Tata Indigo TDI': 756, 'Tata Manza Club Class Quadrajet90 EX': 757, 'Volkswagen Multivan TDI': 758, 'BMW 3 Series 320d Sedan': 759, 'Hyundai i20 Active 1.4 SX Dual Tone': 760, 'Hyundai i20 Magna Optional 1.4 CRDi': 761, 'Mahindra Bolero Power Plus LX': 762, 'Fiat Avventura Power Up 1.3 Active': 763, 'Skoda Laura Ambiente': 764, 'Skoda Laura Ambiente 1.9 PD': 765, 'Ford Fiesta 1.4 ZXi TDCi ABS': 766, 'Toyota Innova 2.5 EV PS 8 STR BSIV': 767, 'Renault Duster 85PS Diesel RxL Optional with Nav': 768, 'Toyota Innova 2.5 GX 8 STR BSIV': 769, 'Ford Freestyle Titanium Plus Diesel': 770, 'Ford Freestyle Titanium Diesel': 771, 'Hyundai Santa Fe 2WD MT': 772, 'Mahindra XUV500 W11 BSIV': 773, 'Ford Figo Aspire 1.5 TDCi Sports Edition': 774, 'Mahindra XUV500 W11 AT BSIV': 775, 'Maruti Swift Dzire Zdi BSIV': 776, 'Mahindra Bolero SLX 2WD': 777, 'Hyundai i20 2015-2017 Sportz 1.4 CRDi': 778, 'Toyota Innova 2.5 E Diesel PS 7-Seater': 779, 'Maruti SX4 S Cross 2015-2017 DDiS 200 Sigma': 780, 'Mahindra Bolero PLUS AC': 781, 'Chevrolet Tavera B3 LT L1 10 Seats BSIII': 782, 'Mahindra Bolero DI BSIII': 783, 'Hyundai i20 1.4 Asta Dual Tone': 784, 'Mahindra Scorpio S11 4WD BSIV': 785, 'Hyundai Elite i20 Diesel Sportz': 786, 'Maruti Swift ZDI BSIV': 787, 'Volkswagen Ameo 1.5 TDI Highline Plus': 788, 'Mahindra KUV 100 mFALCON D75 K2 Plus': 789, 'Hyundai Verna 1.6 CRDi SX': 790, 'Honda Amaze VX O iDTEC': 791, 'Maruti Baleno Zeta Diesel': 792, 'Skoda Rapid 1.5 TDI Style Plus Black Package': 793, 'Maruti Baleno Sigma 1.3': 794, 'Mahindra Bolero 2011-2019 Special Edition': 795, 'Honda City i DTec SV': 796, 'Chevrolet Tavera LS B3 10 Seats BSII': 797, 'Ford Fiesta 1.4 Duratorq ZXI': 798, 'Mahindra Scorpio VLX 2WD AIRBAG AT BSIV': 799, 'Toyota Platinum Etios 1.4 GD': 800, 'Mahindra Bolero 2011-2019 Plus Non AC BSIV PS': 801, 'Tata Tiago 1.05 Revotorq XZ WO Alloy': 802, 'Ford EcoSport S Diesel BSIV': 803, 'Hyundai i20 2015-2017 Sportz Option 1.4 CRDi': 804, 'Hyundai Verna CRDi 1.6 AT SX Option': 805, 'Mahindra Scorpio 2009-2014 EX 9S BSIII': 806, 'Nissan Micra Diesel XL Optional': 807, 'Renault Pulse RxL': 808, 'Ford EcoSport 1.5 TDCi Trend Plus BSIV': 809, 'Toyota Fortuner 2.5 4x2 MT TRD Sportivo': 810, 'Fiat Avventura Power Up 1.3 Emotion': 811, 'Mahindra Scorpio SLE BS IV': 812, 'Ford EcoSport 1.5 Diesel Ambiente BSIV': 813, 'Fiat Avventura MULTIJET Emotion': 814, 'Ashok Leyland Stile LE': 815, 'Hyundai Creta 1.6 CRDi SX Plus': 816, 'Tata Indica Vista Aura Plus 1.3 Quadrajet BS IV': 817, 'Renault Pulse RxL Optional': 818, 'Hyundai Verna 1.6 CRDI AT SX Option': 819, 'Hyundai Verna 1.6 CRDi S Option': 820, 'Mahindra Scorpio SLX 4WD': 821, 'Tata Sumo SE Plus BSII': 822, 'Mahindra Scorpio SLX 4WD LE': 823, 'Skoda Fabia 1.2L Diesel Elegance': 824, 'Mahindra Xylo E4 BS III': 825, 'Tata New Safari DICOR 2.2 GX 4x2': 826, 'Mahindra Xylo E4 ABS BS IV': 827, 'Skoda Rapid 1.6 TDI Ambition': 828, 'Tata Indigo Grand Dicor': 829, 'Tata Aria Prestige 4x2': 830, 'Mahindra Scorpio 2.6 DX': 831, 'Chevrolet Tavera B1-10 seats BSII': 832, 'Tata Sumo CX': 833, 'Renault Duster 85PS Diesel RxS': 834, 'Mahindra Bolero 2011-2019 Camper': 835, 'Isuzu MUX 2WD': 836, 'Tata Sumo SE': 837, 'Mitsubishi Lancer 2.0 LXd': 838, 'Ford Fiesta 1.5 TDCi Titanium': 839, 'Tata Indica Vista Quadrajet 90 VX': 840, 'Toyota Etios VD': 841, 'Skoda Octavia Classic 1.9 TDI MT': 842, 'Mercedes-Benz M-Class ML 250 CDI': 843, 'Tata Sumo Gold EX': 844, 'Mercedes-Benz GLA Class 200 CDI': 845, 'Maruti Swift VDI Windsong Limited edition': 846, 'Volkswagen Vento 1.5 TDI Highline BSIV': 847, 'Hyundai Tucson 2.0 e-VGT 2WD AT GLS': 848, 'Volkswagen Passat 2.0 TDI AT Highline': 849, 'Mercedes-Benz E-Class E 220 CDI Avantgarde': 850, 'Ford Figo Titanium Diesel': 851, 'Tata Nexon 1.5 Revotorq XZA Plus': 852, 'Jeep Compass 2.0 Limited Option 4X4': 853, 'Skoda Rapid 1.6 TDI Elegance': 854, 'Skoda Rapid 1.5 TDI Elegance Black Package': 855, 'Chevrolet Sail Hatchback Diesel': 856, 'Mahindra Scorpio 2009-2014 EX 2WD 9S': 857, 'Tata Sumo GX 7 Str BSII': 858, 'Ford EcoSport 1.5 Diesel Trend Plus BSIV': 859, 'Hyundai i20 1.4 Asta': 860, 'Renault Duster 85PS Diesel STD': 861, 'Tata Bolt Quadrajet XM': 862, 'Tata Zest Quadrajet 1.3 Anniversary Edition': 863, 'Hyundai Accent DLS': 864, 'Toyota Innova 2.5 ZX Diesel 7 Seater BSIII': 865, 'Maruti Esteem DI': 866, 'Renault Lodgy Stepway 110PS RXZ 7S': 867, 'Toyota Innova Crysta 2.4 GX MT 8S BSIV': 868, 'Honda Amaze E Option i-DTEC': 869, 'Maruti Ciaz VDI SHVS': 870, 'Honda City i-DTEC V': 871, 'Tata Winger Deluxe - Flat Roof (Non-AC)': 872, 'Honda WR-V i-DTEC S': 873, 'Toyota Innova Crysta 2.4 ZX MT BSIV': 874, 'Chevrolet Captiva 2.2 LT': 875, 'Honda Jazz 1.5 S i DTEC': 876, 'Skoda Fabia Scout 1.2 TDI': 877, 'Honda Amaze SX i-DTEC': 878, 'Tata Manza Aura Plus Quadrajet BS IV': 879, 'Force One EX': 880, 'Tata Sumo Gold GX BSIII': 881, 'BMW 3 Series 320d GT Luxury Line': 882, 'Hyundai Grand i10 1.2 CRDi Magna': 883, 'Tata Harrier XZ Plus': 884, 'Jeep Compass 2.0 Limited Plus 4X4': 885, 'Toyota Fortuner 4x4 AT': 886, 'Tata Indica V2 DLE BSII': 887, 'Mahindra Scorpio SLX 2.6 Turbo 8 Str': 888, 'Ambassador Classic 2000 DSZ AC PS': 889, 'Mahindra Verito Vibe 1.5 dCi D6': 890, 'Tata Manza Club Class Quadrajet90 LS': 891, 'BMW 3 Series GT Luxury Line': 892, 'Toyota Innova Crysta 2.4 ZX MT': 893, 'Tata Harrier XZ': 894, 'Audi Q5 45 TDI quattro Technology': 895, 'Mahindra Bolero 2011-2019 Plus Non AC': 896, 'Mahindra TUV 300 T6 Plus AMT': 897, 'Jaguar XF Diesel': 898, 'Tata Indica V2 DLX BSIII': 899, 'Mahindra KUV 100 mFALCON D75 K6': 900, 'Renault Lodgy Stepway 85PS RXZ 8S': 901, 'Toyota Innova Crysta 2.4 VX MT 8S BSIV': 902, 'Toyota Corolla Altis D-4D G': 903, 'Tata Venture LX 7 Str': 904, 'BMW 5 Series 525d': 905, 'Skoda Rapid 1.6 TDI Ambition Plus': 906, 'BMW 5 Series 520d': 907, 'Mercedes-Benz E-Class E250 CDI Avantgrade': 908, 'Ford Ecosport 1.5 DV5 MT Titanium Optional': 909, 'Toyota Qualis GS C1': 910, 'Tata Sumo CX 9 Seater': 911, 'Ambassador Grand 1500 DSZ BSIII': 912, 'Maruti Swift LDI BSIV': 913, 'Maruti Ciaz VDi Option SHVS': 914, 'Toyota Qualis FS B3': 915, 'Mahindra Bolero SLX 4WD BSIII': 916, 'Mahindra XUV500 W10 AWD': 917, 'Toyota Qualis FS F7': 918, 'Hyundai Verna 1.6 SX CRDI (O) AT': 919, 'Toyota Etios Liva VXD': 920, 'Mitsubishi Lancer 2.0 GLd': 921, 'Tata Spacio Gold-10/6 Str BSII': 922, 'Renault Duster 110PS Diesel RxL AMT': 923, 'Mahindra Scorpio 2009-2014 SLE 7S BSIII': 924, 'Mahindra Scorpio 2006-2009 VLX 2WD 7 Str BSIII': 925, 'Maruti Swift Dzire Ldi BSIV': 926, 'Maruti Ciaz 1.3 Sigma': 927, 'Hyundai i20 2015-2017 Magna 1.4 CRDi': 928, 'Volkswagen CrossPolo 1.5 TDI': 929, 'Toyota Fortuner 4x2 AT TRD Sportivo': 930, 'Ford EcoSport 1.5 TDCi Ambiente BSIV': 931, 'Tata Indigo CS LS DiCOR': 932, 'Hyundai Verna Transform VGT CRDi': 933, 'Maruti Ciaz 1.3 Zeta': 934, 'Jeep Compass 2.0 Longitude BSIV': 935, 'Skoda Octavia L and K 1.9 TDI MT': 936, 'Renault Lodgy 85PS RxE': 937, 'Mahindra Bolero LX Non AC BSIII': 938, 'Mahindra Scorpio 2.6 Turbo 7 Str': 939, 'Hyundai i20 Asta 1.4 CRDi (Diesel)': 940, 'Tata Tiago 2019-2020 XZ Plus Diesel': 941, 'Maruti Ertiga 1.5 ZDI': 942, 'Mercedes-Benz New C-Class C 250 CDI Elegance': 943, 'Ford Figo Aspire Facelift': 944, 'Mahindra Scorpio S4 9 Seater': 945, 'Tata Sumo EX TC': 946, 'Maruti Swift VDi BSIII W/ ABS': 947, 'Mahindra XUV300 W8 Option Diesel BSIV': 948, 'Hyundai Elite i20 Sportz Plus Diesel': 949, 'Tata Tiago 1.05 Revotorq XT': 950, 'Ford Fiesta Classic 1.4 Duratorq LXI': 951, 'Mahindra Marshal DI': 952, 'Renault Duster 110PS Diesel RxZ Plus': 953, 'Volkswagen Vento Konekt Diesel Highline': 954, 'Toyota Innova 2.5 VX (Diesel) 7 Seater BS IV': 955, 'Mahindra Scorpio SLE BSIII': 956, 'Tata Sumo MKII CX BS IV': 957, 'Mahindra Scorpio 2009-2014 VLX 2WD 7S BSIV': 958, 'Skoda Rapid 1.5 TDI Active': 959, 'Skoda Kodiaq 2.0 TDI Style': 960, 'Skoda Rapid 1.5 TDI AT Ambition': 961, 'Maruti Baleno Delta Diesel': 962, 'Honda Mobilio V i DTEC': 963, 'Hyundai Verna Transform SX VGT CRDi AT BS III': 964, 'Audi A4 2.0 TDI 177 Bhp Premium Plus': 965, 'Chevrolet Enjoy 1.3 TCDi LT 8': 966, 'Tata Indigo eCS LX TDI BSIII': 967, 'Renault Scala Diesel RxE': 968, 'Volkswagen Passat Highline DSG S': 969, 'Tata Sumo Gold CX BSIII': 970, 'Chevrolet Enjoy TCDi LT 7 Seater': 971, 'Renault Duster RXL AWD': 972, 'Chevrolet Tavera Neo 3 LT 9 Seats BSIV': 973, 'Tata Indica V2 DLX': 974, 'Tata Indica DLX': 975, 'Tata Indica Vista Terra TDI BSIII': 976, 'Toyota Etios 1.4 VXD': 977, 'Tata Venture EX 7 Str': 978, 'Mahindra Scorpio 2006-2009 LX 2.6 Turbo 9 Str': 979, 'Honda City i DTec VX': 980, 'Tata Indica Vista Quadrajet VX Tech': 981, 'Chevrolet Sail Hatchback Diesel Base': 982, 'Tata Tiago 1.05 Revotorq XT Option': 983, 'Skoda Octavia Ambiente 1.9 TDI MT': 984, 'Skoda Superb Elegance 2.0 TDI CR AT': 985, 'Fiat Grande Punto 1.3 Emotion (Diesel)': 986, 'Mahindra TUV 300 T10': 987, 'Fiat Linea 1.3 Multijet Active': 988, 'Maruti Ritz ZDi': 989, 'Isuzu D-Max V-Cross Z Prestige': 990, 'BMW 3 Series 320d Prestige': 991, 'Toyota Innova 2.5 EV Diesel MS 7 Str BSIII': 992, 'Tata Indica V2 DiCOR DLG BS-III': 993, 'Tata Sumo Gold GX': 994, 'Mahindra KUV 100 D75 K8': 995, 'Mahindra XUV500 AT W9 2WD': 996, 'Mahindra Bolero Pik-Up FB 1.7T': 997, 'Honda City i-DTEC ZX': 998, 'Hyundai Verna SX CRDi AT': 999, 'Renault Duster 85PS Diesel RxL Option': 1000, 'Toyota Innova 2.5 Z Diesel 7 Seater': 1001, 'Skoda Laura Ambiente 2.0 TDI CR MT': 1002, 'Maruti Ciaz Zeta Diesel': 1003, 'BMW 5 Series 530d': 1004, 'Mercedes-Benz New C-Class C 220 CDI Elegance AT': 1005, 'Tata Indigo eCS LE TDI BSIII': 1006, 'Ford Fiesta 1.4 TDCi EXI': 1007, 'BMW X3 xDrive20d': 1008, 'Ford Fiesta 1.4 ZXi TDCi LE': 1009, 'Mahindra Verito 1.5 D6 BSIII': 1010, 'Toyota Etios GD SP': 1011, 'Ford Freestyle Trend Diesel BSIV': 1012, 'Mercedes-Benz New C-Class C 220 CDI BE Avantgare': 1013, 'Mercedes-Benz New C-Class 250 CDI Classic': 1014, 'Maruti Swift Dzire LDIX Limited Edition': 1015, 'Hyundai Xcent 1.2 CRDi E Plus': 1016, 'Skoda Rapid Monte Carlo 1.5 TDI AT BSIV': 1017, 'Renault Duster 110PS Diesel RxL Explore': 1018, 'Toyota Land Cruiser Prado VX L': 1019, 'Chevrolet Tavera Neo LS B3 - 10 seats BSIII': 1020, 'Ford Figo 1.5D Titanium Opt MT': 1021, 'Mahindra KUV 100 D75 K6 Plus 5Str': 1022, 'Hyundai Creta 1.6 SX Diesel': 1023, 'Hyundai i20 Diesel Asta Option': 1024, 'Toyota Innova Crysta 2.4 VX MT': 1025, 'Ford Fiesta 1.4 SXi TDCi ABS': 1026, 'BMW X1 sDrive20d': 1027, 'Renault Duster 110PS Diesel RXZ Optional with Nav': 1028, 'Maruti SX4 S Cross 2015-2017 DDiS 200 Alpha': 1029, 'Tata Harrier XZ BSIV': 1030, 'Ford Endeavour 2.2 Titanium AT 4X2': 1031, 'Mahindra Xylo D2 Maxx': 1032, 'Hyundai i20 Active 1.4 S': 1033, 'Ford Figo 1.5D Ambiente MT': 1034, 'Chevrolet Enjoy 1.3 TCDi LS 8': 1035, 'Mahindra Scorpio 1.99 S8': 1036, 'Skoda Rapid 1.5 TDI Ambition BSIV': 1037, 'Ford Fiesta 1.5 TDCi Ambiente': 1038, 'Tata Indica Vista Terra Quadrajet 1.3L BS IV': 1039, 'Skoda Fabia 1.2L Diesel Ambiente': 1040, 'Tata Indica Vista Aura 1.3 Quadrajet (ABS)': 1041, 'Volkswagen Polo Select 1.5 TDI Highline': 1042, 'Tata Nexon 1.5 Revotorq XZ Plus Dual Tone': 1043, 'Honda Amaze S Diesel BSIV': 1044, 'Ford EcoSport 1.5 TDCi Signature BSIV': 1045, 'BMW X5 3.0d': 1046, 'BMW 5 Series 520d Sedan': 1047, 'Tata Aria Pleasure 4x2': 1048, 'Mahindra Bolero Pik-Up CBC 1.7T': 1049, 'Toyota Innova Crysta 2.4 ZX AT': 1050, 'Ford Ikon 1.8 D': 1051, 'Skoda Rapid 1.6 TDI Ambition Plus Alloy': 1052, 'Toyota Innova 2.5 EV Diesel PS 7 Seater BSIII': 1053, 'Audi Q3 35 TDI Quattro Technology': 1054, 'Tata Xenon XT EX 4X2': 1055, 'Honda Amaze Anniversary Edition': 1056, 'Chevrolet Enjoy 1.3 TCDi LTZ 7': 1057, 'Fiat Punto EVO 1.3 Emotion': 1058, 'Volkswagen Ameo 1.5 TDI Highline Plus 16 AT': 1059, 'Land Rover Range Rover Evoque 2.2L Pure': 1060, 'Peugeot 309 GLD': 1061, 'Volkswagen Jetta 2.0L TDI Comfortline': 1062, 'Mahindra Scorpio VLX 4WD AIRBAG BSIV': 1063, 'Tata New Safari DICOR 2.2 EX 4x4 BS IV': 1064, 'Skoda Rapid 1.5 TDI AT Style BSIV': 1065, 'Maruti Ertiga LDI': 1066, 'Mahindra TUV 300 mHAWK100 T8 AMT': 1067, 'Maruti Ertiga LDI Option': 1068, 'Hyundai Tucson CRDi': 1069, 'Tata New Safari Dicor LX 4X2 BS IV': 1070, 'Tata Indica V2 DLS BSIII': 1071, 'Mahindra Scorpio S10 4WD': 1072, 'Maruti Swift LDI': 1073, 'Mahindra KUV 100 mFALCON D75 K4': 1074, 'Mitsubishi Pajero Sport 4X4 Dual Tone': 1075, 'Tata New Safari Dicor EX 4X2 BS IV': 1076, 'Mahindra Scorpio 1.99 S4 Plus': 1077, 'Mahindra Thar 4X4': 1078, 'Volkswagen Vento 1.5 Highline Plus AT 16 Alloy': 1079, 'Maruti Ritz VDi ABS': 1080, 'Tata New Safari 4X4 EXI BSIII': 1081, 'Ford Ecosport 1.5 Diesel Trend': 1082, 'Tata New Safari DICOR 2.2 GX 4x2 BS IV': 1083, 'Mahindra TUV 300 T6': 1084, 'Maruti Ritz Genus VDi': 1085, 'Skoda Octavia Rider 1.9 AT TDI': 1086, 'Mahindra Marazzo M2 8Str BSIV': 1087, 'Tata Indigo VS': 1088, 'Honda City i DTec S': 1089, 'Mahindra XUV500 W4 1.99 mHawk': 1090, 'Mahindra KUV 100 D75 K4 Plus': 1091, 'Tata Indica V2 DL': 1092, 'Mahindra KUV 100 D75 K8 Dual Tone': 1093, 'Mahindra KUV 100 mFALCON D75 K2': 1094, 'Volkswagen Polo 2015-2019 GT 1.5 TDI': 1095, 'Hyundai Elantra CRDi SX Option AT': 1096, 'Volkswagen Vento 1.5 TDI Highline Plus AT': 1097, 'Skoda Rapid 1.5 TDI Ambition Plus': 1098, 'Volkswagen Passat Highline DSG S (Spl. Edition)': 1099, 'Skoda Octavia Ambiente 1.9 TDI': 1100, 'Hyundai Grand i10 CRDi SportZ Edition': 1101, 'Volkswagen Vento 1.5 TDI Highline Plus AT BSIV': 1102, 'Renault Lodgy 85PS RxL': 1103, 'Chevrolet Trailblazer LTZ 4X2 AT': 1104, 'Isuzu MU 7 AT Premium': 1105, 'Mercedes-Benz GLC 220d 4MATIC': 1106, 'Hyundai Verna CRDi 1.6 EX': 1107, 'Ford Fiesta 1.4 ZXi TDCi Limited Edition': 1108, 'Maruti Swift AMT VDI': 1109, 'Audi A6 2.0 TDI Premium Plus': 1110, 'Toyota Etios Liva 1.4 VD': 1111, 'Hyundai Sonata 2.0L CRDi MT': 1112, 'Mahindra XUV500 AT W8 FWD': 1113, 'Skoda Octavia L and K 1.9 TDI (MT)': 1114, 'Mitsubishi Pajero Sport Anniversary Edition': 1115, 'Honda BR-V i-DTEC VX MT': 1116, 'Mercedes-Benz B Class B200 CDI Sport': 1117, 'Renault Lodgy 85PS RxZ': 1118, 'Mercedes-Benz GL-Class 350 CDI Blue Efficiency': 1119, 'Audi A6 2.0 TDI': 1120, 'Volvo XC60 Inscription D5 BSIV': 1121, 'Nissan Kicks XV D BSIV': 1122, 'Honda City i DTec E': 1123, 'Chevrolet Tavera B2 8 Seats BSIII': 1124, 'Chevrolet Tavera Neo LT-L - 9 seats BSII': 1125, 'Mahindra Scorpio S5 BSIV': 1126, 'Toyota Corolla Altis Diesel D4DJ': 1127, 'Tata Manza Aqua Quadrajet': 1128, 'Isuzu D-Max V-Cross 4X4': 1129, 'Renault Scala Diesel RxL': 1130, 'BMW 3 Series 320d Corporate Edition': 1131, 'Ford Figo 1.5 Sports Edition MT': 1132, 'Ford EcoSport 1.5 TDCi Titanium Plus BE BSIV': 1133, 'Ambassador Grand 2000 DSZ PW CL': 1134, 'Mercedes-Benz E-Class E250 CDI Elegance': 1135, 'Maruti Swift LDI SP Limited Edition': 1136, 'Volvo S90 D4 Inscription BSIV': 1137, 'Hyundai Verna SX Diesel': 1138, 'Renault Lodgy 85PS Std': 1139, 'Ford Figo Aspire Titanium Diesel': 1140, 'Hyundai Verna CRDi 1.6 SX': 1141, 'Maruti Baleno Alpha Diesel': 1142, 'Tata New Safari Dicor VX 4X2': 1143, 'Hyundai Santa Fe 4x4 AT': 1144, 'Renault Duster RXZ 110PS AMT BSIV': 1145, 'Honda Jazz V Diesel': 1146, 'Toyota Innova 2.5 E 7 STR': 1147, 'Ford Fiesta 1.4 Duratorq EXI': 1148, 'Chevrolet Cruze LT': 1149, 'Tata Nexon 1.5 Revotorq XT': 1150, 'Ford Freestyle Titanium Plus Diesel BSIV': 1151, 'Toyota Innova 2.5 GX (Diesel) 8 Seater BS IV': 1152, 'Maruti Wagon R LXI DUO BSIII': 1153, 'Maruti Wagon R LXI LPG BSIV': 1154, 'Maruti Wagon R Duo Lxi': 1155, 'Hyundai Santro Xing GLS LPG': 1156, 'Maruti Omni LPG STD BSIV': 1157, 'Hyundai i10 Sportz 1.1L LPG': 1158, 'Hyundai Santro Xing GL LPG': 1159, 'Maruti Omni LPG CARGO BSIII W IMMOBILISER': 1160, 'Hyundai i10 Magna LPG': 1161, 'Hyundai EON LPG Era Plus': 1162, 'Maruti 800 AC LPG': 1163, 'Chevrolet Spark 1.0 PS LPG': 1164, 'Hyundai i10 LPG': 1165, 'Hyundai Santro Xing GL Plus LPG': 1166, 'Hyundai Accent Executive LPG': 1167, 'Maruti Wagon R LXI DUO BS IV': 1168, 'Chevrolet Spark 1.0 LT LPG': 1169, 'Honda City 2017-2020 EXi': 1170, 'Maruti Swift VXI BSIII': 1171, 'Hyundai Xcent 1.2 VTVT E Plus': 1172, 'Maruti 800 DX BSII': 1173, 'Maruti Zen LX': 1174, 'Maruti Swift 1.3 VXi': 1175, 'Maruti Wagon R LXI Minor': 1176, 'Mahindra KUV 100 mFALCON G80 K8 5str': 1177, 'Maruti Alto LX': 1178, 'Tata Tigor 2017-2020 XZ': 1179, 'Maruti Baleno Delta 1.2': 1180, 'Maruti Alto 800 LXI': 1181, 'Maruti Omni E MPI STD BS IV': 1182, 'Fiat Palio 1.2 ELX': 1183, 'Maruti Omni 8 Seater BSIV': 1184, 'Hyundai i20 1.2 Asta Dual Tone': 1185, 'Maruti Alto K10 VXI Airbag': 1186, 'Hyundai Verna VTVT 1.6 SX Option': 1187, 'Datsun GO D': 1188, 'Maruti 800 Std': 1189, 'Jeep Compass 1.4 Limited Plus BSIV': 1190, 'Honda City i VTEC VX': 1191, 'Honda City V MT': 1192, 'Maruti Swift Dzire VXi AT': 1193, 'Maruti Alto K10 VXI': 1194, 'Maruti Ciaz Zeta': 1195, 'Toyota Corolla Altis 1.8 VL CVT': 1196, 'Hyundai i10 Magna': 1197, 'Ford Figo 1.2P Titanium MT': 1198, 'Maruti Wagon R AMT VXI': 1199, 'Maruti Ertiga ZXI': 1200, 'BMW X1 sDrive20i xLine': 1201, 'Maruti Celerio ZXI MT BSIV': 1202, 'Datsun GO A Petrol': 1203, 'Maruti Alto 800 VXI BSIV': 1204, 'Maruti Alto 800 LXI BSIV': 1205, 'Hyundai i10 Era 1.1': 1206, 'Volkswagen Polo 1.2 MPI Comfortline': 1207, 'Hyundai i10 Magna 1.1L': 1208, 'Volkswagen Vento Petrol Highline': 1209, 'Maruti Zen Estilo LXI BSIII': 1210, 'Hyundai i20 Asta Optional with Sunroof 1.2': 1211, 'Hyundai Xcent 1.2 Kappa SX Option AT': 1212, 'Maruti Alto LX BSIII': 1213, 'Maruti Wagon R VXI': 1214, 'Maruti Swift VXI': 1215, 'Maruti Eeco 7 Seater Standard BSIV': 1216, 'Maruti Baleno Zeta 1.2': 1217, 'Ford Freestyle Titanium Petrol BSIV': 1218, 'Hyundai Verna VTVT 1.6 SX': 1219, 'Volkswagen Passat 1.8 TSI MT': 1220, 'Tata Indica Vista Aura 1.2 Safire (ABS) BS IV': 1221, 'Toyota Corolla Altis G': 1222, 'Maruti Celerio VXI': 1223, 'Maruti Swift Dzire VXI': 1224, 'Maruti Wagon R VXI BS IV': 1225, 'Renault KWID 1.0': 1226, 'Maruti Alto LXi': 1227, 'Hyundai Santro Xing GLS': 1228, 'Honda Amaze S i-VTEC': 1229, 'Lexus ES 300h': 1230, 'Jeep Wrangler 2016-2019 3.6 4X4': 1231, 'Skoda Superb LK 1.8 TSI AT': 1232, 'MG Hector Sharp AT BSIV': 1233, 'Honda City i-VTEC CVT VX': 1234, 'Toyota Corolla Altis 1.8 G CVT': 1235, 'BMW 5 Series 523i': 1236, 'Hyundai Elantra S': 1237, 'Tata Nexon 1.2 Revotron XZ Plus Dual Tone': 1238, 'Hyundai Elantra SX': 1239, 'Skoda Rapid 1.6 MPI AT Elegance': 1240, 'Mercedes-Benz CLA 200 CGI Sport': 1241, 'Mercedes-Benz New C-Class C 200 AVANTGARDE': 1242, 'Honda City V AT': 1243, 'Toyota Glanza V CVT': 1244, 'Toyota Camry 2.5 Hybrid': 1245, 'Toyota Camry W4 (AT)': 1246, 'Maruti Ertiga BSIV ZXI Plus': 1247, 'Volvo XC90 T8 Excellence BSIV': 1248, 'Ford Figo Aspire 1.2 Ti-VCT Trend': 1249, 'Maruti Swift VXI Optional': 1250, 'Hyundai i20 Magna 1.2': 1251, 'Hyundai Grand i10 Magna': 1252, 'Volkswagen Ameo 1.0 MPI Trendline': 1253, 'Hyundai Grand i10 Sportz': 1254, 'Hyundai Xcent 1.2 Kappa S': 1255, 'Honda City 1.5 EXI': 1256, 'Daewoo Matiz SD': 1257, 'Mahindra KUV 100 mFALCON G80 K8': 1258, 'Honda City 1.5 S MT': 1259, 'Maruti Zen LXI': 1260, 'Maruti Wagon R VXI BS IV with ABS': 1261, 'Hyundai Verna Transform SX VTVT': 1262, 'Hyundai Getz GLS': 1263, 'Hyundai Elite i20 Sportz Plus BSIV': 1264, 'Tata Tigor 1.2 Revotron XZ': 1265, 'Honda City i VTEC S': 1266, 'Honda Brio S MT': 1267, 'Hyundai i20 Sportz 1.2': 1268, 'Maruti Omni E 8 Str STD': 1269, 'Maruti Swift Dzire VXI 1.2': 1270, 'Maruti Swift Dzire AMT VXI BS IV': 1271, 'Hyundai i20 Magna': 1272, 'Toyota Corolla Altis 1.8 VL AT': 1273, 'Maruti Baleno Alpha Automatic': 1274, 'Renault KWID RXT': 1275, 'Datsun GO T BSIV': 1276, 'Hyundai Xcent 1.2 VTVT SX': 1277, 'Hyundai i20 1.2 Sportz': 1278, 'Tata Zest Revotron 1.2 XT': 1279, 'Nissan Sunny XL': 1280, 'Ford EcoSport 1.5 Petrol Titanium Plus BSIV': 1281, 'Nissan Micra Active XV S': 1282, 'Maruti Wagon R LXI Optional': 1283, 'Maruti Eeco 5 Seater AC BSIV': 1284, 'Hyundai Accent GLE': 1285, 'Honda Amaze S CVT Petrol BSIV': 1286, 'Hyundai i10 Sportz 1.2': 1287, 'Hyundai Getz 1.3 GVS': 1288, 'Hyundai i20 1.2 Magna': 1289, 'Maruti Swift LXI Optional-O': 1290, 'Nissan Sunny XL AT Special Edition': 1291, 'Hyundai Elite i20 Magna Plus BSIV': 1292, 'Maruti Swift 1.2 DLX (Only Delhi)': 1293, 'Datsun GO D Petrol': 1294, 'Honda Brio Exclusive Edition': 1295, 'Hyundai Grand i10 AT Asta': 1296, 'Hyundai i10 Sportz AT': 1297, 'Maruti Swift VXI Deca': 1298, 'Hyundai Verna 1.6 SX VTVT (O)': 1299, 'Hyundai i20 Active 1.2': 1300, 'Maruti Baleno Zeta': 1301, 'Hyundai i20 1.2 Asta': 1302, 'Maruti Alto LXI': 1303, 'Chevrolet Beat LS': 1304, 'Tata Tigor 1.2 Revotron XZA': 1305, 'Maruti Ertiga VXI': 1306, 'Renault KWID RXL': 1307, 'Tata Tiago 1.2 Revotron XZ': 1308, 'Maruti Baleno Zeta Automatic': 1309, 'Maruti Swift ZXI ABS': 1310, 'Maruti Swift LXI Option': 1311, 'Maruti Celerio LXI': 1312, 'Hyundai Santro Xing XL': 1313, 'Maruti A-Star Vxi': 1314, 'Maruti Wagon R LXI': 1315, 'Mahindra XUV300 W8 Option BSIV': 1316, 'Maruti Swift VXI BSIV': 1317, 'Datsun GO T Option BSIV': 1318, 'Hyundai Grand i10 Asta': 1319, 'Honda Brio 1.2 VX MT': 1320, 'Volkswagen Ameo 1.2 MPI Comfortline Plus': 1321, 'Nissan Sunny XV Special Edition': 1322, 'Hyundai i10 Sportz': 1323, 'Tata Indigo CS eGLX BS IV': 1324, 'Hyundai Elantra SX AT': 1325, 'Tata Nano STD': 1326, 'Volkswagen GTI 1.8 TSI': 1327, 'Honda Jazz VX': 1328, 'Maruti Swift AMT VVT VXI': 1329, 'Toyota Etios VX': 1330, 'Maruti Swift AMT ZXI': 1331, 'Honda Amaze V CVT Petrol BSIV': 1332, 'Honda CR-V 2.4L 4WD AT': 1333, 'Hyundai Verna XXi ABS (Petrol)': 1334, 'Maruti Alto 800 VXI': 1335, 'Honda City i-VTEC CVT V': 1336, 'Maruti Alto K10 LXI': 1337, 'Hyundai EON Sportz': 1338, 'Tata Tiago 1.2 Revotron XE': 1339, 'Maruti Eeco Smiles 5 Seater AC': 1340, 'Maruti Alto LXi BSIII': 1341, 'Maruti 800 AC BSIII': 1342, 'Hyundai Xcent 1.2 Kappa S Option': 1343, 'Ford Figo 1.2P Titanium Plus MT': 1344, 'Maruti Celerio ZXI': 1345, 'Hyundai Creta 1.6 VTVT S': 1346, 'Maruti Swift VXI Windsong Limited edition': 1347, 'Datsun RediGO 1.0 S': 1348, 'Nissan Micra Active XL Petrol': 1349, 'Maruti Wagon R VXI BSIII': 1350, 'Hyundai Verna 1.6 VTVT S Option': 1351, 'Hyundai Xcent 1.2 VTVT S': 1352, 'Honda Brio 1.2 S MT': 1353, 'Maruti Swift Dzire VXi': 1354, 'Honda Civic 1.8 V AT': 1355, 'Maruti Ertiga BSIV VXI': 1356, 'Ford Figo Petrol EXI': 1357, 'Datsun RediGO S': 1358, 'Hyundai i20 Asta Option 1.2': 1359, 'Hyundai EON Era Plus': 1360, 'Maruti Swift Dzire 1.2 Vxi BSIV': 1361, 'Chevrolet Beat LT': 1362, 'Chevrolet Sail 1.2 LS ABS': 1363, 'Maruti Alto K10 2010-2014 VXI': 1364, 'Hyundai i20 1.2 Asta Option': 1365, 'Hyundai EON Magna Plus': 1366, 'Maruti Estilo LXI': 1367, 'Hyundai Getz GLX': 1368, 'Chevrolet Sail 1.2 LS': 1369, 'Tata Zest Revotron 1.2T XM': 1370, 'Hyundai i20 1.2 Spotz': 1371, 'Hyundai Grand i10 1.2 Kappa Sportz BSIV': 1372, 'Honda Jazz 1.2 VX i VTEC': 1373, 'Honda BR-V i-VTEC S MT': 1374, 'Hyundai Verna S': 1375, 'Nissan Micra XV CVT': 1376, 'Datsun RediGO T Option': 1377, 'Hyundai Santro Sportz AMT BSIV': 1378, 'Maruti Alto 800 LXI Optional': 1379, 'Hyundai i10 Magna 1.2 iTech SE': 1380, 'Maruti Wagon R VXI Optional': 1381, 'Maruti Zen Estilo VXI BSIV': 1382, 'Ford Ecosport 1.5 Ti VCT MT Titanium': 1383, 'Hyundai Grand i10 1.2 Kappa Magna AT': 1384, 'Hyundai i10 Sportz 1.1L': 1385, 'Renault KWID 1.0 RXT Optional': 1386, 'Tata Tiago NRG Petrol': 1387, 'Maruti Wagon R LXI BS IV': 1388, 'Hyundai i10 Era': 1389, 'Tata Bolt Revotron XE': 1390, 'Honda Accord V6 AT': 1391, 'Tata Indica Vista Aura Safire Anniversary Edition': 1392, 'Maruti A-Star Zxi': 1393, 'Hyundai i10 Asta': 1394, 'Hyundai Xcent 1.2 Kappa Base': 1395, 'Mahindra KUV 100 G80 K6 Plus': 1396, 'Maruti Swift Dzire Tour S CNG': 1397, 'Toyota Yaris V CVT BSIV': 1398, 'Mahindra KUV 100 G80 K2': 1399, 'Ford Figo 1.2P Titanium Opt MT': 1400, 'Hyundai Santro Xing XG': 1401, 'Hyundai Santro Xing GL Plus': 1402, 'Maruti Wagon R LXI BSIII': 1403, 'Maruti Zen Estilo LXI BS IV': 1404, 'Tata Nano Cx': 1405, 'Honda CR-V 2.4 4WD AT': 1406, 'Datsun GO Anniversary Edition': 1407, 'Mahindra KUV 100 mFALCON G80 K2': 1408, 'Nissan Sunny XE': 1409, 'Ford Freestyle Titanium Plus Petrol BSIV': 1410, 'Hyundai Grand i10 1.2 Kappa Magna BSIV': 1411, 'Maruti Zen Estilo VXI BSIV W ABS': 1412, 'Ford Figo Aspire 1.2 Ti-VCT Titanium': 1413, 'Hyundai Santro Xing XP': 1414, 'Hyundai EON D Lite': 1415, 'Honda Amaze i-VTEC Privilege Edition': 1416, 'Hyundai Santro GLS I - Euro I': 1417, 'Skoda Superb 1.8 TSI': 1418, 'Ford Freestyle Trend Petrol BSIV': 1419, 'Chevrolet Aveo U-VA 1.2 LS': 1420, 'Hyundai Santro Xing GL': 1421, 'Datsun RediGO Sport': 1422, 'Maruti 800 AC': 1423, 'Datsun GO Plus D1': 1424, 'Hyundai EON D Lite Plus': 1425, 'Honda City 2017-2020 GXi': 1426, 'Tata Tigor 1.2 Revotron XT': 1427, 'Hyundai i20 Asta 1.2': 1428, 'Maruti Alto Std': 1429, 'Maruti Omni 8 Seater BSII': 1430, 'Maruti Baleno Alpha 1.2': 1431, 'Maruti Swift ZXI': 1432, 'Hyundai Santro Xing XS': 1433, 'Maruti Wagon R Stingray VXI': 1434, 'Maruti Ritz ZXi': 1435, 'Ford Fiesta 1.4 ZXi Duratec': 1436, 'Hyundai EON 1.0 Kappa Magna Plus': 1437, 'Tata Indigo GLX': 1438, 'Chevrolet Sail Hatchback Petrol': 1439, 'Maruti Esteem Vxi - BSII': 1440, 'Hyundai EON Era': 1441, 'Hyundai i20 2015-2017 Sportz 1.2': 1442, 'Renault Triber RXT BSIV': 1443, 'Hyundai Accent GLX': 1444, 'Hyundai Elite i20 Petrol Asta Option': 1445, 'Maruti Eeco Smiles 7 Seater Standard': 1446, 'Datsun GO Plus Anniversary Edition': 1447, 'Maruti Alto 800 VXI Plus': 1448, 'Renault KWID RXT Optional': 1449, 'Maruti XL6 Alpha': 1450, 'Hyundai Santro Magna BSIV': 1451, 'Maruti Alto K10 Knightracer': 1452, 'Renault Triber RXZ BSIV': 1453, 'Maruti Zen Estilo 1.1 LXI BSIII': 1454, 'Chevrolet Spark 1.0 LT': 1455, 'Hyundai Verna Xi (Petrol)': 1456, 'Honda City 1.5 E MT': 1457, 'Mahindra KUV 100 G80 K8': 1458, 'Maruti Swift Dzire AMT VXI': 1459, 'Honda BRV i-VTEC V CVT': 1460, 'Honda Jazz V CVT': 1461, 'Maruti Swift Dzire ZXI Plus': 1462, 'Honda Jazz 1.2 V i VTEC': 1463, 'Toyota Corolla Altis 1.8 G': 1464, 'Maruti Swift ZXI 2018': 1465, 'Honda Jazz 1.2 SV i VTEC': 1466, 'Hyundai Elite i20 Asta Option CVT BSIV': 1467, 'Maruti Celerio ZXI AT': 1468, 'Hyundai Elite i20 Petrol Sportz': 1469, 'Hyundai Santro GLS I - Euro II': 1470, 'Hyundai Santro Xing XG AT eRLX Euro III': 1471, 'Chevrolet Spark 1.0 E': 1472, 'Maruti Swift VVT ZXI': 1473, 'Tata Tiago 1.2 Revotron XZ WO Alloy': 1474, 'Maruti Omni BSIII 8-STR W/ IMMOBILISER': 1475, 'Maruti SX4 Vxi BSIII': 1476, 'Maruti Ertiga VXI Limited Edition': 1477, 'Renault KWID Climber 1.0 MT': 1478, 'Tata Nano CX': 1479, 'Maruti Wagon R VXI Minor': 1480, 'Mahindra Verito 1.4 G4 BSIV': 1481, 'Chevrolet Optra 1.6 LT Royale': 1482, 'Chevrolet Sail 1.2 LT ABS': 1483, 'Maruti Omni MPI STD BSIV': 1484, 'Hyundai Elite i20 Sportz Plus CVT BSIV': 1485, 'Tata Manza Aura Plus Safire': 1486, 'Honda BR-V i-VTEC E MT': 1487, 'Maruti 800 Std BSII': 1488, 'Maruti Wagon R VXi BSII': 1489, 'Hyundai Getz GLE': 1490, 'Maruti Swift Glam': 1491, 'Tata Nano Cx BSIV': 1492, 'Maruti Wagon R VXI 1.2': 1493, 'Maruti Ritz VXI': 1494, 'Ford Fiesta 1.4 Duratec EXI': 1495, 'Chevrolet Optra Magnum 1.6 LT Petrol': 1496, 'Honda Accord 2.4 AT': 1497, 'Maruti Swift AMT VXI': 1498, 'Honda City 1.5 V Elegance': 1499, 'Honda Civic 1.8 V MT': 1500, 'Maruti Wagon R AX': 1501, 'Hyundai Verna 1.4 VTVT': 1502, 'Hyundai Santro GS zipDrive - Euro II': 1503, 'Maruti Omni MPI CARGO BSIV': 1504, 'Ford Ecosport 1.0 Ecoboost Titanium Optional': 1505, 'Hyundai i20 1.2 Magna Executive': 1506, 'Honda City 1.5 V MT Sunroof': 1507, 'Tata Tiago XT': 1508, 'Honda City 1.5 V MT': 1509, 'Honda City i-VTEC S': 1510, 'Maruti 800 DX 5 Speed': 1511, 'Hyundai Santro Magna': 1512, 'Skoda Rapid 1.6 MPI Ambition Plus': 1513, 'Hyundai Elite i20 Petrol Asta': 1514, 'Honda Jazz 1.2 S i VTEC': 1515, 'Maruti Ignis 1.2 AMT Alpha BSIV': 1516, 'Nissan Sunny XV': 1517, 'Tata Nano XTA': 1518, 'Honda Civic 1.8 S MT': 1519, 'Maruti Ignis 1.2 Delta BSIV': 1520, 'Tata Manza Aura Safire': 1521, 'Maruti Zen Estilo 1.1 VXI BSIII': 1522, 'Maruti 800 DX': 1523, 'Tata Tiago 1.2 Revotron XZA': 1524, 'Maruti Zen VXi - BS III': 1525, 'Hyundai i20 Sportz AT 1.4': 1526, 'Hyundai Santro Xing XS eRLX Euro III': 1527, 'Maruti Alto 800 LX': 1528, 'Honda Amaze V Petrol BSIV': 1529, 'Honda Jazz 1.2 V AT i VTEC': 1530, 'Mahindra Renault Logan 1.4 GLX Petrol': 1531, 'Maruti Ciaz VXi Plus': 1532, 'Hyundai Grand i10 1.2 Kappa Era': 1533, 'Maruti Swift AMT ZXI Plus BSIV': 1534, 'Maruti Ritz VXi': 1535, 'Ford EcoSport 1.5 Ti VCT MT Trend BSIV': 1536, 'Maruti Baleno Delta': 1537, 'Datsun RediGO A': 1538, 'Tata Nexon 1.2 Revotron XM': 1539, 'Toyota Yaris V BSIV': 1540, 'Hyundai Grand i10 Nios Sportz': 1541, 'Maruti Baleno Alpha': 1542, 'Skoda Rapid 1.6 MPI AT Style Plus': 1543, 'Nissan Kicks XV BSIV': 1544, 'Honda City i VTEC V': 1545, 'Ford Ecosport 1.5 Ti VCT AT Titanium': 1546, 'Honda City i VTEC CVT VX': 1547, 'Hyundai Grand i10 1.2 Kappa Asta': 1548, 'Nissan Micra XL': 1549, 'Hyundai Xcent 1.2 VTVT S AT': 1550, 'Hyundai Xcent 1.2 Kappa SX': 1551, 'Maruti Ertiga ZXI Plus Petrol': 1552, 'Hyundai EON D Lite Plus Option': 1553, 'Hyundai i20 Asta Optional With Sunroof 1.2': 1554, 'Nissan Micra XV': 1555, 'Maruti SX4 ZXI AT': 1556, 'Honda Civic Hybrid': 1557, 'Maruti Swift Dzire LXI': 1558, 'Hyundai Xcent 1.2 Kappa AT S Option': 1559, 'Hyundai Grand i10 Nios AMT Sportz': 1560, 'Hyundai i10 Sportz Option': 1561, 'Honda Accord 2.4 M/T': 1562, 'Hyundai i20 2015-2017 Asta Option 1.2': 1563, 'Volkswagen Vento 1.6 Highline': 1564, 'Volkswagen Polo 2015-2019 1.0 MPI Highline Plus': 1565, 'Hyundai i20 2015-2017 Magna 1.2': 1566, 'Maruti Swift Dzire ZXI': 1567, 'Maruti Ignis 1.2 AMT Delta BSIV': 1568, 'Maruti Swift LXI': 1569, 'Honda Mobilio V i VTEC': 1570, 'Honda City 1.5 V AT': 1571, 'Toyota Etios Liva 1.2 V Dual Tone': 1572, 'Hyundai i20 Active S Petrol': 1573, 'Honda WR-V i-VTEC VX': 1574, 'Hyundai Xcent 1.2 VTVT E': 1575, 'Ford Aspire Titanium BSIV': 1576, 'Chevrolet Spark 1.0 LS': 1577, 'Volkswagen Polo Petrol Comfortline 1.2L': 1578, 'Maruti Ciaz AT ZXi': 1579, 'Hyundai Verna Transform VTVT': 1580, 'Maruti Swift Dzire LXI 1.2 BS IV': 1581, 'Hyundai Verna 1.6 VTVT SX': 1582, 'Datsun GO Plus A': 1583, 'Tata New Safari 4X2': 1584, 'Renault KWID 1.0 RXT 02 Anniversary Edition': 1585, 'Volkswagen Jetta 1.6 Trendline': 1586, 'Ford Figo 1.5P Titanium AT': 1587, 'Maruti 800 Std MPFi': 1588, 'Nissan Teana XL': 1589, 'Ford Ecosport 1.5 Petrol Ambiente': 1590, 'Ford EcoSport 1.5 Petrol Titanium BSIV': 1591, 'Ford Fiesta Classic 1.6 Duratec LXI': 1592, 'Hyundai EON 1.0 Era Plus': 1593, 'Maruti Wagon R LX BSIII': 1594, 'Datsun RediGO T': 1595, 'Toyota Corolla Altis JS MT': 1596, 'Honda City 1.5 GXI': 1597, 'Hyundai Santro GS zipPlus': 1598, 'Honda City Corporate Edition': 1599, 'Hyundai Grand i10 1.2 Kappa Sportz AT': 1600, 'Maruti Celerio ZXI Optional': 1601, 'Hyundai Santro Asta BSIV': 1602, 'MG Hector Sharp DCT Dualtone': 1603, 'Honda Jazz Select Edition Active': 1604, 'Maruti 800 AC BSII': 1605, 'Hyundai i20 Active 1.2 S': 1606, 'Tata Indigo GLS': 1607, 'Ford Figo Aspire 1.2 Ti-VCT Titanium Plus': 1608, 'Hyundai Santro LP zipPlus': 1609, 'Hyundai Grand i10 1.2 Kappa Sportz Dual Tone': 1610, 'Maruti Zen Base': 1611, 'Hyundai EON Era Plus Sports Edition': 1612, 'Hyundai Santro GS zipDrive - Euro I': 1613, 'Honda City 1.5 V Inspire': 1614, 'Maruti Ciaz Delta BSIV': 1615, 'Volkswagen Polo 2015-2019 1.0 MPI Comfortline': 1616, 'Daewoo Matiz SS': 1617, 'Chevrolet Spark 1.0': 1618, 'Maruti Celerio X ZXI BSIV': 1619, 'Datsun GO Plus T': 1620, 'Maruti Swift VXI 2018': 1621, 'Honda City E': 1622, 'Chevrolet Aveo 1.4 LS': 1623, 'Ford EcoSport 1.5 Petrol Ambiente BSIV': 1624, 'Hyundai Xcent 1.2 Kappa SX Option': 1625, 'Maruti Ciaz 1.4 Alpha': 1626, 'Hyundai Grand i10 1.2 Kappa Sportz Option': 1627, 'Hyundai Xcent 1.2 Kappa AT SX Option': 1628, 'Ford EcoSport 1.5 Petrol Trend BSIV': 1629, 'Maruti Wagon R VXI Plus Optional': 1630, 'Hyundai i20 1.4 Magna AT': 1631, 'Maruti Dzire VXI': 1632, 'Hyundai Creta 1.6 SX Automatic': 1633, 'Skoda Rapid 1.6 MPI Ambition BSIV': 1634, 'Ford Ikon 1.3 CLXi': 1635, 'Maruti Ritz VXi (ABS) BS IV': 1636, 'Tata Indigo eCS GLS': 1637, 'Hyundai Grand i10 Sportz Celebration Edition': 1638, 'Toyota Etios Liva G': 1639, 'Volkswagen Polo 2015-2019 1.2 MPI Highline Plus': 1640, 'Maruti Wagon R LX': 1641, 'Maruti SX4 ZXI AT Leather': 1642, 'Hyundai i20 Sportz Option 1.2': 1643, 'Toyota Etios V': 1644, 'Hyundai Accent Executive': 1645, 'Maruti SX4 Zxi BSIII': 1646, 'Maruti Ignis 1.2 Zeta BSIV': 1647, 'Honda Jazz VX CVT': 1648, 'Ford Figo Petrol Titanium': 1649, 'Maruti Zen LXi - BS III': 1650, 'Maruti SX4 Zxi with Leather BSIII': 1651, 'Maruti Ertiga VXI Petrol': 1652, 'Maruti Celerio X ZXI': 1653, 'Maruti Omni 5 Str STD': 1654, 'Maruti Swift ZXI Plus': 1655, 'Maruti Wagon R PRIMEA': 1656, 'Hyundai Santro Xing (Non-AC)': 1657, 'Nissan Kicks XL BSIV': 1658, 'Tata Tigor 1.2 Revotron XZ Option': 1659, 'Toyota Etios Cross 1.2L G': 1660, 'Honda Brio V MT': 1661, 'Hyundai Creta 1.6 VTVT E Plus': 1662, 'Chevrolet Sail Hatchback Petrol LS ABS': 1663, 'Maruti Baleno LXI': 1664, 'Ford Figo Aspire 1.2 Ti-VCT Sports Edition': 1665, 'Datsun RediGO 1.0 T Option': 1666, 'Ford Ikon 1.6 Nxt': 1667, 'Tata Nano LX': 1668, 'Hyundai Verna 1.6 Xi ABS': 1669, 'Tata Tiago 1.2 Revotron XM': 1670, 'Tata Nexon 1.2 Revotron XZA Plus': 1671, 'Tata Nano Lx BSIV': 1672, 'Tata Indica V2 eXeta GLS': 1673, 'Maruti 800 Std BSIII': 1674, 'Ford Classic 1.6 Duratec Titanium': 1675, 'Maruti Swift VXI with ABS': 1676, 'Chevrolet Aveo U-VA 1.2': 1677, 'Hyundai Santro Xing Base': 1678, 'Honda City 1.5 GXI CVT': 1679, 'Maruti Alto K10 VXI Optional': 1680, 'Hyundai Santro Magna AMT BSIV': 1681, 'Honda City VX CVT': 1682, 'Toyota Corolla AE': 1683, 'Hyundai Santro Sportz BSIV': 1684, 'Chevrolet Spark 1.0 PS': 1685, 'Maruti SX4 ZXI MT BSIV Leather': 1686, 'Maruti Swift Dzire VXI 1.2 BS IV': 1687, 'Maruti Alto K10 VXI AGS': 1688, 'Hyundai Verna VTVT 1.6 AT SX Option': 1689, 'Honda Civic 1.8 S AT': 1690, 'Honda Amaze S i-Vtech': 1691, 'Hyundai Santro Era': 1692, 'Fiat Grande Punto 1.4 Emotion': 1693, 'Toyota Innova Crysta 2.7 GX AT 8 STR': 1694, 'Maruti SX4 Vxi BSIV': 1695, 'Hyundai i20 Active 1.2 SX': 1696, 'Maruti Alto 800 LXI Anniversary Edition': 1697, 'Maruti Alto 800 LXI Airbag': 1698, 'Hyundai Grand i10 Asta Option': 1699, 'Ford Fiesta Classic 1.6 SXI Duratec': 1700, 'Maruti Ertiga BSIV LXI': 1701, 'Hyundai i20 2015-2017 Sportz Option 1.2': 1702, 'Maruti Alto 800 Base': 1703, 'Volkswagen Polo 2015-2019 1.0 MPI Trendline': 1704, 'Ford Fiesta 1.6 SXI ABS Duratec': 1705, 'Ford EcoSport 1.5 Ti VCT AT Titanium BSIV': 1706, 'Skoda Rapid 1.6 MPI Ambition': 1707, 'Datsun GO Plus T Option BSIV': 1708, 'Maruti Dzire LXI': 1709, 'Maruti 800 EX': 1710, 'Hyundai Verna 1.6 VTVT S': 1711, 'Tata Tiago 1.2 Revotron XT': 1712, 'Tata Indica V2 LSi': 1713, 'Jeep Compass 1.4 Limited': 1714, 'Maruti Celerio VXi AMT': 1715, 'Tata Nano Twist XT': 1716, 'Hyundai Santro Xing XG AT': 1717, 'Hyundai Elantra GT': 1718, 'Hyundai Elantra GLS': 1719, 'Ford Ikon 1.6 EXi NXt': 1720, 'Maruti Alto K10 LX': 1721, 'Maruti Celerio X ZXI Option BSIV': 1722, 'Ford EcoSport 1.5 Ti VCT MT Titanium BSIV': 1723, 'Mercedes-Benz B Class B180 Sports': 1724, 'Skoda Superb Elegance 1.8 TSI AT': 1725, 'Toyota Premio Base': 1726, 'Skoda Rapid 1.6 MPI AT Ambition BSIV': 1727, 'Ford Fiesta 1.6 ZXi ABS': 1728, 'Renault KWID 1.0 RXL': 1729, 'Ford Figo Petrol ZXI': 1730, 'Hyundai i20 Asta': 1731, 'Maruti Zen Estilo 1.1 LX BSIII': 1732, 'Maruti Wagon R AX Minor': 1733, 'Maruti Wagon R LX Minor': 1734, 'Hyundai Verna 1.6 VTVT AT SX': 1735, 'Datsun GO A EPS': 1736, 'Honda Brio E MT': 1737, 'Maruti Celerio VXI AT': 1738, 'Mercedes-Benz New C-Class C 200 Kompressor Elegance AT': 1739, 'Volkswagen Polo 1.2 MPI Highline': 1740, 'Hyundai Creta 1.6 SX Option': 1741, 'Maruti Wagon R VXI AMT 1.2': 1742, 'Nissan Micra Fashion Edition XL CVT': 1743, 'Mahindra KUV 100 mFALCON G80 K4': 1744, 'Tata Indigo CS GLS BSIII': 1745, 'Maruti Swift LXi BSIV': 1746, 'Honda City i VTEC VX Option BL': 1747, 'Honda CR-V 2.4L 4WD AT AVN': 1748, 'Maruti Zen Estilo Sports': 1749, 'Maruti Baleno Sigma 1.2': 1750, 'Maruti Gypsy King Soft Top MPI BSIV': 1751, 'Renault KWID Climber 1.0 AMT': 1752, 'Hyundai Grand i10 SportZ Edition': 1753, 'Hyundai i20 Asta (o)': 1754, 'Maruti Baleno Delta Automatic': 1755, 'Nissan Micra Active XV': 1756, 'Maruti Zen Estilo LX BSIV': 1757, 'Maruti Wagon R AX BSIV': 1758, 'Honda City 2017-2020 VTEC': 1759, 'Maruti Alto STD': 1760, 'Tata Nexon 1.2 Revotron XZ Plus': 1761, 'Toyota Etios G Safety': 1762, 'Hyundai Grand i10 Magna AT': 1763, 'Volkswagen Polo GT TSI': 1764, 'Honda Jazz 1.2 S AT i VTEC': 1765, 'Hyundai i20 Active 1.2 SX with AVN': 1766, 'Ford Ikon 1.3 Flair': 1767, 'Hyundai Santro Xing XO eRLX Euro II': 1768, 'Maruti Alto K10 VXI AGS Optional': 1769, 'Mercedes-Benz E-Class E 250 Elegance': 1770, 'Nissan Micra XE': 1771, 'Hyundai Accent GLS': 1772, 'Honda Amaze S AT i-Vtech': 1773, 'Maruti Ignis 1.2 AMT Zeta BSIV': 1774, 'Honda Civic 1.8 (E) MT': 1775, 'Fiat Punto 1.2 Active': 1776, 'Hyundai Santro Xing XS eRLX Euro II': 1777, 'Hyundai Creta 1.6 SX': 1778, 'Mahindra KUV 100 G80 K4 Plus': 1779, 'Hyundai Getz 1.1 GVS': 1780, 'Maruti 800 EX BSII': 1781, 'Datsun GO T Option': 1782, 'Hyundai i20 Active SX Petrol': 1783, 'Mahindra Verito 1.6 G6 Executive BSIII': 1784, 'Renault KWID 1.0 RXT BSIV': 1785, 'Tata Indica GLS BS IV': 1786, 'Honda City i VTEC E': 1787, 'Chevrolet Enjoy Petrol LS 7 Seater': 1788, 'Ford Classic 1.6 Duratec LXI': 1789, 'Tata Nano XE': 1790, 'Hyundai i10 Asta Sunroof AT': 1791, 'Toyota Camry V4 (MT)': 1792, 'Ford Fiesta 1.4 Durasport EXI': 1793, 'Maruti Ritz LXi': 1794, 'Toyota Etios 1.5 V': 1795, 'Maruti Swift VVT VXI': 1796, 'Ford Fiesta 1.4 Duratec EXI Limited Edition': 1797, 'Hyundai Sonata 2.4 GDi MT': 1798, 'Maruti Swift Dzire LXi': 1799, 'Maruti Esteem LX': 1800, 'Datsun GO Plus T BSIV': 1801, 'Hyundai EON Magna Optional': 1802, 'Fiat Punto Pure 1.2L FIRE': 1803, 'Hyundai Santro LE': 1804, 'Maruti A-Star Lxi': 1805, 'Volkswagen Polo Petrol Highline 1.2L': 1806, 'Tata Nano Cx BSIII': 1807, 'Tata Zest Revotron 1.2T XMS': 1808, 'Hyundai Elite i20 Petrol Magna Exective': 1809, 'Toyota Innova Crysta 2.7 ZX AT BSIV': 1810, 'Hyundai Santro Xing XL eRLX Euro II': 1811, 'Honda WR-V i-VTEC S': 1812, 'Maruti Wagon R AMT VXI Option': 1813, 'Tata Indica V2 GLX BSIII': 1814, 'Hyundai Creta 1.6 SX Option Executive': 1815, 'Toyota Glanza G CVT': 1816, 'Chevrolet Spark 1.0 LT Option Pack w/ Airbag': 1817, 'Hyundai Creta 1.6 Gamma SX Plus': 1818, 'Toyota Corolla Altis 1.8 Sport': 1819, 'Ford Aspire Trend Plus': 1820, 'Honda City i-VTEC CVT ZX': 1821, 'MG Hector Smart DCT': 1822, 'Tata Tigor 2017-2020 XZ Plus': 1823, 'Maruti Zen LX - BS III': 1824, 'Honda City i VTEC CVT SV': 1825, 'Mahindra KUV 100 G80 K8 Dual Tone': 1826, 'Mercedes-Benz New C-Class C 200 Kompressor Elegance MT': 1827, 'Toyota Corolla Altis 1.8 J': 1828, 'Maruti Swift Dzire ZXi': 1829, 'Audi A4 1.8 TFSI': 1830, 'Hyundai i20 Active 1.2 SX Dual Tone': 1831, 'Toyota Glanza G Smart Hybrid': 1832, 'Maruti Swift Dzire AMT ZXI Plus': 1833, 'Maruti Gypsy King ST BSIII': 1834, 'Opel Astra 1.6': 1835, 'Skoda Octavia Elegance 1.8 TSI AT': 1836, 'Renault KWID AMT RXL': 1837, 'Maruti Wagon R VXI Opt 1.2': 1838, 'Volkswagen Polo 1.0 TSI Highline Plus': 1839, 'Maruti Celerio X VXI Option BSIV': 1840, 'Maruti Swift 1.3 LXI': 1841, 'Tata Indigo CS eGLS BS IV': 1842, 'Datsun GO A Option Petrol': 1843, 'Tata Manza Aqua Safire': 1844, 'Maruti Swift VXi BSIV': 1845, 'Honda City 1.5 S Inspire': 1846, 'Maruti Esteem Vxi - BSIII': 1847, 'Maruti Ertiga LXI': 1848, 'Honda City i-VTEC VX': 1849, 'Maruti Swift Dzire 1.2 Lxi BSIV': 1850, 'Maruti Ritz LXI': 1851, 'Honda CR-V 2.4L 4WD': 1852, 'Honda CR-V 2.4L 4WD MT': 1853, 'Skoda Octavia RS 1.8 Turbo Petrol MT': 1854, 'Tata Indica Vista Safire GLX': 1855, 'Renault Triber RXZ': 1856, 'Datsun GO T Petrol': 1857, 'Ford EcoSport 1.5 Ti VCT AT Titanium BE BSIV': 1858, 'Maruti Ciaz Delta Automatic BSIV': 1859, 'Maruti Swift Dzire ZXI Plus BS IV': 1860, 'Volkswagen Ameo 1.2 MPI Highline Plus 16': 1861, 'Hyundai i20 Era 1.2': 1862, 'Mahindra KUV 100 mFALCON G80 K8 5str AW': 1863, 'Hyundai Sonata 2.4L AT': 1864, 'Tata Indica Vista Aura 1.2 Safire (ABS) 90hp BS IV': 1865, 'Honda Amaze S CVT i-VTEC': 1866, 'Toyota Corolla H2': 1867, 'Honda City 1.3 EXI': 1868, 'Skoda Fabia 1.2 MPI Ambition': 1869, 'Skoda Fabia 1.2 MPI Ambition Plus': 1870, 'Skoda Rapid 1.6 MPI Active BSIV': 1871, 'Maruti Alto 800 LX Optional': 1872, 'Maruti 800 Uniq': 1873, 'Hyundai Elite i20 Asta Option BSIV': 1874, 'Hyundai i20 1.4 Asta (AT)': 1875, 'Audi A6 35 TFSI Matrix': 1876, 'Maruti Baleno RS 1.0 Petrol': 1877, 'Hyundai i20 Magna Optional 1.2': 1878, 'Mahindra Logan Petrol 1.4 GLE': 1879, 'Honda Accord 2.4 MT': 1880, 'Fiat Palio 1.2': 1881, 'Maruti Swift ZXI BSIII': 1882, 'Maruti Wagon R VXI Plus': 1883, 'Maruti Swift AMT ZXI BSIV': 1884, 'Tata Nexon 1.2 Revotron XE': 1885, 'Ford Figo 1.2P Ambiente MT': 1886, 'Hyundai Verna 1.6 VTVT': 1887, 'Maruti Ignis Zeta AMT': 1888, 'Maruti Zen Estilo VXI BSIII': 1889, 'Mahindra XUV300 W8': 1890, 'Volkswagen Polo 1.0 MPI Trendline BSIV': 1891, 'Maruti Wagon R Stingray VXI Optional': 1892, 'Hyundai Santro Xing XG AT eRLX Euro II': 1893, 'Maruti Omni Limited Edition': 1894, 'Maruti 800 AC Uniq': 1895, 'Mercedes-Benz New C-Class 200 K AT': 1896, 'Ford Figo 1.2P Trend MT': 1897, 'Volkswagen Ameo 1.2 MPI Comfortline': 1898, 'Hyundai i20 Active Base Petrol': 1899, 'Honda Accord VTi-L MT': 1900, 'Maruti Ciaz ZXi': 1901, 'Mercedes-Benz E-Class Exclusive E 200 BSIV': 1902, 'Hyundai Venue SX Plus Turbo DCT BSIV': 1903, 'Tata Tigor 1.2 Revotron XE': 1904, 'Maruti Esteem LX - BSIII': 1905, 'Tata Tiago 1.2 Revotron XM Option': 1906, 'Renault Duster Petrol RXS CVT': 1907, 'Honda Amaze S Petrol BSIV': 1908, 'Maruti Swift VXI BSIII W/ ABS': 1909, 'Honda City i VTEC VX Option': 1910, 'Maruti Vitara Brezza ZXI Plus AT Dual Tone': 1911, 'Tata Indigo eCS GLX': 1912, 'Maruti Esteem Lxi': 1913, 'Renault KWID AMT': 1914, 'Honda City S': 1915, 'Hyundai i20 Petrol CVT Asta': 1916, 'Renault KWID 1.0 RXT AMT Opt': 1917, 'Hyundai Verna SX Opt': 1918, 'Hyundai Verna SX': 1919, 'Chevrolet Enjoy 1.4 LTZ 7': 1920, 'Maruti Swift 1.3 ZXI': 1921, 'Maruti Swift ZXI BSIV': 1922, 'Honda Jazz V': 1923, 'Maruti Celerio X VXI': 1924, 'Toyota Etios G': 1925, 'Hyundai Accent GLS 1.6 ABS': 1926, 'Hyundai Santro AT': 1927, 'Maruti Zen LX BSII': 1928, 'Maruti Omni MPI STD BSIII 8-STR W/ IMMOBILISER': 1929, 'Hyundai Santro DX': 1930, 'Ford Fiesta 1.4 Duratec ZXI': 1931, 'Tata Nano Twist XE': 1932, 'Ford Fiesta 1.6 Duratec EXI': 1933, 'Maruti Esteem AX': 1934, 'Maruti Wagon R AX BSIII': 1935, 'Mahindra KUV 100 mFALCON G80 K8 Dual Tone': 1936, 'Honda City 1.5 V MT Exclusive': 1937, 'Hyundai Santro LP - Euro II': 1938, 'Volkswagen Polo GT TSI BSIV': 1939, 'Tata Nano Lx': 1940, 'Toyota Corolla DX': 1941, 'Maruti Baleno Sigma': 1942, 'Maruti Swift Dzire VXI Optional': 1943, 'Hyundai i20 2015-2017 Asta 1.2': 1944, 'Volkswagen Ameo 1.0 MPI Comfortline': 1945, 'Mercedes-Benz E-Class E350 Petrol': 1946, 'Maruti Esteem Lxi - BSIII': 1947, 'Maruti Omni 5 Seater BSIV': 1948, 'Hyundai Grand i10 AT Sportz': 1949, 'Volkswagen Ameo 1.2 MPI Highline': 1950, 'Hyundai i10 Sportz 1.2 AT': 1951, 'Nissan Micra XL Optional': 1952, 'Honda Jazz Basic': 1953, 'Ford Figo Titanium Blu': 1954, 'Hyundai EON Magna Plus Option': 1955, 'Honda City i-VTEC V': 1956, 'Ford Fiesta Classic 1.6 Duratec CLXI': 1957, 'Datsun RediGO SV 1.0': 1958, 'Maruti Celerio ZXI Optional MT BSIV': 1959, 'Fiat Grande Punto EVO 1.2 Dynamic': 1960, 'Volkswagen Vento Petrol Trendline': 1961, 'Datsun RediGO AMT 1.0 S': 1962, 'Honda Civic ZX': 1963, 'Maruti Wagon R AMT VXI Plus': 1964, 'Honda Jazz 1.2 V AT i VTEC Privilege': 1965, 'Honda Brio 1.2 E MT': 1966, 'Hyundai Elite i20 Sportz Plus Dual Tone BSIV': 1967, 'Maruti Celerio VXI MT BSIV': 1968, 'Maruti Zen VXI': 1969, 'Hyundai Santro LS zipPlus': 1970, 'Maruti Alto AX': 1971, 'Datsun GO Plus T VDC': 1972, 'Maruti Zen Std': 1973, 'Ford Figo Aspire 1.5 Ti-VCT Titanium': 1974, 'Datsun GO A': 1975, 'Hyundai Elite i20 Petrol CVT Magna Executive': 1976, 'Maruti Ciaz ZXi Plus': 1977, 'Maruti Ignis 1.2 Alpha BSIV': 1978, 'Tata Tiago NRG Petrol AMT': 1979, 'Ford Figo Aspire Titanium': 1980, 'Mahindra KUV 100 mFALCON G80 K6 AW': 1981, 'Hyundai Santro Xing XK eRLX Euro II': 1982, 'Tata Tiago 2019-2020 XZ': 1983, 'Maruti Celerio ZXI Optional AMT BSIV': 1984, 'Maruti 800 EX 5 Speed': 1985, 'Tata Manza Aura (ABS) Safire': 1986, 'Hyundai i10 Era 1.1 iTech SE': 1987, 'Honda Amaze EX i-Vtech': 1988, 'Maruti Ciaz 1.4 Sigma': 1989, 'Tata Indigo CS GLX BS III': 1990, 'Ford Figo Petrol LXI': 1991, 'Tata Indigo Grand Petrol': 1992, 'Honda Civic 1.8 V MT Inspire': 1993, 'Mahindra KUV 100 G80 K4 Plus 5Str': 1994, 'Renault KWID RXE': 1995, 'Datsun GO Plus D': 1996, 'Jeep Compass 1.4 Sport': 1997, 'Chevrolet Sail Hatchback 1.2': 1998, 'Ford Ikon 1.6 Really Sport': 1999, 'Maruti Swift Lxi BSIII': 2000, 'Hyundai Santro Xing ABS': 2001, 'Maruti Ciaz RS ZXi Plus': 2002, 'Honda Amaze VX Petrol BSIV': 2003, 'Honda BRV i-VTEC V MT': 2004, 'Fiat Linea Emotion': 2005, 'Maruti Dzire ZXI': 2006, 'Nissan Terrano XL': 2007, 'Volkswagen Polo Petrol Trendline 1.2L': 2008, 'Honda CR-V 2.0L 2WD AT': 2009, 'Hyundai Getz 1.1 GLE': 2010, 'Honda Amaze E i-VTEC': 2011, 'Mercedes-Benz GLA Class 200': 2012, 'Datsun GO Plus A Option Petrol': 2013, 'Maruti Swift Dzire AMT ZXI': 2014, 'Hyundai Santro Xing XO': 2015, 'Maruti Alto 800 VXI Optional': 2016, 'Ford Figo 1.2P Sports Edition MT': 2017, 'Ford Classic 1.6 Duratec CLXI': 2018, 'Maruti Baleno Alpha CVT': 2019, 'Hyundai Verna 1.6 SX VTVT AT': 2020, 'Hyundai EON 1.0 Kappa Magna Plus Optional': 2021, 'Hyundai Accent Gvs': 2022, 'Tata Tiago 2019-2020 XZ Plus Dual Tone': 2023, 'Honda BR-V i-VTEC VX MT': 2024, 'Tata Indica V2 1.2 GLE BSIII': 2025, 'Skoda Rapid 1.6 MPI Elegance': 2026, 'Hyundai Accent GLS 1.6': 2027, 'Maruti Ignis Zeta': 2028, 'Renault KWID Climber 1.0 MT BSIV': 2029, 'Tata Tiago 1.2 Revotron XTA': 2030, 'Hyundai Venue SX Plus Dual Tone Turbo DCT': 2031, 'Maruti Zen Classic': 2032, 'Hyundai EON 1.0 Magna Plus Option O': 2033, 'Honda Mobilio S i VTEC': 2034, 'Tata Nano LX SE': 2035, 'Chevrolet Sail Hatchback 1.2 LS': 2036, 'Volkswagen Vento Petrol Highline AT': 2037, 'Honda Amaze VX i-VTEC': 2038, 'Maruti Wagon R VXI AMT Opt 1.2': 2039, 'Hyundai Xcent 1.2 VTVT SX Option': 2040, 'Tata Tiago 1.2 Revotron XZ Plus Dual Tone': 2041, 'Mahindra KUV 100 mFALCON G80 K4 Plus 5str': 2042, 'Maruti S-Presso VXI AT': 2043, 'Hyundai Santro Xing XK eRLX EuroIII': 2044, 'Renault Fluence 2.0': 2045, 'Tata Indica Vista Aura 1.2 Safire BSIV': 2046, 'Maruti Gypsy King Soft Top': 2047, 'Chevrolet Aveo U-VA 1.2 LT': 2048, 'Volkswagen Polo Select 1.2 MPI Highline': 2049, 'Ford Ecosport 1.5 Petrol Titanium': 2050, 'Honda City i VTEC SV': 2051, 'Honda Accord 2.4 A/T': 2052, 'Audi A3 40 TFSI Premium': 2053, 'Maruti SX4 ZXI MT BSIV': 2054, 'Honda City ZXi AT': 2055, 'Maruti Celerio ZXI AMT BSIV': 2056, 'Tata Bolt Revotron XM': 2057, 'Tata Manza Aura (ABS) Safire BS IV': 2058}\n"
          ]
        }
      ]
    },
    {
      "cell_type": "markdown",
      "source": [
        "# Implement the biased random walk"
      ],
      "metadata": {
        "id": "cEULEyum4j7O"
      }
    },
    {
      "cell_type": "code",
      "source": [
        "def next_step(graph, previous, current, p, q):\n",
        "    neighbors = list(graph.neighbors(current))   \n",
        "\n",
        "    weights = []        \n",
        "    \n",
        "    # Adjust the weights of the edges to the neighbors with respect to p and q.\n",
        "    for neighbor in neighbors:\n",
        "        if neighbor == previous:\n",
        "            # Control the probability to return to the previous node.\n",
        "            weights.append(graph[current][neighbor][\"weight\"] / p)\n",
        "        elif graph.has_edge(neighbor, previous):\n",
        "            # The probability of visiting a local node.\n",
        "            weights.append(graph[current][neighbor][\"weight\"])\n",
        "        else:\n",
        "            # Control the probability to move forward.\n",
        "            weights.append(graph[current][neighbor][\"weight\"] / q)\n",
        "\n",
        "    # Compute the probabilities of visiting each neighbor.\n",
        "    weight_sum = sum(weights)\n",
        "    probabilities = [weight / weight_sum for weight in weights]\n",
        "    # Probabilistically select a neighbor to visit.\n",
        "    next = np.random.choice(neighbors, size=1, p=probabilities)[0]\n",
        "    return next\n",
        "\n",
        "\n",
        "def random_walk(graph, num_walks, num_steps, p, q):\n",
        "    walks = []\n",
        "    nodes = list(graph.nodes())\n",
        "    # Perform multiple iterations of the random walk.\n",
        "    for walk_iteration in range(num_walks):\n",
        "        random.shuffle(nodes)\n",
        "\n",
        "        for node in tqdm(\n",
        "            nodes,\n",
        "            position=0,\n",
        "            leave=True,\n",
        "            desc=f\"Random walks iteration {walk_iteration + 1} of {num_walks}\",\n",
        "        ):\n",
        "            # Start the walk with a random node from the graph.\n",
        "            walk = [node]\n",
        "            # Randomly walk for num_steps.\n",
        "            while len(walk) < num_steps:\n",
        "                current = walk[-1]\n",
        "                previous = walk[-2] if len(walk) > 1 else None\n",
        "                # Compute the next node to visit.\n",
        "                next = next_step(graph, previous, current, p, q)\n",
        "                walk.append(next)\n",
        "            # Replace node ids in the walk with token ids.\n",
        "            walk = [vocabulary_lookup[token] for token in walk]\n",
        "            # Add the walk to the generated sequence.\n",
        "            walks.append(walk)\n",
        "\n",
        "    return walks"
      ],
      "metadata": {
        "id": "XcVK3AXriouA"
      },
      "execution_count": null,
      "outputs": []
    },
    {
      "cell_type": "markdown",
      "source": [
        "# Generate training data using the biased random walk"
      ],
      "metadata": {
        "id": "5ZgvhTsn48Al"
      }
    },
    {
      "cell_type": "code",
      "source": [
        "# Random walk return parameter.\n",
        "p = 1\n",
        "# Random walk in-out parameter.\n",
        "q = 1\n",
        "# Number of iterations of random walks.\n",
        "num_walks = 5\n",
        "# Number of steps of each random walk.\n",
        "num_steps = 10\n",
        "walks = random_walk(cars_graph, num_walks, num_steps, p, q)\n",
        "\n",
        "print(\"Number of walks generated:\", len(walks))\n"
      ],
      "metadata": {
        "colab": {
          "base_uri": "https://localhost:8080/"
        },
        "id": "l2Od_6Aj4w2k",
        "outputId": "4698c236-fc7e-4088-ccb3-a9fc836ad46e"
      },
      "execution_count": null,
      "outputs": [
        {
          "output_type": "stream",
          "name": "stderr",
          "text": [
            "Random walks iteration 1 of 5: 100%|██████████| 2058/2058 [00:45<00:00, 45.53it/s]\n",
            "Random walks iteration 2 of 5: 100%|██████████| 2058/2058 [00:43<00:00, 46.97it/s]\n",
            "Random walks iteration 3 of 5: 100%|██████████| 2058/2058 [00:44<00:00, 45.85it/s]\n",
            "Random walks iteration 4 of 5: 100%|██████████| 2058/2058 [00:43<00:00, 47.40it/s]\n",
            "Random walks iteration 5 of 5: 100%|██████████| 2058/2058 [00:44<00:00, 45.88it/s]"
          ]
        },
        {
          "output_type": "stream",
          "name": "stdout",
          "text": [
            "Number of walks generated: 10290\n"
          ]
        },
        {
          "output_type": "stream",
          "name": "stderr",
          "text": [
            "\n"
          ]
        }
      ]
    },
    {
      "cell_type": "code",
      "source": [
        "print(\"Number of nodes in walk number 1:\", len(walks[0]))\n",
        "print(\"Number of nodes in walk number 7025:\", len(walks[7024]))"
      ],
      "metadata": {
        "colab": {
          "base_uri": "https://localhost:8080/"
        },
        "id": "kMqa-Trtrxar",
        "outputId": "6c14b64d-b5f9-4ff4-bb9e-020e721333f3"
      },
      "execution_count": null,
      "outputs": [
        {
          "output_type": "stream",
          "name": "stdout",
          "text": [
            "Number of nodes in walk number 1: 10\n",
            "Number of nodes in walk number 7025: 10\n"
          ]
        }
      ]
    },
    {
      "cell_type": "code",
      "source": [
        "for i in range(10):\n",
        "  print(walks[i])"
      ],
      "metadata": {
        "colab": {
          "base_uri": "https://localhost:8080/"
        },
        "id": "mL5UUlffuC8Y",
        "outputId": "d0079b96-3010-4549-f195-ed0e6024b828"
      },
      "execution_count": null,
      "outputs": [
        {
          "output_type": "stream",
          "name": "stdout",
          "text": [
            "[1993, 1264, 1955, 1919, 1714, 1729, 1696, 1953, 1619, 1524]\n",
            "[379, 618, 965, 1016, 854, 485, 223, 205, 868, 630]\n",
            "[1054, 598, 768, 90, 679, 856, 352, 858, 1029, 942]\n",
            "[303, 826, 931, 718, 790, 260, 964, 224, 206, 589]\n",
            "[208, 791, 981, 884, 406, 230, 826, 302, 1021, 134]\n",
            "[862, 568, 771, 428, 859, 1113, 542, 258, 254, 340]\n",
            "[90, 678, 527, 1062, 1112, 163, 899, 658, 1122, 618]\n",
            "[265, 1004, 201, 883, 995, 600, 995, 953, 174, 523]\n",
            "[42, 358, 342, 507, 32, 34, 825, 76, 415, 498]\n",
            "[1931, 1801, 1390, 1473, 1185, 1393, 1349, 1335, 1209, 1534]\n"
          ]
        }
      ]
    },
    {
      "cell_type": "markdown",
      "source": [
        "# Generate positive and negative examples"
      ],
      "metadata": {
        "id": "HrPSY1I05Y-i"
      }
    },
    {
      "cell_type": "code",
      "source": [
        "def generate_examples(sequences, window_size, num_negative_samples, vocabulary_size):\n",
        "    example_weights = defaultdict(int)\n",
        "    # Iterate over all sequences (walks).\n",
        "    for sequence in tqdm(\n",
        "        sequences,\n",
        "        position=0,\n",
        "        leave=True,\n",
        "        desc=f\"Generating postive and negative examples\",\n",
        "    ):\n",
        "        # Generate positive and negative skip-gram pairs for a sequence (walk).\n",
        "        pairs, labels = keras.preprocessing.sequence.skipgrams(\n",
        "            sequence,\n",
        "            vocabulary_size=vocabulary_size,\n",
        "            window_size=window_size,\n",
        "            negative_samples=num_negative_samples,\n",
        "        )\n",
        "        for idx in range(len(pairs)):\n",
        "            pair = pairs[idx]\n",
        "            label = labels[idx]\n",
        "            target, context = min(pair[0], pair[1]), max(pair[0], pair[1])\n",
        "            if target == context:\n",
        "                continue\n",
        "            entry = (target, context, label)\n",
        "            example_weights[entry] += 1\n",
        "\n",
        "    targets, contexts, labels, weights = [], [], [], []\n",
        "    for entry in example_weights:\n",
        "        weight = example_weights[entry]\n",
        "        target, context, label = entry\n",
        "        targets.append(target)\n",
        "        contexts.append(context)\n",
        "        labels.append(label)\n",
        "        weights.append(weight)\n",
        "\n",
        "    return np.array(targets), np.array(contexts), np.array(labels), np.array(weights)\n",
        "\n",
        "\n",
        "num_negative_samples = 4\n",
        "targets, contexts, labels, weights = generate_examples(\n",
        "    sequences=walks,\n",
        "    window_size=num_steps,\n",
        "    num_negative_samples=num_negative_samples,\n",
        "    vocabulary_size=len(vocabulary),\n",
        ")"
      ],
      "metadata": {
        "colab": {
          "base_uri": "https://localhost:8080/"
        },
        "id": "aSxfggoJ5d_o",
        "outputId": "4a333996-5c07-4900-919f-9dfbe8bc4aff"
      },
      "execution_count": null,
      "outputs": [
        {
          "output_type": "stream",
          "name": "stderr",
          "text": [
            "Generating postive and negative examples: 100%|██████████| 10290/10290 [00:19<00:00, 515.12it/s]\n"
          ]
        }
      ]
    },
    {
      "cell_type": "markdown",
      "source": [
        "##### Let's display the shapes of the outputs"
      ],
      "metadata": {
        "id": "zZ8noatrfKMA"
      }
    },
    {
      "cell_type": "code",
      "source": [
        "print(f\"Targets shape: {targets.shape}\")\n",
        "print(f\"Contexts shape: {contexts.shape}\")\n",
        "print(f\"Labels shape: {labels.shape}\")\n",
        "print(f\"Weights shape: {weights.shape}\")"
      ],
      "metadata": {
        "colab": {
          "base_uri": "https://localhost:8080/"
        },
        "id": "QrGFeLvH6dd6",
        "outputId": "9dbcf698-8b61-41e7-9c03-05dd7a38b01f"
      },
      "execution_count": null,
      "outputs": [
        {
          "output_type": "stream",
          "name": "stdout",
          "text": [
            "Targets shape: (2107960,)\n",
            "Contexts shape: (2107960,)\n",
            "Labels shape: (2107960,)\n",
            "Weights shape: (2107960,)\n"
          ]
        }
      ]
    },
    {
      "cell_type": "markdown",
      "source": [
        "### Convert the data into tf.data.Dataset objects"
      ],
      "metadata": {
        "id": "ti9txf4T6kcT"
      }
    },
    {
      "cell_type": "code",
      "source": [
        "batch_size = 1024\n",
        "\n",
        "\n",
        "def create_dataset(targets, contexts, labels, weights, batch_size):\n",
        "    inputs = {\n",
        "        \"target\": targets,\n",
        "        \"context\": contexts,\n",
        "    }\n",
        "    dataset = tf.data.Dataset.from_tensor_slices((inputs, labels, weights))\n",
        "    dataset = dataset.shuffle(buffer_size=batch_size * 2)\n",
        "    dataset = dataset.batch(batch_size, drop_remainder=True)\n",
        "    dataset = dataset.prefetch(tf.data.AUTOTUNE)\n",
        "    return dataset\n",
        "\n",
        "\n",
        "dataset = create_dataset(\n",
        "    targets=targets,\n",
        "    contexts=contexts,\n",
        "    labels=labels,\n",
        "    weights=weights,\n",
        "    batch_size=batch_size,\n",
        ")\n"
      ],
      "metadata": {
        "id": "qBa9VGAk6eUi"
      },
      "execution_count": null,
      "outputs": []
    },
    {
      "cell_type": "markdown",
      "source": [
        "# Train the skip-gram model"
      ],
      "metadata": {
        "id": "4mi8HMGY6uZY"
      }
    },
    {
      "cell_type": "code",
      "source": [
        "learning_rate = 0.001\n",
        "embedding_dim = 50\n",
        "num_epochs = 10"
      ],
      "metadata": {
        "id": "yaif4xm-6v5j"
      },
      "execution_count": null,
      "outputs": []
    },
    {
      "cell_type": "markdown",
      "source": [],
      "metadata": {
        "id": "5N8R6IYW7GC9"
      }
    },
    {
      "cell_type": "markdown",
      "source": [
        "### Implement the model"
      ],
      "metadata": {
        "id": "cRcYEcBV7GKK"
      }
    },
    {
      "cell_type": "code",
      "source": [
        "def create_model(vocabulary_size, embedding_dim):\n",
        "\n",
        "    inputs = {\n",
        "        \"target\": layers.Input(name=\"target\", shape=(), dtype=\"int32\"),\n",
        "        \"context\": layers.Input(name=\"context\", shape=(), dtype=\"int32\"),\n",
        "    }\n",
        "    # Initialize item embeddings.\n",
        "    embed_item = layers.Embedding(\n",
        "        input_dim=vocabulary_size,\n",
        "        output_dim=embedding_dim,\n",
        "        embeddings_initializer=\"he_normal\",\n",
        "        embeddings_regularizer=keras.regularizers.l2(1e-6),\n",
        "        name=\"item_embeddings\",\n",
        "    )\n",
        "    # Lookup embeddings for target.\n",
        "    target_embeddings = embed_item(inputs[\"target\"])\n",
        "    # Lookup embeddings for context.\n",
        "    context_embeddings = embed_item(inputs[\"context\"])\n",
        "    # Compute dot similarity between target and context embeddings.\n",
        "    logits = layers.Dot(axes=1, normalize=False, name=\"dot_similarity\")(\n",
        "        [target_embeddings, context_embeddings]\n",
        "    )\n",
        "    # Create the model.\n",
        "    model = keras.Model(inputs=inputs, outputs=logits)\n",
        "    return model"
      ],
      "metadata": {
        "id": "xNzziJhN7EF7"
      },
      "execution_count": null,
      "outputs": []
    },
    {
      "cell_type": "markdown",
      "source": [
        "### Train the model"
      ],
      "metadata": {
        "id": "hCRZpC5H7PBG"
      }
    },
    {
      "cell_type": "code",
      "source": [
        "model = create_model(len(vocabulary), embedding_dim)\n",
        "model.compile(\n",
        "    optimizer=keras.optimizers.Adam(learning_rate),\n",
        "    loss=keras.losses.BinaryCrossentropy(from_logits=True),\n",
        ")"
      ],
      "metadata": {
        "id": "2jWgsscA7LZO"
      },
      "execution_count": null,
      "outputs": []
    },
    {
      "cell_type": "code",
      "source": [
        "keras.utils.plot_model(\n",
        "    model,\n",
        "    show_shapes=True,\n",
        "    show_dtype=True,\n",
        "    show_layer_names=True,\n",
        ")"
      ],
      "metadata": {
        "colab": {
          "base_uri": "https://localhost:8080/",
          "height": 404
        },
        "id": "GPXuJzvH7RqJ",
        "outputId": "fe97b10f-4bc1-49e8-ec31-d0240a409b95"
      },
      "execution_count": null,
      "outputs": [
        {
          "output_type": "execute_result",
          "data": {
            "image/png": "[encoded data removed]",
            "text/plain": [
              "<IPython.core.display.Image object>"
            ]
          },
          "metadata": {},
          "execution_count": 24
        }
      ]
    },
    {
      "cell_type": "code",
      "source": [
        "history = model.fit(dataset, epochs=num_epochs)"
      ],
      "metadata": {
        "colab": {
          "base_uri": "https://localhost:8080/"
        },
        "id": "o7HKff-77VLq",
        "outputId": "a4a17352-4cbf-4b90-bca0-11bec2672a1f"
      },
      "execution_count": null,
      "outputs": [
        {
          "output_type": "stream",
          "name": "stdout",
          "text": [
            "Epoch 1/10\n",
            "2058/2058 [==============================] - 17s 8ms/step - loss: 1.4953\n",
            "Epoch 2/10\n",
            "2058/2058 [==============================] - 15s 8ms/step - loss: 1.4785\n",
            "Epoch 3/10\n",
            "2058/2058 [==============================] - 15s 7ms/step - loss: 1.4753\n",
            "Epoch 4/10\n",
            "2058/2058 [==============================] - 15s 7ms/step - loss: 1.4729\n",
            "Epoch 5/10\n",
            "2058/2058 [==============================] - 16s 8ms/step - loss: 1.4706\n",
            "Epoch 6/10\n",
            "2058/2058 [==============================] - 16s 8ms/step - loss: 1.4678\n",
            "Epoch 7/10\n",
            "2058/2058 [==============================] - 15s 8ms/step - loss: 1.4648\n",
            "Epoch 8/10\n",
            "2058/2058 [==============================] - 15s 7ms/step - loss: 1.4619\n",
            "Epoch 9/10\n",
            "2058/2058 [==============================] - 14s 7ms/step - loss: 1.4592\n",
            "Epoch 10/10\n",
            "2058/2058 [==============================] - 17s 8ms/step - loss: 1.4568\n"
          ]
        }
      ]
    },
    {
      "cell_type": "code",
      "source": [
        "plt.plot(history.history[\"loss\"])\n",
        "plt.ylabel(\"loss\")\n",
        "plt.xlabel(\"epoch\")\n",
        "plt.show()"
      ],
      "metadata": {
        "colab": {
          "base_uri": "https://localhost:8080/",
          "height": 279
        },
        "id": "aTgRi6n-7gTX",
        "outputId": "fdb932ad-7010-431c-d9f1-f5073499af7f"
      },
      "execution_count": null,
      "outputs": [
        {
          "output_type": "display_data",
          "data": {
            "text/plain": [
              "<Figure size 432x288 with 1 Axes>"
            ],
            "image/png": "[encoded data removed]"
          },
          "metadata": {
            "needs_background": "light"
          }
        }
      ]
    },
    {
      "cell_type": "markdown",
      "source": [
        "# Analyze the learnt embeddings"
      ],
      "metadata": {
        "id": "tE6grwIO7-AH"
      }
    },
    {
      "cell_type": "code",
      "source": [
        "car_embeddings = model.get_layer(\"item_embeddings\").get_weights()[0]\n",
        "print(\"Embeddings shape:\", car_embeddings.shape)"
      ],
      "metadata": {
        "colab": {
          "base_uri": "https://localhost:8080/"
        },
        "id": "Cu30SMZE71b8",
        "outputId": "2750bc25-9ac6-4433-bd40-34f318d5b241"
      },
      "execution_count": null,
      "outputs": [
        {
          "output_type": "stream",
          "name": "stdout",
          "text": [
            "Embeddings shape: (2059, 50)\n"
          ]
        }
      ]
    },
    {
      "cell_type": "markdown",
      "source": [
        "### Find similair cars"
      ],
      "metadata": {
        "id": "OX8x5ZQ-8Dcd"
      }
    },
    {
      "cell_type": "code",
      "source": [
        "query_cars = [\n",
        "    \"Audi A6 2.0 TDI  Design Edition\"\n",
        "]"
      ],
      "metadata": {
        "id": "WiCnzEe874CY"
      },
      "execution_count": null,
      "outputs": []
    },
    {
      "cell_type": "code",
      "source": [
        "query_embeddings = []\n",
        "\n",
        "for name in query_cars:\n",
        "    token_id = vocabulary_lookup[name]\n",
        "    car_embedding = car_embeddings[token_id]\n",
        "    query_embeddings.append(car_embedding)\n",
        "\n",
        "query_embeddings = np.array(query_embeddings)"
      ],
      "metadata": {
        "id": "Ct-oL5eu8JFv"
      },
      "execution_count": null,
      "outputs": []
    },
    {
      "cell_type": "code",
      "source": [
        "similarities = tf.linalg.matmul(\n",
        "    tf.math.l2_normalize(query_embeddings),\n",
        "    tf.math.l2_normalize(car_embeddings),\n",
        "    transpose_b=True,\n",
        ")\n",
        "\n",
        "_, indices = tf.math.top_k(similarities, k=5)\n",
        "indices = indices.numpy().tolist()"
      ],
      "metadata": {
        "id": "KM9gEC8X85qt"
      },
      "execution_count": null,
      "outputs": []
    },
    {
      "cell_type": "code",
      "source": [
        "for idx, title in enumerate(query_cars):\n",
        "    print(title)\n",
        "    print(\"\".rjust(len(title), \"-\"))\n",
        "    similar_tokens = indices[idx]\n",
        "    for token in similar_tokens:\n",
        "        similar_car_name = vocabulary[token]\n",
        "        print(f\"- {similar_car_name}\")\n",
        "    print()"
      ],
      "metadata": {
        "colab": {
          "base_uri": "https://localhost:8080/"
        },
        "id": "hqje0vre89ND",
        "outputId": "66b3906f-c92f-4a45-8fba-04bd1510043c"
      },
      "execution_count": null,
      "outputs": [
        {
          "output_type": "stream",
          "name": "stdout",
          "text": [
            "Audi A6 2.0 TDI  Design Edition\n",
            "-------------------------------\n",
            "- Audi A6 2.0 TDI  Design Edition\n",
            "- Tata Sumo EX\n",
            "- Mahindra Renault Logan 1.5 Diesel DLSX\n",
            "- Skoda Octavia Rider 1.9 AT TDI\n",
            "- Volvo S90 D4 Inscription BSIV\n",
            "\n"
          ]
        }
      ]
    }
  ],
  "metadata": {
    "colab": {
      "provenance": []
    },
    "kernelspec": {
      "display_name": "Python 3",
      "name": "python3"
    },
    "language_info": {
      "name": "python"
    }
  },
  "nbformat": 4,
  "nbformat_minor": 0
}